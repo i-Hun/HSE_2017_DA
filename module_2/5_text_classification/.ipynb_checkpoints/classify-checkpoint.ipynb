{
 "cells": [
  {
   "cell_type": "code",
   "execution_count": 107,
   "metadata": {
    "ExecuteTime": {
     "end_time": "2017-12-03T19:37:48.056775Z",
     "start_time": "2017-12-03T19:37:48.003814Z"
    }
   },
   "outputs": [],
   "source": [
    "import string\n",
    "\n",
    "import numpy as np\n",
    "import pandas as pd\n",
    "\n",
    "import matplotlib as mpl\n",
    "import matplotlib.pyplot as plt\n",
    "import seaborn as sns\n",
    "\n",
    "from sklearn.feature_extraction.text import TfidfVectorizer\n",
    "from sklearn.model_selection import train_test_split\n",
    "\n",
    "from nltk.stem import SnowballStemmer\n",
    "from nltk.corpus import stopwords\n",
    "\n",
    "import re\n",
    "\n",
    "%matplotlib inline"
   ]
  },
  {
   "cell_type": "code",
   "execution_count": 3,
   "metadata": {
    "ExecuteTime": {
     "end_time": "2017-12-03T16:31:51.288385Z",
     "start_time": "2017-12-03T16:31:47.738652Z"
    }
   },
   "outputs": [
    {
     "name": "stdout",
     "output_type": "stream",
     "text": [
      "[nltk_data] Downloading package movie_reviews to\n",
      "[nltk_data]     /Users/hun/nltk_data...\n",
      "[nltk_data]   Unzipping corpora/movie_reviews.zip.\n"
     ]
    },
    {
     "data": {
      "text/plain": [
       "True"
      ]
     },
     "execution_count": 3,
     "metadata": {},
     "output_type": "execute_result"
    }
   ],
   "source": [
    "import nltk\n",
    "nltk.download('movie_reviews')"
   ]
  },
  {
   "cell_type": "code",
   "execution_count": 6,
   "metadata": {
    "ExecuteTime": {
     "end_time": "2017-12-03T16:32:33.791541Z",
     "start_time": "2017-12-03T16:32:27.147981Z"
    }
   },
   "outputs": [],
   "source": [
    "from nltk.corpus import movie_reviews\n",
    "documents = [(list(movie_reviews.words(fileid)), category)\n",
    "             for category in movie_reviews.categories()\n",
    "             for fileid in movie_reviews.fileids(category)]\n",
    "random.shuffle(documents)"
   ]
  },
  {
   "cell_type": "code",
   "execution_count": 8,
   "metadata": {
    "ExecuteTime": {
     "end_time": "2017-12-03T16:33:50.207051Z",
     "start_time": "2017-12-03T16:33:50.196361Z"
    }
   },
   "outputs": [
    {
     "data": {
      "text/plain": [
       "(['these',\n",
       "  'days',\n",
       "  'the',\n",
       "  'lack',\n",
       "  'of',\n",
       "  'originality',\n",
       "  'in',\n",
       "  'hollywood',\n",
       "  'reflects',\n",
       "  'itself',\n",
       "  'in',\n",
       "  'the',\n",
       "  'deluge',\n",
       "  'of',\n",
       "  'remakes',\n",
       "  '.',\n",
       "  'but',\n",
       "  ',',\n",
       "  'only',\n",
       "  'a',\n",
       "  'few',\n",
       "  'years',\n",
       "  'ago',\n",
       "  ',',\n",
       "  'before',\n",
       "  'wes',\n",
       "  'craven',\n",
       "  'publicly',\n",
       "  'made',\n",
       "  'fun',\n",
       "  'of',\n",
       "  'the',\n",
       "  'practice',\n",
       "  ',',\n",
       "  'sequels',\n",
       "  'had',\n",
       "  'been',\n",
       "  'more',\n",
       "  'popular',\n",
       "  'among',\n",
       "  'hollywood',\n",
       "  'producers',\n",
       "  '.',\n",
       "  'sequels',\n",
       "  'also',\n",
       "  'used',\n",
       "  'to',\n",
       "  'be',\n",
       "  'popular',\n",
       "  'among',\n",
       "  'directors',\n",
       "  'and',\n",
       "  'movie',\n",
       "  'stars',\n",
       "  'whose',\n",
       "  'careers',\n",
       "  'went',\n",
       "  'south',\n",
       "  '.',\n",
       "  'the',\n",
       "  'way',\n",
       "  'to',\n",
       "  'regain',\n",
       "  'popularity',\n",
       "  'and',\n",
       "  'prestige',\n",
       "  ',',\n",
       "  'they',\n",
       "  'thought',\n",
       "  ',',\n",
       "  'was',\n",
       "  'the',\n",
       "  'use',\n",
       "  'the',\n",
       "  'same',\n",
       "  'formulas',\n",
       "  ',',\n",
       "  'characters',\n",
       "  'and',\n",
       "  'story',\n",
       "  'lines',\n",
       "  'that',\n",
       "  'brought',\n",
       "  'them',\n",
       "  'success',\n",
       "  'in',\n",
       "  'the',\n",
       "  'first',\n",
       "  'place',\n",
       "  '.',\n",
       "  'one',\n",
       "  'of',\n",
       "  'such',\n",
       "  'celebrity',\n",
       "  'was',\n",
       "  'eddie',\n",
       "  'murphy',\n",
       "  ',',\n",
       "  'black',\n",
       "  'comedian',\n",
       "  'of',\n",
       "  '1980s',\n",
       "  'whose',\n",
       "  'career',\n",
       "  'was',\n",
       "  'in',\n",
       "  'big',\n",
       "  'decline',\n",
       "  'during',\n",
       "  'the',\n",
       "  'first',\n",
       "  'part',\n",
       "  'of',\n",
       "  'this',\n",
       "  'decade',\n",
       "  '.',\n",
       "  'in',\n",
       "  'order',\n",
       "  'to',\n",
       "  'return',\n",
       "  'to',\n",
       "  'the',\n",
       "  'spotlight',\n",
       "  ',',\n",
       "  'he',\n",
       "  'chose',\n",
       "  'to',\n",
       "  'resurrect',\n",
       "  'the',\n",
       "  'franchise',\n",
       "  'created',\n",
       "  'by',\n",
       "  'his',\n",
       "  'most',\n",
       "  'popular',\n",
       "  'film',\n",
       "  ',',\n",
       "  'beverly',\n",
       "  'hills',\n",
       "  'cop',\n",
       "  ',',\n",
       "  '1984',\n",
       "  'action',\n",
       "  'comedy',\n",
       "  'that',\n",
       "  'had',\n",
       "  'already',\n",
       "  'spawned',\n",
       "  'the',\n",
       "  'sequel',\n",
       "  'in',\n",
       "  '1987',\n",
       "  '.',\n",
       "  'seven',\n",
       "  'years',\n",
       "  'later',\n",
       "  ',',\n",
       "  'for',\n",
       "  'the',\n",
       "  'third',\n",
       "  'instalment',\n",
       "  ',',\n",
       "  'he',\n",
       "  'used',\n",
       "  'the',\n",
       "  'directorial',\n",
       "  'service',\n",
       "  'of',\n",
       "  'john',\n",
       "  'landis',\n",
       "  ',',\n",
       "  'another',\n",
       "  'fading',\n",
       "  'star',\n",
       "  ',',\n",
       "  'with',\n",
       "  'whom',\n",
       "  'he',\n",
       "  'successfully',\n",
       "  'collaborated',\n",
       "  'twice',\n",
       "  '-',\n",
       "  'in',\n",
       "  'trading',\n",
       "  'places',\n",
       "  'and',\n",
       "  'coming',\n",
       "  'to',\n",
       "  'america',\n",
       "  '.',\n",
       "  'this',\n",
       "  'time',\n",
       "  ',',\n",
       "  'however',\n",
       "  ',',\n",
       "  'third',\n",
       "  'time',\n",
       "  'wasn',\n",
       "  \"'\",\n",
       "  't',\n",
       "  'the',\n",
       "  'charm',\n",
       "  'and',\n",
       "  'beverly',\n",
       "  'hills',\n",
       "  'iii',\n",
       "  'was',\n",
       "  'failure',\n",
       "  '.',\n",
       "  'eddie',\n",
       "  'murphy',\n",
       "  'had',\n",
       "  'to',\n",
       "  'wait',\n",
       "  'few',\n",
       "  'more',\n",
       "  'years',\n",
       "  'for',\n",
       "  'real',\n",
       "  'comeback',\n",
       "  '.',\n",
       "  'eddie',\n",
       "  'murphy',\n",
       "  'here',\n",
       "  'plays',\n",
       "  'axel',\n",
       "  'foley',\n",
       "  ',',\n",
       "  'fast',\n",
       "  '-',\n",
       "  'talking',\n",
       "  'streetwise',\n",
       "  'detroit',\n",
       "  'policeman',\n",
       "  ',',\n",
       "  'who',\n",
       "  'raids',\n",
       "  'illegal',\n",
       "  'chop',\n",
       "  'shop',\n",
       "  '.',\n",
       "  'the',\n",
       "  'routine',\n",
       "  'police',\n",
       "  'action',\n",
       "  'ends',\n",
       "  'in',\n",
       "  'tragedy',\n",
       "  ',',\n",
       "  'when',\n",
       "  'the',\n",
       "  'criminals',\n",
       "  'kill',\n",
       "  'foley',\n",
       "  \"'\",\n",
       "  's',\n",
       "  'boss',\n",
       "  '.',\n",
       "  'determined',\n",
       "  'to',\n",
       "  'bring',\n",
       "  'the',\n",
       "  'killers',\n",
       "  'to',\n",
       "  'justice',\n",
       "  ',',\n",
       "  'foley',\n",
       "  'realises',\n",
       "  'that',\n",
       "  'their',\n",
       "  'leader',\n",
       "  'is',\n",
       "  'ellis',\n",
       "  'de',\n",
       "  'wald',\n",
       "  '(',\n",
       "  'timothy',\n",
       "  'carhart',\n",
       "  ')',\n",
       "  '.',\n",
       "  'when',\n",
       "  'it',\n",
       "  'turns',\n",
       "  'out',\n",
       "  'that',\n",
       "  'de',\n",
       "  'wald',\n",
       "  'happens',\n",
       "  'to',\n",
       "  'be',\n",
       "  'security',\n",
       "  'chief',\n",
       "  'for',\n",
       "  'wonderland',\n",
       "  'theme',\n",
       "  'park',\n",
       "  'in',\n",
       "  'los',\n",
       "  'angeles',\n",
       "  ',',\n",
       "  'foley',\n",
       "  'goes',\n",
       "  'back',\n",
       "  'to',\n",
       "  'los',\n",
       "  'angeles',\n",
       "  '.',\n",
       "  'there',\n",
       "  ',',\n",
       "  'with',\n",
       "  'the',\n",
       "  'help',\n",
       "  'of',\n",
       "  'his',\n",
       "  'old',\n",
       "  'friend',\n",
       "  ',',\n",
       "  'local',\n",
       "  'policeman',\n",
       "  'rosewood',\n",
       "  '(',\n",
       "  'judge',\n",
       "  'rheinhold',\n",
       "  ')',\n",
       "  ',',\n",
       "  'foley',\n",
       "  'would',\n",
       "  'clash',\n",
       "  'with',\n",
       "  'money',\n",
       "  'counterfeit',\n",
       "  'ring',\n",
       "  '.',\n",
       "  'ten',\n",
       "  'years',\n",
       "  'has',\n",
       "  'passed',\n",
       "  'since',\n",
       "  'the',\n",
       "  'original',\n",
       "  'and',\n",
       "  'times',\n",
       "  'are',\n",
       "  'definitely',\n",
       "  'different',\n",
       "  '.',\n",
       "  'in',\n",
       "  'this',\n",
       "  'decade',\n",
       "  ',',\n",
       "  'the',\n",
       "  'contrast',\n",
       "  'between',\n",
       "  'blue',\n",
       "  'collar',\n",
       "  'detroit',\n",
       "  'and',\n",
       "  'yuppie',\n",
       "  'beverly',\n",
       "  'hills',\n",
       "  ',',\n",
       "  'which',\n",
       "  'provided',\n",
       "  'a',\n",
       "  'lot',\n",
       "  'of',\n",
       "  'gags',\n",
       "  'in',\n",
       "  '1984',\n",
       "  'film',\n",
       "  ',',\n",
       "  'simply',\n",
       "  'doesn',\n",
       "  \"'\",\n",
       "  't',\n",
       "  'work',\n",
       "  '.',\n",
       "  'screenwriter',\n",
       "  'steven',\n",
       "  'e',\n",
       "  '.',\n",
       "  'de',\n",
       "  'souza',\n",
       "  'provides',\n",
       "  'another',\n",
       "  'conflict',\n",
       "  ',',\n",
       "  'this',\n",
       "  'time',\n",
       "  'between',\n",
       "  'the',\n",
       "  'childish',\n",
       "  'sillyness',\n",
       "  'of',\n",
       "  'the',\n",
       "  'good',\n",
       "  'guys',\n",
       "  'and',\n",
       "  'business',\n",
       "  '-',\n",
       "  'like',\n",
       "  'professionalism',\n",
       "  'of',\n",
       "  'the',\n",
       "  'bad',\n",
       "  'guys',\n",
       "  '.',\n",
       "  'since',\n",
       "  'foley',\n",
       "  'belongs',\n",
       "  'to',\n",
       "  'the',\n",
       "  'former',\n",
       "  ',',\n",
       "  'his',\n",
       "  'character',\n",
       "  'had',\n",
       "  'to',\n",
       "  'watch',\n",
       "  'his',\n",
       "  'language',\n",
       "  ',',\n",
       "  'and',\n",
       "  'the',\n",
       "  'tone',\n",
       "  'of',\n",
       "  'the',\n",
       "  'film',\n",
       "  'in',\n",
       "  'general',\n",
       "  'is',\n",
       "  'more',\n",
       "  'infantile',\n",
       "  '.',\n",
       "  'unfortunately',\n",
       "  ',',\n",
       "  'this',\n",
       "  'film',\n",
       "  'still',\n",
       "  'belongs',\n",
       "  'to',\n",
       "  'action',\n",
       "  'movie',\n",
       "  'genre',\n",
       "  ',',\n",
       "  'and',\n",
       "  'there',\n",
       "  'is',\n",
       "  'too',\n",
       "  'much',\n",
       "  'violence',\n",
       "  'for',\n",
       "  'little',\n",
       "  'children',\n",
       "  '.',\n",
       "  'nice',\n",
       "  'example',\n",
       "  'is',\n",
       "  'the',\n",
       "  'humorous',\n",
       "  'scene',\n",
       "  'in',\n",
       "  'the',\n",
       "  'beginning',\n",
       "  ',',\n",
       "  'which',\n",
       "  'turns',\n",
       "  'into',\n",
       "  'standard',\n",
       "  'ramboesque',\n",
       "  'bloodbath',\n",
       "  '.',\n",
       "  'unlike',\n",
       "  'donner',\n",
       "  'with',\n",
       "  'the',\n",
       "  'lethal',\n",
       "  'weapon',\n",
       "  'series',\n",
       "  ',',\n",
       "  'landis',\n",
       "  'simply',\n",
       "  'can',\n",
       "  \"'\",\n",
       "  't',\n",
       "  'balance',\n",
       "  'the',\n",
       "  'comedy',\n",
       "  'with',\n",
       "  '\"',\n",
       "  'regular',\n",
       "  '\"',\n",
       "  'action',\n",
       "  ',',\n",
       "  'and',\n",
       "  'the',\n",
       "  'result',\n",
       "  'is',\n",
       "  'a',\n",
       "  'film',\n",
       "  'that',\n",
       "  'fails',\n",
       "  'in',\n",
       "  'both',\n",
       "  'aspects',\n",
       "  '.',\n",
       "  'action',\n",
       "  'scenes',\n",
       "  'are',\n",
       "  'sometimes',\n",
       "  'interesting',\n",
       "  ',',\n",
       "  'but',\n",
       "  'not',\n",
       "  'too',\n",
       "  'spectacular',\n",
       "  '(',\n",
       "  'at',\n",
       "  'the',\n",
       "  'end',\n",
       "  ',',\n",
       "  'scenery',\n",
       "  'of',\n",
       "  'wonderland',\n",
       "  'is',\n",
       "  'more',\n",
       "  'fascinating',\n",
       "  'than',\n",
       "  'the',\n",
       "  'action',\n",
       "  'itself',\n",
       "  ')',\n",
       "  ';',\n",
       "  'humour',\n",
       "  ',',\n",
       "  'on',\n",
       "  'the',\n",
       "  'other',\n",
       "  'hand',\n",
       "  ',',\n",
       "  'falls',\n",
       "  'flat',\n",
       "  '.',\n",
       "  'to',\n",
       "  'make',\n",
       "  'even',\n",
       "  'worse',\n",
       "  ',',\n",
       "  'some',\n",
       "  'minor',\n",
       "  'characters',\n",
       "  'from',\n",
       "  '1984',\n",
       "  'film',\n",
       "  'gets',\n",
       "  'unnecessary',\n",
       "  'and',\n",
       "  'sometimes',\n",
       "  'irritating',\n",
       "  'overexposure',\n",
       "  '(',\n",
       "  'especially',\n",
       "  'art',\n",
       "  'expert',\n",
       "  'turned',\n",
       "  'into',\n",
       "  'arms',\n",
       "  'dealer',\n",
       "  ',',\n",
       "  'played',\n",
       "  'by',\n",
       "  'bronson',\n",
       "  'pinchot',\n",
       "  ')',\n",
       "  '.',\n",
       "  'in',\n",
       "  'the',\n",
       "  'end',\n",
       "  ',',\n",
       "  'although',\n",
       "  'the',\n",
       "  'film',\n",
       "  'provided',\n",
       "  'some',\n",
       "  'entertainment',\n",
       "  ',',\n",
       "  'viewers',\n",
       "  ',',\n",
       "  'at',\n",
       "  'least',\n",
       "  'critical',\n",
       "  'ones',\n",
       "  ',',\n",
       "  'would',\n",
       "  'probably',\n",
       "  'be',\n",
       "  'happy',\n",
       "  'to',\n",
       "  'know',\n",
       "  'that',\n",
       "  'there',\n",
       "  'aren',\n",
       "  \"'\",\n",
       "  't',\n",
       "  'any',\n",
       "  'plans',\n",
       "  'for',\n",
       "  'beverly',\n",
       "  'hills',\n",
       "  'iv',\n",
       "  '.'],\n",
       " 'neg')"
      ]
     },
     "execution_count": 8,
     "metadata": {},
     "output_type": "execute_result"
    }
   ],
   "source": [
    "documents[0]"
   ]
  },
  {
   "cell_type": "code",
   "execution_count": 11,
   "metadata": {
    "ExecuteTime": {
     "end_time": "2017-12-03T17:34:00.707647Z",
     "start_time": "2017-12-03T17:34:00.601890Z"
    }
   },
   "outputs": [
    {
     "data": {
      "text/html": [
       "<div>\n",
       "<style>\n",
       "    .dataframe thead tr:only-child th {\n",
       "        text-align: right;\n",
       "    }\n",
       "\n",
       "    .dataframe thead th {\n",
       "        text-align: left;\n",
       "    }\n",
       "\n",
       "    .dataframe tbody tr th {\n",
       "        vertical-align: top;\n",
       "    }\n",
       "</style>\n",
       "<table border=\"1\" class=\"dataframe\">\n",
       "  <thead>\n",
       "    <tr style=\"text-align: right;\">\n",
       "      <th></th>\n",
       "      <th>v1</th>\n",
       "      <th>v2</th>\n",
       "      <th>Unnamed: 2</th>\n",
       "      <th>Unnamed: 3</th>\n",
       "      <th>Unnamed: 4</th>\n",
       "    </tr>\n",
       "  </thead>\n",
       "  <tbody>\n",
       "    <tr>\n",
       "      <th>0</th>\n",
       "      <td>ham</td>\n",
       "      <td>Go until jurong point, crazy.. Available only ...</td>\n",
       "      <td>NaN</td>\n",
       "      <td>NaN</td>\n",
       "      <td>NaN</td>\n",
       "    </tr>\n",
       "    <tr>\n",
       "      <th>1</th>\n",
       "      <td>ham</td>\n",
       "      <td>Ok lar... Joking wif u oni...</td>\n",
       "      <td>NaN</td>\n",
       "      <td>NaN</td>\n",
       "      <td>NaN</td>\n",
       "    </tr>\n",
       "    <tr>\n",
       "      <th>2</th>\n",
       "      <td>spam</td>\n",
       "      <td>Free entry in 2 a wkly comp to win FA Cup fina...</td>\n",
       "      <td>NaN</td>\n",
       "      <td>NaN</td>\n",
       "      <td>NaN</td>\n",
       "    </tr>\n",
       "    <tr>\n",
       "      <th>3</th>\n",
       "      <td>ham</td>\n",
       "      <td>U dun say so early hor... U c already then say...</td>\n",
       "      <td>NaN</td>\n",
       "      <td>NaN</td>\n",
       "      <td>NaN</td>\n",
       "    </tr>\n",
       "    <tr>\n",
       "      <th>4</th>\n",
       "      <td>ham</td>\n",
       "      <td>Nah I don't think he goes to usf, he lives aro...</td>\n",
       "      <td>NaN</td>\n",
       "      <td>NaN</td>\n",
       "      <td>NaN</td>\n",
       "    </tr>\n",
       "  </tbody>\n",
       "</table>\n",
       "</div>"
      ],
      "text/plain": [
       "     v1                                                 v2 Unnamed: 2  \\\n",
       "0   ham  Go until jurong point, crazy.. Available only ...        NaN   \n",
       "1   ham                      Ok lar... Joking wif u oni...        NaN   \n",
       "2  spam  Free entry in 2 a wkly comp to win FA Cup fina...        NaN   \n",
       "3   ham  U dun say so early hor... U c already then say...        NaN   \n",
       "4   ham  Nah I don't think he goes to usf, he lives aro...        NaN   \n",
       "\n",
       "  Unnamed: 3 Unnamed: 4  \n",
       "0        NaN        NaN  \n",
       "1        NaN        NaN  \n",
       "2        NaN        NaN  \n",
       "3        NaN        NaN  \n",
       "4        NaN        NaN  "
      ]
     },
     "execution_count": 11,
     "metadata": {},
     "output_type": "execute_result"
    }
   ],
   "source": [
    "sms = pd.read_csv(\"spam.csv\", encoding=\"latin-1\")\n",
    "sms.head()"
   ]
  },
  {
   "cell_type": "code",
   "execution_count": 12,
   "metadata": {
    "ExecuteTime": {
     "end_time": "2017-12-03T17:34:46.482538Z",
     "start_time": "2017-12-03T17:34:46.463820Z"
    }
   },
   "outputs": [],
   "source": [
    "sms = sms.drop(['Unnamed: 2','Unnamed: 3','Unnamed: 4'],axis=1)\n",
    "sms = sms.rename(columns = {'v1':'label','v2':'message'})"
   ]
  },
  {
   "cell_type": "code",
   "execution_count": 13,
   "metadata": {
    "ExecuteTime": {
     "end_time": "2017-12-03T17:35:31.837575Z",
     "start_time": "2017-12-03T17:35:31.768994Z"
    }
   },
   "outputs": [
    {
     "data": {
      "text/html": [
       "<div>\n",
       "<style>\n",
       "    .dataframe thead tr:only-child th {\n",
       "        text-align: right;\n",
       "    }\n",
       "\n",
       "    .dataframe thead th {\n",
       "        text-align: left;\n",
       "    }\n",
       "\n",
       "    .dataframe tbody tr th {\n",
       "        vertical-align: top;\n",
       "    }\n",
       "</style>\n",
       "<table border=\"1\" class=\"dataframe\">\n",
       "  <thead>\n",
       "    <tr>\n",
       "      <th></th>\n",
       "      <th colspan=\"4\" halign=\"left\">message</th>\n",
       "    </tr>\n",
       "    <tr>\n",
       "      <th></th>\n",
       "      <th>count</th>\n",
       "      <th>unique</th>\n",
       "      <th>top</th>\n",
       "      <th>freq</th>\n",
       "    </tr>\n",
       "    <tr>\n",
       "      <th>label</th>\n",
       "      <th></th>\n",
       "      <th></th>\n",
       "      <th></th>\n",
       "      <th></th>\n",
       "    </tr>\n",
       "  </thead>\n",
       "  <tbody>\n",
       "    <tr>\n",
       "      <th>ham</th>\n",
       "      <td>4825</td>\n",
       "      <td>4516</td>\n",
       "      <td>Sorry, I'll call later</td>\n",
       "      <td>30</td>\n",
       "    </tr>\n",
       "    <tr>\n",
       "      <th>spam</th>\n",
       "      <td>747</td>\n",
       "      <td>653</td>\n",
       "      <td>Please call our customer service representativ...</td>\n",
       "      <td>4</td>\n",
       "    </tr>\n",
       "  </tbody>\n",
       "</table>\n",
       "</div>"
      ],
      "text/plain": [
       "      message                                                               \n",
       "        count unique                                                top freq\n",
       "label                                                                       \n",
       "ham      4825   4516                             Sorry, I'll call later   30\n",
       "spam      747    653  Please call our customer service representativ...    4"
      ]
     },
     "execution_count": 13,
     "metadata": {},
     "output_type": "execute_result"
    }
   ],
   "source": [
    "sms.groupby('label').describe()"
   ]
  },
  {
   "cell_type": "code",
   "execution_count": 15,
   "metadata": {
    "ExecuteTime": {
     "end_time": "2017-12-03T17:36:47.466622Z",
     "start_time": "2017-12-03T17:36:47.444069Z"
    }
   },
   "outputs": [
    {
     "data": {
      "text/html": [
       "<div>\n",
       "<style>\n",
       "    .dataframe thead tr:only-child th {\n",
       "        text-align: right;\n",
       "    }\n",
       "\n",
       "    .dataframe thead th {\n",
       "        text-align: left;\n",
       "    }\n",
       "\n",
       "    .dataframe tbody tr th {\n",
       "        vertical-align: top;\n",
       "    }\n",
       "</style>\n",
       "<table border=\"1\" class=\"dataframe\">\n",
       "  <thead>\n",
       "    <tr style=\"text-align: right;\">\n",
       "      <th></th>\n",
       "      <th>label</th>\n",
       "      <th>message</th>\n",
       "      <th>length</th>\n",
       "    </tr>\n",
       "  </thead>\n",
       "  <tbody>\n",
       "    <tr>\n",
       "      <th>0</th>\n",
       "      <td>ham</td>\n",
       "      <td>Go until jurong point, crazy.. Available only ...</td>\n",
       "      <td>111</td>\n",
       "    </tr>\n",
       "    <tr>\n",
       "      <th>1</th>\n",
       "      <td>ham</td>\n",
       "      <td>Ok lar... Joking wif u oni...</td>\n",
       "      <td>29</td>\n",
       "    </tr>\n",
       "    <tr>\n",
       "      <th>2</th>\n",
       "      <td>spam</td>\n",
       "      <td>Free entry in 2 a wkly comp to win FA Cup fina...</td>\n",
       "      <td>155</td>\n",
       "    </tr>\n",
       "    <tr>\n",
       "      <th>3</th>\n",
       "      <td>ham</td>\n",
       "      <td>U dun say so early hor... U c already then say...</td>\n",
       "      <td>49</td>\n",
       "    </tr>\n",
       "    <tr>\n",
       "      <th>4</th>\n",
       "      <td>ham</td>\n",
       "      <td>Nah I don't think he goes to usf, he lives aro...</td>\n",
       "      <td>61</td>\n",
       "    </tr>\n",
       "  </tbody>\n",
       "</table>\n",
       "</div>"
      ],
      "text/plain": [
       "  label                                            message  length\n",
       "0   ham  Go until jurong point, crazy.. Available only ...     111\n",
       "1   ham                      Ok lar... Joking wif u oni...      29\n",
       "2  spam  Free entry in 2 a wkly comp to win FA Cup fina...     155\n",
       "3   ham  U dun say so early hor... U c already then say...      49\n",
       "4   ham  Nah I don't think he goes to usf, he lives aro...      61"
      ]
     },
     "execution_count": 15,
     "metadata": {},
     "output_type": "execute_result"
    }
   ],
   "source": [
    "sms['length'] = sms['message'].apply(len)\n",
    "sms.head()"
   ]
  },
  {
   "cell_type": "code",
   "execution_count": 19,
   "metadata": {
    "ExecuteTime": {
     "end_time": "2017-12-03T17:53:58.388183Z",
     "start_time": "2017-12-03T17:53:57.816445Z"
    },
    "scrolled": true
   },
   "outputs": [
    {
     "data": {
      "image/png": "[encoded data removed]",
      "text/plain": [
       "<matplotlib.figure.Figure at 0x111b26f98>"
      ]
     },
     "metadata": {},
     "output_type": "display_data"
    }
   ],
   "source": [
    "sms.hist(column='length', by='label', bins=50, figsize=(11, 5));"
   ]
  },
  {
   "cell_type": "code",
   "execution_count": 21,
   "metadata": {
    "ExecuteTime": {
     "end_time": "2017-12-03T17:58:16.015986Z",
     "start_time": "2017-12-03T17:58:16.008511Z"
    }
   },
   "outputs": [],
   "source": [
    "def text_process(text):\n",
    "    text = text.translate(str.maketrans('', '', string.punctuation))\n",
    "    text = [word for word in text.split() if word.lower() not in stopwords.words('english')]\n",
    "    \n",
    "    return \" \".join(text)"
   ]
  },
  {
   "cell_type": "code",
   "execution_count": 20,
   "metadata": {
    "ExecuteTime": {
     "end_time": "2017-12-03T17:58:12.786398Z",
     "start_time": "2017-12-03T17:58:12.781687Z"
    }
   },
   "outputs": [],
   "source": [
    "text_feat = sms['message'].copy()"
   ]
  },
  {
   "cell_type": "code",
   "execution_count": 22,
   "metadata": {
    "ExecuteTime": {
     "end_time": "2017-12-03T17:58:34.935120Z",
     "start_time": "2017-12-03T17:58:18.093133Z"
    }
   },
   "outputs": [],
   "source": [
    "text_feat = text_feat.apply(text_process)"
   ]
  },
  {
   "cell_type": "code",
   "execution_count": 23,
   "metadata": {
    "ExecuteTime": {
     "end_time": "2017-12-03T17:58:44.306665Z",
     "start_time": "2017-12-03T17:58:44.303284Z"
    }
   },
   "outputs": [],
   "source": [
    "vectorizer = TfidfVectorizer(\"english\")"
   ]
  },
  {
   "cell_type": "code",
   "execution_count": 24,
   "metadata": {
    "ExecuteTime": {
     "end_time": "2017-12-03T17:58:54.190203Z",
     "start_time": "2017-12-03T17:58:54.055593Z"
    }
   },
   "outputs": [],
   "source": [
    "features = vectorizer.fit_transform(text_feat)"
   ]
  },
  {
   "cell_type": "code",
   "execution_count": 25,
   "metadata": {
    "ExecuteTime": {
     "end_time": "2017-12-03T18:01:18.269032Z",
     "start_time": "2017-12-03T18:01:18.247076Z"
    }
   },
   "outputs": [
    {
     "data": {
      "text/plain": [
       "<5572x9376 sparse matrix of type '<class 'numpy.float64'>'\n",
       "\twith 47254 stored elements in Compressed Sparse Row format>"
      ]
     },
     "execution_count": 25,
     "metadata": {},
     "output_type": "execute_result"
    }
   ],
   "source": [
    "features"
   ]
  },
  {
   "cell_type": "code",
   "execution_count": 26,
   "metadata": {
    "ExecuteTime": {
     "end_time": "2017-12-03T18:01:33.430042Z",
     "start_time": "2017-12-03T18:01:33.412173Z"
    }
   },
   "outputs": [],
   "source": [
    "features_train, features_test, labels_train, labels_test = train_test_split(\n",
    "    features, sms['label'], test_size=0.3, random_state=111)"
   ]
  },
  {
   "cell_type": "markdown",
   "metadata": {},
   "source": [
    "# Классификация"
   ]
  },
  {
   "cell_type": "code",
   "execution_count": 27,
   "metadata": {
    "ExecuteTime": {
     "end_time": "2017-12-03T18:01:48.538105Z",
     "start_time": "2017-12-03T18:01:48.444977Z"
    }
   },
   "outputs": [],
   "source": [
    "from sklearn.linear_model import LogisticRegression\n",
    "from sklearn.svm import SVC\n",
    "from sklearn.naive_bayes import MultinomialNB\n",
    "from sklearn.tree import DecisionTreeClassifier\n",
    "from sklearn.neighbors import KNeighborsClassifier\n",
    "from sklearn.ensemble import RandomForestClassifier\n",
    "from sklearn.ensemble import AdaBoostClassifier\n",
    "from sklearn.ensemble import BaggingClassifier\n",
    "from sklearn.ensemble import ExtraTreesClassifier\n",
    "from sklearn.metrics import accuracy_score"
   ]
  },
  {
   "cell_type": "code",
   "execution_count": 28,
   "metadata": {
    "ExecuteTime": {
     "end_time": "2017-12-03T18:02:43.726844Z",
     "start_time": "2017-12-03T18:02:43.710175Z"
    }
   },
   "outputs": [],
   "source": [
    "svc = SVC(kernel='sigmoid', gamma=1.0)\n",
    "knc = KNeighborsClassifier(n_neighbors=49)\n",
    "mnb = MultinomialNB(alpha=0.2)\n",
    "dtc = DecisionTreeClassifier(min_samples_split=7, random_state=111)\n",
    "lrc = LogisticRegression(solver='liblinear', penalty='l1')\n",
    "rfc = RandomForestClassifier(n_estimators=31, random_state=111)\n",
    "abc = AdaBoostClassifier(n_estimators=62, random_state=111)\n",
    "bc = BaggingClassifier(n_estimators=9, random_state=111)\n",
    "etc = ExtraTreesClassifier(n_estimators=9, random_state=111)"
   ]
  },
  {
   "cell_type": "code",
   "execution_count": null,
   "metadata": {},
   "outputs": [],
   "source": []
  },
  {
   "cell_type": "code",
   "execution_count": null,
   "metadata": {},
   "outputs": [],
   "source": []
  },
  {
   "cell_type": "code",
   "execution_count": 32,
   "metadata": {
    "ExecuteTime": {
     "end_time": "2017-12-03T18:15:34.165496Z",
     "start_time": "2017-12-03T18:15:24.808105Z"
    }
   },
   "outputs": [],
   "source": [
    "polit = pd.read_excel(\"collection (docs&words)_2016_all_labels/doc_comment_summary.xlsx\", header=None)"
   ]
  },
  {
   "cell_type": "code",
   "execution_count": 33,
   "metadata": {
    "ExecuteTime": {
     "end_time": "2017-12-03T18:15:38.200509Z",
     "start_time": "2017-12-03T18:15:38.112641Z"
    }
   },
   "outputs": [
    {
     "data": {
      "text/html": [
       "<div>\n",
       "<style>\n",
       "    .dataframe thead tr:only-child th {\n",
       "        text-align: right;\n",
       "    }\n",
       "\n",
       "    .dataframe thead th {\n",
       "        text-align: left;\n",
       "    }\n",
       "\n",
       "    .dataframe tbody tr th {\n",
       "        vertical-align: top;\n",
       "    }\n",
       "</style>\n",
       "<table border=\"1\" class=\"dataframe\">\n",
       "  <thead>\n",
       "    <tr style=\"text-align: right;\">\n",
       "      <th></th>\n",
       "      <th>0</th>\n",
       "      <th>1</th>\n",
       "    </tr>\n",
       "  </thead>\n",
       "  <tbody>\n",
       "    <tr>\n",
       "      <th>0</th>\n",
       "      <td>Но при мужчине ни одна приличная женщина не по...</td>\n",
       "      <td>-1</td>\n",
       "    </tr>\n",
       "    <tr>\n",
       "      <th>1</th>\n",
       "      <td>Украина это часть Руси искусственно отделенная...</td>\n",
       "      <td>-1</td>\n",
       "    </tr>\n",
       "    <tr>\n",
       "      <th>2</th>\n",
       "      <td>Как можно говорить об относительно небольшой к...</td>\n",
       "      <td>-1</td>\n",
       "    </tr>\n",
       "    <tr>\n",
       "      <th>3</th>\n",
       "      <td>1.2014.  а что они со своими поляками сделали?...</td>\n",
       "      <td>0</td>\n",
       "    </tr>\n",
       "    <tr>\n",
       "      <th>4</th>\n",
       "      <td>у а фильмы... Зрители любят диковинное.   у ме...</td>\n",
       "      <td>0</td>\n",
       "    </tr>\n",
       "  </tbody>\n",
       "</table>\n",
       "</div>"
      ],
      "text/plain": [
       "                                                   0   1\n",
       "0  Но при мужчине ни одна приличная женщина не по...  -1\n",
       "1  Украина это часть Руси искусственно отделенная...  -1\n",
       "2  Как можно говорить об относительно небольшой к...  -1\n",
       "3  1.2014.  а что они со своими поляками сделали?...   0\n",
       "4  у а фильмы... Зрители любят диковинное.   у ме...   0"
      ]
     },
     "execution_count": 33,
     "metadata": {},
     "output_type": "execute_result"
    }
   ],
   "source": [
    "polit.head()"
   ]
  },
  {
   "cell_type": "code",
   "execution_count": 34,
   "metadata": {
    "ExecuteTime": {
     "end_time": "2017-12-03T18:15:58.587424Z",
     "start_time": "2017-12-03T18:15:58.582272Z"
    }
   },
   "outputs": [],
   "source": [
    "polit.columns = [\"text\", \"score\"]"
   ]
  },
  {
   "cell_type": "code",
   "execution_count": 50,
   "metadata": {
    "ExecuteTime": {
     "end_time": "2017-12-03T18:22:13.125408Z",
     "start_time": "2017-12-03T18:22:13.114130Z"
    }
   },
   "outputs": [
    {
     "data": {
      "text/plain": [
       "0                        13930\n",
       "-1                        9203\n",
       "1                         1795\n",
       "-2                        1534\n",
       "2                          365\n",
       "GalinaPozd                   6\n",
       "Виталия Салина               5\n",
       "Минченкова Елизавета         2\n",
       "22158                        2\n",
       "Yudenkova Dasha              1\n",
       "Арина Макковеева             1\n",
       "23523                        1\n",
       "23486                        1\n",
       "Иван Мишалкин                1\n",
       "21887                        1\n",
       "Анна Аникина                 1\n",
       "Анна Вейдер                  1\n",
       "Name: score, dtype: int64"
      ]
     },
     "execution_count": 50,
     "metadata": {},
     "output_type": "execute_result"
    }
   ],
   "source": [
    "polit[\"score\"].value_counts()"
   ]
  },
  {
   "cell_type": "code",
   "execution_count": 54,
   "metadata": {
    "ExecuteTime": {
     "end_time": "2017-12-03T18:22:31.028330Z",
     "start_time": "2017-12-03T18:22:31.018388Z"
    }
   },
   "outputs": [
    {
     "data": {
      "text/plain": [
       "46"
      ]
     },
     "execution_count": 54,
     "metadata": {},
     "output_type": "execute_result"
    }
   ],
   "source": [
    "(~polit[\"score\"].isin(range(-2, 3))).sum()"
   ]
  },
  {
   "cell_type": "code",
   "execution_count": 56,
   "metadata": {
    "ExecuteTime": {
     "end_time": "2017-12-03T18:24:56.009418Z",
     "start_time": "2017-12-03T18:24:55.926410Z"
    }
   },
   "outputs": [],
   "source": [
    "polit = polit[polit[\"score\"].isin(range(-2, 3))]"
   ]
  },
  {
   "cell_type": "code",
   "execution_count": 65,
   "metadata": {
    "ExecuteTime": {
     "end_time": "2017-12-03T18:26:58.972886Z",
     "start_time": "2017-12-03T18:26:58.096372Z"
    }
   },
   "outputs": [],
   "source": [
    "polit[\"score\"] = pd.to_numeric(polit[\"score\"])"
   ]
  },
  {
   "cell_type": "code",
   "execution_count": 66,
   "metadata": {
    "ExecuteTime": {
     "end_time": "2017-12-03T18:27:12.399935Z",
     "start_time": "2017-12-03T18:27:12.081293Z"
    }
   },
   "outputs": [
    {
     "data": {
      "text/plain": [
       "array([[<matplotlib.axes._subplots.AxesSubplot object at 0x11432d630>]], dtype=object)"
      ]
     },
     "execution_count": 66,
     "metadata": {},
     "output_type": "execute_result"
    },
    {
     "data": {
      "image/png": "[encoded data removed]",
      "text/plain": [
       "<matplotlib.figure.Figure at 0x111031160>"
      ]
     },
     "metadata": {},
     "output_type": "display_data"
    }
   ],
   "source": [
    "polit.hist(column=\"score\")"
   ]
  },
  {
   "cell_type": "code",
   "execution_count": 325,
   "metadata": {
    "ExecuteTime": {
     "end_time": "2017-12-03T22:31:29.627686Z",
     "start_time": "2017-12-03T22:31:29.592301Z"
    }
   },
   "outputs": [],
   "source": [
    "def trinarize(score):\n",
    "    if score < 0:\n",
    "        return 2\n",
    "    if score > 0:\n",
    "        return 1\n",
    "    else: return 0\n",
    "polit[\"new_score\"] = polit[\"score\"].apply(trinarize)"
   ]
  },
  {
   "cell_type": "code",
   "execution_count": 326,
   "metadata": {
    "ExecuteTime": {
     "end_time": "2017-12-03T22:31:33.845267Z",
     "start_time": "2017-12-03T22:31:33.299641Z"
    }
   },
   "outputs": [
    {
     "data": {
      "text/plain": [
       "<matplotlib.axes._subplots.AxesSubplot at 0x16fe584a8>"
      ]
     },
     "execution_count": 326,
     "metadata": {},
     "output_type": "execute_result"
    },
    {
     "data": {
      "image/png": "[encoded data removed]",
      "text/plain": [
       "<matplotlib.figure.Figure at 0x16fe95128>"
      ]
     },
     "metadata": {},
     "output_type": "display_data"
    }
   ],
   "source": [
    "polit[\"new_score\"].value_counts(normalize=True).plot(kind=\"bar\")"
   ]
  },
  {
   "cell_type": "code",
   "execution_count": 76,
   "metadata": {
    "ExecuteTime": {
     "end_time": "2017-12-03T18:34:05.967422Z",
     "start_time": "2017-12-03T18:34:05.920470Z"
    }
   },
   "outputs": [],
   "source": [
    "from segtok.tokenizer import symbol_tokenizer, word_tokenizer, web_tokenizer"
   ]
  },
  {
   "cell_type": "code",
   "execution_count": 150,
   "metadata": {
    "ExecuteTime": {
     "end_time": "2017-12-03T19:58:13.332933Z",
     "start_time": "2017-12-03T19:58:11.082735Z"
    }
   },
   "outputs": [
    {
     "name": "stdout",
     "output_type": "stream",
     "text": [
      "красивый мама красиво мыть рама\n",
      "\n"
     ]
    }
   ],
   "source": [
    "from pymystem3 import Mystem\n",
    "\n",
    "m = Mystem()"
   ]
  },
  {
   "cell_type": "code",
   "execution_count": 151,
   "metadata": {
    "ExecuteTime": {
     "end_time": "2017-12-03T20:03:33.403361Z",
     "start_time": "2017-12-03T19:58:26.190717Z"
    }
   },
   "outputs": [],
   "source": [
    "polit[\"mystem\"] = polit[\"text\"].apply(str).apply(m.lemmatize)\n",
    "\n",
    "#.apply(str).apply(str.lower).apply(lambda text: re.sub(\"[^\\w\\s]\", \" \", text)).apply(word_tokenizer)"
   ]
  },
  {
   "cell_type": "code",
   "execution_count": 187,
   "metadata": {
    "ExecuteTime": {
     "end_time": "2017-12-03T20:17:34.054563Z",
     "start_time": "2017-12-03T20:17:34.048661Z"
    }
   },
   "outputs": [],
   "source": [
    "def remove_white_and_punct(tokens):\n",
    "    tokens = filter(lambda token: not bool(re.match(\"^[\\s\\W]+$\", token)), tokens)\n",
    "    return list(tokens)"
   ]
  },
  {
   "cell_type": "code",
   "execution_count": 189,
   "metadata": {
    "ExecuteTime": {
     "end_time": "2017-12-03T20:17:52.876321Z",
     "start_time": "2017-12-03T20:17:52.871161Z"
    }
   },
   "outputs": [
    {
     "data": {
      "text/plain": [
       "[['fdfs'], ['fdfs']]"
      ]
     },
     "execution_count": 189,
     "metadata": {},
     "output_type": "execute_result"
    }
   ],
   "source": [
    "list(map(remove_white_and_punct, [[\"fdfs\", \" \", \"   \", \"?!\"], [\"fdfs\", \" \", \"   \"]]))"
   ]
  },
  {
   "cell_type": "code",
   "execution_count": 190,
   "metadata": {
    "ExecuteTime": {
     "end_time": "2017-12-03T20:18:56.460990Z",
     "start_time": "2017-12-03T20:18:41.029875Z"
    }
   },
   "outputs": [],
   "source": [
    "polit[\"preprocessed\"] = polit[\"mystem\"].apply(remove_white_and_punct)"
   ]
  },
  {
   "cell_type": "code",
   "execution_count": 191,
   "metadata": {
    "ExecuteTime": {
     "end_time": "2017-12-03T20:19:03.393524Z",
     "start_time": "2017-12-03T20:19:03.348007Z"
    }
   },
   "outputs": [
    {
     "data": {
      "text/plain": [
       "0        [но, при, мужчина, ни, один, приличный, женщин...\n",
       "1        [украина, это, часть, русь, искусственно, отде...\n",
       "2        [как, можно, говорить, об, относительно, небол...\n",
       "3        [1.2014, а, что, они, со, свой, поляк, сделать...\n",
       "4        [у, а, фильм, зритель, любить, диковинный, у, ...\n",
       "5        [государство, не, мочь, сейчас, платить, много...\n",
       "6        [хотя, подозревать, что, все, из-за, то, что, ...\n",
       "7        [2мм, пулемет, и, к, он, 2000, патрон, замена,...\n",
       "8        [эксплуатировать, способный, только, на, бунт,...\n",
       "9        [оральный, сторона, этот, пункт, быть, судить,...\n",
       "10       [только, то, что, действительно, необходимый, ...\n",
       "11       [зачем, нужный, этот, наркоцентр, кто, они, сп...\n",
       "12       [а, какой, производство, что, можно, производи...\n",
       "13       [ервый, хшир, второй, этри, третий, граузг, че...\n",
       "14       [если, чинарь, потратить, не, по, статья, то, ...\n",
       "15       [дорово, что, я, мочь, сказать, ну, и, пусть, ...\n",
       "16       [но, тема, что, под, вид, вакцинация, сокращат...\n",
       "17       [не, знать, быть, какой, нибудь, реставрация, ...\n",
       "18       [1, что, это, 2, зачем, с, какой, цель, для, ч...\n",
       "19       [подозревать, что, и, некоторый, из, этот, спи...\n",
       "20       [асад, представлять, большинство, сириец, кото...\n",
       "21       [часто, ездить, через, этот, перекресток, по, ...\n",
       "22       [и, то, наверное, посылать, нах, давать, в, до...\n",
       "23       [хотя, мужчина, такой, пруд, прудить, насчет, ...\n",
       "24       [пользователь, ссылаться, на, ваш, запись, в, ...\n",
       "25       [ну, и, понестись, оптимизация, гыгыгыгы, ока,...\n",
       "26       [поэтому, на, дорога, действовать, тот, же, пр...\n",
       "27       [россия, это, земля, и, населять, ее, граждани...\n",
       "28       [жаль, стареть, что, ли, путин, сетиментальный...\n",
       "29       [удивлять, что, квадроцикл, с, 18, а, легкий, ...\n",
       "                               ...                        \n",
       "26843    [какой, молодец, что, написать, скромность, по...\n",
       "26844    [действительно, если, уж, даже, факел, на, кол...\n",
       "26845    [а, я, мочь, напоминать, про, норвегия, и, шве...\n",
       "26846    [а, насчет, человек, во, власть, сказать, так,...\n",
       "26847    [поэтому, ипать, появляться, только, на, стади...\n",
       "26848    [о, сейчас, выражать, полностью, противоположн...\n",
       "26849    [у, я, дед, так, повырубить, сад, а, державин,...\n",
       "26850    [втора, статья, передергивать, на, самый, дело...\n",
       "26851    [S, а, давать, дружить, поотчитываться, еще, ч...\n",
       "26852    [пк, не, должный, преподавать, священник, вы, ...\n",
       "26853    [так, называть, черничка, отпевать, покойник, ...\n",
       "26854    [ех, кто, на, этот, грабли, в, 90, х, уже, нас...\n",
       "26855    [если, человек, хотеть, вдыхать, это, это, он,...\n",
       "26856    [насчет, тема, жкх, и, отопление, дом, квартир...\n",
       "26857    [с, праздник, ну, чmо, оксана, с, день, победа...\n",
       "26858    [без, юрист, бухгалтер, аудитор, и, стакан, не...\n",
       "26859    [азвал, россия, молодой, государство, мол, наш...\n",
       "26860    [какой-то, бездельник, полно, жилье, в, 20м, з...\n",
       "26861    [впрочем, с, помощь, меновой, торговля, власть...\n",
       "26862    [почему, введение, визовый, режим, и, реальный...\n",
       "26863    [важаемый, kolyan, _, nov, ни, какой, дискрими...\n",
       "26864    [а, великий, испытание, выпадать, на, доля, на...\n",
       "26865    [н, по, свой, поведение, крайне, низкий, челов...\n",
       "26866    [многий, психологический, книга, кричать, о, т...\n",
       "26867    [ыработанный, новый, газовый, станция, энергия...\n",
       "26868    [многий, заставлять, многий, сам, проявлять, и...\n",
       "26869    [очередной, чубайс, ну, а, что, новый, то, сор...\n",
       "26870    [закон, как, весь, предыдущий, абсолютный, бре...\n",
       "26871    [дело, который, ты, делать, сейчас, оно, очень...\n",
       "26872    [рядом, с, токио, да, мало, пальма, зато, на, ...\n",
       "Name: preprocessed, Length: 26827, dtype: object"
      ]
     },
     "execution_count": 191,
     "metadata": {},
     "output_type": "execute_result"
    }
   ],
   "source": [
    "polit[\"preprocessed\"]"
   ]
  },
  {
   "cell_type": "code",
   "execution_count": 222,
   "metadata": {
    "ExecuteTime": {
     "end_time": "2017-12-03T20:59:17.619761Z",
     "start_time": "2017-12-03T20:59:17.611002Z"
    }
   },
   "outputs": [
    {
     "name": "stdout",
     "output_type": "stream",
     "text": [
      "[nltk_data] Downloading package stopwords to /Users/hun/nltk_data...\n",
      "[nltk_data]   Package stopwords is already up-to-date!\n"
     ]
    },
    {
     "data": {
      "text/plain": [
       "True"
      ]
     },
     "execution_count": 222,
     "metadata": {},
     "output_type": "execute_result"
    }
   ],
   "source": [
    "from nltk.corpus import stopwords\n",
    "\n",
    "nltk.download(\"stopwords\")"
   ]
  },
  {
   "cell_type": "code",
   "execution_count": 197,
   "metadata": {
    "ExecuteTime": {
     "end_time": "2017-12-03T20:26:22.999718Z",
     "start_time": "2017-12-03T20:26:22.995611Z"
    }
   },
   "outputs": [],
   "source": [
    "from collections import Counter"
   ]
  },
  {
   "cell_type": "code",
   "execution_count": 198,
   "metadata": {
    "ExecuteTime": {
     "end_time": "2017-12-03T20:26:29.040195Z",
     "start_time": "2017-12-03T20:26:26.903584Z"
    }
   },
   "outputs": [],
   "source": [
    "c = Counter()\n",
    "for _id, doc in polit[\"preprocessed\"].iteritems():\n",
    "    c.update(doc)"
   ]
  },
  {
   "cell_type": "code",
   "execution_count": 200,
   "metadata": {
    "ExecuteTime": {
     "end_time": "2017-12-03T20:49:11.420593Z",
     "start_time": "2017-12-03T20:49:11.404980Z"
    }
   },
   "outputs": [
    {
     "data": {
      "text/plain": [
       "77562"
      ]
     },
     "execution_count": 200,
     "metadata": {},
     "output_type": "execute_result"
    }
   ],
   "source": [
    "len(c)"
   ]
  },
  {
   "cell_type": "code",
   "execution_count": 206,
   "metadata": {
    "ExecuteTime": {
     "end_time": "2017-12-03T20:52:18.707035Z",
     "start_time": "2017-12-03T20:52:18.682502Z"
    },
    "collapsed": true
   },
   "outputs": [
    {
     "data": {
      "text/plain": [
       "[('и', 135974),\n",
       " ('в', 124379),\n",
       " ('не', 101522),\n",
       " ('на', 63496),\n",
       " ('что', 59714),\n",
       " ('быть', 54101),\n",
       " ('а', 51361),\n",
       " ('я', 45415),\n",
       " ('это', 43186),\n",
       " ('с', 41477),\n",
       " ('то', 33462),\n",
       " ('как', 28146),\n",
       " ('по', 26273),\n",
       " ('у', 25367),\n",
       " ('они', 24701),\n",
       " ('он', 24456),\n",
       " ('но', 23310),\n",
       " ('этот', 20750),\n",
       " ('так', 20516),\n",
       " ('за', 19772),\n",
       " ('все', 19184),\n",
       " ('вы', 18793),\n",
       " ('весь', 17372),\n",
       " ('если', 16848),\n",
       " ('к', 16499),\n",
       " ('такой', 16400),\n",
       " ('от', 14610),\n",
       " ('бы', 14353),\n",
       " ('же', 14245),\n",
       " ('который', 14118)]"
      ]
     },
     "execution_count": 206,
     "metadata": {},
     "output_type": "execute_result"
    }
   ],
   "source": [
    "c.most_common(30)"
   ]
  },
  {
   "cell_type": "code",
   "execution_count": 205,
   "metadata": {
    "ExecuteTime": {
     "end_time": "2017-12-03T20:52:09.000355Z",
     "start_time": "2017-12-03T20:52:08.961480Z"
    }
   },
   "outputs": [],
   "source": [
    "most_freq = [w for w, c in c.most_common(30)]"
   ]
  },
  {
   "cell_type": "code",
   "execution_count": 218,
   "metadata": {
    "ExecuteTime": {
     "end_time": "2017-12-03T20:58:47.961656Z",
     "start_time": "2017-12-03T20:58:47.946658Z"
    }
   },
   "outputs": [],
   "source": [
    "most_rare = [w for w, c in c.items() if c < 6]"
   ]
  },
  {
   "cell_type": "code",
   "execution_count": 219,
   "metadata": {
    "ExecuteTime": {
     "end_time": "2017-12-03T20:58:49.950796Z",
     "start_time": "2017-12-03T20:58:49.944311Z"
    }
   },
   "outputs": [
    {
     "data": {
      "text/plain": [
       "48198"
      ]
     },
     "execution_count": 219,
     "metadata": {},
     "output_type": "execute_result"
    }
   ],
   "source": [
    "len(most_rare)"
   ]
  },
  {
   "cell_type": "code",
   "execution_count": 233,
   "metadata": {
    "ExecuteTime": {
     "end_time": "2017-12-03T21:07:18.377306Z",
     "start_time": "2017-12-03T21:07:18.372482Z"
    }
   },
   "outputs": [
    {
     "data": {
      "text/plain": [
       "['рашкостан',\n",
       " 'кавказороссияние',\n",
       " 'москвабадский',\n",
       " 'обезьянник',\n",
       " 'говнорашка',\n",
       " '1.2014',\n",
       " 'диковинный',\n",
       " 'менструация',\n",
       " 'провинциальность',\n",
       " 'дмиртовка']"
      ]
     },
     "execution_count": 233,
     "metadata": {},
     "output_type": "execute_result"
    }
   ],
   "source": [
    "most_rare[:10]"
   ]
  },
  {
   "cell_type": "code",
   "execution_count": null,
   "metadata": {},
   "outputs": [],
   "source": [
    "most_rare"
   ]
  },
  {
   "cell_type": "code",
   "execution_count": 225,
   "metadata": {
    "ExecuteTime": {
     "end_time": "2017-12-03T21:04:19.104556Z",
     "start_time": "2017-12-03T21:04:18.834042Z"
    }
   },
   "outputs": [],
   "source": [
    "stopw = set(most_freq + most_rare + stopwords.words(\"russian\"))"
   ]
  },
  {
   "cell_type": "code",
   "execution_count": 226,
   "metadata": {
    "ExecuteTime": {
     "end_time": "2017-12-03T21:04:20.993716Z",
     "start_time": "2017-12-03T21:04:20.987214Z"
    }
   },
   "outputs": [
    {
     "data": {
      "text/plain": [
       "48348"
      ]
     },
     "execution_count": 226,
     "metadata": {},
     "output_type": "execute_result"
    }
   ],
   "source": [
    "len(stopw)"
   ]
  },
  {
   "cell_type": "code",
   "execution_count": 236,
   "metadata": {
    "ExecuteTime": {
     "end_time": "2017-12-03T21:13:48.873493Z",
     "start_time": "2017-12-03T21:13:48.038296Z"
    }
   },
   "outputs": [],
   "source": [
    "polit[\"preprocessed\"] = polit[\"preprocessed\"].apply(\n",
    "    lambda tokens: \" \".join([token for token in tokens if token not in stopw]))"
   ]
  },
  {
   "cell_type": "code",
   "execution_count": 237,
   "metadata": {
    "ExecuteTime": {
     "end_time": "2017-12-03T21:13:50.689208Z",
     "start_time": "2017-12-03T21:13:50.681795Z"
    }
   },
   "outputs": [
    {
     "data": {
      "text/plain": [
       "0    мужчина приличный женщина пойти лазить распрод...\n",
       "1    украина часть русь искусственно отделять русск...\n",
       "2    говорить относительно небольшой коррупция обра...\n",
       "3    свой поляк сделать русский понятно литовский п...\n",
       "4    фильм зритель любить соседка пятый месяц узнав...\n",
       "Name: preprocessed, dtype: object"
      ]
     },
     "execution_count": 237,
     "metadata": {},
     "output_type": "execute_result"
    }
   ],
   "source": [
    "polit[\"preprocessed\"].head()"
   ]
  },
  {
   "cell_type": "code",
   "execution_count": null,
   "metadata": {},
   "outputs": [],
   "source": []
  },
  {
   "cell_type": "code",
   "execution_count": null,
   "metadata": {},
   "outputs": [],
   "source": []
  },
  {
   "cell_type": "code",
   "execution_count": null,
   "metadata": {},
   "outputs": [],
   "source": []
  },
  {
   "cell_type": "code",
   "execution_count": 301,
   "metadata": {
    "ExecuteTime": {
     "end_time": "2017-12-03T22:01:34.804335Z",
     "start_time": "2017-12-03T22:01:34.801218Z"
    }
   },
   "outputs": [],
   "source": [
    "from gensim.models.phrases import Phrases, Phraser"
   ]
  },
  {
   "cell_type": "code",
   "execution_count": 302,
   "metadata": {
    "ExecuteTime": {
     "end_time": "2017-12-03T22:01:50.945669Z",
     "start_time": "2017-12-03T22:01:45.461525Z"
    }
   },
   "outputs": [],
   "source": [
    "phrases = Phrases((doc.split() for _id, doc in polit[\"preprocessed\"].iteritems()))"
   ]
  },
  {
   "cell_type": "code",
   "execution_count": 303,
   "metadata": {
    "ExecuteTime": {
     "end_time": "2017-12-03T22:02:03.918690Z",
     "start_time": "2017-12-03T22:01:55.973431Z"
    }
   },
   "outputs": [],
   "source": [
    "bigram = Phraser(phrases)"
   ]
  },
  {
   "cell_type": "code",
   "execution_count": 305,
   "metadata": {
    "ExecuteTime": {
     "end_time": "2017-12-03T22:03:51.684692Z",
     "start_time": "2017-12-03T22:03:43.191914Z"
    }
   },
   "outputs": [],
   "source": [
    "polit[\"preprocessed\"] = polit[\"preprocessed\"].apply(lambda x: bigram[x.split()])"
   ]
  },
  {
   "cell_type": "code",
   "execution_count": 306,
   "metadata": {
    "ExecuteTime": {
     "end_time": "2017-12-03T22:05:04.316555Z",
     "start_time": "2017-12-03T22:05:04.298414Z"
    }
   },
   "outputs": [
    {
     "data": {
      "text/plain": [
       "0    [мужчина, приличный, женщина, пойти, лазить, р...\n",
       "1    [украина, часть, русь, искусственно, отделять,...\n",
       "2    [говорить, относительно_небольшой, коррупция, ...\n",
       "3    [свой, поляк, сделать, русский, понятно, литов...\n",
       "4    [фильм, зритель, любить, соседка, пятый, месяц...\n",
       "Name: preprocessed, dtype: object"
      ]
     },
     "execution_count": 306,
     "metadata": {},
     "output_type": "execute_result"
    }
   ],
   "source": [
    "polit[\"preprocessed\"].head()"
   ]
  },
  {
   "cell_type": "code",
   "execution_count": null,
   "metadata": {},
   "outputs": [],
   "source": []
  },
  {
   "cell_type": "code",
   "execution_count": null,
   "metadata": {},
   "outputs": [],
   "source": []
  },
  {
   "cell_type": "code",
   "execution_count": null,
   "metadata": {},
   "outputs": [],
   "source": []
  },
  {
   "cell_type": "code",
   "execution_count": 238,
   "metadata": {
    "ExecuteTime": {
     "end_time": "2017-12-03T21:13:53.457138Z",
     "start_time": "2017-12-03T21:13:53.453966Z"
    }
   },
   "outputs": [],
   "source": [
    "from sklearn.feature_extraction.text import CountVectorizer"
   ]
  },
  {
   "cell_type": "code",
   "execution_count": 262,
   "metadata": {
    "ExecuteTime": {
     "end_time": "2017-12-03T21:26:40.580348Z",
     "start_time": "2017-12-03T21:26:23.404160Z"
    }
   },
   "outputs": [],
   "source": [
    "count_vectorizer = CountVectorizer(analyzer='char_wb', ngram_range=(2, 2))\n",
    "count_features = count_vectorizer.fit_transform(polit[\"preprocessed\"])"
   ]
  },
  {
   "cell_type": "code",
   "execution_count": 240,
   "metadata": {
    "ExecuteTime": {
     "end_time": "2017-12-03T21:14:02.323619Z",
     "start_time": "2017-12-03T21:14:02.318461Z"
    }
   },
   "outputs": [
    {
     "data": {
      "text/plain": [
       "<26827x28915 sparse matrix of type '<class 'numpy.int64'>'\n",
       "\twith 1884729 stored elements in Compressed Sparse Row format>"
      ]
     },
     "execution_count": 240,
     "metadata": {},
     "output_type": "execute_result"
    }
   ],
   "source": [
    "count_features"
   ]
  },
  {
   "cell_type": "code",
   "execution_count": 264,
   "metadata": {
    "ExecuteTime": {
     "end_time": "2017-12-03T21:27:01.455350Z",
     "start_time": "2017-12-03T21:27:01.438539Z"
    }
   },
   "outputs": [
    {
     "data": {
      "text/plain": [
       "[' !',\n",
       " ' )',\n",
       " ' ,',\n",
       " ' 0',\n",
       " ' 1',\n",
       " ' 2',\n",
       " ' 3',\n",
       " ' 4',\n",
       " ' 5',\n",
       " ' 6',\n",
       " ' 7',\n",
       " ' 8',\n",
       " ' 9',\n",
       " ' ?',\n",
       " ' _',\n",
       " ' a',\n",
       " ' b',\n",
       " ' c',\n",
       " ' d',\n",
       " ' e',\n",
       " ' f',\n",
       " ' g',\n",
       " ' h',\n",
       " ' i',\n",
       " ' j',\n",
       " ' k',\n",
       " ' l',\n",
       " ' m',\n",
       " ' n',\n",
       " ' o',\n",
       " ' p',\n",
       " ' q',\n",
       " ' r',\n",
       " ' s',\n",
       " ' t',\n",
       " ' u',\n",
       " ' v',\n",
       " ' w',\n",
       " ' x',\n",
       " ' y',\n",
       " ' z',\n",
       " ' µ',\n",
       " ' а',\n",
       " ' б',\n",
       " ' в',\n",
       " ' г',\n",
       " ' д',\n",
       " ' е',\n",
       " ' ж',\n",
       " ' з',\n",
       " ' и',\n",
       " ' й',\n",
       " ' к',\n",
       " ' л',\n",
       " ' м',\n",
       " ' н',\n",
       " ' о',\n",
       " ' п',\n",
       " ' р',\n",
       " ' с',\n",
       " ' т',\n",
       " ' у',\n",
       " ' ф',\n",
       " ' х',\n",
       " ' ц',\n",
       " ' ч',\n",
       " ' ш',\n",
       " ' щ',\n",
       " ' ъ',\n",
       " ' ы',\n",
       " ' ь',\n",
       " ' э',\n",
       " ' ю',\n",
       " ' я',\n",
       " ' і',\n",
       " ' ў',\n",
       " '!)',\n",
       " ') ',\n",
       " '+ ',\n",
       " '++',\n",
       " ', ',\n",
       " '-а',\n",
       " '-б',\n",
       " '-в',\n",
       " '-г',\n",
       " '-д',\n",
       " '-е',\n",
       " '-з',\n",
       " '-и',\n",
       " '-й',\n",
       " '-к',\n",
       " '-л',\n",
       " '-м',\n",
       " '-н',\n",
       " '-о',\n",
       " '-п',\n",
       " '-р',\n",
       " '-с',\n",
       " '-т',\n",
       " '-у',\n",
       " '-ф',\n",
       " '-х',\n",
       " '-ч',\n",
       " '-ш',\n",
       " '-э',\n",
       " '.0',\n",
       " '.1',\n",
       " '.2',\n",
       " '.3',\n",
       " '.4',\n",
       " '.5',\n",
       " '.6',\n",
       " '.7',\n",
       " '.8',\n",
       " '.9',\n",
       " '0 ',\n",
       " '0+',\n",
       " '0.',\n",
       " '00',\n",
       " '01',\n",
       " '02',\n",
       " '03',\n",
       " '04',\n",
       " '05',\n",
       " '06',\n",
       " '07',\n",
       " '08',\n",
       " '09',\n",
       " '0a',\n",
       " '0n',\n",
       " '0p',\n",
       " '0x',\n",
       " '0в',\n",
       " '0г',\n",
       " '0е',\n",
       " '0ж',\n",
       " '0и',\n",
       " '0к',\n",
       " '0м',\n",
       " '0п',\n",
       " '0р',\n",
       " '0т',\n",
       " '0х',\n",
       " '1 ',\n",
       " '1.',\n",
       " '10',\n",
       " '11',\n",
       " '12',\n",
       " '13',\n",
       " '14',\n",
       " '15',\n",
       " '16',\n",
       " '17',\n",
       " '18',\n",
       " '19',\n",
       " '1c',\n",
       " '1б',\n",
       " '1г',\n",
       " '1й',\n",
       " '1к',\n",
       " '1м',\n",
       " '1п',\n",
       " '2 ',\n",
       " '2.',\n",
       " '20',\n",
       " '21',\n",
       " '22',\n",
       " '23',\n",
       " '24',\n",
       " '25',\n",
       " '26',\n",
       " '27',\n",
       " '28',\n",
       " '29',\n",
       " '2a',\n",
       " '2c',\n",
       " '2n',\n",
       " '2o',\n",
       " '2t',\n",
       " '2а',\n",
       " '2г',\n",
       " '2д',\n",
       " '2е',\n",
       " '2й',\n",
       " '2м',\n",
       " '2р',\n",
       " '2с',\n",
       " '2т',\n",
       " '2у',\n",
       " '2х',\n",
       " '3 ',\n",
       " '3.',\n",
       " '30',\n",
       " '31',\n",
       " '32',\n",
       " '33',\n",
       " '34',\n",
       " '35',\n",
       " '36',\n",
       " '37',\n",
       " '38',\n",
       " '39',\n",
       " '3d',\n",
       " '3а',\n",
       " '3г',\n",
       " '3д',\n",
       " '3е',\n",
       " '3й',\n",
       " '3м',\n",
       " '3р',\n",
       " '3т',\n",
       " '3х',\n",
       " '3ы',\n",
       " '4 ',\n",
       " '4+',\n",
       " '4.',\n",
       " '40',\n",
       " '41',\n",
       " '42',\n",
       " '43',\n",
       " '44',\n",
       " '45',\n",
       " '46',\n",
       " '47',\n",
       " '48',\n",
       " '49',\n",
       " '4s',\n",
       " '4в',\n",
       " '4г',\n",
       " '4з',\n",
       " '4и',\n",
       " '4м',\n",
       " '4н',\n",
       " '4п',\n",
       " '4р',\n",
       " '4т',\n",
       " '4ч',\n",
       " '5 ',\n",
       " '5.',\n",
       " '50',\n",
       " '51',\n",
       " '52',\n",
       " '53',\n",
       " '54',\n",
       " '55',\n",
       " '56',\n",
       " '57',\n",
       " '58',\n",
       " '59',\n",
       " '5й',\n",
       " '5к',\n",
       " '5л',\n",
       " '5м',\n",
       " '5п',\n",
       " '5р',\n",
       " '6 ',\n",
       " '6.',\n",
       " '60',\n",
       " '61',\n",
       " '62',\n",
       " '63',\n",
       " '64',\n",
       " '65',\n",
       " '66',\n",
       " '67',\n",
       " '68',\n",
       " '69',\n",
       " '6x',\n",
       " '6в',\n",
       " '6г',\n",
       " '6м',\n",
       " '6ч',\n",
       " '7 ',\n",
       " '7.',\n",
       " '70',\n",
       " '71',\n",
       " '72',\n",
       " '73',\n",
       " '74',\n",
       " '75',\n",
       " '76',\n",
       " '77',\n",
       " '78',\n",
       " '79',\n",
       " '7s',\n",
       " '7г',\n",
       " '7й',\n",
       " '7м',\n",
       " '7с',\n",
       " '8 ',\n",
       " '8.',\n",
       " '80',\n",
       " '81',\n",
       " '82',\n",
       " '83',\n",
       " '84',\n",
       " '85',\n",
       " '86',\n",
       " '87',\n",
       " '88',\n",
       " '89',\n",
       " '8p',\n",
       " '8s',\n",
       " '8u',\n",
       " '8м',\n",
       " '8с',\n",
       " '9 ',\n",
       " '9.',\n",
       " '90',\n",
       " '91',\n",
       " '92',\n",
       " '93',\n",
       " '94',\n",
       " '95',\n",
       " '96',\n",
       " '97',\n",
       " '98',\n",
       " '99',\n",
       " '9z',\n",
       " '9а',\n",
       " '9к',\n",
       " '9м',\n",
       " '9о',\n",
       " '9п',\n",
       " '? ',\n",
       " '??',\n",
       " '?_',\n",
       " '_ ',\n",
       " '_)',\n",
       " '_,',\n",
       " '_?',\n",
       " '__',\n",
       " 'a ',\n",
       " 'a1',\n",
       " 'a9',\n",
       " 'aa',\n",
       " 'ac',\n",
       " 'ad',\n",
       " 'ae',\n",
       " 'af',\n",
       " 'ag',\n",
       " 'ah',\n",
       " 'ai',\n",
       " 'ak',\n",
       " 'al',\n",
       " 'am',\n",
       " 'an',\n",
       " 'ao',\n",
       " 'ap',\n",
       " 'ar',\n",
       " 'as',\n",
       " 'at',\n",
       " 'au',\n",
       " 'av',\n",
       " 'aw',\n",
       " 'ax',\n",
       " 'ay',\n",
       " 'az',\n",
       " 'aн',\n",
       " 'b ',\n",
       " 'ba',\n",
       " 'bb',\n",
       " 'bc',\n",
       " 'be',\n",
       " 'bg',\n",
       " 'bl',\n",
       " 'bm',\n",
       " 'bn',\n",
       " 'bo',\n",
       " 'bp',\n",
       " 'br',\n",
       " 'bu',\n",
       " 'bv',\n",
       " 'by',\n",
       " 'c ',\n",
       " 'c0',\n",
       " 'ca',\n",
       " 'cc',\n",
       " 'cd',\n",
       " 'ce',\n",
       " 'ch',\n",
       " 'ci',\n",
       " 'ck',\n",
       " 'cl',\n",
       " 'cm',\n",
       " 'cn',\n",
       " 'co',\n",
       " 'cp',\n",
       " 'cq',\n",
       " 'cr',\n",
       " 'cs',\n",
       " 'ct',\n",
       " 'cu',\n",
       " 'cy',\n",
       " 'd ',\n",
       " 'd0',\n",
       " 'd1',\n",
       " 'd2',\n",
       " 'da',\n",
       " 'dc',\n",
       " 'dd',\n",
       " 'de',\n",
       " 'df',\n",
       " 'di',\n",
       " 'dl',\n",
       " 'dm',\n",
       " 'do',\n",
       " 'dr',\n",
       " 'ds',\n",
       " 'du',\n",
       " 'dv',\n",
       " 'dy',\n",
       " 'dz',\n",
       " 'dн',\n",
       " 'e ',\n",
       " 'e0',\n",
       " 'e3',\n",
       " 'e6',\n",
       " 'e8',\n",
       " 'ea',\n",
       " 'eb',\n",
       " 'ec',\n",
       " 'ed',\n",
       " 'ee',\n",
       " 'ef',\n",
       " 'eg',\n",
       " 'ei',\n",
       " 'ej',\n",
       " 'ek',\n",
       " 'el',\n",
       " 'em',\n",
       " 'en',\n",
       " 'eo',\n",
       " 'ep',\n",
       " 'er',\n",
       " 'es',\n",
       " 'et',\n",
       " 'eu',\n",
       " 'ev',\n",
       " 'ew',\n",
       " 'ex',\n",
       " 'ey',\n",
       " 'ez',\n",
       " 'eл',\n",
       " 'eн',\n",
       " 'f ',\n",
       " 'f0',\n",
       " 'f2',\n",
       " 'fa',\n",
       " 'fb',\n",
       " 'fe',\n",
       " 'ff',\n",
       " 'fi',\n",
       " 'fl',\n",
       " 'fo',\n",
       " 'fr',\n",
       " 'ft',\n",
       " 'fu',\n",
       " 'g ',\n",
       " 'g8',\n",
       " 'ga',\n",
       " 'gd',\n",
       " 'ge',\n",
       " 'gh',\n",
       " 'gi',\n",
       " 'gk',\n",
       " 'gl',\n",
       " 'gm',\n",
       " 'gn',\n",
       " 'go',\n",
       " 'gp',\n",
       " 'gr',\n",
       " 'gs',\n",
       " 'gt',\n",
       " 'gu',\n",
       " 'gy',\n",
       " 'gи',\n",
       " 'h ',\n",
       " 'h1',\n",
       " 'ha',\n",
       " 'hb',\n",
       " 'he',\n",
       " 'hi',\n",
       " 'hj',\n",
       " 'hk',\n",
       " 'hn',\n",
       " 'ho',\n",
       " 'hp',\n",
       " 'hr',\n",
       " 'ht',\n",
       " 'hy',\n",
       " 'hн',\n",
       " 'i ',\n",
       " 'i3',\n",
       " 'ia',\n",
       " 'ic',\n",
       " 'id',\n",
       " 'ie',\n",
       " 'if',\n",
       " 'ig',\n",
       " 'ih',\n",
       " 'ii',\n",
       " 'ik',\n",
       " 'il',\n",
       " 'im',\n",
       " 'in',\n",
       " 'io',\n",
       " 'ip',\n",
       " 'iq',\n",
       " 'ir',\n",
       " 'is',\n",
       " 'it',\n",
       " 'iv',\n",
       " 'ix',\n",
       " 'iy',\n",
       " 'iz',\n",
       " 'iг',\n",
       " 'j ',\n",
       " 'j1',\n",
       " 'ja',\n",
       " 'ji',\n",
       " 'jn',\n",
       " 'jo',\n",
       " 'jp',\n",
       " 'jt',\n",
       " 'ju',\n",
       " 'jy',\n",
       " 'k ',\n",
       " 'k1',\n",
       " 'ka',\n",
       " 'kd',\n",
       " 'ke',\n",
       " 'ki',\n",
       " 'kl',\n",
       " 'km',\n",
       " 'kn',\n",
       " 'ko',\n",
       " 'kp',\n",
       " 'kr',\n",
       " 'ks',\n",
       " 'kt',\n",
       " 'ku',\n",
       " 'kw',\n",
       " 'ky',\n",
       " 'kу',\n",
       " 'l ',\n",
       " 'l1',\n",
       " 'l6',\n",
       " 'la',\n",
       " 'lb',\n",
       " 'lc',\n",
       " 'ld',\n",
       " 'le',\n",
       " 'lg',\n",
       " 'lh',\n",
       " 'li',\n",
       " 'lj',\n",
       " 'lk',\n",
       " 'll',\n",
       " 'lm',\n",
       " 'ln',\n",
       " 'lo',\n",
       " 'lp',\n",
       " 'lr',\n",
       " 'ls',\n",
       " 'lt',\n",
       " 'lu',\n",
       " 'ly',\n",
       " 'lв',\n",
       " 'lг',\n",
       " 'lе',\n",
       " 'lк',\n",
       " 'lр',\n",
       " 'lт',\n",
       " 'm ',\n",
       " 'ma',\n",
       " 'mb',\n",
       " 'md',\n",
       " 'me',\n",
       " 'mf',\n",
       " 'mh',\n",
       " 'mi',\n",
       " 'ml',\n",
       " 'mm',\n",
       " 'mo',\n",
       " 'mp',\n",
       " 'mr',\n",
       " 'ms',\n",
       " 'mu',\n",
       " 'mw',\n",
       " 'my',\n",
       " 'mь',\n",
       " 'n ',\n",
       " 'n7',\n",
       " 'na',\n",
       " 'nb',\n",
       " 'nc',\n",
       " 'nd',\n",
       " 'ne',\n",
       " 'nf',\n",
       " 'ng',\n",
       " 'ni',\n",
       " 'nk',\n",
       " 'nl',\n",
       " 'nn',\n",
       " 'no',\n",
       " 'np',\n",
       " 'nq',\n",
       " 'ns',\n",
       " 'nt',\n",
       " 'nu',\n",
       " 'nv',\n",
       " 'ny',\n",
       " 'o ',\n",
       " 'o7',\n",
       " 'oa',\n",
       " 'ob',\n",
       " 'oc',\n",
       " 'od',\n",
       " 'oe',\n",
       " 'of',\n",
       " 'og',\n",
       " 'oi',\n",
       " 'oj',\n",
       " 'ok',\n",
       " 'ol',\n",
       " 'om',\n",
       " 'on',\n",
       " 'oo',\n",
       " 'op',\n",
       " 'or',\n",
       " 'os',\n",
       " 'ot',\n",
       " 'ou',\n",
       " 'ov',\n",
       " 'ow',\n",
       " 'ox',\n",
       " 'oy',\n",
       " 'oz',\n",
       " 'p ',\n",
       " 'p1',\n",
       " 'p2',\n",
       " 'pa',\n",
       " 'pb',\n",
       " 'pc',\n",
       " 'pd',\n",
       " 'pe',\n",
       " 'pf',\n",
       " 'pg',\n",
       " 'ph',\n",
       " 'pi',\n",
       " 'pl',\n",
       " 'po',\n",
       " 'pp',\n",
       " 'pr',\n",
       " 'ps',\n",
       " 'pt',\n",
       " 'pu',\n",
       " 'pv',\n",
       " 'px',\n",
       " 'q ',\n",
       " 'q6',\n",
       " 'qb',\n",
       " 'qe',\n",
       " 'qu',\n",
       " 'r ',\n",
       " 'r0',\n",
       " 'ra',\n",
       " 'rb',\n",
       " 'rc',\n",
       " 'rd',\n",
       " 're',\n",
       " 'rf',\n",
       " 'rg',\n",
       " 'rh',\n",
       " 'ri',\n",
       " 'rk',\n",
       " 'rl',\n",
       " 'rm',\n",
       " 'rn',\n",
       " 'ro',\n",
       " 'rr',\n",
       " 'rs',\n",
       " 'rt',\n",
       " 'ru',\n",
       " 'rw',\n",
       " 'ry',\n",
       " 'rz',\n",
       " 's ',\n",
       " 's3',\n",
       " 's9',\n",
       " 'sa',\n",
       " 'sc',\n",
       " 'se',\n",
       " 'sf',\n",
       " 'sh',\n",
       " 'si',\n",
       " 'sk',\n",
       " 'sm',\n",
       " 'sn',\n",
       " 'so',\n",
       " 'sp',\n",
       " 'sq',\n",
       " 'sr',\n",
       " 'ss',\n",
       " 'st',\n",
       " 'su',\n",
       " 'sv',\n",
       " 'sw',\n",
       " 'sy',\n",
       " 'sл',\n",
       " 't ',\n",
       " 't1',\n",
       " 't2',\n",
       " 'ta',\n",
       " 'tc',\n",
       " 'te',\n",
       " 'tf',\n",
       " 'tg',\n",
       " 'th',\n",
       " 'ti',\n",
       " 'tl',\n",
       " 'tm',\n",
       " 'tn',\n",
       " 'to',\n",
       " 'tp',\n",
       " 'tr',\n",
       " 'ts',\n",
       " 'tt',\n",
       " 'tu',\n",
       " 'tv',\n",
       " 'ty',\n",
       " 'tг',\n",
       " 'u ',\n",
       " 'u0',\n",
       " 'u2',\n",
       " 'ua',\n",
       " 'ub',\n",
       " 'uc',\n",
       " 'ud',\n",
       " 'ue',\n",
       " 'ug',\n",
       " 'uk',\n",
       " 'ul',\n",
       " 'um',\n",
       " 'un',\n",
       " 'uo',\n",
       " 'up',\n",
       " 'ur',\n",
       " 'us',\n",
       " 'ut',\n",
       " 'uv',\n",
       " 'uв',\n",
       " 'v ',\n",
       " 'v1',\n",
       " 'v8',\n",
       " 'va',\n",
       " 'vb',\n",
       " 'vd',\n",
       " 've',\n",
       " 'vg',\n",
       " 'vi',\n",
       " 'vk',\n",
       " 'vm',\n",
       " 'vn',\n",
       " 'vo',\n",
       " 'vr',\n",
       " 'vs',\n",
       " 'vt',\n",
       " 'vv',\n",
       " 'w ',\n",
       " 'wa',\n",
       " 'wc',\n",
       " 'we',\n",
       " 'wh',\n",
       " 'wi',\n",
       " 'wo',\n",
       " 'wp',\n",
       " 'ws',\n",
       " 'wt',\n",
       " 'ww',\n",
       " 'x ',\n",
       " 'xa',\n",
       " 'xc',\n",
       " 'xd',\n",
       " 'xe',\n",
       " 'xi',\n",
       " 'xp',\n",
       " 'xt',\n",
       " 'xv',\n",
       " 'xx',\n",
       " 'y ',\n",
       " 'ya',\n",
       " 'ye',\n",
       " 'yg',\n",
       " 'yi',\n",
       " 'yn',\n",
       " 'yo',\n",
       " 'yp',\n",
       " 'yu',\n",
       " 'z ',\n",
       " 'za',\n",
       " 'zc',\n",
       " 'zd',\n",
       " 'ze',\n",
       " 'zh',\n",
       " 'zi',\n",
       " 'zj',\n",
       " 'zm',\n",
       " 'zo',\n",
       " 'zp',\n",
       " 'zv',\n",
       " 'zy',\n",
       " 'µ ',\n",
       " 'µn',\n",
       " 'а ',\n",
       " 'а-',\n",
       " 'а1',\n",
       " 'а2',\n",
       " 'а3',\n",
       " 'а4',\n",
       " 'аb',\n",
       " 'аk',\n",
       " 'аа',\n",
       " 'аб',\n",
       " 'ав',\n",
       " 'аг',\n",
       " 'ад',\n",
       " 'ае',\n",
       " 'аж',\n",
       " 'аз',\n",
       " 'аи',\n",
       " 'ай',\n",
       " 'ак',\n",
       " 'ал',\n",
       " 'ам',\n",
       " 'ан',\n",
       " 'ао',\n",
       " 'ап',\n",
       " 'ар',\n",
       " 'ас',\n",
       " 'ат',\n",
       " 'ау',\n",
       " 'аф',\n",
       " 'ах',\n",
       " 'ац',\n",
       " 'ач',\n",
       " 'аш',\n",
       " 'ащ',\n",
       " 'аь',\n",
       " 'аэ',\n",
       " 'аю',\n",
       " 'ая',\n",
       " 'аї',\n",
       " 'б ',\n",
       " 'б-',\n",
       " 'ба',\n",
       " 'бб',\n",
       " 'бв',\n",
       " 'бг',\n",
       " 'бд',\n",
       " 'бе',\n",
       " 'бж',\n",
       " 'бз',\n",
       " 'би',\n",
       " 'бк',\n",
       " 'бл',\n",
       " 'бм',\n",
       " 'бн',\n",
       " 'бо',\n",
       " 'бп',\n",
       " 'бр',\n",
       " 'бс',\n",
       " 'бт',\n",
       " 'бу',\n",
       " 'бф',\n",
       " 'бх',\n",
       " 'бц',\n",
       " 'бч',\n",
       " 'бш',\n",
       " 'бщ',\n",
       " 'бъ',\n",
       " 'бы',\n",
       " 'бь',\n",
       " 'бэ',\n",
       " 'бю',\n",
       " 'бя',\n",
       " 'в ',\n",
       " 'в-',\n",
       " 'в3',\n",
       " 'в6',\n",
       " 'ва',\n",
       " 'вб',\n",
       " 'вв',\n",
       " 'вг',\n",
       " 'вд',\n",
       " 'ве',\n",
       " 'вж',\n",
       " 'вз',\n",
       " 'ви',\n",
       " 'вк',\n",
       " 'вл',\n",
       " 'вм',\n",
       " 'вн',\n",
       " 'во',\n",
       " 'вп',\n",
       " 'вр',\n",
       " 'вс',\n",
       " 'вт',\n",
       " 'ву',\n",
       " 'вф',\n",
       " 'вх',\n",
       " 'вц',\n",
       " 'вч',\n",
       " 'вш',\n",
       " 'вщ',\n",
       " 'въ',\n",
       " 'вы',\n",
       " 'вь',\n",
       " 'вэ',\n",
       " 'вя',\n",
       " 'ві',\n",
       " 'г ',\n",
       " 'г-',\n",
       " 'г2',\n",
       " 'г4',\n",
       " 'гl',\n",
       " 'гt',\n",
       " 'га',\n",
       " 'гб',\n",
       " 'гв',\n",
       " 'гг',\n",
       " 'гд',\n",
       " 'ге',\n",
       " 'гж',\n",
       " 'гз',\n",
       " 'ги',\n",
       " 'гк',\n",
       " 'гл',\n",
       " 'гм',\n",
       " 'гн',\n",
       " 'го',\n",
       " 'гп',\n",
       " 'гр',\n",
       " 'гс',\n",
       " 'гт',\n",
       " 'гу',\n",
       " 'гх',\n",
       " 'гч',\n",
       " 'гш',\n",
       " 'гы',\n",
       " 'гэ',\n",
       " 'гю',\n",
       " 'гя',\n",
       " 'д ',\n",
       " 'д-',\n",
       " 'да',\n",
       " 'дб',\n",
       " 'дв',\n",
       " 'дг',\n",
       " 'дд',\n",
       " 'де',\n",
       " 'дж',\n",
       " 'дз',\n",
       " 'ди',\n",
       " 'дк',\n",
       " 'дл',\n",
       " 'дм',\n",
       " 'дн',\n",
       " 'до',\n",
       " 'дп',\n",
       " 'др',\n",
       " 'дс',\n",
       " 'дт',\n",
       " 'ду',\n",
       " 'дф',\n",
       " 'дх',\n",
       " 'дц',\n",
       " 'дч',\n",
       " 'дш',\n",
       " 'дъ',\n",
       " 'ды',\n",
       " 'дь',\n",
       " 'дэ',\n",
       " 'дю',\n",
       " 'дя',\n",
       " 'е ',\n",
       " 'е-',\n",
       " 'е1',\n",
       " 'е3',\n",
       " 'е4',\n",
       " 'еа',\n",
       " 'еб',\n",
       " 'ев',\n",
       " 'ег',\n",
       " 'ед',\n",
       " 'ее',\n",
       " 'еж',\n",
       " 'ез',\n",
       " 'еи',\n",
       " ...]"
      ]
     },
     "execution_count": 264,
     "metadata": {},
     "output_type": "execute_result"
    }
   ],
   "source": [
    "count_vectorizer.get_feature_names()"
   ]
  },
  {
   "cell_type": "code",
   "execution_count": 242,
   "metadata": {
    "ExecuteTime": {
     "end_time": "2017-12-03T21:15:03.430493Z",
     "start_time": "2017-12-03T21:15:03.426556Z"
    }
   },
   "outputs": [],
   "source": [
    "from sklearn.feature_extraction.text import TfidfVectorizer"
   ]
  },
  {
   "cell_type": "code",
   "execution_count": 343,
   "metadata": {
    "ExecuteTime": {
     "end_time": "2017-12-03T22:47:05.874636Z",
     "start_time": "2017-12-03T22:47:02.030894Z"
    }
   },
   "outputs": [],
   "source": [
    "tfidf_vectorizer = TfidfVectorizer()\n",
    "tfidf_features = tfidf_vectorizer.fit_transform([\" \".join(doc) for _id, doc in polit[\"preprocessed\"].iteritems()])"
   ]
  },
  {
   "cell_type": "code",
   "execution_count": 344,
   "metadata": {
    "ExecuteTime": {
     "end_time": "2017-12-03T22:47:07.617195Z",
     "start_time": "2017-12-03T22:47:07.602322Z"
    }
   },
   "outputs": [
    {
     "data": {
      "text/plain": [
       "<26827x53385 sparse matrix of type '<class 'numpy.float64'>'\n",
       "\twith 1729969 stored elements in Compressed Sparse Row format>"
      ]
     },
     "execution_count": 344,
     "metadata": {},
     "output_type": "execute_result"
    }
   ],
   "source": [
    "tfidf_features"
   ]
  },
  {
   "cell_type": "code",
   "execution_count": 345,
   "metadata": {
    "ExecuteTime": {
     "end_time": "2017-12-03T22:47:09.306219Z",
     "start_time": "2017-12-03T22:47:09.247856Z"
    }
   },
   "outputs": [],
   "source": [
    "features_train, features_test, labels_train, labels_test = train_test_split(\n",
    "    tfidf_features, polit[\"new_score\"], test_size=0.3, random_state=42)"
   ]
  },
  {
   "cell_type": "code",
   "execution_count": 408,
   "metadata": {
    "ExecuteTime": {
     "end_time": "2017-12-04T01:02:04.786445Z",
     "start_time": "2017-12-04T01:02:04.782327Z"
    }
   },
   "outputs": [],
   "source": [
    "from sklearn.naive_bayes import MultinomialNB\n",
    "from sklearn.metrics import classification_report"
   ]
  },
  {
   "cell_type": "code",
   "execution_count": 409,
   "metadata": {
    "ExecuteTime": {
     "end_time": "2017-12-04T01:02:06.543573Z",
     "start_time": "2017-12-04T01:02:06.530577Z"
    }
   },
   "outputs": [],
   "source": [
    "mnb = MultinomialNB(alpha=0.2)"
   ]
  },
  {
   "cell_type": "code",
   "execution_count": 410,
   "metadata": {
    "ExecuteTime": {
     "end_time": "2017-12-04T01:02:08.182207Z",
     "start_time": "2017-12-04T01:02:08.130911Z"
    }
   },
   "outputs": [
    {
     "data": {
      "text/plain": [
       "MultinomialNB(alpha=0.2, class_prior=None, fit_prior=True)"
      ]
     },
     "execution_count": 410,
     "metadata": {},
     "output_type": "execute_result"
    }
   ],
   "source": [
    "mnb.fit(features_train, labels_train)"
   ]
  },
  {
   "cell_type": "code",
   "execution_count": 411,
   "metadata": {
    "ExecuteTime": {
     "end_time": "2017-12-04T01:02:09.900258Z",
     "start_time": "2017-12-04T01:02:09.889895Z"
    }
   },
   "outputs": [],
   "source": [
    "predicted = mnb.predict(features_test)"
   ]
  },
  {
   "cell_type": "code",
   "execution_count": 412,
   "metadata": {
    "ExecuteTime": {
     "end_time": "2017-12-04T01:02:11.470108Z",
     "start_time": "2017-12-04T01:02:11.464121Z"
    }
   },
   "outputs": [
    {
     "data": {
      "text/plain": [
       "array([2, 0, 0, ..., 0, 0, 2])"
      ]
     },
     "execution_count": 412,
     "metadata": {},
     "output_type": "execute_result"
    }
   ],
   "source": [
    "predicted"
   ]
  },
  {
   "cell_type": "code",
   "execution_count": 413,
   "metadata": {
    "ExecuteTime": {
     "end_time": "2017-12-04T01:02:12.997608Z",
     "start_time": "2017-12-04T01:02:12.988579Z"
    }
   },
   "outputs": [
    {
     "name": "stdout",
     "output_type": "stream",
     "text": [
      "             precision    recall  f1-score   support\n",
      "\n",
      "          0       0.65      0.69      0.67      4238\n",
      "          1       0.47      0.22      0.30       672\n",
      "          2       0.58      0.61      0.59      3139\n",
      "\n",
      "avg / total       0.61      0.62      0.61      8049\n",
      "\n"
     ]
    }
   ],
   "source": [
    "print(classification_report(labels_test, predicted))"
   ]
  },
  {
   "cell_type": "code",
   "execution_count": 317,
   "metadata": {
    "ExecuteTime": {
     "end_time": "2017-12-03T22:16:41.146232Z",
     "start_time": "2017-12-03T22:16:40.997610Z"
    }
   },
   "outputs": [
    {
     "name": "stderr",
     "output_type": "stream",
     "text": [
      "/usr/local/lib/python3.6/site-packages/sklearn/cross_validation.py:41: DeprecationWarning: This module was deprecated in version 0.18 in favor of the model_selection module into which all the refactored classes and functions are moved. Also note that the interface of the new CV iterators are different from that of this module. This module will be removed in 0.20.\n",
      "  \"This module will be removed in 0.20.\", DeprecationWarning)\n"
     ]
    }
   ],
   "source": [
    "import xgboost as xgb"
   ]
  },
  {
   "cell_type": "code",
   "execution_count": 323,
   "metadata": {
    "ExecuteTime": {
     "end_time": "2017-12-03T22:30:27.739271Z",
     "start_time": "2017-12-03T22:30:27.732658Z"
    }
   },
   "outputs": [],
   "source": [
    "param = {'max_depth': 2, 'eta': 1, 'silent': 1, 'objective': \"multi:softmax\"}\n",
    "param['nthread'] = 2\n",
    "param['eval_metric'] = 'auc'\n",
    "param['num_class'] = 3"
   ]
  },
  {
   "cell_type": "code",
   "execution_count": 329,
   "metadata": {
    "ExecuteTime": {
     "end_time": "2017-12-03T22:32:00.801552Z",
     "start_time": "2017-12-03T22:31:59.351652Z"
    }
   },
   "outputs": [],
   "source": [
    "xg_train = xgb.DMatrix(features_train, label=labels_train)\n",
    "xg_test = xgb.DMatrix(features_test, label=labels_test)"
   ]
  },
  {
   "cell_type": "code",
   "execution_count": 330,
   "metadata": {
    "ExecuteTime": {
     "end_time": "2017-12-03T22:32:02.410260Z",
     "start_time": "2017-12-03T22:32:02.402126Z"
    }
   },
   "outputs": [],
   "source": [
    "watchlist = [(xg_train, 'train'), (xg_test, 'test')]"
   ]
  },
  {
   "cell_type": "code",
   "execution_count": 332,
   "metadata": {
    "ExecuteTime": {
     "end_time": "2017-12-03T22:32:55.890860Z",
     "start_time": "2017-12-03T22:32:53.534212Z"
    }
   },
   "outputs": [],
   "source": [
    "bst = xgb.train(param, xg_train, 10, watchlist)"
   ]
  },
  {
   "cell_type": "code",
   "execution_count": 333,
   "metadata": {
    "ExecuteTime": {
     "end_time": "2017-12-03T22:33:31.887290Z",
     "start_time": "2017-12-03T22:33:31.836202Z"
    }
   },
   "outputs": [],
   "source": [
    "ypred = bst.predict(xg_test, ntree_limit=bst.best_ntree_limit)"
   ]
  },
  {
   "cell_type": "code",
   "execution_count": 335,
   "metadata": {
    "ExecuteTime": {
     "end_time": "2017-12-03T22:34:00.149551Z",
     "start_time": "2017-12-03T22:34:00.112897Z"
    }
   },
   "outputs": [
    {
     "name": "stdout",
     "output_type": "stream",
     "text": [
      "             precision    recall  f1-score   support\n",
      "\n",
      "          0       0.57      0.82      0.67      4238\n",
      "          1       0.54      0.10      0.17       672\n",
      "          2       0.55      0.31      0.40      3139\n",
      "\n",
      "avg / total       0.56      0.56      0.52      8049\n",
      "\n"
     ]
    }
   ],
   "source": [
    "print(classification_report(labels_test, ypred))"
   ]
  },
  {
   "cell_type": "code",
   "execution_count": null,
   "metadata": {},
   "outputs": [],
   "source": []
  },
  {
   "cell_type": "code",
   "execution_count": null,
   "metadata": {},
   "outputs": [],
   "source": []
  },
  {
   "cell_type": "code",
   "execution_count": 356,
   "metadata": {
    "ExecuteTime": {
     "end_time": "2017-12-03T22:52:37.439126Z",
     "start_time": "2017-12-03T22:52:37.426407Z"
    }
   },
   "outputs": [],
   "source": [
    "from gensim.models import KeyedVectors as kv"
   ]
  },
  {
   "cell_type": "code",
   "execution_count": 373,
   "metadata": {
    "ExecuteTime": {
     "end_time": "2017-12-03T23:44:50.198237Z",
     "start_time": "2017-12-03T23:44:06.447810Z"
    },
    "scrolled": true
   },
   "outputs": [
    {
     "name": "stderr",
     "output_type": "stream",
     "text": [
      "WARNING:gensim.models.keyedvectors:duplicate word '……………………………………………………………………………………' in /Users/hun/Google Drive/Teaching/Python for Data Scientists/ml/5_text/all.norm-sz100-w10-cb0-it1-min100.w2v, ignoring all but first\n"
     ]
    }
   ],
   "source": [
    "w2v = kv.load_word2vec_format(\"/Users/hun/Google Drive/Teaching/Python for Data Scientists/ml/5_text/all.norm-sz100-w10-cb0-it1-min100.w2v\", binary=True, unicode_errors='ignore')"
   ]
  },
  {
   "cell_type": "code",
   "execution_count": 389,
   "metadata": {
    "ExecuteTime": {
     "end_time": "2017-12-03T23:56:24.958749Z",
     "start_time": "2017-12-03T23:56:24.950032Z"
    }
   },
   "outputs": [
    {
     "data": {
      "text/plain": [
       "array([-0.08107448,  0.06983583, -0.01698685,  0.03835827, -0.05433555,\n",
       "        0.06000985, -0.01663741,  0.04425331,  0.03646139,  0.02076798,\n",
       "        0.11069476, -0.07827481, -0.08751155,  0.04116401, -0.01885554,\n",
       "       -0.05776471,  0.04665626, -0.02223054, -0.01215101, -0.07729396,\n",
       "       -0.10056008,  0.05450149,  0.12711915, -0.08967902, -0.05556251,\n",
       "        0.19638579, -0.03677355,  0.1093666 , -0.00646919,  0.08748611,\n",
       "       -0.27490199, -0.12542225,  0.03320399,  0.01509567, -0.08089108,\n",
       "        0.0159033 ,  0.07524391,  0.11409041, -0.11184911, -0.07317119,\n",
       "        0.26101553,  0.08748134, -0.08598398,  0.01186852, -0.0618111 ,\n",
       "        0.11289295,  0.01281997, -0.20420998, -0.12658258, -0.02337134,\n",
       "        0.01495269, -0.0202255 , -0.09116647,  0.07988448,  0.03197451,\n",
       "        0.01719758,  0.05875765,  0.02525986, -0.05382459, -0.25503477,\n",
       "       -0.04475038,  0.08678526,  0.10978311,  0.04820411,  0.1069565 ,\n",
       "        0.24486272, -0.00113484,  0.06159126,  0.02772618,  0.12267543,\n",
       "       -0.13570473,  0.12064283, -0.16153732,  0.0768946 ,  0.0646781 ,\n",
       "        0.11997197,  0.11722277, -0.10326232,  0.05506279,  0.0929736 ,\n",
       "        0.0551375 ,  0.10820077,  0.09801206, -0.02891671, -0.13243568,\n",
       "        0.20932429,  0.16375406,  0.0446336 , -0.08770998,  0.20925504,\n",
       "       -0.08034214,  0.08166899, -0.15411037,  0.10553575, -0.01111642,\n",
       "        0.00498476,  0.00440986, -0.02074702, -0.0064803 ,  0.05541166], dtype=float32)"
      ]
     },
     "execution_count": 389,
     "metadata": {},
     "output_type": "execute_result"
    }
   ],
   "source": [
    "w2v[\"дерево\"]"
   ]
  },
  {
   "cell_type": "code",
   "execution_count": 372,
   "metadata": {
    "ExecuteTime": {
     "end_time": "2017-12-03T23:29:42.419871Z",
     "start_time": "2017-12-03T23:29:39.192940Z"
    }
   },
   "outputs": [
    {
     "name": "stdout",
     "output_type": "stream",
     "text": [
      "дуб_NOUN 0.7490348815917969\n",
      "береза_NOUN 0.7402018904685974\n",
      "сосна_NOUN 0.7250653505325317\n",
      "клен_NOUN 0.7105392813682556\n",
      "кустарник_NOUN 0.699715793132782\n",
      "листва_NOUN 0.6985297799110413\n",
      "сук_NOUN 0.6809549331665039\n",
      "безлиственный_ADJ 0.6707502603530884\n",
      "куст_NOUN 0.6643524169921875\n",
      "яблоня_NOUN 0.6635726094245911\n"
     ]
    }
   ],
   "source": [
    "w2v.init_sims(replace=True)\n",
    "for word, score in w2v.most_similar(\"дерево_NOUN\"):\n",
    "    print(word, score)"
   ]
  },
  {
   "cell_type": "code",
   "execution_count": 375,
   "metadata": {
    "ExecuteTime": {
     "end_time": "2017-12-03T23:46:06.094559Z",
     "start_time": "2017-12-03T23:45:47.782247Z"
    }
   },
   "outputs": [
    {
     "name": "stdout",
     "output_type": "stream",
     "text": [
      "дерево — 0.8678080439567566\n",
      "деревце 0.867724597454071\n",
      "деревцо 0.8552745580673218\n",
      "буковое 0.8502448797225952\n",
      "дерево, — 0.8466764688491821\n",
      "дерево… 0.8452415466308594\n",
      "срубленное 0.8443728685379028\n",
      "росшее 0.8330211639404297\n",
      "спиленное 0.826280951499939\n",
      "развесистое 0.8261987566947937\n"
     ]
    }
   ],
   "source": [
    "w2v.init_sims(replace=True)\n",
    "for word, score in w2v.most_similar(\"дерево\"):\n",
    "    print(word, score)"
   ]
  },
  {
   "cell_type": "code",
   "execution_count": 378,
   "metadata": {
    "ExecuteTime": {
     "end_time": "2017-12-03T23:48:40.217968Z",
     "start_time": "2017-12-03T23:48:40.062724Z"
    }
   },
   "outputs": [
    {
     "data": {
      "text/plain": [
       "[('королева', 0.8560205101966858),\n",
       " ('бургундская', 0.8100876808166504),\n",
       " ('регентша', 0.8040660619735718),\n",
       " ('клеменция', 0.798425018787384),\n",
       " ('короля', 0.7981557250022888),\n",
       " ('ангулемская', 0.7949156165122986),\n",
       " ('королевская', 0.7862949371337891),\n",
       " ('анжуйская', 0.7808530330657959),\n",
       " ('лотарингская', 0.7741948366165161),\n",
       " ('маркграфиня', 0.7644592523574829)]"
      ]
     },
     "execution_count": 378,
     "metadata": {},
     "output_type": "execute_result"
    }
   ],
   "source": [
    "w2v.most_similar(positive=[\"женщина\", \"король\"], negative=[\"мужчина\"])"
   ]
  },
  {
   "cell_type": "code",
   "execution_count": 379,
   "metadata": {
    "ExecuteTime": {
     "end_time": "2017-12-03T23:49:44.570229Z",
     "start_time": "2017-12-03T23:49:44.438923Z"
    }
   },
   "outputs": [
    {
     "data": {
      "text/plain": [
       "[('сутенер', 0.9040168523788452),\n",
       " ('гомик', 0.8074016571044922),\n",
       " ('трансвестит', 0.7969245314598083),\n",
       " ('педик', 0.7952677011489868),\n",
       " ('педераст', 0.772663950920105),\n",
       " ('жиголо', 0.7690730094909668),\n",
       " ('извращенец', 0.7511987090110779),\n",
       " ('стриптизер', 0.7509283423423767),\n",
       " ('гомосексуалист', 0.7446049451828003),\n",
       " ('смазливый', 0.7421605587005615)]"
      ]
     },
     "execution_count": 379,
     "metadata": {},
     "output_type": "execute_result"
    }
   ],
   "source": [
    "w2v.most_similar(positive=[\"мужчина\", \"проститутка\"], negative=[\"женщина\"])"
   ]
  },
  {
   "cell_type": "code",
   "execution_count": 382,
   "metadata": {
    "ExecuteTime": {
     "end_time": "2017-12-03T23:51:04.361010Z",
     "start_time": "2017-12-03T23:51:04.341331Z"
    }
   },
   "outputs": [
    {
     "name": "stderr",
     "output_type": "stream",
     "text": [
      "WARNING:gensim.models.keyedvectors:vectors for words {'тяжёлый', 'чёрный'} are not present in the model, ignoring these words\n"
     ]
    },
    {
     "data": {
      "text/plain": [
       "'белый'"
      ]
     },
     "execution_count": 382,
     "metadata": {},
     "output_type": "execute_result"
    }
   ],
   "source": [
    "w2v.doesnt_match(\"белый красный чёрный тяжёлый\".split())"
   ]
  },
  {
   "cell_type": "code",
   "execution_count": 383,
   "metadata": {
    "ExecuteTime": {
     "end_time": "2017-12-03T23:51:29.658663Z",
     "start_time": "2017-12-03T23:51:29.651681Z"
    }
   },
   "outputs": [
    {
     "data": {
      "text/plain": [
       "'тяжелый'"
      ]
     },
     "execution_count": 383,
     "metadata": {},
     "output_type": "execute_result"
    }
   ],
   "source": [
    "w2v.doesnt_match(\"белый красный черный тяжелый\".split())"
   ]
  },
  {
   "cell_type": "code",
   "execution_count": 386,
   "metadata": {
    "ExecuteTime": {
     "end_time": "2017-12-03T23:55:14.886466Z",
     "start_time": "2017-12-03T23:55:14.869137Z"
    }
   },
   "outputs": [
    {
     "data": {
      "text/plain": [
       "(0.54690610895686131, 0.5217864434314432, 0.76956423661572948)"
      ]
     },
     "execution_count": 386,
     "metadata": {},
     "output_type": "execute_result"
    }
   ],
   "source": [
    "w2v.similarity(\"мужчина\", \"ребенок\"), w2v.similarity(\"женщина\", \"ребенок\"), w2v.similarity(\"женщина\", \"мужчина\")"
   ]
  },
  {
   "cell_type": "code",
   "execution_count": null,
   "metadata": {},
   "outputs": [],
   "source": []
  },
  {
   "cell_type": "code",
   "execution_count": null,
   "metadata": {},
   "outputs": [],
   "source": []
  },
  {
   "cell_type": "code",
   "execution_count": 424,
   "metadata": {
    "ExecuteTime": {
     "end_time": "2017-12-04T01:22:25.888876Z",
     "start_time": "2017-12-04T01:22:25.846328Z"
    }
   },
   "outputs": [
    {
     "data": {
      "text/html": [
       "<div>\n",
       "<style>\n",
       "    .dataframe thead tr:only-child th {\n",
       "        text-align: right;\n",
       "    }\n",
       "\n",
       "    .dataframe thead th {\n",
       "        text-align: left;\n",
       "    }\n",
       "\n",
       "    .dataframe tbody tr th {\n",
       "        vertical-align: top;\n",
       "    }\n",
       "</style>\n",
       "<table border=\"1\" class=\"dataframe\">\n",
       "  <thead>\n",
       "    <tr style=\"text-align: right;\">\n",
       "      <th></th>\n",
       "      <th>text</th>\n",
       "      <th>score</th>\n",
       "      <th>new_score</th>\n",
       "      <th>tokenized</th>\n",
       "      <th>mystem</th>\n",
       "      <th>preprocessed</th>\n",
       "      <th>doc_vec_mean</th>\n",
       "    </tr>\n",
       "  </thead>\n",
       "  <tbody>\n",
       "    <tr>\n",
       "      <th>0</th>\n",
       "      <td>Но при мужчине ни одна приличная женщина не по...</td>\n",
       "      <td>-1</td>\n",
       "      <td>2</td>\n",
       "      <td>[но, при, мужчина, ни, один, приличный, женщин...</td>\n",
       "      <td>[но,  , при,  , мужчина,  , ни,  , один,  , пр...</td>\n",
       "      <td>[мужчина, приличный, женщина, пойти, лазить, р...</td>\n",
       "      <td>[-0.0139804, -0.0148168, -0.0111191, 0.0156625...</td>\n",
       "    </tr>\n",
       "    <tr>\n",
       "      <th>1</th>\n",
       "      <td>Украина это часть Руси искусственно отделенная...</td>\n",
       "      <td>-1</td>\n",
       "      <td>2</td>\n",
       "      <td>[украина, это, часть, русь, искусственно, отде...</td>\n",
       "      <td>[украина,  , это,  , часть,  , русь,  , искусс...</td>\n",
       "      <td>[украина, часть, русь, искусственно, отделять,...</td>\n",
       "      <td>[0.00902255, 0.0750955, -0.0226514, -0.0011014...</td>\n",
       "    </tr>\n",
       "    <tr>\n",
       "      <th>2</th>\n",
       "      <td>Как можно говорить об относительно небольшой к...</td>\n",
       "      <td>-1</td>\n",
       "      <td>2</td>\n",
       "      <td>[как, можно, говорить, об, относительно, небол...</td>\n",
       "      <td>[как,  , можно,  , говорить,  , об,  , относит...</td>\n",
       "      <td>[говорить, относительно_небольшой, коррупция, ...</td>\n",
       "      <td>[-0.00624127, 0.0322184, -0.0148481, -0.001444...</td>\n",
       "    </tr>\n",
       "    <tr>\n",
       "      <th>3</th>\n",
       "      <td>1.2014.  а что они со своими поляками сделали?...</td>\n",
       "      <td>0</td>\n",
       "      <td>0</td>\n",
       "      <td>[1.2014, а, что, они, со, свой, поляк, сделать...</td>\n",
       "      <td>[1.2014, .,   , а,  , что,  , они,  , со,  , с...</td>\n",
       "      <td>[свой, поляк, сделать, русский, понятно, литов...</td>\n",
       "      <td>[-0.00939929, 0.0739201, -0.0347006, 0.0397218...</td>\n",
       "    </tr>\n",
       "    <tr>\n",
       "      <th>4</th>\n",
       "      <td>у а фильмы... Зрители любят диковинное.   у ме...</td>\n",
       "      <td>0</td>\n",
       "      <td>0</td>\n",
       "      <td>[у, а, фильм, зритель, любить, диковинный, у, ...</td>\n",
       "      <td>[у,  , а,  , фильм, ... , зритель,  , любить, ...</td>\n",
       "      <td>[фильм, зритель, любить, соседка, пятый, месяц...</td>\n",
       "      <td>[-0.00569659, -0.0146692, -0.0432692, 0.031405...</td>\n",
       "    </tr>\n",
       "  </tbody>\n",
       "</table>\n",
       "</div>"
      ],
      "text/plain": [
       "                                                text  score  new_score  \\\n",
       "0  Но при мужчине ни одна приличная женщина не по...     -1          2   \n",
       "1  Украина это часть Руси искусственно отделенная...     -1          2   \n",
       "2  Как можно говорить об относительно небольшой к...     -1          2   \n",
       "3  1.2014.  а что они со своими поляками сделали?...      0          0   \n",
       "4  у а фильмы... Зрители любят диковинное.   у ме...      0          0   \n",
       "\n",
       "                                           tokenized  \\\n",
       "0  [но, при, мужчина, ни, один, приличный, женщин...   \n",
       "1  [украина, это, часть, русь, искусственно, отде...   \n",
       "2  [как, можно, говорить, об, относительно, небол...   \n",
       "3  [1.2014, а, что, они, со, свой, поляк, сделать...   \n",
       "4  [у, а, фильм, зритель, любить, диковинный, у, ...   \n",
       "\n",
       "                                              mystem  \\\n",
       "0  [но,  , при,  , мужчина,  , ни,  , один,  , пр...   \n",
       "1  [украина,  , это,  , часть,  , русь,  , искусс...   \n",
       "2  [как,  , можно,  , говорить,  , об,  , относит...   \n",
       "3  [1.2014, .,   , а,  , что,  , они,  , со,  , с...   \n",
       "4  [у,  , а,  , фильм, ... , зритель,  , любить, ...   \n",
       "\n",
       "                                        preprocessed  \\\n",
       "0  [мужчина, приличный, женщина, пойти, лазить, р...   \n",
       "1  [украина, часть, русь, искусственно, отделять,...   \n",
       "2  [говорить, относительно_небольшой, коррупция, ...   \n",
       "3  [свой, поляк, сделать, русский, понятно, литов...   \n",
       "4  [фильм, зритель, любить, соседка, пятый, месяц...   \n",
       "\n",
       "                                        doc_vec_mean  \n",
       "0  [-0.0139804, -0.0148168, -0.0111191, 0.0156625...  \n",
       "1  [0.00902255, 0.0750955, -0.0226514, -0.0011014...  \n",
       "2  [-0.00624127, 0.0322184, -0.0148481, -0.001444...  \n",
       "3  [-0.00939929, 0.0739201, -0.0347006, 0.0397218...  \n",
       "4  [-0.00569659, -0.0146692, -0.0432692, 0.031405...  "
      ]
     },
     "execution_count": 424,
     "metadata": {},
     "output_type": "execute_result"
    }
   ],
   "source": [
    "polit.head()"
   ]
  },
  {
   "cell_type": "code",
   "execution_count": 422,
   "metadata": {
    "ExecuteTime": {
     "end_time": "2017-12-04T01:21:33.904553Z",
     "start_time": "2017-12-04T01:21:33.888258Z"
    }
   },
   "outputs": [],
   "source": [
    "def doc_vec_mean(tokens_list):\n",
    "    vectors_list = []\n",
    "    for token in tokens_list:\n",
    "        token = token.replace(\"ё\", \"е\")\n",
    "        if token in w2v:\n",
    "            vectors_list.append(w2v[token])\n",
    "    return np.mean(vectors_list, axis=0)"
   ]
  },
  {
   "cell_type": "code",
   "execution_count": 423,
   "metadata": {
    "ExecuteTime": {
     "end_time": "2017-12-04T01:22:10.161832Z",
     "start_time": "2017-12-04T01:21:55.050402Z"
    }
   },
   "outputs": [
    {
     "name": "stderr",
     "output_type": "stream",
     "text": [
      "/usr/local/lib/python3.6/site-packages/numpy/core/fromnumeric.py:2909: RuntimeWarning: Mean of empty slice.\n",
      "  out=out, **kwargs)\n"
     ]
    }
   ],
   "source": [
    "polit[\"doc_vec_mean\"] = polit[\"preprocessed\"].apply(doc_vec_mean)"
   ]
  },
  {
   "cell_type": "code",
   "execution_count": 432,
   "metadata": {
    "ExecuteTime": {
     "end_time": "2017-12-04T01:35:36.140573Z",
     "start_time": "2017-12-04T01:35:36.018921Z"
    }
   },
   "outputs": [],
   "source": [
    "X = [v.reshape(1, -1) for v in polit[\"doc_vec_mean\"].values]"
   ]
  },
  {
   "cell_type": "code",
   "execution_count": 433,
   "metadata": {
    "ExecuteTime": {
     "end_time": "2017-12-04T01:37:09.081269Z",
     "start_time": "2017-12-04T01:37:09.068303Z"
    }
   },
   "outputs": [],
   "source": [
    "features_train, features_test, labels_train, labels_test = train_test_split(\n",
    "    X, polit[\"new_score\"], test_size=0.3, random_state=42)"
   ]
  },
  {
   "cell_type": "code",
   "execution_count": 426,
   "metadata": {
    "ExecuteTime": {
     "end_time": "2017-12-04T01:24:17.911869Z",
     "start_time": "2017-12-04T01:24:17.908878Z"
    }
   },
   "outputs": [],
   "source": [
    "mnb = MultinomialNB(alpha=0.2)"
   ]
  },
  {
   "cell_type": "code",
   "execution_count": null,
   "metadata": {
    "ExecuteTime": {
     "end_time": "2017-12-04T01:39:00.931848Z",
     "start_time": "2017-12-04T01:37:17.117Z"
    }
   },
   "outputs": [],
   "source": [
    "mnb.fit(features_train, labels_train)"
   ]
  },
  {
   "cell_type": "code",
   "execution_count": 435,
   "metadata": {
    "ExecuteTime": {
     "end_time": "2017-12-04T01:41:44.033876Z",
     "start_time": "2017-12-04T01:41:44.013259Z"
    }
   },
   "outputs": [
    {
     "data": {
      "text/plain": [
       "array([ array([-0.01398035, -0.01481682, -0.0111191 ,  0.01566247,  0.01572988,\n",
       "        0.11952324,  0.03980081,  0.09275068,  0.01126717,  0.05781015,\n",
       "        0.11781641,  0.05874427,  0.00330418, -0.14392079,  0.02229074,\n",
       "       -0.02261267,  0.07651495, -0.00538215,  0.04717608, -0.05766299,\n",
       "        0.08446394, -0.02714609,  0.1359401 , -0.07573662, -0.01851505,\n",
       "       -0.02238348,  0.02345685,  0.09838601, -0.00933182,  0.12359309,\n",
       "       -0.08192892, -0.02211559,  0.02143488,  0.0791934 , -0.0397325 ,\n",
       "       -0.0037666 ,  0.032456  , -0.17220394,  0.02729101,  0.03398812,\n",
       "        0.06264402,  0.00428133, -0.01366359,  0.019886  , -0.06258205,\n",
       "       -0.06370326, -0.0184048 ,  0.0215571 , -0.03681516, -0.06708685,\n",
       "       -0.04680288, -0.0821722 , -0.00489818,  0.03685075, -0.09367255,\n",
       "        0.03707133, -0.05451531,  0.02704628,  0.14782959, -0.03033598,\n",
       "       -0.037265  ,  0.01364029,  0.04727058,  0.03725674,  0.00670418,\n",
       "        0.01683345, -0.02199355, -0.02689124,  0.00443472,  0.00960248,\n",
       "       -0.16820469,  0.13279971, -0.07265471, -0.00267146, -0.04338839,\n",
       "       -0.01787861,  0.10849316, -0.1588034 ,  0.0296628 , -0.00771885,\n",
       "       -0.03623684,  0.05327376, -0.03675966, -0.07016449, -0.05711734,\n",
       "        0.05815049, -0.04975474,  0.08160067, -0.15018892, -0.01941438,\n",
       "        0.03372306, -0.02399992, -0.03965634, -0.00094865, -0.02879027,\n",
       "       -0.07212877, -0.0424801 ,  0.07338608, -0.01941225, -0.09420437], dtype=float32),\n",
       "       array([  9.02255438e-03,   7.50955492e-02,  -2.26513594e-02,\n",
       "        -1.10146345e-03,   1.51833976e-02,   8.82480219e-02,\n",
       "        -5.59690874e-03,  -6.72841538e-03,  -3.94127984e-03,\n",
       "         9.68203768e-02,   1.34854630e-01,   3.73640656e-02,\n",
       "        -4.78199162e-02,  -8.41635615e-02,   2.64779944e-02,\n",
       "        -9.65487119e-03,   5.60738891e-02,   1.18751173e-04,\n",
       "        -1.21045709e-02,  -5.84601201e-02,   6.93125427e-02,\n",
       "        -3.52395847e-02,   9.54869986e-02,  -7.72120357e-02,\n",
       "        -7.34119043e-02,   5.19465730e-02,  -6.46460743e-04,\n",
       "         7.33800381e-02,  -4.32321168e-02,   8.21576938e-02,\n",
       "        -3.34317908e-02,  -7.27149546e-02,   4.80358079e-02,\n",
       "         3.49616781e-02,  -4.41576578e-02,  -7.68403709e-02,\n",
       "         5.51880561e-02,  -7.25969747e-02,  -1.19842263e-02,\n",
       "        -4.76402603e-02,   1.11384494e-02,  -3.46966228e-03,\n",
       "        -5.63484877e-02,   3.44503224e-02,  -7.68901259e-02,\n",
       "        -6.87523484e-02,  -1.19210817e-01,  -6.72582239e-02,\n",
       "        -5.00590578e-02,  -5.42440414e-02,  -1.24766883e-02,\n",
       "        -8.30439851e-02,   1.44654270e-02,  -2.50816513e-02,\n",
       "        -6.77167922e-02,  -1.19363442e-02,   4.82436232e-02,\n",
       "         2.02006325e-02,   1.15958214e-01,  -4.27845754e-02,\n",
       "        -3.84277701e-02,   2.14965269e-02,  -4.24896255e-02,\n",
       "        -2.96835136e-02,   8.36819857e-02,   1.01697326e-01,\n",
       "        -3.68980020e-02,  -4.25096750e-02,  -1.49454977e-02,\n",
       "         5.72629608e-02,  -1.35668635e-01,   7.44828656e-02,\n",
       "        -1.02325112e-01,   1.01026269e-02,  -1.79290883e-02,\n",
       "        -4.05890681e-02,   1.53976426e-01,  -8.87658522e-02,\n",
       "         3.15419100e-02,   1.28950104e-02,  -4.40894999e-02,\n",
       "         7.19521493e-02,  -6.56553134e-02,  -1.13311961e-01,\n",
       "        -7.11031184e-02,   2.77351197e-02,  -3.09650451e-02,\n",
       "         1.16234675e-01,  -1.23549595e-01,  -5.05193174e-02,\n",
       "         4.91940714e-02,  -5.11521287e-02,  -5.27151898e-02,\n",
       "        -5.61847026e-03,  -1.97885092e-02,  -9.31038987e-03,\n",
       "        -2.45130751e-02,   4.08814475e-02,   4.83000167e-02,\n",
       "        -2.44332757e-02], dtype=float32),\n",
       "       array([-0.00624127,  0.03221838, -0.0148481 , -0.00144403,  0.00512254,\n",
       "        0.09877978,  0.05179149,  0.02067171, -0.00965667,  0.07842664,\n",
       "        0.13301104,  0.03597026, -0.04814436, -0.08746422, -0.00210139,\n",
       "       -0.07568223,  0.04716261, -0.0164871 ,  0.00791362, -0.0683744 ,\n",
       "        0.07183331, -0.03094935,  0.11307446, -0.08409438, -0.08030075,\n",
       "       -0.01675984, -0.00373929,  0.04160548, -0.03336183,  0.11924731,\n",
       "       -0.01237836, -0.00413165,  0.04475467, -0.002574  , -0.0553935 ,\n",
       "       -0.05328611,  0.06268281, -0.11582329, -0.00331761, -0.00062593,\n",
       "        0.04241868,  0.00447161, -0.04808726,  0.06241706, -0.05055472,\n",
       "       -0.05637351, -0.00530601,  0.02474346,  0.01033809, -0.10754609,\n",
       "       -0.05124585, -0.07429022,  0.00695298, -0.03828366, -0.07633916,\n",
       "        0.01777032, -0.06549687,  0.08354989,  0.118677  , -0.04756467,\n",
       "       -0.0491198 ,  0.02598769, -0.00529495, -0.02052041,  0.05941524,\n",
       "        0.0825144 , -0.00044975, -0.02039879, -0.00850719,  0.05700101,\n",
       "       -0.15484886,  0.07936022, -0.09281247,  0.01153931, -0.08434183,\n",
       "       -0.00344997,  0.11880513, -0.13021834,  0.03720267, -0.01522762,\n",
       "        0.00628746,  0.0365532 , -0.03076547, -0.1052812 , -0.03522628,\n",
       "        0.02014505, -0.08194908,  0.13608517, -0.11183754, -0.03478025,\n",
       "       -0.02279575, -0.01216437, -0.07402208, -0.03632258, -0.01974631,\n",
       "       -0.03182451, -0.04029195,  0.07717202,  0.0054855 , -0.02438291], dtype=float32),\n",
       "       ...,\n",
       "       array([-0.02024956,  0.00518745, -0.0085118 ,  0.03309693,  0.01017748,\n",
       "        0.05343636,  0.06092271,  0.03045906, -0.01526451,  0.09895834,\n",
       "        0.10361669,  0.03093196, -0.05965266, -0.06813699,  0.0282563 ,\n",
       "       -0.06983565,  0.06896305, -0.03000376,  0.02110667, -0.03418282,\n",
       "        0.06879336, -0.00583571,  0.08433448, -0.058346  , -0.05168041,\n",
       "       -0.01252286,  0.03125019,  0.03484502, -0.01893957,  0.08797257,\n",
       "       -0.00690437, -0.02085722,  0.04429435, -0.0021378 , -0.01942395,\n",
       "       -0.08293224,  0.07129071, -0.09532841, -0.01394041, -0.01878721,\n",
       "        0.06130936,  0.0480378 , -0.04008962,  0.0608695 , -0.06027788,\n",
       "       -0.08611979, -0.01002992,  0.03007589, -0.01910589, -0.07656182,\n",
       "       -0.0802825 , -0.07362713,  0.02069794, -0.03488224, -0.08404399,\n",
       "        0.02191528, -0.02832305,  0.07231428,  0.13110158, -0.03327273,\n",
       "       -0.05015369,  0.05134545, -0.01038175, -0.02093716,  0.07076284,\n",
       "        0.09614591, -0.02354155, -0.00454228, -0.0051717 ,  0.04908672,\n",
       "       -0.14301997,  0.07586402, -0.10738959,  0.02035212, -0.0714919 ,\n",
       "       -0.02757077,  0.13913107, -0.11313995,  0.00516128, -0.06331033,\n",
       "       -0.00044607,  0.02347685, -0.00144039, -0.12386389, -0.03797381,\n",
       "        0.03645774, -0.07819188,  0.11637337, -0.10422017, -0.0520604 ,\n",
       "       -0.02559363, -0.01796148, -0.037577  ,  0.00745064, -0.03568876,\n",
       "       -0.03476701, -0.03879581,  0.086344  , -0.00325818, -0.03161006], dtype=float32),\n",
       "       array([-0.01794961,  0.01184383, -0.05074568,  0.02519633, -0.02269057,\n",
       "        0.11343538,  0.04624833,  0.00070145,  0.0010003 ,  0.05415203,\n",
       "        0.15210734,  0.01544706, -0.0396239 , -0.0935405 , -0.00999432,\n",
       "       -0.04523278,  0.04774411, -0.00523292,  0.03318098, -0.04773643,\n",
       "        0.06950071, -0.00967932,  0.11390924, -0.07400405, -0.06719691,\n",
       "        0.00098832,  0.01402396,  0.06176623, -0.05009777,  0.12866411,\n",
       "       -0.05660005, -0.01709037,  0.03331663,  0.03175623, -0.05937906,\n",
       "       -0.03790515,  0.05974223, -0.1153493 , -0.00119108,  0.02670023,\n",
       "        0.02638617, -0.01969696, -0.02383759,  0.02367965, -0.06935683,\n",
       "       -0.03721044, -0.01679957, -0.00347619, -0.01229639, -0.09493803,\n",
       "       -0.03427282, -0.06617401,  0.00549434, -0.00901053, -0.07223821,\n",
       "        0.03492756, -0.07907498,  0.11222327,  0.12625223, -0.0256632 ,\n",
       "       -0.06452383,  0.03534526,  0.01933828, -0.02607566,  0.0415311 ,\n",
       "        0.06707526, -0.00748363, -0.00279281, -0.00503459,  0.060367  ,\n",
       "       -0.17049734,  0.08536842, -0.09917657,  0.011131  , -0.0627571 ,\n",
       "       -0.02058006,  0.1349456 , -0.13514845,  0.04335839, -0.00356572,\n",
       "       -0.00640754,  0.02505608, -0.016711  , -0.0870575 , -0.03958993,\n",
       "        0.02538437, -0.08741437,  0.11373585, -0.12138539, -0.00572857,\n",
       "       -0.0271303 , -0.01204414, -0.04733363, -0.00389556, -0.02339564,\n",
       "       -0.04635162, -0.04998761,  0.07128455,  0.0039192 , -0.05667292], dtype=float32),\n",
       "       array([-0.01515161,  0.02509015, -0.09516929, -0.01751381,  0.00407168,\n",
       "        0.08800656, -0.00561144,  0.04013167,  0.00106754,  0.02123943,\n",
       "        0.1499802 ,  0.03990326,  0.0052841 , -0.06801329,  0.0351371 ,\n",
       "       -0.06611094,  0.0315554 , -0.01325965,  0.03078983, -0.06271139,\n",
       "        0.06985267, -0.0101656 ,  0.09471378, -0.11433231, -0.06088127,\n",
       "        0.02709399, -0.02259692,  0.03627011, -0.0614964 ,  0.14264296,\n",
       "       -0.04783715, -0.03539621, -0.00913028,  0.00414987, -0.01975393,\n",
       "       -0.03551004,  0.06512455, -0.06442545, -0.01616543, -0.02457183,\n",
       "        0.00456827,  0.01081096, -0.05744962,  0.05997815, -0.12119844,\n",
       "       -0.03368687, -0.0118437 ,  0.00379898,  0.06321755, -0.08371755,\n",
       "       -0.03864593, -0.03617226, -0.01653258, -0.00581578, -0.01282884,\n",
       "        0.04638115, -0.07982548,  0.06978437,  0.12526916, -0.04965129,\n",
       "       -0.03541776,  0.03210723,  0.02753946, -0.04701222,  0.06204462,\n",
       "        0.05896311, -0.06836849, -0.02514298,  0.00912732,  0.08994145,\n",
       "       -0.18651941,  0.07795744, -0.10884635,  0.00427766, -0.04291301,\n",
       "       -0.00106182,  0.13391872, -0.12373789,  0.03135645, -0.02829956,\n",
       "        0.03956699,  0.02187553, -0.05020605, -0.08017361, -0.03723166,\n",
       "        0.08280844, -0.02129777,  0.09838305, -0.06753325, -0.03114957,\n",
       "       -0.0297193 , -0.02862458, -0.01150723,  0.00307202, -0.05305788,\n",
       "       -0.05926459, -0.03195762,  0.05049547,  0.04263872, -0.03105495], dtype=float32)], dtype=object)"
      ]
     },
     "execution_count": 435,
     "metadata": {},
     "output_type": "execute_result"
    }
   ],
   "source": [
    "np.vstack([v for v in polit[\"doc_vec_mean\"].values])"
   ]
  },
  {
   "cell_type": "code",
   "execution_count": null,
   "metadata": {},
   "outputs": [],
   "source": []
  }
 ],
 "metadata": {
  "kernelspec": {
   "display_name": "Python 3",
   "language": "python",
   "name": "python3"
  },
  "language_info": {
   "codemirror_mode": {
    "name": "ipython",
    "version": 3
   },
   "file_extension": ".py",
   "mimetype": "text/x-python",
   "name": "python",
   "nbconvert_exporter": "python",
   "pygments_lexer": "ipython3",
   "version": "3.6.2"
  },
  "notify_time": "5",
  "toc": {
   "nav_menu": {},
   "number_sections": true,
   "sideBar": true,
   "skip_h1_title": false,
   "toc_cell": false,
   "toc_position": {},
   "toc_section_display": "block",
   "toc_window_display": false
  },
  "varInspector": {
   "cols": {
    "lenName": 16,
    "lenType": 16,
    "lenVar": 40
   },
   "kernels_config": {
    "python": {
     "delete_cmd_postfix": "",
     "delete_cmd_prefix": "del ",
     "library": "var_list.py",
     "varRefreshCmd": "print(var_dic_list())"
    },
    "r": {
     "delete_cmd_postfix": ") ",
     "delete_cmd_prefix": "rm(",
     "library": "var_list.r",
     "varRefreshCmd": "cat(var_dic_list()) "
    }
   },
   "types_to_exclude": [
    "module",
    "function",
    "builtin_function_or_method",
    "instance",
    "_Feature"
   ],
   "window_display": false
  }
 },
 "nbformat": 4,
 "nbformat_minor": 2
}
