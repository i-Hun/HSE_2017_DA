{
 "cells": [
  {
   "cell_type": "markdown",
   "metadata": {},
   "source": [
    "Here are two things we need to do:\n",
    "\n",
    "1) Many of the Instagram users in this dataset have apparently were using automatic tag generation apps that add long sets of generic tags in English. We want to delete such posts from the dataset.\n",
    "\n",
    "2) Many of the users who have lots of posts are from businesss. They can be identified in a simple way - all locatons of their posts are the same. We also want to delete these posts.\n",
    "\n",
    "I suggest that to indicate results of the filtering, you add a column to the data that indicates if a particular image is a) has auto-generated English tags, and/or b) likely to be from a company."
   ]
  },
  {
   "cell_type": "markdown",
   "metadata": {},
   "source": [
    "[The Complete Guide To Cryptic Instagram Hashtags No One Understands](http://www.makeuseof.com/tag/the-complete-guide-to-cryptic-instagram-hashtags-no-one-understands/)\n",
    "\n",
    "[Tags definitions](https://tagdef.com/iphoneonly)"
   ]
  },
  {
   "cell_type": "code",
   "execution_count": 1,
   "metadata": {
    "ExecuteTime": {
     "end_time": "2017-09-22T10:04:09.682675Z",
     "start_time": "2017-09-22T10:04:08.862186Z"
    },
    "collapsed": true
   },
   "outputs": [],
   "source": [
    "import pandas as pd\n",
    "import numpy as np\n",
    "import matplotlib.pyplot as plt\n",
    "%matplotlib inline\n",
    "plt.style.use('classic')"
   ]
  },
  {
   "cell_type": "code",
   "execution_count": 7,
   "metadata": {
    "ExecuteTime": {
     "end_time": "2017-09-22T08:23:49.818411Z",
     "start_time": "2017-09-22T08:23:49.695996Z"
    },
    "collapsed": true
   },
   "outputs": [],
   "source": [
    "data = pd.read_csv(\"sp_final_path_sample.csv\", parse_dates=[\"local_time\"])"
   ]
  },
  {
   "cell_type": "code",
   "execution_count": null,
   "metadata": {
    "collapsed": true
   },
   "outputs": [],
   "source": []
  }
 ],
 "metadata": {
  "kernelspec": {
   "display_name": "Python 3",
   "language": "python",
   "name": "python3"
  },
  "language_info": {
   "codemirror_mode": {
    "name": "ipython",
    "version": 3
   },
   "file_extension": ".py",
   "mimetype": "text/x-python",
   "name": "python",
   "nbconvert_exporter": "python",
   "pygments_lexer": "ipython3",
   "version": "3.6.2"
  },
  "toc": {
   "nav_menu": {},
   "number_sections": true,
   "sideBar": true,
   "skip_h1_title": false,
   "toc_cell": false,
   "toc_position": {},
   "toc_section_display": "block",
   "toc_window_display": false
  },
  "varInspector": {
   "cols": {
    "lenName": 16,
    "lenType": 16,
    "lenVar": 40
   },
   "kernels_config": {
    "python": {
     "delete_cmd_postfix": "",
     "delete_cmd_prefix": "del ",
     "library": "var_list.py",
     "varRefreshCmd": "print(var_dic_list())"
    },
    "r": {
     "delete_cmd_postfix": ") ",
     "delete_cmd_prefix": "rm(",
     "library": "var_list.r",
     "varRefreshCmd": "cat(var_dic_list()) "
    }
   },
   "types_to_exclude": [
    "module",
    "function",
    "builtin_function_or_method",
    "instance",
    "_Feature"
   ],
   "window_display": false
  },
  "widgets": {
   "state": {
    "0828c0c1ea5443d8a445877b502e0447": {
     "views": [
      {
       "cell_index": 8
      }
     ]
    },
    "19df42d0158a4bc49cf8cc75ed1369a8": {
     "views": [
      {
       "cell_index": 11
      }
     ]
    },
    "e5a432a55c0b4d9c87126a5eac885320": {
     "views": [
      {
       "cell_index": 9
      }
     ]
    }
   },
   "version": "1.2.0"
  }
 },
 "nbformat": 4,
 "nbformat_minor": 1
}
