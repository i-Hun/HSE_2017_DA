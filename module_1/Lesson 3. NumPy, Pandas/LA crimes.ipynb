{
 "cells": [
  {
   "cell_type": "markdown",
   "metadata": {},
   "source": [
    "Вам предлагается поработать с набором данных о преступности на улицах LA: https://data.lacity.org/A-Safe-City/Crime-Data-from-2010-to-Present/y8tr-7khq"
   ]
  },
  {
   "cell_type": "code",
   "execution_count": 2,
   "metadata": {
    "ExecuteTime": {
     "end_time": "2017-09-22T17:43:20.792711Z",
     "start_time": "2017-09-22T17:43:19.998471Z"
    },
    "collapsed": true
   },
   "outputs": [],
   "source": [
    "import pandas as pd\n",
    "import matplotlib.pyplot as plt\n",
    "import numpy as np\n",
    "#import seaborn as sns\n",
    "#sns.set_style(\"ticks\")\n",
    "#from pylab import rcParams\n",
    "#import geopandas as gpd\n",
    "\n",
    "%matplotlib inline"
   ]
  },
  {
   "cell_type": "markdown",
   "metadata": {
    "ExecuteTime": {
     "end_time": "2017-09-20T08:30:42.995378Z",
     "start_time": "2017-09-20T08:30:42.538694Z"
    },
    "collapsed": true
   },
   "source": [
    "Загрузите случайную выборку из этого набора данных:"
   ]
  },
  {
   "cell_type": "code",
   "execution_count": 3,
   "metadata": {
    "ExecuteTime": {
     "end_time": "2017-09-22T17:44:08.450646Z",
     "start_time": "2017-09-22T17:43:20.982548Z"
    }
   },
   "outputs": [],
   "source": [
    "df = pd.read_csv(\"crime-in-los-angeles/Crime_Data_2010_2017_sample.csv\", parse_dates=[\"Date Reported\", \"Date Occurred\"])"
   ]
  },
  {
   "cell_type": "code",
   "execution_count": 6,
   "metadata": {
    "ExecuteTime": {
     "end_time": "2017-09-22T17:44:31.154318Z",
     "start_time": "2017-09-22T17:44:29.611617Z"
    }
   },
   "outputs": [],
   "source": [
    "df.sample(frac=0.3).to_csv(\"crime-in-los-angeles/Crime_Data_2010_2017_small_sample.csv\", index=False)"
   ]
  },
  {
   "cell_type": "markdown",
   "metadata": {},
   "source": [
    "Ознакомьтесь с данными:\n",
    "\n",
    "* Сколько строк и столбцов в таблице?\n",
    "* Каковы называния столбцов?\n",
    "* Какие типы данных у различных столбцов?\n",
    "* Сколько в каждом из них униальных значений?\n",
    "* Сколько пропущенных?\n",
    "* Взгляните на распределения числовых переменных."
   ]
  },
  {
   "cell_type": "markdown",
   "metadata": {},
   "source": [
    "# Жертвы"
   ]
  },
  {
   "cell_type": "markdown",
   "metadata": {},
   "source": [
    "Начнём анализ жертв. В наборе данных имеется информация о Возрасте, Поле, и Происхождении каждоый жертвы. Есть ли связь между этими признаками?\n",
    "\n",
    "* Является ли возраст значимым фактором?\n",
    "* Люди какого происхождения чаще всего являются жертвами преступлений?\n",
    "* Верно ли, что женщины чаще оказываются жертвами по сравнению с мужчинами?"
   ]
  },
  {
   "cell_type": "code",
   "execution_count": 7,
   "metadata": {
    "ExecuteTime": {
     "end_time": "2017-09-22T09:29:55.217324Z",
     "start_time": "2017-09-22T09:29:55.201481Z"
    },
    "collapsed": true
   },
   "outputs": [],
   "source": [
    "victim = df[['Victim Age', 'Victim Sex', 'Victim Descent']]"
   ]
  },
  {
   "cell_type": "code",
   "execution_count": 8,
   "metadata": {
    "ExecuteTime": {
     "end_time": "2017-09-22T09:29:56.311512Z",
     "start_time": "2017-09-22T09:29:56.281237Z"
    }
   },
   "outputs": [
    {
     "data": {
      "text/plain": [
       "Victim Age        True\n",
       "Victim Sex        True\n",
       "Victim Descent    True\n",
       "dtype: bool"
      ]
     },
     "execution_count": 8,
     "metadata": {},
     "output_type": "execute_result"
    }
   ],
   "source": [
    "# Checking whether we have NULL Values.\n",
    "victim.isnull().any()"
   ]
  },
  {
   "cell_type": "markdown",
   "metadata": {},
   "source": [
    "All 3 Columns have NULL Values, we need to deal with them while performing analysis"
   ]
  },
  {
   "cell_type": "markdown",
   "metadata": {},
   "source": [
    "## Возраст"
   ]
  },
  {
   "cell_type": "markdown",
   "metadata": {},
   "source": [
    "Изучите распределение количества преступлений по возрасту. Какова тенденция? Люди какого возраста чаще всего подвергаются преступлениям Есть ли локальные минимумы? Используйте типы графиков hist и density."
   ]
  },
  {
   "cell_type": "code",
   "execution_count": null,
   "metadata": {
    "collapsed": true
   },
   "outputs": [],
   "source": []
  },
  {
   "cell_type": "code",
   "execution_count": null,
   "metadata": {
    "collapsed": true
   },
   "outputs": [],
   "source": []
  },
  {
   "cell_type": "markdown",
   "metadata": {},
   "source": [
    "## Пол\n",
    "Верно ли, что женщины чаще оказываются жертвами по сравнению с мужчинами? Постройте визуализацию.\n",
    "\n",
    "Во сколько раз женщины реже\\чаще оказываются жертвами?\n",
    "\n",
    "NB: учитывайте только Мужчин, Женчин и людей с неизвестным полом."
   ]
  },
  {
   "cell_type": "code",
   "execution_count": null,
   "metadata": {
    "collapsed": true
   },
   "outputs": [],
   "source": []
  },
  {
   "cell_type": "markdown",
   "metadata": {},
   "source": [
    "Как различается вероятность женщин и мужчин стать жертвой в зависимости от возраста? Постройте визуализацию.\n",
    "\n",
    "В каком возрастном промежутке мужчины чаще становятся жетрвами преступлений?"
   ]
  },
  {
   "cell_type": "code",
   "execution_count": null,
   "metadata": {
    "collapsed": true
   },
   "outputs": [],
   "source": []
  },
  {
   "cell_type": "code",
   "execution_count": null,
   "metadata": {
    "collapsed": true
   },
   "outputs": [],
   "source": []
  },
  {
   "cell_type": "code",
   "execution_count": null,
   "metadata": {
    "collapsed": true
   },
   "outputs": [],
   "source": []
  },
  {
   "cell_type": "markdown",
   "metadata": {},
   "source": [
    "## Происхождение"
   ]
  },
  {
   "cell_type": "markdown",
   "metadata": {},
   "source": [
    "Descent Code: \n",
    "\n",
    "* A - Other Asian\n",
    "* B - Black\n",
    "* C - Chinese \n",
    "* D - Cambodian \n",
    "* F - Filipino \n",
    "* G - Guamanian \n",
    "* H - Hispanic/Latin/Mexican \n",
    "* I - American Indian/Alaskan Native \n",
    "* J - Japanese \n",
    "* K - Korean \n",
    "* L - Laotian \n",
    "* O - Other \n",
    "* P - Pacific Islander \n",
    "* S - Samoan \n",
    "* U - Hawaiian \n",
    "* V - Vietnamese \n",
    "* W - White \n",
    "* X - Unknown \n",
    "*Z - Asian Indian"
   ]
  },
  {
   "cell_type": "markdown",
   "metadata": {},
   "source": [
    "Люди какого происхождения чаще всего подвергаются преступлениям?"
   ]
  },
  {
   "cell_type": "code",
   "execution_count": null,
   "metadata": {
    "collapsed": true
   },
   "outputs": [],
   "source": []
  },
  {
   "cell_type": "markdown",
   "metadata": {},
   "source": [
    "Есть ли разница по полу? (В каких этнических группах чаще от преступлений чаще страдают женщины, а в каких — мужчины?)"
   ]
  },
  {
   "cell_type": "code",
   "execution_count": null,
   "metadata": {
    "collapsed": true
   },
   "outputs": [],
   "source": []
  },
  {
   "cell_type": "markdown",
   "metadata": {},
   "source": [
    "## Место проишествия"
   ]
  },
  {
   "cell_type": "markdown",
   "metadata": {
    "ExecuteTime": {
     "end_time": "2017-09-20T09:50:47.785942Z",
     "start_time": "2017-09-20T09:50:47.204478Z"
    }
   },
   "source": [
    "Отсортируйте районы, по количество преступлений. Постройте график, показывающий самые безопасные и опасный районы."
   ]
  },
  {
   "cell_type": "code",
   "execution_count": null,
   "metadata": {
    "collapsed": true
   },
   "outputs": [],
   "source": []
  },
  {
   "cell_type": "markdown",
   "metadata": {},
   "source": [
    "Люди какого происхождения чаще всего страдают от преступлений в каждом из районов? Не забудьте нормировать на общее количество жертв."
   ]
  },
  {
   "cell_type": "code",
   "execution_count": null,
   "metadata": {
    "collapsed": true
   },
   "outputs": [],
   "source": []
  },
  {
   "cell_type": "markdown",
   "metadata": {},
   "source": [
    "## Преступление и наказание"
   ]
  },
  {
   "cell_type": "markdown",
   "metadata": {
    "ExecuteTime": {
     "end_time": "2017-09-20T09:47:12.275045Z",
     "start_time": "2017-09-20T09:47:12.269204Z"
    },
    "collapsed": true
   },
   "source": [
    "Определите 10 самых распространённых преступлений в LA. Постройте график."
   ]
  },
  {
   "cell_type": "code",
   "execution_count": null,
   "metadata": {
    "collapsed": true
   },
   "outputs": [],
   "source": []
  },
  {
   "cell_type": "markdown",
   "metadata": {},
   "source": [
    "## Кто, где, кого?"
   ]
  },
  {
   "cell_type": "markdown",
   "metadata": {},
   "source": [
    "![Карта LA](https://www.partneresi.com/sites/default/files/methane-zone-map-los-angeles.jpg)"
   ]
  },
  {
   "cell_type": "markdown",
   "metadata": {},
   "source": [
    "Разбейте колонку с координатам преступлений на две, которые бы содержали соотвественно широту и долготу координат преступления в формате числа с плавающей точнок."
   ]
  },
  {
   "cell_type": "code",
   "execution_count": null,
   "metadata": {
    "collapsed": true
   },
   "outputs": [],
   "source": []
  },
  {
   "cell_type": "markdown",
   "metadata": {},
   "source": [
    "Подключите библиотеку geopandas и визуализируйте карту LA"
   ]
  },
  {
   "cell_type": "code",
   "execution_count": null,
   "metadata": {
    "collapsed": true
   },
   "outputs": [],
   "source": []
  },
  {
   "cell_type": "markdown",
   "metadata": {},
   "source": [
    "Наложите на эту карту координаты преступлений."
   ]
  },
  {
   "cell_type": "code",
   "execution_count": null,
   "metadata": {
    "collapsed": true
   },
   "outputs": [],
   "source": []
  }
 ],
 "metadata": {
  "kernelspec": {
   "display_name": "Python 3",
   "language": "python",
   "name": "python3"
  },
  "language_info": {
   "codemirror_mode": {
    "name": "ipython",
    "version": 3
   },
   "file_extension": ".py",
   "mimetype": "text/x-python",
   "name": "python",
   "nbconvert_exporter": "python",
   "pygments_lexer": "ipython3",
   "version": "3.6.5"
  },
  "toc": {
   "nav_menu": {},
   "number_sections": true,
   "sideBar": true,
   "skip_h1_title": false,
   "toc_cell": false,
   "toc_position": {},
   "toc_section_display": "block",
   "toc_window_display": false
  },
  "varInspector": {
   "cols": {
    "lenName": 16,
    "lenType": 16,
    "lenVar": 40
   },
   "kernels_config": {
    "python": {
     "delete_cmd_postfix": "",
     "delete_cmd_prefix": "del ",
     "library": "var_list.py",
     "varRefreshCmd": "print(var_dic_list())"
    },
    "r": {
     "delete_cmd_postfix": ") ",
     "delete_cmd_prefix": "rm(",
     "library": "var_list.r",
     "varRefreshCmd": "cat(var_dic_list()) "
    }
   },
   "types_to_exclude": [
    "module",
    "function",
    "builtin_function_or_method",
    "instance",
    "_Feature"
   ],
   "window_display": false
  }
 },
 "nbformat": 4,
 "nbformat_minor": 2
}
