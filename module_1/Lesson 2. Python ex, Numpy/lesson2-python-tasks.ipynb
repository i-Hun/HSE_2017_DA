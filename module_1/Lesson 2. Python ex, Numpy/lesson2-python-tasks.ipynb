{
 "cells": [
  {
   "cell_type": "markdown",
   "metadata": {},
   "source": [
    "Исключения (exceptions) - ещё один тип данных в python. Исключения необходимы для того, чтобы сообщать программисту об ошибках.\n",
    "\n",
    "Для обработки исключений используется конструкция try - except."
   ]
  },
  {
   "cell_type": "code",
   "execution_count": null,
   "metadata": {
    "collapsed": true
   },
   "outputs": [],
   "source": []
  },
  {
   "cell_type": "code",
   "execution_count": null,
   "metadata": {
    "collapsed": true
   },
   "outputs": [],
   "source": []
  },
  {
   "cell_type": "code",
   "execution_count": null,
   "metadata": {
    "collapsed": true
   },
   "outputs": [],
   "source": []
  },
  {
   "cell_type": "code",
   "execution_count": null,
   "metadata": {
    "collapsed": true
   },
   "outputs": [],
   "source": []
  },
  {
   "cell_type": "code",
   "execution_count": null,
   "metadata": {
    "collapsed": true
   },
   "outputs": [],
   "source": []
  },
  {
   "cell_type": "code",
   "execution_count": null,
   "metadata": {
    "collapsed": true
   },
   "outputs": [],
   "source": []
  },
  {
   "cell_type": "code",
   "execution_count": null,
   "metadata": {
    "collapsed": true
   },
   "outputs": [],
   "source": []
  },
  {
   "cell_type": "code",
   "execution_count": null,
   "metadata": {
    "collapsed": true
   },
   "outputs": [],
   "source": []
  },
  {
   "cell_type": "code",
   "execution_count": null,
   "metadata": {
    "collapsed": true
   },
   "outputs": [],
   "source": []
  },
  {
   "cell_type": "code",
   "execution_count": null,
   "metadata": {
    "collapsed": true
   },
   "outputs": [],
   "source": []
  },
  {
   "cell_type": "markdown",
   "metadata": {},
   "source": [
    "## Считывание текстовых файлов"
   ]
  },
  {
   "cell_type": "markdown",
   "metadata": {},
   "source": [
    "Файл — ещё один тип данных, с которым работает Python. \n",
    "\n",
    "Встроенная функция open создает объект файла, который обеспечивает связь с файлом, размещенным в компьютере. После вызова функции open можно выполнять операции чтения и записи во внешний файл, используя методы полученного объекта.\n",
    "\n",
    "Файлы не являются ни числами, ни последовательно- стями или отображениями – для задач работы с файлами они предоставляют одни только методы."
   ]
  },
  {
   "cell_type": "code",
   "execution_count": null,
   "metadata": {
    "collapsed": true
   },
   "outputs": [],
   "source": [
    "some_input = open(\"<файл_с_текстом.txt>\", mode=\"rt\", encoding=\"utf8\", errors=\"strict\", newline=\"\\n\")  "
   ]
  },
  {
   "cell_type": "raw",
   "metadata": {
    "ExecuteTime": {
     "end_time": "2017-09-11T16:44:48.537613Z",
     "start_time": "2017-09-11T16:44:48.525834Z"
    }
   },
   "source": [
    "========= ===============================================================\n",
    "Character Meaning\n",
    "--------- ---------------------------------------------------------------\n",
    "'r'       open for reading (default)\n",
    "'w'       open for writing, truncating the file first\n",
    "'x'       create a new file and open it for writing\n",
    "'a'       open for writing, appending to the end of the file if it exists\n",
    "'b'       binary mode\n",
    "'t'       text mode (default)"
   ]
  },
  {
   "cell_type": "markdown",
   "metadata": {
    "ExecuteTime": {
     "end_time": "2017-09-11T16:52:52.788014Z",
     "start_time": "2017-09-11T16:52:52.785177Z"
    }
   },
   "source": [
    "## Задача 1. Поиск и частотный анализ хэш-тэгов в текстах социальных медиа."
   ]
  },
  {
   "cell_type": "markdown",
   "metadata": {},
   "source": [
    "**Дано**:\n",
    "\n",
    "Файл с текстами. Каждый текст записан в отдельной строке. Кодировка файла utf-8. \n",
    "\n",
    "Тексты могут содержать **#хэштеги** и **@упоминания**.\n",
    "\n",
    "Пример текста:\n",
    "\n",
    ">RT @maaj19: سَمِعْنَا وَ أطَعْنَا #gd #gd#fdfd @allah\n",
    "\n",
    "**Цель**\n",
    "\n",
    "Извлечь из текстов хэштэги и упоминания и посчитать их распределение. Определить самые популярные хэштэги и упоминания.\n",
    "\n",
    "**Задачи**\n",
    "\n",
    "* Считать файл с текстами. Сохранить тексты в список.\n",
    "* Написать функцию get_entities(), которая принимает два аргумента. Первый аргумент типа str — обязательный. Через него передаётся текст. Второй аргумент — опциональный. От него зависит, будет функция возвращать список хэштэгов или список упоминаний.\n",
    "* Создать структуру, которая будет связывать номер текста с содержащимися в нём сущностями.\n",
    "* Посчитать распределение хэштэгов и упоминани, определить популярные."
   ]
  },
  {
   "cell_type": "code",
   "execution_count": 13,
   "metadata": {
    "ExecuteTime": {
     "end_time": "2017-09-15T12:59:30.952762Z",
     "start_time": "2017-09-15T12:59:30.877506Z"
    }
   },
   "outputs": [
    {
     "ename": "NameError",
     "evalue": "name 'get_entities' is not defined",
     "output_type": "error",
     "traceback": [
      "\u001b[0;31m---------------------------------------------------------------------------\u001b[0m",
      "\u001b[0;31mNameError\u001b[0m                                 Traceback (most recent call last)",
      "\u001b[0;32m<ipython-input-13-ae34f8058ab7>\u001b[0m in \u001b[0;36m<module>\u001b[0;34m()\u001b[0m\n\u001b[1;32m      2\u001b[0m \u001b[0;32mwith\u001b[0m \u001b[0mopen\u001b[0m\u001b[0;34m(\u001b[0m\u001b[0;34m\"tweets_preprocessed.txt\"\u001b[0m\u001b[0;34m,\u001b[0m \u001b[0;34m\"rt\"\u001b[0m\u001b[0;34m)\u001b[0m \u001b[0;32mas\u001b[0m \u001b[0mfile_object\u001b[0m\u001b[0;34m:\u001b[0m\u001b[0;34m\u001b[0m\u001b[0m\n\u001b[1;32m      3\u001b[0m     \u001b[0;32mfor\u001b[0m \u001b[0mnum\u001b[0m\u001b[0;34m,\u001b[0m \u001b[0mline\u001b[0m \u001b[0;32min\u001b[0m \u001b[0menumerate\u001b[0m\u001b[0;34m(\u001b[0m\u001b[0mfile_object\u001b[0m\u001b[0;34m)\u001b[0m\u001b[0;34m:\u001b[0m\u001b[0;34m\u001b[0m\u001b[0m\n\u001b[0;32m----> 4\u001b[0;31m         \u001b[0mresult_hash\u001b[0m\u001b[0;34m.\u001b[0m\u001b[0mappend\u001b[0m\u001b[0;34m(\u001b[0m\u001b[0;34m(\u001b[0m\u001b[0mnum\u001b[0m \u001b[0;34m+\u001b[0m \u001b[0;36m1\u001b[0m\u001b[0;34m,\u001b[0m \u001b[0mget_entities\u001b[0m\u001b[0;34m(\u001b[0m\u001b[0mline\u001b[0m\u001b[0;34m,\u001b[0m \u001b[0;34m\"hashtags\"\u001b[0m\u001b[0;34m)\u001b[0m\u001b[0;34m)\u001b[0m\u001b[0;34m)\u001b[0m\u001b[0;34m\u001b[0m\u001b[0m\n\u001b[0m",
      "\u001b[0;31mNameError\u001b[0m: name 'get_entities' is not defined"
     ]
    }
   ],
   "source": [
    "result_hash = []\n",
    "with open(\"tweets_preprocessed.txt\", \"rt\") as file_object:\n",
    "    for num, line in enumerate(file_object):\n",
    "        result_hash.append((num + 1, get_entities(line, \"hashtags\")))"
   ]
  },
  {
   "cell_type": "code",
   "execution_count": 5,
   "metadata": {
    "ExecuteTime": {
     "end_time": "2017-09-15T12:50:35.818007Z",
     "start_time": "2017-09-15T12:50:35.812984Z"
    },
    "scrolled": false
   },
   "outputs": [
    {
     "data": {
      "text/plain": [
       "0"
      ]
     },
     "execution_count": 5,
     "metadata": {},
     "output_type": "execute_result"
    }
   ],
   "source": [
    "len(result_hash)"
   ]
  },
  {
   "cell_type": "code",
   "execution_count": 10,
   "metadata": {
    "ExecuteTime": {
     "end_time": "2017-09-15T12:57:49.720591Z",
     "start_time": "2017-09-15T12:57:46.906013Z"
    }
   },
   "outputs": [],
   "source": [
    "import pandas as pd\n",
    "df = pd.read_excel(\"/Users/hun/Google Drive/Teaching/Python for Data Scientists/Lesson 2. Практические задания + numpy/how-isis-uses-twitter/tweets.xlsx\")"
   ]
  },
  {
   "cell_type": "code",
   "execution_count": 11,
   "metadata": {
    "ExecuteTime": {
     "end_time": "2017-09-15T12:58:42.682600Z",
     "start_time": "2017-09-15T12:58:42.667894Z"
    }
   },
   "outputs": [],
   "source": [
    "with open(\"tweets_preprocessed.txt\", \"wt\") as file_object:\n",
    "    for i, t in df.sample(1000)[\"tweets\"].iteritems():\n",
    "        file_object.write(t.replace(\"\\n\", \" \").replace(\"\\r\", \" \") + \"\\n\")"
   ]
  },
  {
   "cell_type": "code",
   "execution_count": null,
   "metadata": {
    "collapsed": true
   },
   "outputs": [],
   "source": []
  },
  {
   "cell_type": "code",
   "execution_count": 49,
   "metadata": {
    "ExecuteTime": {
     "end_time": "2017-09-11T21:18:09.097677Z",
     "start_time": "2017-09-11T21:18:09.073299Z"
    },
    "collapsed": true
   },
   "outputs": [],
   "source": [
    "def get_entities(string, mode=\"hashtags\"):\n",
    "    '''\n",
    "    Находит хештэги или упоминания в строках.\n",
    "    \n",
    "    Args:\n",
    "        string: строка с текстом твита\n",
    "        mode: режим поиска хэштеги, в случае или \"hashtags\"\n",
    "            упоминания в случае \"mentions\"\n",
    "    Returns:\n",
    "        Возвращает список с искомыми сущностями\n",
    "        \n",
    "    Raises:\n",
    "        ValueError в случае, если указан неправильный режим поиска.\n",
    "    '''\n",
    "    result = []\n",
    "    if mode == \"hashtags\":\n",
    "        divider = \"#\"\n",
    "    elif mode == \"mentions\":\n",
    "        divider = \"@\"\n",
    "    else:\n",
    "        # ValueError\n",
    "        raise Exception(\n",
    "            \"Недопустимое значение параметра mode. Возможные значения 'hashtags' или 'mentions'\"\n",
    "        )\n",
    "    for token in string.split():\n",
    "        if token.startswith(divider):\n",
    "            if len(token.split(divider)) > 2:\n",
    "                tokens = token.split(divider)\n",
    "                tokens.pop(0)\n",
    "                for sub_token in tokens:\n",
    "                    result.append(divider + sub_token)\n",
    "            else:\n",
    "                result.append(token)\n",
    "    return result"
   ]
  },
  {
   "cell_type": "code",
   "execution_count": 50,
   "metadata": {
    "ExecuteTime": {
     "end_time": "2017-09-11T21:18:12.154373Z",
     "start_time": "2017-09-11T21:18:12.151446Z"
    },
    "collapsed": true
   },
   "outputs": [],
   "source": [
    "sample_str = \"RT @maaj19: سَمِعْنَا وَ أطَعْنَا #gd #gd#fdfd @allah\""
   ]
  },
  {
   "cell_type": "code",
   "execution_count": 51,
   "metadata": {
    "ExecuteTime": {
     "end_time": "2017-09-11T21:18:17.908113Z",
     "start_time": "2017-09-11T21:18:17.903418Z"
    }
   },
   "outputs": [
    {
     "data": {
      "text/plain": [
       "['@maaj19:', '@allah']"
      ]
     },
     "execution_count": 51,
     "metadata": {},
     "output_type": "execute_result"
    }
   ],
   "source": [
    "get_entities(sample_str, mode=\"mentions\")"
   ]
  },
  {
   "cell_type": "code",
   "execution_count": 38,
   "metadata": {
    "ExecuteTime": {
     "end_time": "2017-09-11T17:43:29.338965Z",
     "start_time": "2017-09-11T17:43:29.335076Z"
    }
   },
   "outputs": [
    {
     "name": "stdout",
     "output_type": "stream",
     "text": [
      "\n",
      "    Находит хештэги или упоминания в строках.\n",
      "    \n",
      "    Args:\n",
      "        string: строка с текстом твита\n",
      "        mode: режим поиска хэштеги, в случае или \"hashtags\"\n",
      "            упоминания в случае \"mentions\"\n",
      "    Returns:\n",
      "        Возвращает генератор с искомыми сущностями\n",
      "        \n",
      "    Raises:\n",
      "        ValueError в случае, если указан неправильный режим поиска.\n",
      "    \n"
     ]
    }
   ],
   "source": [
    "print(get_entities.__doc__)"
   ]
  },
  {
   "cell_type": "markdown",
   "metadata": {},
   "source": [
    "Разные стили docstring: https://stackoverflow.com/questions/3898572/what-is-the-standard-python-docstring-format"
   ]
  },
  {
   "cell_type": "code",
   "execution_count": null,
   "metadata": {
    "collapsed": true
   },
   "outputs": [],
   "source": []
  },
  {
   "cell_type": "markdown",
   "metadata": {
    "ExecuteTime": {
     "end_time": "2017-09-13T06:43:01.410748Z",
     "start_time": "2017-09-13T06:43:01.408181Z"
    },
    "collapsed": true
   },
   "source": [
    "# Загрузка данных из csv"
   ]
  },
  {
   "cell_type": "code",
   "execution_count": 127,
   "metadata": {
    "ExecuteTime": {
     "end_time": "2017-09-13T08:34:13.811566Z",
     "start_time": "2017-09-13T08:34:13.808357Z"
    },
    "collapsed": true
   },
   "outputs": [],
   "source": [
    "import csv\n",
    "from urllib.request import urlopen"
   ]
  },
  {
   "cell_type": "markdown",
   "metadata": {},
   "source": [
    "Мы будем работать с классическим набором данных **Boston house pricing**. Они имеет следующие поля:\n",
    "\n",
    "* **crim** - per capita crime rate by town\n",
    "* **zn** - proportion of residential land zoned for lots over 25,000 sq.ft.\n",
    "* **indus** - proportion of non-retail business acres per town.\n",
    "* **chas** - Charles River dummy variable (1 if tract bounds river; 0 otherwise)\n",
    "* **nox** - nitric oxides concentration (parts per 10 million)\n",
    "* **rm** - average number of rooms per dwelling\n",
    "* **age** - proportion of owner-occupied units built prior to 1940\n",
    "* **dis** - weighted distances to five Boston employment centres\n",
    "* **rad** - index of accessibility to radial highways\n",
    "* **tax** - full-value property-tax rate per \\$10,000\n",
    "* **ptratio** - pupil-teacher ratio by town\n",
    "* **black** - $1000(B_{k} - 0.63)^2$ where $B_{k}$ is the proportion of blacks by town\n",
    "* **lstat** - % lower status of the population\n",
    "* **medv** - Median value of owner-occupied homes in $1000's"
   ]
  },
  {
   "cell_type": "code",
   "execution_count": 159,
   "metadata": {
    "ExecuteTime": {
     "end_time": "2017-09-13T08:56:06.134388Z",
     "start_time": "2017-09-13T08:56:06.131621Z"
    },
    "collapsed": true
   },
   "outputs": [],
   "source": [
    "url = \"https://raw.githubusercontent.com/vincentarelbundock/Rdatasets/master/csv/MASS/Boston.csv\""
   ]
  },
  {
   "cell_type": "code",
   "execution_count": 300,
   "metadata": {
    "ExecuteTime": {
     "end_time": "2017-09-13T14:51:05.172203Z",
     "start_time": "2017-09-13T14:51:02.770430Z"
    },
    "collapsed": true
   },
   "outputs": [],
   "source": [
    "res = urlopen(url)\n",
    "data_for_csvreader = res.read().decode('utf-8').splitlines()\n",
    "data_for_csvreader = data_for_csvreader[1:]"
   ]
  },
  {
   "cell_type": "code",
   "execution_count": 301,
   "metadata": {
    "ExecuteTime": {
     "end_time": "2017-09-13T14:51:05.308704Z",
     "start_time": "2017-09-13T14:51:05.301941Z"
    },
    "collapsed": true
   },
   "outputs": [],
   "source": [
    "csv_reader = csv.DictReader(\n",
    "    data_for_csvreader,\n",
    "    delimiter=\",\",\n",
    "    fieldnames=[\n",
    "        '_id', 'crim', 'zn', 'indus', 'chas', 'nox', 'rm', 'age', 'dis', 'rad',\n",
    "        'tax', 'ptratio', 'black', 'lstat', 'medv'\n",
    "    ])"
   ]
  },
  {
   "cell_type": "markdown",
   "metadata": {},
   "source": [
    "Стандартные величины рассчитываются по следующей формуле:\n",
    "\n",
    "$$z = {x- \\mu \\over \\sigma},$$\n",
    "где $\\mu$ — среднее значение случайной величины, а $\\sigma$ — среднее квадратическое отклонение (стандартное отклонение на основании несмещённой оценки дисперсии).\n",
    "\n",
    "Среднее квадратическое отклонение рассчитывается по формуле \n",
    "$$S_0=\\sqrt{\\frac{n}{n-1}S^2},$$\n",
    "где $S^2$ — выборочная дисперсия, равная $$S^2=\\sqrt{\\frac{1}{n}\\sum_{i=1}^n\\left(x_i-\\bar{x}\\right)^2}$$.\n",
    "\n",
    "![График плотности вероятности нормального распределения и процент попадания случайной величины на отрезки, равные среднеквадратическому отклонению](https://upload.wikimedia.org/wikipedia/commons/3/37/Standard_deviation_diagram_%28decimal_comma%29.svg)"
   ]
  },
  {
   "cell_type": "code",
   "execution_count": 306,
   "metadata": {
    "ExecuteTime": {
     "end_time": "2017-09-13T14:51:42.553623Z",
     "start_time": "2017-09-13T14:51:42.534665Z"
    },
    "collapsed": true
   },
   "outputs": [],
   "source": [
    "def get_mean(l: \"Список чисел\"):\n",
    "    return sum(l) / len(l)\n",
    "\n",
    "\n",
    "def get_sample_variance(l: \"Список чисел\"):\n",
    "    x_mean = get_mean(l)\n",
    "    return sum([(x_i - x_mean)**2 for x_i in l]) / len(l)\n",
    "\n",
    "\n",
    "def get_standart_deviation(l: \"Список чисел\"):\n",
    "    s2 = get_sample_variance(l)\n",
    "    return (len(l) / (len(l) - 1) * s2)**0.5\n",
    "\n",
    "\n",
    "def scale(l: \"Список чисел\"):\n",
    "    mean = get_mean(l)\n",
    "    sd = get_standart_deviation(l)\n",
    "    return [((x_i - mean) / sd) for x_i in l]"
   ]
  },
  {
   "cell_type": "code",
   "execution_count": 303,
   "metadata": {
    "ExecuteTime": {
     "end_time": "2017-09-13T14:51:09.505833Z",
     "start_time": "2017-09-13T14:51:09.497421Z"
    },
    "code_folding": [],
    "collapsed": true
   },
   "outputs": [],
   "source": [
    "var = []\n",
    "for row in csv_reader:\n",
    "    var.append(float(row[\"crim\"]))"
   ]
  },
  {
   "cell_type": "code",
   "execution_count": 304,
   "metadata": {
    "ExecuteTime": {
     "end_time": "2017-09-13T14:51:10.388865Z",
     "start_time": "2017-09-13T14:51:10.384532Z"
    }
   },
   "outputs": [
    {
     "data": {
      "text/plain": [
       "0.00632"
      ]
     },
     "execution_count": 304,
     "metadata": {},
     "output_type": "execute_result"
    }
   ],
   "source": [
    "min(var)"
   ]
  },
  {
   "cell_type": "code",
   "execution_count": 307,
   "metadata": {
    "ExecuteTime": {
     "end_time": "2017-09-13T14:51:49.964826Z",
     "start_time": "2017-09-13T14:51:49.956369Z"
    }
   },
   "outputs": [
    {
     "data": {
      "text/plain": [
       "9.92410961023358"
      ]
     },
     "execution_count": 307,
     "metadata": {},
     "output_type": "execute_result"
    }
   ],
   "source": [
    "max(scale(var))"
   ]
  },
  {
   "cell_type": "code",
   "execution_count": 271,
   "metadata": {
    "ExecuteTime": {
     "end_time": "2017-09-13T11:51:38.555881Z",
     "start_time": "2017-09-13T11:51:38.551602Z"
    }
   },
   "outputs": [
    {
     "data": {
      "text/plain": [
       "3.6135235573122535"
      ]
     },
     "execution_count": 271,
     "metadata": {},
     "output_type": "execute_result"
    }
   ],
   "source": [
    "mean(var)"
   ]
  },
  {
   "cell_type": "code",
   "execution_count": 274,
   "metadata": {
    "ExecuteTime": {
     "end_time": "2017-09-13T11:51:45.324324Z",
     "start_time": "2017-09-13T11:51:45.319678Z"
    }
   },
   "outputs": [
    {
     "data": {
      "text/plain": [
       "37363.221990529986"
      ]
     },
     "execution_count": 274,
     "metadata": {},
     "output_type": "execute_result"
    }
   ],
   "source": [
    "get_sample_variance(var)"
   ]
  },
  {
   "cell_type": "code",
   "execution_count": 228,
   "metadata": {
    "ExecuteTime": {
     "end_time": "2017-09-13T09:57:12.766038Z",
     "start_time": "2017-09-13T09:57:12.760083Z"
    }
   },
   "outputs": [
    {
     "data": {
      "text/plain": [
       "193.48697260727673"
      ]
     },
     "execution_count": 228,
     "metadata": {},
     "output_type": "execute_result"
    }
   ],
   "source": [
    "get_standart_deviation(var)"
   ]
  },
  {
   "cell_type": "code",
   "execution_count": 278,
   "metadata": {
    "ExecuteTime": {
     "end_time": "2017-09-13T12:01:47.260047Z",
     "start_time": "2017-09-13T12:01:47.255649Z"
    }
   },
   "outputs": [
    {
     "data": {
      "text/plain": [
       "9.431729650615711"
      ]
     },
     "execution_count": 278,
     "metadata": {},
     "output_type": "execute_result"
    }
   ],
   "source": [
    "max(scale(var))**0.5"
   ]
  },
  {
   "cell_type": "code",
   "execution_count": null,
   "metadata": {
    "collapsed": true
   },
   "outputs": [],
   "source": []
  },
  {
   "cell_type": "markdown",
   "metadata": {},
   "source": [
    "# Numpy"
   ]
  },
  {
   "cell_type": "code",
   "execution_count": 59,
   "metadata": {
    "ExecuteTime": {
     "end_time": "2017-09-12T06:22:42.351089Z",
     "start_time": "2017-09-12T06:22:42.347978Z"
    },
    "collapsed": true
   },
   "outputs": [],
   "source": [
    "import numpy as np"
   ]
  },
  {
   "cell_type": "markdown",
   "metadata": {},
   "source": [
    "## numpy arrays"
   ]
  },
  {
   "cell_type": "markdown",
   "metadata": {},
   "source": [
    "Массивы бывают 1 ли 2-х мерные.\n",
    "\n",
    "Создадим одномерный массив из списка при помощи функции array"
   ]
  },
  {
   "cell_type": "code",
   "execution_count": null,
   "metadata": {
    "collapsed": true
   },
   "outputs": [],
   "source": []
  },
  {
   "cell_type": "markdown",
   "metadata": {},
   "source": [
    "Создадим двумерный массив из списка при помощи функции array. Обратите внимание на скобки."
   ]
  },
  {
   "cell_type": "markdown",
   "metadata": {},
   "source": [
    "Но проще создавать массивы при помощи функции arange."
   ]
  },
  {
   "cell_type": "code",
   "execution_count": null,
   "metadata": {
    "collapsed": true
   },
   "outputs": [],
   "source": []
  },
  {
   "cell_type": "markdown",
   "metadata": {},
   "source": [
    "Для создания специфических массивов надо использовать специальные функции. Нарпимер, zeros создаёт массив нулей."
   ]
  },
  {
   "cell_type": "code",
   "execution_count": null,
   "metadata": {
    "collapsed": true
   },
   "outputs": [],
   "source": []
  },
  {
   "cell_type": "markdown",
   "metadata": {},
   "source": [
    "А функция ones создаёт массив единиц."
   ]
  },
  {
   "cell_type": "code",
   "execution_count": null,
   "metadata": {
    "collapsed": true
   },
   "outputs": [],
   "source": []
  },
  {
   "cell_type": "markdown",
   "metadata": {
    "ExecuteTime": {
     "end_time": "2017-09-12T06:31:42.998958Z",
     "start_time": "2017-09-12T06:31:42.993681Z"
    }
   },
   "source": [
    "Для создания двуменых массивов необходимо передать функции кортеж, первый элемент которого обозначат количество строк, а второй — столбцов."
   ]
  },
  {
   "cell_type": "code",
   "execution_count": null,
   "metadata": {
    "collapsed": true
   },
   "outputs": [],
   "source": []
  },
  {
   "cell_type": "markdown",
   "metadata": {},
   "source": [
    "Для создания массива с необходимым количеством линейнораспределённых элементов из заданного промежутка используется функция linspace"
   ]
  },
  {
   "cell_type": "code",
   "execution_count": null,
   "metadata": {
    "collapsed": true
   },
   "outputs": [],
   "source": []
  },
  {
   "cell_type": "markdown",
   "metadata": {},
   "source": [
    "Для создания единично матрицы используется функция eye. Ей можно задавать смещение."
   ]
  },
  {
   "cell_type": "code",
   "execution_count": null,
   "metadata": {
    "collapsed": true
   },
   "outputs": [],
   "source": []
  },
  {
   "cell_type": "markdown",
   "metadata": {},
   "source": [
    "Также можно создавать массивы со случайными числами при помощи функции rand() модуля random."
   ]
  },
  {
   "cell_type": "code",
   "execution_count": null,
   "metadata": {
    "collapsed": true
   },
   "outputs": [],
   "source": []
  },
  {
   "cell_type": "markdown",
   "metadata": {},
   "source": [
    "Для получения случайных чисел из нормального распределения используем функцию randn() из модуля random. Для создания матрицы случайных чисел надо передать функции два числа, не кортеж."
   ]
  },
  {
   "cell_type": "code",
   "execution_count": null,
   "metadata": {
    "collapsed": true
   },
   "outputs": [],
   "source": []
  },
  {
   "cell_type": "markdown",
   "metadata": {},
   "source": [
    "Получить случайный номер можено при помощи функции randint модуля random."
   ]
  },
  {
   "cell_type": "code",
   "execution_count": null,
   "metadata": {
    "collapsed": true
   },
   "outputs": [],
   "source": []
  },
  {
   "cell_type": "markdown",
   "metadata": {},
   "source": [
    "Попробуем узнавать различную информацию о массивах и производить  манипуляции с ними при помощи свойств и методов массивов. Для тестовых целей создадим два массива."
   ]
  },
  {
   "cell_type": "code",
   "execution_count": 61,
   "metadata": {
    "ExecuteTime": {
     "end_time": "2017-09-12T06:45:02.365730Z",
     "start_time": "2017-09-12T06:45:02.362828Z"
    },
    "collapsed": true
   },
   "outputs": [],
   "source": [
    "arr = np.arange(25)"
   ]
  },
  {
   "cell_type": "code",
   "execution_count": 63,
   "metadata": {
    "ExecuteTime": {
     "end_time": "2017-09-12T06:45:57.957414Z",
     "start_time": "2017-09-12T06:45:57.933718Z"
    },
    "collapsed": true
   },
   "outputs": [],
   "source": [
    "ranarr = np.random.randint(0, 50, 10)"
   ]
  },
  {
   "cell_type": "markdown",
   "metadata": {},
   "source": [
    "Размерность массива можно узнать при помощи функции свойства shape."
   ]
  },
  {
   "cell_type": "code",
   "execution_count": null,
   "metadata": {
    "collapsed": true
   },
   "outputs": [],
   "source": []
  },
  {
   "cell_type": "markdown",
   "metadata": {},
   "source": [
    "Свойство dtype возващяет тип переменной."
   ]
  },
  {
   "cell_type": "code",
   "execution_count": null,
   "metadata": {
    "collapsed": true
   },
   "outputs": [],
   "source": []
  },
  {
   "cell_type": "markdown",
   "metadata": {},
   "source": [
    "Трансформируем одномерный массив arr в двумерный 5×5 при помощи функции reshape"
   ]
  },
  {
   "cell_type": "code",
   "execution_count": null,
   "metadata": {
    "collapsed": true
   },
   "outputs": [],
   "source": []
  },
  {
   "cell_type": "markdown",
   "metadata": {},
   "source": [
    "Также можно находить максимум и минимум при помощи методов max, min, argmax, argmin."
   ]
  },
  {
   "cell_type": "code",
   "execution_count": null,
   "metadata": {
    "collapsed": true
   },
   "outputs": [],
   "source": []
  },
  {
   "cell_type": "markdown",
   "metadata": {},
   "source": [
    "## Индексация массивов\n",
    "[:]"
   ]
  },
  {
   "cell_type": "code",
   "execution_count": null,
   "metadata": {
    "collapsed": true
   },
   "outputs": [],
   "source": []
  },
  {
   "cell_type": "markdown",
   "metadata": {},
   "source": [
    "## Броадкастинг"
   ]
  },
  {
   "cell_type": "code",
   "execution_count": null,
   "metadata": {
    "collapsed": true
   },
   "outputs": [],
   "source": []
  },
  {
   "cell_type": "markdown",
   "metadata": {},
   "source": [
    "## Присваивание по ссылке\n",
    ".copy()"
   ]
  },
  {
   "cell_type": "code",
   "execution_count": null,
   "metadata": {
    "collapsed": true
   },
   "outputs": [],
   "source": []
  },
  {
   "cell_type": "markdown",
   "metadata": {},
   "source": [
    "## Индексирование и выбор двумерных массивов"
   ]
  },
  {
   "cell_type": "code",
   "execution_count": 71,
   "metadata": {
    "ExecuteTime": {
     "end_time": "2017-09-12T14:48:31.970236Z",
     "start_time": "2017-09-12T14:48:31.965027Z"
    }
   },
   "outputs": [
    {
     "data": {
      "text/plain": [
       "array([[  5,  10,  15,  20,  25],\n",
       "       [ 30,  35,  40,  45,  50],\n",
       "       [ 55,  60,  65,  70,  75],\n",
       "       [ 80,  85,  90,  95, 100],\n",
       "       [105, 110, 115, 120, 125]])"
      ]
     },
     "execution_count": 71,
     "metadata": {},
     "output_type": "execute_result"
    }
   ],
   "source": [
    "arr_2d = np.arange(5, 126, 5).reshape(5, 5)\n",
    "arr_2d"
   ]
  },
  {
   "cell_type": "code",
   "execution_count": null,
   "metadata": {
    "collapsed": true
   },
   "outputs": [],
   "source": []
  },
  {
   "cell_type": "markdown",
   "metadata": {},
   "source": [
    "## Выбор по условию"
   ]
  },
  {
   "cell_type": "code",
   "execution_count": null,
   "metadata": {
    "collapsed": true
   },
   "outputs": [],
   "source": []
  },
  {
   "cell_type": "markdown",
   "metadata": {},
   "source": [
    "## Базовые операции в numpy\n",
    "+, -, *, /, **, sqrt, exp, sin, log, max, mix, https://docs.scipy.org/doc/numpy-1.13.0/reference/ufuncs.html\n",
    "\n",
    "Деление на 0. nan, inf"
   ]
  },
  {
   "cell_type": "code",
   "execution_count": null,
   "metadata": {
    "ExecuteTime": {
     "end_time": "2017-09-12T15:25:32.549657Z",
     "start_time": "2017-09-12T15:25:32.543921Z"
    },
    "collapsed": true
   },
   "outputs": [],
   "source": []
  },
  {
   "cell_type": "markdown",
   "metadata": {},
   "source": [
    "## Задание по numpy"
   ]
  },
  {
   "cell_type": "markdown",
   "metadata": {},
   "source": [
    "Create an array of the integers from 10 to 50"
   ]
  },
  {
   "cell_type": "code",
   "execution_count": 92,
   "metadata": {
    "ExecuteTime": {
     "end_time": "2017-09-13T05:58:51.156942Z",
     "start_time": "2017-09-13T05:58:51.152428Z"
    }
   },
   "outputs": [
    {
     "data": {
      "text/plain": [
       "array([10, 11, 12, 13, 14, 15, 16, 17, 18, 19, 20, 21, 22, 23, 24, 25, 26,\n",
       "       27, 28, 29, 30, 31, 32, 33, 34, 35, 36, 37, 38, 39, 40, 41, 42, 43,\n",
       "       44, 45, 46, 47, 48, 49, 50])"
      ]
     },
     "execution_count": 92,
     "metadata": {},
     "output_type": "execute_result"
    }
   ],
   "source": []
  },
  {
   "cell_type": "markdown",
   "metadata": {},
   "source": [
    "#### Create an array of all the even integers from 10 to 50"
   ]
  },
  {
   "cell_type": "code",
   "execution_count": 93,
   "metadata": {
    "ExecuteTime": {
     "end_time": "2017-09-13T05:59:54.561158Z",
     "start_time": "2017-09-13T05:59:54.556389Z"
    }
   },
   "outputs": [
    {
     "data": {
      "text/plain": [
       "array([10, 12, 14, 16, 18, 20, 22, 24, 26, 28, 30, 32, 34, 36, 38, 40, 42,\n",
       "       44, 46, 48, 50])"
      ]
     },
     "execution_count": 93,
     "metadata": {},
     "output_type": "execute_result"
    }
   ],
   "source": []
  },
  {
   "cell_type": "markdown",
   "metadata": {},
   "source": [
    "#### Create a 3x3 matrix with values ranging from 0 to 8"
   ]
  },
  {
   "cell_type": "code",
   "execution_count": 94,
   "metadata": {
    "ExecuteTime": {
     "end_time": "2017-09-13T06:00:28.281525Z",
     "start_time": "2017-09-13T06:00:28.276381Z"
    }
   },
   "outputs": [
    {
     "data": {
      "text/plain": [
       "array([[0, 1, 2],\n",
       "       [3, 4, 5],\n",
       "       [6, 7, 8]])"
      ]
     },
     "execution_count": 94,
     "metadata": {},
     "output_type": "execute_result"
    }
   ],
   "source": []
  },
  {
   "cell_type": "markdown",
   "metadata": {},
   "source": [
    "#### Create a 3x3 identity matrix"
   ]
  },
  {
   "cell_type": "code",
   "execution_count": 95,
   "metadata": {
    "ExecuteTime": {
     "end_time": "2017-09-13T06:01:14.841013Z",
     "start_time": "2017-09-13T06:01:14.835526Z"
    }
   },
   "outputs": [
    {
     "data": {
      "text/plain": [
       "array([[ 1.,  0.,  0.],\n",
       "       [ 0.,  1.,  0.],\n",
       "       [ 0.,  0.,  1.]])"
      ]
     },
     "execution_count": 95,
     "metadata": {},
     "output_type": "execute_result"
    }
   ],
   "source": []
  },
  {
   "cell_type": "markdown",
   "metadata": {},
   "source": [
    "#### Use NumPy to generate a random number between 0 and 1"
   ]
  },
  {
   "cell_type": "code",
   "execution_count": 96,
   "metadata": {
    "ExecuteTime": {
     "end_time": "2017-09-13T06:01:55.741831Z",
     "start_time": "2017-09-13T06:01:55.725368Z"
    }
   },
   "outputs": [
    {
     "data": {
      "text/plain": [
       "array([ 0.50859864])"
      ]
     },
     "execution_count": 96,
     "metadata": {},
     "output_type": "execute_result"
    }
   ],
   "source": []
  },
  {
   "cell_type": "markdown",
   "metadata": {},
   "source": [
    "Use NumPy to generate an array of 25 random numbers sampled from a standard normal distribution"
   ]
  },
  {
   "cell_type": "code",
   "execution_count": 97,
   "metadata": {
    "ExecuteTime": {
     "end_time": "2017-09-13T06:02:39.801205Z",
     "start_time": "2017-09-13T06:02:39.784698Z"
    }
   },
   "outputs": [
    {
     "data": {
      "text/plain": [
       "array([ 0.83544214,  0.82361062,  0.55236229,  0.25372352,  1.31272531,\n",
       "        0.17114215,  1.6015891 ,  0.05378159,  0.84818659,  0.19994513,\n",
       "        0.6527722 , -0.79569314,  0.99138722, -0.42127478,  0.57082049,\n",
       "        1.63465268, -0.58826152, -1.29230805,  0.13886913, -0.53790921,\n",
       "        0.25621214, -0.05533424,  0.80780796,  0.02341042, -0.12596769])"
      ]
     },
     "execution_count": 97,
     "metadata": {},
     "output_type": "execute_result"
    }
   ],
   "source": []
  },
  {
   "cell_type": "code",
   "execution_count": null,
   "metadata": {
    "collapsed": true
   },
   "outputs": [],
   "source": []
  },
  {
   "cell_type": "markdown",
   "metadata": {},
   "source": [
    "#### Create the following matrix:"
   ]
  },
  {
   "cell_type": "code",
   "execution_count": 98,
   "metadata": {
    "ExecuteTime": {
     "end_time": "2017-09-13T06:03:45.528644Z",
     "start_time": "2017-09-13T06:03:45.521271Z"
    }
   },
   "outputs": [
    {
     "data": {
      "text/plain": [
       "array([[ 0.01,  0.02,  0.03,  0.04,  0.05,  0.06,  0.07,  0.08,  0.09,  0.1 ],\n",
       "       [ 0.11,  0.12,  0.13,  0.14,  0.15,  0.16,  0.17,  0.18,  0.19,  0.2 ],\n",
       "       [ 0.21,  0.22,  0.23,  0.24,  0.25,  0.26,  0.27,  0.28,  0.29,  0.3 ],\n",
       "       [ 0.31,  0.32,  0.33,  0.34,  0.35,  0.36,  0.37,  0.38,  0.39,  0.4 ],\n",
       "       [ 0.41,  0.42,  0.43,  0.44,  0.45,  0.46,  0.47,  0.48,  0.49,  0.5 ],\n",
       "       [ 0.51,  0.52,  0.53,  0.54,  0.55,  0.56,  0.57,  0.58,  0.59,  0.6 ],\n",
       "       [ 0.61,  0.62,  0.63,  0.64,  0.65,  0.66,  0.67,  0.68,  0.69,  0.7 ],\n",
       "       [ 0.71,  0.72,  0.73,  0.74,  0.75,  0.76,  0.77,  0.78,  0.79,  0.8 ],\n",
       "       [ 0.81,  0.82,  0.83,  0.84,  0.85,  0.86,  0.87,  0.88,  0.89,  0.9 ],\n",
       "       [ 0.91,  0.92,  0.93,  0.94,  0.95,  0.96,  0.97,  0.98,  0.99,  1.  ]])"
      ]
     },
     "execution_count": 98,
     "metadata": {},
     "output_type": "execute_result"
    }
   ],
   "source": []
  },
  {
   "cell_type": "markdown",
   "metadata": {},
   "source": [
    "Создайте массив класса np.ndarray ширины 4 и высоты 3 с двойками на главной диагонали и единицами на первой диагонали над главной, т.е. воплощение матрицы"
   ]
  },
  {
   "cell_type": "code",
   "execution_count": 86,
   "metadata": {
    "ExecuteTime": {
     "end_time": "2017-09-12T18:34:29.046214Z",
     "start_time": "2017-09-12T18:34:29.039726Z"
    }
   },
   "outputs": [
    {
     "data": {
      "text/plain": [
       "array([[ 2.,  1.,  0.,  0.],\n",
       "       [ 0.,  2.,  1.,  0.],\n",
       "       [ 0.,  0.,  2.,  1.]])"
      ]
     },
     "execution_count": 86,
     "metadata": {},
     "output_type": "execute_result"
    }
   ],
   "source": []
  },
  {
   "cell_type": "markdown",
   "metadata": {},
   "source": [
    "Повторите вывод"
   ]
  },
  {
   "cell_type": "code",
   "execution_count": 87,
   "metadata": {
    "ExecuteTime": {
     "end_time": "2017-09-13T05:39:54.489682Z",
     "start_time": "2017-09-13T05:39:54.475360Z"
    }
   },
   "outputs": [
    {
     "data": {
      "text/plain": [
       "array([[ 1,  2,  3,  4,  5],\n",
       "       [ 6,  7,  8,  9, 10],\n",
       "       [11, 12, 13, 14, 15],\n",
       "       [16, 17, 18, 19, 20],\n",
       "       [21, 22, 23, 24, 25]])"
      ]
     },
     "execution_count": 87,
     "metadata": {},
     "output_type": "execute_result"
    }
   ],
   "source": [
    "mat = np.arange(1, 26).reshape(5, 5)\n",
    "mat"
   ]
  },
  {
   "cell_type": "code",
   "execution_count": 90,
   "metadata": {
    "ExecuteTime": {
     "end_time": "2017-09-13T05:57:21.211903Z",
     "start_time": "2017-09-13T05:57:21.198439Z"
    }
   },
   "outputs": [
    {
     "data": {
      "text/plain": [
       "20"
      ]
     },
     "execution_count": 90,
     "metadata": {},
     "output_type": "execute_result"
    }
   ],
   "source": []
  },
  {
   "cell_type": "code",
   "execution_count": 88,
   "metadata": {
    "ExecuteTime": {
     "end_time": "2017-09-13T05:40:14.004654Z",
     "start_time": "2017-09-13T05:40:13.976525Z"
    }
   },
   "outputs": [
    {
     "data": {
      "text/plain": [
       "array([[12, 13, 14, 15],\n",
       "       [17, 18, 19, 20],\n",
       "       [22, 23, 24, 25]])"
      ]
     },
     "execution_count": 88,
     "metadata": {},
     "output_type": "execute_result"
    }
   ],
   "source": []
  },
  {
   "cell_type": "code",
   "execution_count": 89,
   "metadata": {
    "ExecuteTime": {
     "end_time": "2017-09-13T05:57:04.290032Z",
     "start_time": "2017-09-13T05:57:04.285467Z"
    }
   },
   "outputs": [
    {
     "data": {
      "text/plain": [
       "array([[ 2],\n",
       "       [ 7],\n",
       "       [12]])"
      ]
     },
     "execution_count": 89,
     "metadata": {},
     "output_type": "execute_result"
    }
   ],
   "source": []
  },
  {
   "cell_type": "code",
   "execution_count": 91,
   "metadata": {
    "ExecuteTime": {
     "end_time": "2017-09-13T05:57:32.521984Z",
     "start_time": "2017-09-13T05:57:32.517371Z"
    }
   },
   "outputs": [
    {
     "data": {
      "text/plain": [
       "array([21, 22, 23, 24, 25])"
      ]
     },
     "execution_count": 91,
     "metadata": {},
     "output_type": "execute_result"
    }
   ],
   "source": []
  },
  {
   "cell_type": "markdown",
   "metadata": {},
   "source": [
    "#### Get the sum of all the columns in mat"
   ]
  },
  {
   "cell_type": "code",
   "execution_count": 99,
   "metadata": {
    "ExecuteTime": {
     "end_time": "2017-09-13T06:04:29.119168Z",
     "start_time": "2017-09-13T06:04:29.106393Z"
    }
   },
   "outputs": [
    {
     "data": {
      "text/plain": [
       "array([55, 60, 65, 70, 75])"
      ]
     },
     "execution_count": 99,
     "metadata": {},
     "output_type": "execute_result"
    }
   ],
   "source": []
  },
  {
   "cell_type": "code",
   "execution_count": null,
   "metadata": {
    "collapsed": true
   },
   "outputs": [],
   "source": []
  }
 ],
 "metadata": {
  "kernelspec": {
   "display_name": "Python 3",
   "language": "python",
   "name": "python3"
  },
  "language_info": {
   "codemirror_mode": {
    "name": "ipython",
    "version": 3
   },
   "file_extension": ".py",
   "mimetype": "text/x-python",
   "name": "python",
   "nbconvert_exporter": "python",
   "pygments_lexer": "ipython3",
   "version": "3.6.2"
  },
  "toc": {
   "nav_menu": {},
   "number_sections": true,
   "sideBar": true,
   "skip_h1_title": false,
   "toc_cell": false,
   "toc_position": {},
   "toc_section_display": "block",
   "toc_window_display": false
  },
  "varInspector": {
   "cols": {
    "lenName": 16,
    "lenType": 16,
    "lenVar": 40
   },
   "kernels_config": {
    "python": {
     "delete_cmd_postfix": "",
     "delete_cmd_prefix": "del ",
     "library": "var_list.py",
     "varRefreshCmd": "print(var_dic_list())"
    },
    "r": {
     "delete_cmd_postfix": ") ",
     "delete_cmd_prefix": "rm(",
     "library": "var_list.r",
     "varRefreshCmd": "cat(var_dic_list()) "
    }
   },
   "types_to_exclude": [
    "module",
    "function",
    "builtin_function_or_method",
    "instance",
    "_Feature"
   ],
   "window_display": false
  }
 },
 "nbformat": 4,
 "nbformat_minor": 2
}
