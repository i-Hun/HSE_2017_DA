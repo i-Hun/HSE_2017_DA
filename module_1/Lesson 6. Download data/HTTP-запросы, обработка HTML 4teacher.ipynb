{
 "cells": [
  {
   "cell_type": "code",
   "execution_count": 2,
   "metadata": {
    "ExecuteTime": {
     "end_time": "2018-05-12T02:27:05.214162Z",
     "start_time": "2018-05-12T02:27:05.133956Z"
    }
   },
   "outputs": [],
   "source": [
    "import time\n",
    "import requests\n",
    "from tqdm import tqdm_notebook\n",
    "from bs4 import BeautifulSoup"
   ]
  },
  {
   "cell_type": "markdown",
   "metadata": {},
   "source": [
    "# Как устроен веб?\n",
    "\n",
    "## Клиент-серверная архитектура\n",
    "\n",
    "Компьютеры, подключенные к сети называются клиентами и серверами. Схема обмена информацией выглядит приблизительно так:\n",
    "![image.png](https://mdn.mozillademos.org/files/8973/Client-server.jpg)\n",
    "\n",
    "Клиенты являются обычными пользователями, подключенными к Интернету посредством устройств и программного обеспечения, доступного на этих устройствах (как правило, браузер, например, Firefox или Chrome).\n",
    "\n",
    "Серверы - компьютеры, которые хранят веб-страницы, сайты или приложения. Когда клиентское устройство пытается получить доступ к веб-странице, копия страницы загружается с сервера на клиентский компьютер для отображения в браузере пользователя.\n",
    "\n",
    "## HTTP как основной протокол передачи данных\n",
    "\n",
    "Связь между клиентом и сервером осуществляется по определённому протоколу, обычно это HTTP (HyperText Transfer Protocol). Каждое HTTP-сообщение состоит из трёх частей, которые передаются в указанном порядке:\n",
    "\n",
    "* Стартовая строка (Starting line) — определяет тип сообщения;\n",
    "* Заголовки (Headers) — характеризуют тело сообщения, параметры передачи и прочие сведения;\n",
    "* Тело сообщения (Message Body) — непосредственно данные сообщения. Обязательно должно отделяться от заголовков пустой строкой.\n",
    "\n",
    "Тело сообщения может отсутствовать, но стартовая строка и заголовок являются обязательными элементами.\n",
    "\n",
    "### Стартовая строка\n",
    "\n",
    "Стартовые строки различаются для запроса и ответа. \n",
    "\n",
    "**Строка запроса** выглядит так: **`Метод URI HTTP/Версия`**. \n",
    "\n",
    "Самые часто используемые методы это `GET` и `POST` (ещё существую `DELETE`, `PUT`, `HEAD` и другие).\n",
    "\n",
    "`GET` используется для запроса содержимого указанного ресурса, `POST` применяется для передачи пользовательских данных заданному ресурсу. \n",
    "\n",
    "**Cтрока ответа** сервера имеет следующий формат: **`HTTP/Версия КодСостояния Пояснение`**.\n",
    "\n",
    "Код состояния является частью первой строки ответа сервера. Он представляет собой целое число из трёх цифр. Первая цифра указывает на класс состояния. За кодом ответа обычно следует отделённая пробелом поясняющая фраза на английском языке, которая разъясняет человеку причину именно такого ответа. [Список кодов состояния на wiki](https://ru.wikipedia.org/wiki/%D0%A1%D0%BF%D0%B8%D1%81%D0%BE%D0%BA_%D0%BA%D0%BE%D0%B4%D0%BE%D0%B2_%D1%81%D0%BE%D1%81%D1%82%D0%BE%D1%8F%D0%BD%D0%B8%D1%8F_HTTP)."
   ]
  },
  {
   "cell_type": "markdown",
   "metadata": {},
   "source": [
    "# Модуль Requests\n",
    "\n",
    "Библиотека requests — это обёртка над другой, более низкоуровневой библиотекой urllib3, упрощающая доступ ко многим функциям.\n",
    "\n",
    "В requests имеется:\n",
    "\n",
    "* Множество методов http аутентификации\n",
    "* Сессии с куками\n",
    "* Полноценная поддержка SSL\n",
    "* Различные методы .json(), которые вернут данные в нужном формате\n",
    "* Проксирование\n",
    "* Грамотная и логичная работа с исключениями\n",
    "\n",
    "Вот как выглядит HTTP-запрос методом `GET` с помощью requests:"
   ]
  },
  {
   "cell_type": "code",
   "execution_count": 1,
   "metadata": {
    "ExecuteTime": {
     "end_time": "2017-10-30T13:45:18.622470Z",
     "start_time": "2017-10-30T13:45:18.344072Z"
    }
   },
   "outputs": [
    {
     "name": "stdout",
     "output_type": "stream",
     "text": [
      "Код состояния: 200.\n",
      "Заголовки: text/html; charset=utf-8.\n"
     ]
    }
   ],
   "source": [
    "import requests\n",
    "r = requests.get(\"https://www.hse.ru/\")\n",
    "print(f\"Код состояния: {r.status_code}.\")\n",
    "print(f\"Заголовки: {r.headers['content-type']}.\")"
   ]
  },
  {
   "cell_type": "markdown",
   "metadata": {},
   "source": [
    "Получить HTML можно с помощью свойства `text`:"
   ]
  },
  {
   "cell_type": "code",
   "execution_count": 12,
   "metadata": {
    "ExecuteTime": {
     "end_time": "2017-10-13T10:57:28.307982Z",
     "start_time": "2017-10-13T10:57:28.237951Z"
    }
   },
   "outputs": [
    {
     "data": {
      "text/plain": [
       "'<!DOCTYPE html>\\n<html>\\n\\n\\n\\n\\n\\n\\n\\n\\n\\n\\n<head>\\n\\t<title>Национальный исследовательский университет Высшая школа экономики</title>\\n\\t<meta charset=\"utf-8\" />\\n\\t<meta name=\"viewport\" content=\"width=device-width, initial-scale=1\">\\n\\t<meta http-equiv=\"X-UA-Compatible\" content=\"IE=Edge\" />\\n\\t<meta name=\"yandex-verification\" content=\"25e3420f8bfc397e\" />\\n\\t<meta name=\"theme-color\" content=\"#1658DA\"/>\\n\\t<link rel=\"manifest\" href=\"https://www.hse.ru/f/src/manifest/manifest_ru.json\">\\n\\t<link rel=\"stylesheet\" href=\"/f/src/global/css/main_fonts.css\" />\\n\\t<link rel=\"stylesheet\" href=\"/f/src/global/css/main_icons.css\" />\\n\\t<link rel=\"stylesheet\" href=\"/f/src/global/css/main_forms.css\" />\\n\\t<link rel=\"stylesheet\" href=\"/f/src/global/css/fotorama.css\" />\\n\\t<link rel=\"stylesheet\" href=\"/f/src/global/css/sitemap.css\" />\\n\\t<link rel=\"stylesheet\" href=\"/f/src/global/css/main_hse.css\" />\\n\\t<link rel=\"stylesheet\" href=\"/f/src/home/main_en.css\" />\\n\\t<link rel=\"stylesheet\" href=\"/f/src/home/owl.carousel.css\" />\\n\\t<link rel=\"stylesheet\" href=\"/f/src/global/css/vision.css\" />\\n\\t<!--[if lt IE 10]><script src=\"/f/src/global/bower_components/es5-shim/es5-shim.min.js\"></script><![endif]-->\\n\\t<script type=\"text/javascript\" src=\"/alljs/jquery-1.10.1.min/jquery.cookie/hse.utils/main/ctrlshifte/popup/fotorama/owl.carousel.min/home_en/edu_mobile/modernizr/sitemap.ajax/android/vision/sw-register.js\"></script>\\n\\t<script type=\"text/javascript\" src=\"/f/src/global/bower_components/jquery-ui/ui/effect.js\"></script>\\n\\t<script type=\"text/javascript\" src=\"/f/src/global/bower_components/moment/min/moment-with-locales.min.js\"></script>\\n\\t<script type=\"text/javascript\" src=\"/f/src/global/bower_components/jquery-bigtext/jquery-bigtext.js\"></script>\\n\\t<script type=\"text/javascript\">\\n\\t\\t(function() {\\n\\t\\t\\tvar s = document.createElement(\\'script\\');\\n\\t\\t\\ts.type = \\'text/javascript\\'; s.async = true;\\n\\t\\t\\ts.src = \\'/f/src/_/jquery.orfo.js\\';\\n\\t\\t\\ts.onload = s.onreadystatechange = function() {\\n\\t\\t\\t\\tif ($.fn.hseOrfo) {\\t// old IE...\\n\\t\\t\\t\\t\\t$(document).hseOrfo({\\n\\t\\t\\t\\t\\t\\t\\'lang\\': \\'ru\\'\\n\\t\\t\\t\\t\\t});\\n\\t\\t\\t\\t}\\n\\t\\t\\t};\\n\\t\\t\\tvar t = document.getElementsByTagName(\\'script\\')[0]; t.parentNode.insertBefore(s, t);\\n\\t\\t})();\\n\\t</script>\\n\\t\\n\\t<meta property=\"og:title\" content=\"Национальный исследовательский университет «Высшая школа экономики»\">\\t\\t\\n\\t<meta name=\"mrc__share_title\" content=\"Национальный исследовательский университет «Высшая школа экономики»\">\\n\\t<meta itemprop=\"name\" content=\"Национальный исследовательский университет «Высшая школа экономики»\"><meta property=\"og:description\" content=\"Не для школы, а для жизни мы учимся\">\\n\\t<meta name=\"mrc__share_description\" content=\"Не для школы, а для жизни мы учимся\">\\n\\t<meta itemprop=\"description\" content=\"Не для школы, а для жизни мы учимся\"><meta property=\"og:image\" content=\"https://www.hse.ru/images/fb/hse_ru_thumb.jpg\">\\n\\t<meta itemprop=\"image\" content=\"https://www.hse.ru/images/fb/hse_ru_thumb.jpg\">\\n\\t<link rel=\"image_src\" href=\"https://www.hse.ru/images/fb/hse_ru_thumb.jpg\"><meta property=\"og:url\" content=\"https://www.hse.ru/\">\\n\\t<meta property=\"og:type\" content=\"website\">\\n\\n\\t<style>\\n\\t\\t\\t\\n\\t\\t\\t\\n\\t\\t\\t\\n\\t\\t\\t\\n\\t\\t\\t\\t.twenty5.main_slider__item {background-position: 50% 30%; background: url(\\'/mirror/pubs/share/204318892\\'), url(\\'/pubs/share/direct/204318565\\') no-repeat; background-size: auto, cover; }\\n@media screen and (max-width: 768px) {\\n\\t.twenty5 .twenty5logo {display: none;}\\n}\\n@media screen and (min-width: 769px) {\\n\\t.twenty5 h3 {display: none;}\\n}\\n\\n\\t\\t\\t\\n\\t\\t\\t\\n\\t\\t\\t\\n\\t\\t\\t\\t.main_slider__item.mmo17 {background-position: 50% 70%;}\\n\\t\\t\\t\\n\\t\\t\\t\\n\\t\\t\\t\\n\\t\\t\\t\\n\\t\\t\\t\\n\\t\\t\\t\\n\\t\\t\\t\\n\\t\\t\\t\\n\\t\\t\\t\\n\\t\\t\\t\\n\\t\\t\\t\\n\\t\\t\\t\\n\\t\\t\\t\\n\\t\\t\\t\\n\\t\\t\\t\\n\\t\\t\\t\\n\\t\\t\\t\\n\\t\\t\\t\\n\\t\\t\\t\\n\\t\\t\\t\\n\\t\\t\\t\\n\\t\\t\\t\\n\\t\\t\\t\\n\\t\\t\\t\\n\\t\\t\\t\\n\\t\\t\\t\\n\\t\\t\\t\\n\\t\\t\\t\\n\\t\\t\\t\\n\\t\\t\\t\\n\\t\\t\\t\\n\\t\\t\\t\\n\\t\\t\\t\\n\\t\\t\\t\\n\\t\\t\\t\\n\\t\\t\\t\\n\\t\\t\\t\\n\\t\\t\\t\\n\\t\\t\\t\\n\\t\\t\\t\\n\\t\\t\\t\\n\\t\\t\\t\\n\\t\\t\\t\\n\\t\\t\\t\\n\\t\\t\\t\\n\\t\\t\\t\\n\\t\\t\\t\\n\\t\\t\\t\\n\\t\\t\\t\\n\\t\\t\\t\\n\\t\\t\\t\\n\\t\\t\\t\\n\\t\\t\\t\\n\\t\\t\\t\\n\\t\\t\\t\\n\\t\\t\\t\\n\\t\\t\\t\\n\\t\\t\\t\\n\\t\\t\\t\\n\\t\\t\\t\\n\\t\\t\\t\\n\\t\\t\\t\\n\\t\\t\\t\\n\\t\\t\\t\\n\\t\\t\\t\\n\\t\\t\\t\\n\\t\\t\\t\\n\\t\\t\\t\\n\\t\\t\\t\\n\\t\\t\\t\\n\\t\\t\\t\\n\\t\\t\\t\\n\\t\\t\\t\\n\\t\\t\\t\\n\\t\\t\\t\\n\\t\\t\\t\\n\\t\\t\\t\\n\\t\\t\\t\\n\\t\\t\\t\\n\\t\\t\\t\\n\\t\\t\\t\\n\\t\\t\\t\\n\\t\\t\\t\\n\\t\\t\\t\\n\\t\\t\\t\\n\\t\\t\\t\\n\\t\\t\\t\\n\\t\\t\\t\\n\\t\\t\\t\\n\\t\\t\\t\\n\\t\\t\\t\\n\\t\\t\\t\\n\\t\\t\\t\\n\\t\\t\\t\\n\\t\\t\\t\\n\\t\\t\\t\\n\\t\\t\\t\\n\\t\\t\\t\\n\\t\\t\\t\\n\\t\\t\\t\\n\\t\\t\\t\\n\\t\\t\\t\\n\\t\\t\\t\\n\\t\\t\\t\\n\\t\\t\\t\\n\\t\\t\\t\\n\\t\\t\\t\\n\\t\\t\\t\\n\\t\\t\\t\\n\\t\\t\\t\\n\\t\\t\\t\\n\\t\\t\\t\\n\\t\\t\\t\\n\\t\\t\\t\\n\\t\\t\\t\\n\\t\\t\\t\\n\\t\\t\\t\\n\\t\\t\\t\\n\\t\\t\\t\\n\\t\\t\\t\\n\\t\\t\\t\\n\\t\\t\\t\\n\\t\\t\\t\\n\\t\\t\\t\\n\\t\\t\\t\\n\\t\\t\\t\\n\\t\\t\\t\\n\\t\\t\\t\\n\\t\\t\\t\\n\\t\\t\\t\\n\\t\\t\\t\\n\\t\\t\\t\\n\\t\\t\\t\\n\\t\\t\\t\\n\\t\\t\\t\\n\\t\\t\\t\\n\\t\\t\\t\\n\\t\\t\\t\\n\\t\\t\\t\\n\\t\\t\\t\\n\\t\\t\\t\\n\\t\\t\\t\\n\\t\\t\\t\\n\\t\\t\\t\\n\\t\\t\\t\\n\\t\\t\\t\\n\\t\\t\\t\\n\\t\\t\\t\\n\\t\\t\\t\\n\\t\\t\\t\\n\\t\\t\\t\\n\\t\\t\\t\\n\\t\\t\\t\\n\\t\\t\\t\\n\\t\\t\\t\\n\\t\\t\\t\\n\\t\\t\\t\\n\\t\\t\\t\\n\\t\\t\\t\\n\\t\\t\\t\\n\\t\\t\\t\\n\\t\\t\\t\\n\\t\\t\\t\\n\\t\\t\\t\\n\\t\\t\\t\\n\\t\\t\\t\\n\\t\\t\\t\\n\\t\\t\\t\\n\\t\\t\\t\\n\\t\\t\\t\\n\\t\\t\\t\\n\\t\\t\\t\\n\\t\\t\\t\\n\\t\\t\\t\\n\\t\\t\\t\\n\\t\\t\\t\\n\\t\\t\\t\\n\\t\\t\\t\\n\\t\\t\\t\\n\\t\\t\\t\\n\\t\\t\\t\\n\\t\\t\\t\\n\\t\\t\\t\\n\\t\\t\\t\\n\\t\\t\\t\\n\\t\\t\\t\\n\\t\\t\\t\\n\\t\\t\\t\\n\\t\\t\\t\\n\\t\\t\\t\\n\\t\\t\\t\\n\\t\\t\\t\\n\\t\\t\\t\\n\\t\\t\\t\\n\\t\\t\\t\\n\\t\\t\\t\\n\\t\\t\\t\\n\\t\\t\\t\\n\\t\\t\\t\\n\\t\\t\\t\\n\\t\\t\\t\\n\\t\\t\\t\\n\\t\\t\\t\\n\\t\\t\\t\\n\\t\\t\\t\\n\\t\\t\\t\\n\\t\\t\\t\\n\\t\\t\\t\\n\\t\\t\\t\\n\\t\\t\\t\\n\\t\\t\\t\\n\\t\\t\\t\\n\\t\\t\\t\\n\\t\\t\\t\\n\\t\\t\\t\\n\\t\\t\\t\\n\\t\\t\\t\\n\\t\\t\\t\\n\\t\\t\\t\\n\\t\\t\\t\\n\\t\\t\\t\\n\\t\\t\\t\\n\\t\\t\\t\\n\\t\\t\\t\\n\\t\\t\\t\\n\\t\\t\\t\\t.main_slider__item.internetsch {background-position: 50% 50%;}\\n\\t\\t\\t\\n\\t\\t\\t\\n\\t\\t\\t\\n\\t\\t\\t\\n\\t\\t\\t\\n\\t\\t\\t\\n\\t\\t\\t\\n\\t\\t\\t\\n\\t\\t\\t\\n\\t\\t\\t\\n\\t\\t\\t\\n\\t\\t\\t\\t.main_slider__item.iqdigital {background-position: 50% 50%;}\\n\\t\\t\\t\\n\\t\\t\\t\\n\\t\\t\\t\\n\\t\\t\\t\\t.main_slider__item.projectsc {background-position: 50% 30%;}\\n\\t\\t\\t\\n\\t\\t\\n\\t\\t\\n\\t\\t\\n\\t\\t\\n\\t\\t\\t.section--carouselb .section_title, .section_title--carouselb, .c-carouselb {\\n\\t\\t\\t\\tcolor: #2c8fc0;\\n\\t\\t\\t}\\n\\n\\t\\t\\t.section--carouselb .owl-prev { border-left-color: #2c8fc0; border-bottom-color: #2c8fc0; }\\n\\t\\t\\t.section--carouselb .owl-next { border-right-color: #2c8fc0; border-bottom-color: #2c8fc0;}\\n\\t\\t\\t.section--carouselb .owl-pagination::after {\\n\\t\\t\\t\\tbackground-image: linear-gradient(to right, #2c8fc0, rgba(202,228,146,.2));\\n\\t\\t\\t}\\n\\n\\t\\t\\t.section--carouselb .owl-pagination::before {\\n\\t\\t\\t\\tbackground-image: linear-gradient(to left, #2c8fc0, rgba(202,228,146,.2));\\n\\t\\t\\t}\\n\\n\\t\\t\\t.section--carouselb  .owl-page span {\\n\\t\\t\\t\\tbackground: #2c8fc0;\\n\\t\\t\\t}\\n\\n\\t\\t\\t.section--carouselb  .owl-page.active span {\\n\\t\\t\\t\\tborder-color: #2c8fc0;\\n\\t\\t\\t}\\n\\t\\t\\n\\t</style>\\n\\t\\n\\t\\t<script type=\\'text/javascript\\'><!--\\n(function (d, w, c) {\\n\\t\\t\\t\\t\\t\\t\\t(w[c] = w[c] || []).push(function() {\\n\\t\\t\\t\\t\\t\\t\\t\\t\\t\\t\\ttry {\\n\\t\\t\\t\\t\\t\\t\\t\\t\\t\\t\\t\\t\\t\\t\\tw.yaCounter32635220 = new Ya.Metrika({\\n\\t\\t\\t\\t\\t\\t\\t\\t\\t\\t\\t\\t\\t\\t\\t\\t\\t\\t\\tid:32635220,\\n\\t\\t\\t\\t\\t\\t\\t\\t\\t\\t\\t\\t\\t\\t\\t\\t\\t\\t\\tclickmap:true,\\n\\t\\t\\t\\t\\t\\t\\t\\t\\t\\t\\t\\t\\t\\t\\t\\t\\t\\t\\ttrackLinks:true,\\n\\t\\t\\t\\t\\t\\t\\t\\t\\t\\t\\t\\t\\t\\t\\t\\t\\t\\t\\taccurateTrackBounce:true\\n\\t\\t\\t\\t\\t\\t\\t\\t\\t\\t\\t\\t\\t\\t\\t});\\n\\t\\t\\t\\t\\t\\t\\t\\t\\t\\t\\t} catch(e) { }\\n\\n\\t\\t\\t\\t\\t\\t\\t\\t\\t\\t\\ttry {\\n\\t\\t\\t\\t\\t\\t\\t\\t\\t\\t\\t\\t\\t\\t\\tw.yaCounter36283385 = new Ya.Metrika({\\n\\t\\t\\t\\t\\t\\t\\t\\t\\t\\t\\t\\t\\t\\t\\t\\t\\t\\t\\tid:36283385,\\n\\t\\t\\t\\t\\t\\t\\t\\t\\t\\t\\t\\t\\t\\t\\t\\t\\t\\t\\tclickmap:true,\\n\\t\\t\\t\\t\\t\\t\\t\\t\\t\\t\\t\\t\\t\\t\\t\\t\\t\\t\\ttrackLinks:true,\\n\\t\\t\\t\\t\\t\\t\\t\\t\\t\\t\\t\\t\\t\\t\\t\\t\\t\\t\\taccurateTrackBounce:true,\\n\\t\\t\\t\\t\\t\\t\\t\\t\\t\\t\\t\\t\\t\\t\\t\\t\\t\\t\\ttrackHash:true,\\n\\t\\t\\t\\t\\t\\t\\t\\t\\t\\t\\t\\t\\t\\t\\t\\t\\t\\t\\twebvisor:true\\n\\t\\t\\t\\t\\t\\t\\t\\t\\t\\t\\t\\t\\t\\t\\t});\\n\\t\\t\\t\\t\\t\\t\\t\\t\\t\\t\\t} catch(e) { }\\n\\t\\t\\t\\t\\t\\t\\t});\\n\\n\\t\\t\\t\\t\\t\\t\\tvar n = d.getElementsByTagName(\"script\")[0],\\n\\t\\t\\t\\t\\t\\t\\t\\t\\t\\t\\ts = d.createElement(\"script\"),\\n\\t\\t\\t\\t\\t\\t\\t\\t\\t\\t\\tf = function () { n.parentNode.insertBefore(s, n); };\\n\\t\\t\\t\\t\\t\\t\\ts.type = \"text/javascript\";\\n\\t\\t\\t\\t\\t\\t\\ts.async = true;\\n\\t\\t\\t\\t\\t\\t\\ts.src = \"https://mc.yandex.ru/metrika/watch.js\";\\n\\n\\t\\t\\t\\t\\t\\t\\tif (w.opera == \"[object Opera]\") {\\n\\t\\t\\t\\t\\t\\t\\t\\t\\t\\t\\td.addEventListener(\"DOMContentLoaded\", f, false);\\n\\t\\t\\t\\t\\t\\t\\t} else { f(); }\\n\\t\\t\\t})(document, window, \"yandex_metrika_callbacks\");\\n var _gaq = _gaq || [];\\n(function(w,d,s,l,i){w[l]=w[l]||[];w[l].push({\\'gtm.start\\':\\nnew Date().getTime(),event:\\'gtm.js\\'});var f=d.getElementsByTagName(s)[0],\\nj=d.createElement(s),dl=l!=\\'dataLayer\\'?\\'&l=\\'+l:\\'\\';j.async=true;j.src=\\n\\'//www.googletagmanager.com/gtm.js?id=\\'+i+dl;f.parentNode.insertBefore(j,f);\\n})(window,document,\\'script\\',\\'dataLayer\\',\\'GTM-P6DCQX\\');\\n//-->\\n</script>\\n\\t\\n</head>\\n<body data-lang=\"ru\">\\n<div class=\"page\">\\n\\t\\n\\n\\n\\n\\t\\n\\n\\t\\n\\t<div style=\"display:none;\" class=\"browser_outdate\">\\n\\t\\tВ старых версиях браузеров сайт может отображаться некорректно. Для оптимальной работы с сайтом рекомендуем воспользоваться современным браузером.\\n\\t</div>\\n\\n\\t<div class=\"sv-control\">\\n\\t\\t\\t<div class=\"sv-control__block\">\\n\\t\\t\\t\\t<ul class=\"sv-control__list sv-size\">\\n\\t\\t\\t\\t\\t<li data-type=\"size\" data-value=\"normal\" class=\"sv-control__item sv-control__item--s_normal active\">A</li>\\n\\t\\t\\t\\t\\t<li data-type=\"size\" data-value=\"medium\" class=\"sv-control__item sv-control__item--s_medium\">A</li>\\n\\t\\t\\t\\t\\t<li data-type=\"size\" data-value=\"large\" class=\"sv-control__item sv-control__item--s_large\">A</li>\\n\\t\\t\\t\\t</ul>\\n\\t\\t\\t</div>\\n\\t\\t\\t<div class=\"sv-control__block\">\\n\\t\\t\\t\\t<ul class=\"sv-control__list sv-spacing\">\\n\\t\\t\\t\\t\\t<li data-type=\"spacing\" data-value=\"normal\" class=\"active sv-control__item sv-control__item--ls_normal\">АБB</li>\\n\\t\\t\\t\\t\\t<li data-type=\"spacing\" data-value=\"medium\" class=\"sv-control__item sv-control__item--ls_medium\">АБB</li>\\n\\t\\t\\t\\t\\t<li data-type=\"spacing\" data-value=\"large\" class=\"sv-control__item sv-control__item--ls_large\">АБB</li>\\n\\t\\t\\t\\t</ul>\\n\\t\\t\\t</div>\\n\\t\\t\\t<div class=\"sv-control__block\">\\n\\t\\t\\t\\t<ul class=\"sv-control__list sv-contrast\">\\n\\t\\t\\t\\t\\t<li data-type=\"contrast\" data-value=\"normal\" class=\"sv-control__item sv-control__item---color1 active\">А</li>\\n\\t\\t\\t\\t\\t<li data-type=\"contrast\" data-value=\"invert\" class=\"sv-control__item sv-control__item---color2\">А</li>\\n\\t\\t\\t\\t\\t<li data-type=\"contrast\" data-value=\"blue\" class=\"sv-control__item sv-control__item---color3\">А</li>\\n\\t\\t\\t\\t\\t<li data-type=\"contrast\" data-value=\"beige\" class=\"sv-control__item sv-control__item---color4\">А</li>\\n\\t\\t\\t\\t\\t<li data-type=\"contrast\" data-value=\"brown\" class=\"sv-control__item sv-control__item---color5\">А</li>\\n\\t\\t\\t\\t</ul>\\n\\t\\t\\t</div>\\n\\t\\t\\t<div class=\"sv-control__block\">\\n\\t\\t\\t\\t<ul class=\"sv-control__list sv-image\">\\n\\t\\t\\t\\t\\t<li data-type=\"image\" data-value=\"on\" class=\"sv-control__item sv-control__item--image_on active\"></li>\\n\\t\\t\\t\\t\\t<li data-type=\"image\" data-value=\"off\" class=\"sv-control__item sv-control__item--image_off\"></li>\\n\\t\\t\\t\\t</ul>\\n\\t\\t\\t</div>\\n\\t\\t\\t<div class=\"sv-control__block\">\\n\\t\\t\\t\\t<div class=\"sv-off js-sv-off\">\\n\\t\\t\\t\\t\\tОбычная версия сайта\\n\\t\\t\\t\\t</div>\\n\\t\\t\\t</div>\\n\\t\\t</div>\\n\\t<div class=\"layout\">\\n\\t\\t<div class=\"header-top\">\\n\\t\\t\\t<div class=\"left is-desktop\">\\n\\t\\t\\t\\t<span class=\"control control_sitemap control_hidden\">\\n\\t\\t\\t\\t\\t<span class=\"control_sitemap__line\"></span>\\n\\t\\t\\t\\t</span>\\n\\t\\t\\t</div>\\n\\t\\t\\t<div class=\"right\">\\n\\t\\t\\t\\t<div class=\"header__controls\">\\n\\n\\t\\t\\t\\t\\t<span class=\"control control_wider control_campus is-mobile\">\\n\\t\\t\\t\\t\\t\\t<span class=\"popup_opener campus with-icon with-icon_right with-icon_sortdown\">Кампус:\\n\\t\\t\\t\\t\\t\\t\\t<ins class=\"campus__emblem campus__emblem--msk\"></ins>\\n\\t\\t\\t\\t\\t\\t\\t<span class=\"campus__name\">Москва</span>\\n\\t\\t\\t\\t\\t\\t</span>\\n\\t\\t\\t\\t\\t\\t<div class=\"popup popup_campus-select popup_campus-relative not_display\">\\n\\t\\t\\t\\t\\t\\t\\t<ul class=\"navigation smaller\">\\n\\t\\t\\t\\t\\t\\t\\t\\t\\n\\t\\t\\t\\t\\t\\t\\t\\t\\t\\n\\t\\t\\t\\t\\t\\t\\t\\t\\n\\t\\t\\t\\t\\t\\t\\t\\t\\t\\n\\t\\t\\t\\t\\t\\t\\t\\t\\t\\t<li><a href=\"//spb.hse.ru/\" class=\"link no-visited with-icon with-icon_flag-spb\">Санкт-Петербург</a></li>\\n\\t\\t\\t\\t\\t\\t\\t\\t\\t\\n\\t\\t\\t\\t\\t\\t\\t\\t\\n\\t\\t\\t\\t\\t\\t\\t\\t\\t\\n\\t\\t\\t\\t\\t\\t\\t\\t\\t\\t<li><a href=\"//nnov.hse.ru/\" class=\"link no-visited with-icon with-icon_flag-nn\">Нижний Новгород</a></li>\\n\\t\\t\\t\\t\\t\\t\\t\\t\\t\\n\\t\\t\\t\\t\\t\\t\\t\\t\\n\\t\\t\\t\\t\\t\\t\\t\\t\\t\\n\\t\\t\\t\\t\\t\\t\\t\\t\\t\\t<li><a href=\"https://perm.hse.ru/\" class=\"link no-visited with-icon with-icon_flag-perm\">Пермь</a></li>\\n\\t\\t\\t\\t\\t\\t\\t\\t\\t\\n\\t\\t\\t\\t\\t\\t\\t\\t\\n\\t\\t\\t\\t\\t\\t\\t</ul>\\n\\t\\t\\t\\t\\t\\t</div>\\n\\t\\t\\t\\t\\t</span>\\n\\n\\t\\t\\t\\t\\t<span class=\"campus_list is-desktop\">\\n\\t\\t<span class=\"campus\">Кампус:\\n\\t\\t\\t<ins class=\"campus__emblem campus__emblem--msk\"></ins>\\n\\t\\t\\t<span class=\"campus__name\">Москва</span>\\n\\t\\t</span>\\n\\t\\t\\n\\t\\t\\t\\n\\t\\t\\n\\t\\t\\t\\n\\t\\t\\t\\t<a href=\"//spb.hse.ru/\" class=\"campus_list__item link_no-underline link no-visited\">Санкт-Петербург</a>\\n\\t\\t\\t\\n\\t\\t\\n\\t\\t\\t\\n\\t\\t\\t\\t<a href=\"//nnov.hse.ru/\" class=\"campus_list__item link_no-underline link no-visited\">Нижний Новгород</a>\\n\\t\\t\\t\\n\\t\\t\\n\\t\\t\\t\\n\\t\\t\\t\\t<a href=\"https://perm.hse.ru/\" class=\"campus_list__item link_no-underline link no-visited\">Пермь</a>\\n\\t\\t\\t\\n\\t\\t\\n\\t</span>\\n\\n\\t\\t\\t\\t\\t<span class=\"control control_wider is-desktop\"><a class=\"m-link_white\" href=\"//www.hse.ru/cn\">中文版</a></span>\\n\\t\\t\\t\\t\\t<ul class=\"control_lang2 is-desktop\">\\n\\t\\t\\t\\t\\t\\t<li class=\"control_lang2_item activated first_child\">\\n\\t\\t\\t\\t\\t\\t\\t<a class=\"link link_no-visited link_no-underline\" href=\"//www.hse.ru/\">RU</a>\\n\\t\\t\\t\\t\\t\\t</li><li class=\"control_lang2_item last_child\">\\n\\t\\t\\t\\t\\t\\t\\t<a class=\"link link_no-visited link_no-underline\" href=\"//www.hse.ru/en/\">EN</a>\\n\\t\\t\\t\\t\\t\\t</li>\\n\\t\\t\\t\\t\\t</ul>\\n\\t\\t\\t\\t\\t<span class=\"control control_vision is-desktop\" title=\"Версия для слабовидящих\">\\n\\t\\t\\t\\t\\t\\t<svg width=\"21\" height=\"12\" viewBox=\"0 0 21 12\" xmlns=\"http://www.w3.org/2000/svg\"><title>vision</title><path d=\"M10.5 0c3.438 0 6.937 2.016 10.5 6.047-.844.844-1.383 1.375-1.617 1.594-.234.219-.805.703-1.711 1.453-.906.75-1.641 1.266-2.203 1.547-.563.281-1.305.578-2.227.891-.922.313-1.836.469-2.742.469-1.125 0-2.156-.141-3.094-.422-.938-.281-1.875-.766-2.813-1.453-.938-.688-1.672-1.273-2.203-1.758-.531-.484-1.328-1.273-2.391-2.367 2.031-2.031 3.836-3.539 5.414-4.523 1.578-.984 3.273-1.477 5.086-1.477zm0 10.266c1.156 0 2.148-.422 2.977-1.266.828-.844 1.242-1.844 1.242-3s-.414-2.156-1.242-3c-.828-.844-1.82-1.266-2.977-1.266-1.156 0-2.148.422-2.977 1.266-.828.844-1.242 1.844-1.242 3s.414 2.156 1.242 3c.828.844 1.82 1.266 2.977 1.266zm0-5.766c0 .438.141.797.422 1.078s.641.422 1.078.422c.313 0 .625-.109.938-.328v.328c0 .688-.234 1.273-.703 1.758-.469.484-1.047.727-1.734.727-.688 0-1.266-.242-1.734-.727-.469-.484-.703-1.07-.703-1.758s.234-1.273.703-1.758c.469-.484 1.047-.727 1.734-.727h.375c-.25.313-.375.641-.375.984z\" fill=\"#1658DA\"/></svg>\\n\\t\\t\\t\\t\\t</span>\\n\\t\\t\\t\\t\\t<a href=\"https://www.hse.ru/user/\" class=\"control control_user is-desktop\" title=\"Личный кабинет сотрудника ВШЭ\"><ins><svg class=\"control_svg\" width=\"17\" height=\"18\" viewBox=\"0 0 17 18\" xmlns=\"http://www.w3.org/2000/svg\"><title>user</title><path d=\"M13.702 13.175c.827.315 1.486.817 1.978 1.506.492.689.738 1.467.738 2.333h-16.419c0-1.417.532-2.5 1.595-3.248.394-.276 1.358-.591 2.894-.945.945-.118 1.457-.374 1.536-.768.039-.157.059-.61.059-1.358 0-.118-.039-.217-.118-.295-.157-.157-.315-.433-.472-.827-.079-.315-.157-.787-.236-1.417-.157.039-.285-.02-.384-.177-.098-.157-.177-.364-.236-.62l-.089-.443c-.157-.866-.098-1.28.177-1.24-.118-.157-.217-.532-.295-1.122-.118-.866-.059-1.634.177-2.303.276-.748.768-1.319 1.476-1.713.709-.394 1.476-.571 2.303-.532.787.039 1.506.276 2.156.709.65.433 1.093 1.024 1.329 1.772.197.551.217 1.319.059 2.303-.079.472-.157.768-.236.886.118-.039.207 0 .266.118.059.118.079.266.059.443l-.059.472c-.02.138-.049.246-.089.325l-.118.413c-.039.276-.108.472-.207.591-.098.118-.226.157-.384.118-.079.866-.217 1.476-.413 1.831 0 .039-.069.138-.207.295-.138.157-.207.256-.207.295v.65c0 .394.039.689.118.886.079.197.354.354.827.472.276.118.679.217 1.211.295.532.079.935.177 1.211.295z\" fill=\"#1658DA\"/></svg></ins></a>\\n\\t\\t\\t\\t\\t<span class=\"control control_search is-desktop\" title=\"Поиск\">\\n\\t\\t\\t\\t\\t\\t<ins class=\"popup_opener\"><svg class=\"control_svg\" width=\"19\" height=\"19\" viewBox=\"0 0 19 19\" xmlns=\"http://www.w3.org/2000/svg\"><title>search</title><path d=\"M12.927 7.9c0-1.384-.492-2.568-1.476-3.552s-2.168-1.476-3.552-1.476-2.568.492-3.552 1.476-1.476 2.168-1.476 3.552.492 2.568 1.476 3.552 2.168 1.476 3.552 1.476 2.568-.492 3.552-1.476 1.476-2.168 1.476-3.552zm4.053 11.1l-4.603-4.592c-1.339.928-2.832 1.391-4.477 1.391-1.07 0-2.093-.208-3.069-.623-.976-.415-1.818-.976-2.525-1.683-.707-.707-1.268-1.549-1.683-2.525-.415-.976-.623-1.999-.623-3.069 0-1.07.208-2.093.623-3.069.415-.976.976-1.818 1.683-2.525.707-.707 1.549-1.268 2.525-1.683.976-.415 1.999-.623 3.069-.623 1.07 0 2.093.208 3.069.623.976.415 1.818.976 2.525 1.683.707.707 1.268 1.549 1.683 2.525.415.976.623 1.999.623 3.069 0 1.646-.464 3.138-1.391 4.477l4.603 4.603-2.031 2.02z\" fill=\"#1658DA\"/></svg></ins>\\n\\t\\t\\t\\t\\t\\t<div class=\"popup popup_search popup_campus-relative not_display\">\\n\\t\\t\\t\\t\\t\\t\\t<div class=\"popup__inner\">\\n\\t\\t\\t\\t\\t\\t\\t\\t<div class=\"search-form\">\\n\\t\\t\\t\\t\\t\\t\\t\\t\\t<form action=\"https://www.hse.ru/search/index.html\">\\n\\t\\t\\t\\t\\t\\t\\t\\t\\t\\t<div class=\"search-form__button\">\\n\\t\\t\\t\\t\\t\\t\\t\\t\\t\\t\\t<button class=\"button button_grey\">Поиск</button>\\n\\t\\t\\t\\t\\t\\t\\t\\t\\t\\t</div>\\n\\t\\t\\t\\t\\t\\t\\t\\t\\t\\t<div class=\"search-form__input\">\\n\\t\\t\\t\\t\\t\\t\\t\\t\\t\\t\\t<input class=\"input input100 input_mr\" name=\"text\" placeholder=\"Поиск по сайту\" type=\"text\">\\n\\t\\t\\t\\t\\t\\t\\t\\t\\t\\t\\t<input name=\"simple\" type=\"hidden\" value=\"1\">\\n\\t\\t\\t\\t\\t\\t\\t\\t\\t\\t\\t<input name=\"searchid\" type=\"hidden\" value=\"2284688\">\\n\\t\\t\\t\\t\\t\\t\\t\\t\\t\\t</div>\\n\\t\\t\\t\\t\\t\\t\\t\\t\\t</form>\\n\\t\\t\\t\\t\\t\\t\\t\\t</div>\\n\\t\\t\\t\\t\\t\\t\\t\\t<div class=\"popup_search__text\">\\n\\t\\t\\t\\t\\t\\t\\t\\t\\t<a class=\"link link_dark no-visited\" href=\"https://www.hse.ru/search/search.html?simple=0&searchid=2284688\">\\n\\t\\t\\t\\t\\t\\t\\t\\t\\t\\tРасширенный поиск\\n\\t\\t\\t\\t\\t\\t\\t\\t\\t</a><span class=\"b-adv-search\"></span>\\n\\t\\t\\t\\t\\t\\t\\t\\t</div>\\n\\t\\t\\t\\t\\t\\t\\t</div>\\n\\t\\t\\t\\t\\t\\t</div>\\n\\t\\t\\t\\t\\t</span>\\n\\t\\t\\t\\t\\t<span onclick=\"void(0)\" class=\"control is-mobile control_menu js-control_menu_open\"><ins></ins></span>\\n\\t\\t\\t\\t</div>\\n\\t\\t\\t</div>\\n\\t\\t\\t<div class=\"header__body\">\\n\\t\\t<ul style=\"visibility:hidden;\" class=\"navigation navigation--social\">\\n\\t\\t\\t\\n\\t\\t\\t\\t<li class=\"navigation__item\">\\n\\t\\t\\t\\t\\t<a title=\"Вконтакте\" class=\"external with-icon with-icon_vk-blue link\" href=\"https://vk.com/hse_university\" target=\"_blank\">\\n\\t\\t\\t\\t\\t\\t<span class=\"navigation__title\">Вконтакте </span>\\n\\t\\t\\t\\t\\t</a>\\n\\t\\t\\t\\t</li>\\n\\t\\t\\t\\n\\t\\t\\t\\t<li class=\"navigation__item\">\\n\\t\\t\\t\\t\\t<a title=\"Facebook\" class=\"external with-icon with-icon_fb-blue link\" href=\"https://www.facebook.com/hse.ru\" target=\"_blank\">\\n\\t\\t\\t\\t\\t\\t<span class=\"navigation__title\">Facebook </span>\\n\\t\\t\\t\\t\\t</a>\\n\\t\\t\\t\\t</li>\\n\\t\\t\\t\\n\\t\\t\\t\\t<li class=\"navigation__item\">\\n\\t\\t\\t\\t\\t<a title=\"YouTube\" class=\"external with-icon with-icon_yt-blue link\" href=\"http://youtube.com/user/hse\" target=\"_blank\">\\n\\t\\t\\t\\t\\t\\t<span class=\"navigation__title\">YouTube </span>\\n\\t\\t\\t\\t\\t</a>\\n\\t\\t\\t\\t</li>\\n\\t\\t\\t\\n\\t\\t\\t\\t<li class=\"navigation__item\">\\n\\t\\t\\t\\t\\t<a title=\"Твиттер\" class=\"external with-icon with-icon_tw-blue link\" href=\"http://twitter.com/#!/SU_HSE\" target=\"_blank\">\\n\\t\\t\\t\\t\\t\\t<span class=\"navigation__title\">Твиттер </span>\\n\\t\\t\\t\\t\\t</a>\\n\\t\\t\\t\\t</li>\\n\\t\\t\\t\\n\\t\\t\\t\\t<li class=\"navigation__item\">\\n\\t\\t\\t\\t\\t<a title=\"Telegram\" class=\"external with-icon with-icon_tg-blue link\" href=\"https://telegram.me/hse_live\" target=\"_blank\">\\n\\t\\t\\t\\t\\t\\t<span class=\"navigation__title\">Telegram </span>\\n\\t\\t\\t\\t\\t</a>\\n\\t\\t\\t\\t</li>\\n\\t\\t\\t\\n\\t\\t\\t\\t<li class=\"navigation__item\">\\n\\t\\t\\t\\t\\t<a title=\"Инстаграм\" class=\"external with-icon with-icon_inst-blue link\" href=\"http://instagram.com/hse_live#\" target=\"_blank\">\\n\\t\\t\\t\\t\\t\\t<span class=\"navigation__title\">Инстаграм </span>\\n\\t\\t\\t\\t\\t</a>\\n\\t\\t\\t\\t</li>\\n\\t\\t\\t\\n\\t\\t\\t\\t<li class=\"navigation__item\">\\n\\t\\t\\t\\t\\t<a title=\"Flickr\" class=\"external with-icon with-icon_fl-blue link\" href=\"https://www.flickr.com/photos/134269320@N02/albums\" target=\"_blank\" rel=\"nofollow\">\\n\\t\\t\\t\\t\\t\\t<span class=\"navigation__title\">Flickr </span>\\n\\t\\t\\t\\t\\t</a>\\n\\t\\t\\t\\t</li>\\n\\t\\t\\t\\n\\t\\t\\t\\t<li class=\"navigation__item\">\\n\\t\\t\\t\\t\\t<a title=\"Viber\" class=\"external with-icon with-icon_vb-blue link\" href=\"http://chats.viber.com/hseru\" target=\"_blank\">\\n\\t\\t\\t\\t\\t\\t<span class=\"navigation__title\">Viber </span>\\n\\t\\t\\t\\t\\t</a>\\n\\t\\t\\t\\t</li>\\n\\t\\t\\t\\n\\t\\t\\t\\t<li class=\"navigation__item\">\\n\\t\\t\\t\\t\\t<a title=\"RSS\" class=\"external with-icon with-icon_rss-blue link\" href=\"http://www.hse.ru/rss/rss_news.rss\" target=\"_blank\">\\n\\t\\t\\t\\t\\t\\t<span class=\"navigation__title\">RSS </span>\\n\\t\\t\\t\\t\\t</a>\\n\\t\\t\\t\\t</li>\\n\\t\\t\\t\\n\\t\\t\\t<li class=\"navigation__item js-more\">\\n\\t\\t\\t\\t<span class=\"with-icon with-icon_dots-blue js-social_popup_control link\"></span>\\n\\t\\t\\t\\t<ul class=\"navigation popup navigation--social_popup js-social_popup\"><li></li></ul>\\n\\t\\t\\t</li>\\n\\t\\t</ul>\\n\\t</div>\\n\\n\\t\\t</div>\\n\\t\\t<header class=\"header clear\">\\n\\t\\t\\t<ul class=\"navigation navigation--target header__nav\">\\n\\t\\t\\n\\t\\t\\t<li class=\"navigation__item c-navy\"><a href=\"#news\">Новости</a></li>\\n\\t\\t\\n\\t\\t\\n\\t\\t\\n\\t\\t\\t<li style=\"color:#2c8fc0\" class=\"navigation__item c-carouselb\"><a href=\"#carouselb\">Вышка 360°</a></li>\\n\\t\\t\\n\\t\\t\\n\\t\\t\\t<li class=\"navigation__item c-olive_dark\"><a href=\"#events\">Мероприятия</a></li>\\n\\t\\t\\n\\t\\t\\n\\t\\t\\t<li class=\"navigation__item c-orange\"><a href=\"#around_hse\">Вокруг Вышки</a></li>\\n\\t\\t\\n\\t\\t\\n\\t\\t\\t<li class=\"navigation__item c-gray\"><a href=\"#contacts\">Контакты</a></li>\\n\\t\\t\\n\\t\\t<li class=\"navigation__item c-navy\"><a href=\"#sitemap\">Карта сайта</a></li>\\n\\t</ul>\\n\\n\\t\\t\\t<div class=\"logo\">\\n\\t\\t\\n\\t\\n\\t\\t<a class=\"link_no-underline\" href=\"https://spinner.hse.ru\">\\n\\t\\t\\t<img class=\"logo__img\" src=\"/images/main_en/hse_ru_logo.svg\" alt=\"\" />\\n\\t\\t</a>\\n\\t\\n\\t\\n\\t<div class=\"logo__box\">\\n\\t\\t<h1 class=\"logo__title\">Высшая школа экономики</h1>\\n\\t\\t<span class=\"logo__subtitle\">Национальный исследовательский университет</span>\\n\\t</div>\\n\\n\\t</div>\\n\\n\\t\\t\\t<div class=\"header__content is-desktop\">\\n\\t\\t<div class=\"header__link\">\\n\\t\\t\\t<ul class=\"navigation js-mobile_menu_content navigation--tight\">\\n\\t\\t\\t\\t\\n\\t\\t\\t\\t\\t\\n\\t\\t\\t\\t\\t\\t<li class=\"navigation__item\"><a href=\"https://strategy.hse.ru/\">Программа развития</a></li>\\n\\t\\t\\t\\t\\t\\n\\t\\t\\t\\t\\n\\t\\t\\t\\t\\t\\n\\t\\t\\t\\t\\t\\t<li class=\"navigation__item\"><a href=\"https://www.hse.ru/education/faculty/\">Факультеты и институты</a></li>\\n\\t\\t\\t\\t\\t\\n\\t\\t\\t\\t\\n\\t\\t\\t\\t\\t\\n\\t\\t\\t\\t\\t\\t<li class=\"navigation__item\"><a href=\"https://www.hse.ru/org/persons/\">Преподаватели и сотрудники</a></li>\\n\\t\\t\\t\\t\\t\\n\\t\\t\\t\\t\\n\\t\\t\\t\\t\\t\\n\\t\\t\\t\\t\\t\\t<li class=\"navigation__item\"><a href=\"https://alumni.hse.ru/\">Выпускники</a></li>\\n\\t\\t\\t\\t\\t\\n\\t\\t\\t\\t\\n\\t\\t\\t\\t\\t\\n\\t\\t\\t\\t\\t\\t<li class=\"navigation__item\"><a href=\"https://spasibo.hse.ru/\">Спасибо, Вышка</a></li>\\n\\t\\t\\t\\t\\t\\n\\t\\t\\t\\t\\n\\t\\t\\t</ul>\\n\\t\\t</div>\\n\\t\\t<div class=\"header__important\">\\n\\t\\t\\t<a href=\"https://www.hse.ru/our/\" class=\"header__important_in js-mobile_menu_content link_no-underline\">\\n\\t\\t\\t\\t<span class=\"important\">Студентам и сотрудникам</span>\\n\\t\\t\\t\\t<p class=\"c-gray\">Вышка для своих</p>\\n\\t\\t\\t</a>\\n\\t\\t</div>\\n\\t</div>\\n\\n\\t\\t</header>\\n\\n\\n<div class=\"js-mobile_popup fa-sidebar\">\\n<div class=\"header-board__top fa-sidebar__top--secondary js-mobile_popup__top is-fixed is-mobile\">\\n\\t<div class=\"header-top fa-sidebar__top--secondary\">\\n\\t\\t<div class=\"left\">\\n\\t\\t\\t<span class=\"control control_wider\"><a href=\"//www.hse.ru/cn\">中文版</a></span>\\n\\t\\t\\t<ul class=\"control_lang2\">\\n\\t\\t\\t\\t<li class=\"control_lang2_item activated first_child\">\\n\\t\\t\\t\\t\\t<a class=\"link link_no-visited link_no-underline\" href=\"//www.hse.ru/\">RU</a>\\n\\t\\t\\t\\t</li><li class=\"control_lang2_item last_child\">\\n\\t\\t\\t\\t\\t<a class=\"link link_no-visited link_no-underline\" href=\"//www.hse.ru/en/\">EN</a>\\n\\t\\t\\t\\t</li>\\n\\t\\t\\t</ul>\\n\\t\\t\\t<a href=\"https://www.hse.ru/user/\" class=\"control control_user control_white\" title=\"Личный кабинет сотрудника ВШЭ\"><ins><svg class=\"control_svg\" width=\"17\" height=\"18\" viewBox=\"0 0 17 18\" xmlns=\"http://www.w3.org/2000/svg\"><title>user</title><path d=\"M13.702 13.175c.827.315 1.486.817 1.978 1.506.492.689.738 1.467.738 2.333h-16.419c0-1.417.532-2.5 1.595-3.248.394-.276 1.358-.591 2.894-.945.945-.118 1.457-.374 1.536-.768.039-.157.059-.61.059-1.358 0-.118-.039-.217-.118-.295-.157-.157-.315-.433-.472-.827-.079-.315-.157-.787-.236-1.417-.157.039-.285-.02-.384-.177-.098-.157-.177-.364-.236-.62l-.089-.443c-.157-.866-.098-1.28.177-1.24-.118-.157-.217-.532-.295-1.122-.118-.866-.059-1.634.177-2.303.276-.748.768-1.319 1.476-1.713.709-.394 1.476-.571 2.303-.532.787.039 1.506.276 2.156.709.65.433 1.093 1.024 1.329 1.772.197.551.217 1.319.059 2.303-.079.472-.157.768-.236.886.118-.039.207 0 .266.118.059.118.079.266.059.443l-.059.472c-.02.138-.049.246-.089.325l-.118.413c-.039.276-.108.472-.207.591-.098.118-.226.157-.384.118-.079.866-.217 1.476-.413 1.831 0 .039-.069.138-.207.295-.138.157-.207.256-.207.295v.65c0 .394.039.689.118.886.079.197.354.354.827.472.276.118.679.217 1.211.295.532.079.935.177 1.211.295z\" fill=\"#1658DA\"/></svg></ins></a>\\n\\t\\t\\t<span class=\"control control_white control_search js-search_mobile_control\" title=\"Поиск\"><ins><svg class=\"control_svg\" width=\"19\" height=\"19\" viewBox=\"0 0 19 19\" xmlns=\"http://www.w3.org/2000/svg\"><title>search</title><path d=\"M12.927 7.9c0-1.384-.492-2.568-1.476-3.552s-2.168-1.476-3.552-1.476-2.568.492-3.552 1.476-1.476 2.168-1.476 3.552.492 2.568 1.476 3.552 2.168 1.476 3.552 1.476 2.568-.492 3.552-1.476 1.476-2.168 1.476-3.552zm4.053 11.1l-4.603-4.592c-1.339.928-2.832 1.391-4.477 1.391-1.07 0-2.093-.208-3.069-.623-.976-.415-1.818-.976-2.525-1.683-.707-.707-1.268-1.549-1.683-2.525-.415-.976-.623-1.999-.623-3.069 0-1.07.208-2.093.623-3.069.415-.976.976-1.818 1.683-2.525.707-.707 1.549-1.268 2.525-1.683.976-.415 1.999-.623 3.069-.623 1.07 0 2.093.208 3.069.623.976.415 1.818.976 2.525 1.683.707.707 1.268 1.549 1.683 2.525.415.976.623 1.999.623 3.069 0 1.646-.464 3.138-1.391 4.477l4.603 4.603-2.031 2.02z\" fill=\"#1658DA\"/></svg></ins></span>\\n\\t\\t</div>\\n\\t\\t<div class=\"right\">\\n\\t\\t\\t<div class=\"header__controls\">\\n\\t\\t\\t\\t<span onclick=\"void(0)\" class=\"control is-mobile control_menu control_menu--close js-control_menu_close\"><ins></ins></span>\\n\\t\\t\\t</div>\\n\\t\\t</div>\\n\\t</div>\\n\\t<div class=\"js-search_mobile_popup not_display is-mobile\">\\n\\t\\t<div class=\"search-form\">\\n\\t\\t\\t<form action=\"https://www.hse.ru/search/index.html\">\\n\\t\\t\\t\\t<div class=\"search-form__button\">\\n\\t\\t\\t\\t\\t<button class=\"button button_grey \">Поиск</button>\\n\\t\\t\\t\\t</div>\\n\\t\\t\\t\\t<div class=\"search-form__input\">\\n\\t\\t\\t\\t\\t<input type=\"text\" name=\"text\" placeholder=\"Поиск по сайту\" class=\"input fa-search_input input100 input_mr\">\\n\\t\\t\\t\\t\\t<input type=\"hidden\" name=\"simple\" value=\"1\">\\n\\t\\t\\t\\t\\t<input name=\"searchid\" type=\"hidden\" value=\"2284688\">\\n\\t\\t\\t\\t</div>\\n\\t\\t\\t</form>\\n\\t\\t</div>\\n\\t\\t<div class=\"popup__block\">\\n\\t\\t\\t<a href=\"https://www.hse.ru/search/search.html?simple=0&searchid=2284688\" class=\"link_white\">Расширенный поиск</a>\\n\\t\\t</div>\\n\\t</div>\\n\\t<div class=\"header-board__title\">\\n\\t\\t<a class=\"link_white link_no-underline\" href=\"https://www.hse.ru/\">\\n\\t\\t\\t<div class=\"logo__title\">Высшая школа экономики</div>\\n\\t\\t\\t<span class=\"logo__subtitle\">Национальный исследовательский университет</span>\\n\\t\\t</a>\\n\\t</div>\\n</div>\\n<div class=\"js-mobile_popup__inner fa-sidemenu--primary\">\\n\\t<div class=\"js-mobile_menu_content_wrap\">\\n\\t\\t\\n\\t\\t<ul class=\"main_menu\">\\n\\t\\t\\t\\n\\t\\t\\t\\t\\n\\t\\t\\t\\t\\t<li class=\"js-dropdown main_menu__item main_menu__item--red\"><a class=\"js-dropdown_link\" href=\"https://www.hse.ru/identity\">Образование</a>\\n\\t\\t\\t\\t\\t\\n\\t\\t\\t\\t\\t<i class=\"fa-sidemenu__arr\"></i>\\n\\t\\t\\t\\t\\t<div class=\"main_menu__sub js-dropdown__sub\">\\n\\t\\t\\t\\t\\t\\t<ul class=\"main_menu__sublist\">\\n\\t\\t\\t\\t\\t\\t\\t\\n\\t\\t\\t\\t\\t\\t\\t\\t\\n\\t\\t\\t\\t\\t\\t\\t\\t\\t\\n\\t\\t\\t\\t\\t\\t\\t\\t\\t\\t\\n\\t\\t\\t\\t\\t\\t\\t\\t\\t\\t\\t<li class=\"main_menu__subitem main_menu__subitem--subheader\">Образовательные программы</li>\\n\\t\\t\\t\\t\\t\\t\\t\\t\\t\\t\\n\\t\\t\\t\\t\\t\\t\\t\\t\\t\\n\\t\\t\\t\\t\\t\\t\\t\\t\\n\\t\\t\\t\\t\\t\\t\\t\\n\\t\\t\\t\\t\\t\\t\\t\\t\\n\\t\\t\\t\\t\\t\\t\\t\\t\\t\\n\\t\\t\\t\\t\\t\\t\\t\\t\\t\\t\\n\\t\\t\\t\\t\\t\\t\\t\\t\\t\\t\\t<li class=\"main_menu__subitem\"><a href=\"https://www.hse.ru/education/\">Бакалавриат</a></li>\\n\\t\\t\\t\\t\\t\\t\\t\\t\\t\\t\\n\\t\\t\\t\\t\\t\\t\\t\\t\\t\\n\\t\\t\\t\\t\\t\\t\\t\\t\\n\\t\\t\\t\\t\\t\\t\\t\\n\\t\\t\\t\\t\\t\\t\\t\\t\\n\\t\\t\\t\\t\\t\\t\\t\\t\\t\\n\\t\\t\\t\\t\\t\\t\\t\\t\\t\\t\\n\\t\\t\\t\\t\\t\\t\\t\\t\\t\\t\\t<li class=\"main_menu__subitem\"><a href=\"https://www.hse.ru/education/#magister\">Магистратура</a></li>\\n\\t\\t\\t\\t\\t\\t\\t\\t\\t\\t\\n\\t\\t\\t\\t\\t\\t\\t\\t\\t\\n\\t\\t\\t\\t\\t\\t\\t\\t\\n\\t\\t\\t\\t\\t\\t\\t\\n\\t\\t\\t\\t\\t\\t\\t\\t\\n\\t\\t\\t\\t\\t\\t\\t\\t\\t\\n\\t\\t\\t\\t\\t\\t\\t\\t\\t\\t\\n\\t\\t\\t\\t\\t\\t\\t\\t\\t\\t\\t<li class=\"main_menu__subitem\"><a href=\"https://aspirantura.hse.ru/asp_school\">Аспирантские школы</a></li>\\n\\t\\t\\t\\t\\t\\t\\t\\t\\t\\t\\n\\t\\t\\t\\t\\t\\t\\t\\t\\t\\n\\t\\t\\t\\t\\t\\t\\t\\t\\n\\t\\t\\t\\t\\t\\t\\t\\n\\t\\t\\t\\t\\t\\t\\t\\t\\n\\t\\t\\t\\t\\t\\t\\t\\t\\t\\n\\t\\t\\t\\t\\t\\t\\t\\t\\t\\t\\n\\t\\t\\t\\t\\t\\t\\t\\t\\t\\t\\t<li class=\"main_menu__subitem\"><a href=\"https://busedu.hse.ru/\">Второе высшее, дополнительное и бизнес-образование</a></li>\\n\\t\\t\\t\\t\\t\\t\\t\\t\\t\\t\\n\\t\\t\\t\\t\\t\\t\\t\\t\\t\\n\\t\\t\\t\\t\\t\\t\\t\\t\\n\\t\\t\\t\\t\\t\\t\\t\\n\\t\\t\\t\\t\\t\\t\\t\\t\\n\\t\\t\\t\\t\\t\\t\\t\\n\\t\\t\\t\\t\\t\\t\\t\\t\\n\\t\\t\\t\\t\\t\\t\\t\\t\\t\\n\\t\\t\\t\\t\\t\\t\\t\\t\\t\\t\\n\\t\\t\\t\\t\\t\\t\\t\\t\\t\\t\\t<li class=\"main_menu__subitem\"><a href=\"https://www.hse.ru/sumschool/\">Летние школы</a></li>\\n\\t\\t\\t\\t\\t\\t\\t\\t\\t\\t\\n\\t\\t\\t\\t\\t\\t\\t\\t\\t\\n\\t\\t\\t\\t\\t\\t\\t\\t\\n\\t\\t\\t\\t\\t\\t\\t\\n\\t\\t\\t\\t\\t\\t\\t\\t\\n\\t\\t\\t\\t\\t\\t\\t\\t\\t\\n\\t\\t\\t\\t\\t\\t\\t\\t\\t\\t\\n\\t\\t\\t\\t\\t\\t\\t\\t\\t\\t\\t<li class=\"main_menu__subitem main_menu__subitem--subheader\">Школьникам</li>\\n\\t\\t\\t\\t\\t\\t\\t\\t\\t\\t\\n\\t\\t\\t\\t\\t\\t\\t\\t\\t\\n\\t\\t\\t\\t\\t\\t\\t\\t\\n\\t\\t\\t\\t\\t\\t\\t\\n\\t\\t\\t\\t\\t\\t\\t\\t\\n\\t\\t\\t\\t\\t\\t\\t\\t\\t\\n\\t\\t\\t\\t\\t\\t\\t\\t\\t\\t\\n\\t\\t\\t\\t\\t\\t\\t\\t\\t\\t\\t<li class=\"main_menu__subitem\"><a href=\"https://school.hse.ru/\">Лицей НИУ ВШЭ</a></li>\\n\\t\\t\\t\\t\\t\\t\\t\\t\\t\\t\\n\\t\\t\\t\\t\\t\\t\\t\\t\\t\\n\\t\\t\\t\\t\\t\\t\\t\\t\\n\\t\\t\\t\\t\\t\\t\\t\\n\\t\\t\\t\\t\\t\\t\\t\\t\\n\\t\\t\\t\\t\\t\\t\\t\\t\\t\\n\\t\\t\\t\\t\\t\\t\\t\\t\\t\\t\\n\\t\\t\\t\\t\\t\\t\\t\\t\\t\\t\\t<li class=\"main_menu__subitem\"><a href=\"https://www.hse.ru/secondary/map\">Базовые школы</a></li>\\n\\t\\t\\t\\t\\t\\t\\t\\t\\t\\t\\n\\t\\t\\t\\t\\t\\t\\t\\t\\t\\n\\t\\t\\t\\t\\t\\t\\t\\t\\n\\t\\t\\t\\t\\t\\t\\t\\n\\t\\t\\t\\t\\t\\t\\t\\t\\n\\t\\t\\t\\t\\t\\t\\t\\t\\t\\n\\t\\t\\t\\t\\t\\t\\t\\t\\t\\t\\n\\t\\t\\t\\t\\t\\t\\t\\t\\t\\t\\t<li class=\"main_menu__subitem\"><a href=\"https://fdp.hse.ru/ischool\">Дистанционные курсы для школьников</a></li>\\n\\t\\t\\t\\t\\t\\t\\t\\t\\t\\t\\n\\t\\t\\t\\t\\t\\t\\t\\t\\t\\n\\t\\t\\t\\t\\t\\t\\t\\t\\n\\t\\t\\t\\t\\t\\t\\t\\n\\t\\t\\t\\t\\t\\t\\t\\t\\n\\t\\t\\t\\t\\t\\t\\t\\t\\t\\n\\t\\t\\t\\t\\t\\t\\t\\t\\t\\t<li class=\"main_menu__subitem main_menu__subitem--important\">\\n\\t\\t\\t\\t\\t\\t\\t\\t\\t\\t\\t<a class=\"simple_btn\" href=\"https://elearning.hse.ru/mooc\">Онлайн-курсы</a>\\n\\t\\t\\t\\t\\t\\t\\t\\t\\t\\t\\t\\n\\t\\t\\t\\t\\t\\t\\t\\t\\t\\t\\t\\t<span class=\"is-block\"><a class=\"link link--important\" href=\"https://elearning.hse.ru/mooc\">Массовые открытые онлайн-курсы НИУ ВШЭ</a></span>\\n\\t\\t\\t\\t\\t\\t\\t\\t\\t\\t\\t\\n\\t\\t\\t\\t\\t\\t\\t\\t\\t\\t</li>\\n\\t\\t\\t\\t\\t\\t\\t\\t\\t\\n\\t\\t\\t\\t\\t\\t\\t\\t\\n\\t\\t\\t\\t\\t\\t\\t\\n\\t\\t\\t\\t\\t\\t</ul>\\n\\t\\t\\t\\t\\t</div>\\n\\t\\t\\t\\t\\t\\n\\t\\t\\t\\t\\t</li>\\n\\t\\t\\t\\t\\n\\t\\t\\t\\n\\t\\t\\t\\t\\n\\t\\t\\t\\t\\t<li class=\"js-dropdown main_menu__item main_menu__item--brown\"><a class=\"js-dropdown_link\" href=\"http://www.hse.ru/science/\">Наука</a>\\n\\t\\t\\t\\t\\t\\n\\t\\t\\t\\t\\t<i class=\"fa-sidemenu__arr\"></i>\\n\\t\\t\\t\\t\\t<div class=\"main_menu__sub js-dropdown__sub\">\\n\\t\\t\\t\\t\\t\\t<ul class=\"main_menu__sublist\">\\n\\t\\t\\t\\t\\t\\t\\t\\n\\t\\t\\t\\t\\t\\t\\t\\t\\n\\t\\t\\t\\t\\t\\t\\t\\t\\t\\n\\t\\t\\t\\t\\t\\t\\t\\t\\t\\t\\n\\t\\t\\t\\t\\t\\t\\t\\t\\t\\t\\t<li class=\"main_menu__subitem\"><a href=\"https://publications.hse.ru/\">Публикации</a></li>\\n\\t\\t\\t\\t\\t\\t\\t\\t\\t\\t\\n\\t\\t\\t\\t\\t\\t\\t\\t\\t\\n\\t\\t\\t\\t\\t\\t\\t\\t\\n\\t\\t\\t\\t\\t\\t\\t\\n\\t\\t\\t\\t\\t\\t\\t\\t\\n\\t\\t\\t\\t\\t\\t\\t\\t\\t\\n\\t\\t\\t\\t\\t\\t\\t\\t\\t\\t\\n\\t\\t\\t\\t\\t\\t\\t\\t\\t\\t\\t<li class=\"main_menu__subitem\"><a href=\"https://www.hse.ru/science/journals\">Журналы ВШЭ</a></li>\\n\\t\\t\\t\\t\\t\\t\\t\\t\\t\\t\\n\\t\\t\\t\\t\\t\\t\\t\\t\\t\\n\\t\\t\\t\\t\\t\\t\\t\\t\\n\\t\\t\\t\\t\\t\\t\\t\\n\\t\\t\\t\\t\\t\\t\\t\\t\\n\\t\\t\\t\\t\\t\\t\\t\\t\\t\\n\\t\\t\\t\\t\\t\\t\\t\\t\\t\\t\\n\\t\\t\\t\\t\\t\\t\\t\\t\\t\\t\\t<li class=\"main_menu__subitem\"><a href=\"https://www.hse.ru/news/announcements/scientific_actions/\">Научные мероприятия</a></li>\\n\\t\\t\\t\\t\\t\\t\\t\\t\\t\\t\\n\\t\\t\\t\\t\\t\\t\\t\\t\\t\\n\\t\\t\\t\\t\\t\\t\\t\\t\\n\\t\\t\\t\\t\\t\\t\\t\\n\\t\\t\\t\\t\\t\\t\\t\\t\\n\\t\\t\\t\\t\\t\\t\\t\\t\\t\\n\\t\\t\\t\\t\\t\\t\\t\\t\\t\\t\\n\\t\\t\\t\\t\\t\\t\\t\\t\\t\\t\\t<li class=\"main_menu__subitem\"><a href=\"https://www.hse.ru/ru/interlabs/\">Международные лаборатории</a></li>\\n\\t\\t\\t\\t\\t\\t\\t\\t\\t\\t\\n\\t\\t\\t\\t\\t\\t\\t\\t\\t\\n\\t\\t\\t\\t\\t\\t\\t\\t\\n\\t\\t\\t\\t\\t\\t\\t\\n\\t\\t\\t\\t\\t\\t\\t\\t\\n\\t\\t\\t\\t\\t\\t\\t\\t\\t\\n\\t\\t\\t\\t\\t\\t\\t\\t\\t\\t\\n\\t\\t\\t\\t\\t\\t\\t\\t\\t\\t\\t<li class=\"main_menu__subitem\"><a href=\"https://www.hse.ru/science/hsegrants\">Конкурсы и\\xa0гранты</a></li>\\n\\t\\t\\t\\t\\t\\t\\t\\t\\t\\t\\n\\t\\t\\t\\t\\t\\t\\t\\t\\t\\n\\t\\t\\t\\t\\t\\t\\t\\t\\n\\t\\t\\t\\t\\t\\t\\t\\n\\t\\t\\t\\t\\t\\t\\t\\t\\n\\t\\t\\t\\t\\t\\t\\t\\t\\t\\n\\t\\t\\t\\t\\t\\t\\t\\t\\t\\t\\n\\t\\t\\t\\t\\t\\t\\t\\t\\t\\t\\t<li class=\"main_menu__subitem\"><a href=\"https://academics.hse.ru/\">Академическое развитие</a></li>\\n\\t\\t\\t\\t\\t\\t\\t\\t\\t\\t\\n\\t\\t\\t\\t\\t\\t\\t\\t\\t\\n\\t\\t\\t\\t\\t\\t\\t\\t\\n\\t\\t\\t\\t\\t\\t\\t\\n\\t\\t\\t\\t\\t\\t\\t\\t\\n\\t\\t\\t\\t\\t\\t\\t\\t\\t\\n\\t\\t\\t\\t\\t\\t\\t\\t\\t\\t<li class=\"main_menu__subitem main_menu__subitem--important\">\\n\\t\\t\\t\\t\\t\\t\\t\\t\\t\\t\\t<a class=\"simple_btn\" href=\"http://okna.hse.ru/\">Окна роста</a>\\n\\t\\t\\t\\t\\t\\t\\t\\t\\t\\t\\t\\n\\t\\t\\t\\t\\t\\t\\t\\t\\t\\t\\t\\t<span class=\"is-block\"><a class=\"link link--important\" href=\"http://okna.hse.ru/\">Бюллетень об академическом развитии</a></span>\\n\\t\\t\\t\\t\\t\\t\\t\\t\\t\\t\\t\\n\\t\\t\\t\\t\\t\\t\\t\\t\\t\\t</li>\\n\\t\\t\\t\\t\\t\\t\\t\\t\\t\\n\\t\\t\\t\\t\\t\\t\\t\\t\\n\\t\\t\\t\\t\\t\\t\\t\\n\\t\\t\\t\\t\\t\\t</ul>\\n\\t\\t\\t\\t\\t</div>\\n\\t\\t\\t\\t\\t\\n\\t\\t\\t\\t\\t</li>\\n\\t\\t\\t\\t\\n\\t\\t\\t\\n\\t\\t\\t\\t\\n\\t\\t\\t\\t\\t<li class=\"js-dropdown main_menu__item main_menu__item--green\"><a class=\"js-dropdown_link\" href=\"https://www.hse.ru/expertise/\">Экспертиза</a>\\n\\t\\t\\t\\t\\t\\n\\t\\t\\t\\t\\t<i class=\"fa-sidemenu__arr\"></i>\\n\\t\\t\\t\\t\\t<div class=\"main_menu__sub js-dropdown__sub\">\\n\\t\\t\\t\\t\\t\\t<ul class=\"main_menu__sublist\">\\n\\t\\t\\t\\t\\t\\t\\t\\n\\t\\t\\t\\t\\t\\t\\t\\t\\n\\t\\t\\t\\t\\t\\t\\t\\t\\t\\n\\t\\t\\t\\t\\t\\t\\t\\t\\t\\t\\n\\t\\t\\t\\t\\t\\t\\t\\t\\t\\t\\t<li class=\"main_menu__subitem\"><a href=\"http://www.hse.ru/monitoring/\">Мониторинги</a></li>\\n\\t\\t\\t\\t\\t\\t\\t\\t\\t\\t\\n\\t\\t\\t\\t\\t\\t\\t\\t\\t\\n\\t\\t\\t\\t\\t\\t\\t\\t\\n\\t\\t\\t\\t\\t\\t\\t\\n\\t\\t\\t\\t\\t\\t\\t\\t\\n\\t\\t\\t\\t\\t\\t\\t\\t\\t\\n\\t\\t\\t\\t\\t\\t\\t\\t\\t\\t\\n\\t\\t\\t\\t\\t\\t\\t\\t\\t\\t\\t<li class=\"main_menu__subitem\"><a href=\"http://issek.hse.ru/trendletter/\">Трендлеттеры</a></li>\\n\\t\\t\\t\\t\\t\\t\\t\\t\\t\\t\\n\\t\\t\\t\\t\\t\\t\\t\\t\\t\\n\\t\\t\\t\\t\\t\\t\\t\\t\\n\\t\\t\\t\\t\\t\\t\\t\\n\\t\\t\\t\\t\\t\\t\\t\\t\\n\\t\\t\\t\\t\\t\\t\\t\\t\\t\\n\\t\\t\\t\\t\\t\\t\\t\\t\\t\\t\\n\\t\\t\\t\\t\\t\\t\\t\\t\\t\\t\\t<li class=\"main_menu__subitem\"><a href=\"http://map.cluster.hse.ru/\">Карта кластеров</a></li>\\n\\t\\t\\t\\t\\t\\t\\t\\t\\t\\t\\n\\t\\t\\t\\t\\t\\t\\t\\t\\t\\n\\t\\t\\t\\t\\t\\t\\t\\t\\n\\t\\t\\t\\t\\t\\t\\t\\n\\t\\t\\t\\t\\t\\t\\t\\t\\n\\t\\t\\t\\t\\t\\t\\t\\t\\t\\n\\t\\t\\t\\t\\t\\t\\t\\t\\t\\t<li class=\"main_menu__subitem main_menu__subitem--important\">\\n\\t\\t\\t\\t\\t\\t\\t\\t\\t\\t\\t<a class=\"simple_btn\" href=\"https://iq.hse.ru/\">IQ.hse.ru</a>\\n\\t\\t\\t\\t\\t\\t\\t\\t\\t\\t\\t\\n\\t\\t\\t\\t\\t\\t\\t\\t\\t\\t\\t\\t<span class=\"is-block\"><a class=\"link link--important\" href=\"https://iq.hse.ru/\">Научно-образовательный портал</a></span>\\n\\t\\t\\t\\t\\t\\t\\t\\t\\t\\t\\t\\n\\t\\t\\t\\t\\t\\t\\t\\t\\t\\t</li>\\n\\t\\t\\t\\t\\t\\t\\t\\t\\t\\n\\t\\t\\t\\t\\t\\t\\t\\t\\n\\t\\t\\t\\t\\t\\t\\t\\n\\t\\t\\t\\t\\t\\t</ul>\\n\\t\\t\\t\\t\\t</div>\\n\\t\\t\\t\\t\\t\\n\\t\\t\\t\\t\\t</li>\\n\\t\\t\\t\\t\\n\\t\\t\\t\\n\\t\\t\\t\\t\\n\\t\\t\\t\\t\\t<li class=\"js-dropdown main_menu__item main_menu__item--violet\"><a class=\"js-dropdown_link\" href=\"http://www.hse.ru/info/\">О Вышке</a>\\n\\t\\t\\t\\t\\t\\n\\t\\t\\t\\t\\t<i class=\"fa-sidemenu__arr\"></i>\\n\\t\\t\\t\\t\\t<div class=\"main_menu__sub js-dropdown__sub\">\\n\\t\\t\\t\\t\\t\\t<ul class=\"main_menu__sublist\">\\n\\t\\t\\t\\t\\t\\t\\t\\n\\t\\t\\t\\t\\t\\t\\t\\t\\n\\t\\t\\t\\t\\t\\t\\t\\t\\t\\n\\t\\t\\t\\t\\t\\t\\t\\t\\t\\t\\n\\t\\t\\t\\t\\t\\t\\t\\t\\t\\t\\t<li class=\"main_menu__subitem\"><a href=\"https://www.hse.ru/figures/\">Цифры и факты</a></li>\\n\\t\\t\\t\\t\\t\\t\\t\\t\\t\\t\\n\\t\\t\\t\\t\\t\\t\\t\\t\\t\\n\\t\\t\\t\\t\\t\\t\\t\\t\\n\\t\\t\\t\\t\\t\\t\\t\\n\\t\\t\\t\\t\\t\\t\\t\\t\\n\\t\\t\\t\\t\\t\\t\\t\\t\\t\\n\\t\\t\\t\\t\\t\\t\\t\\t\\t\\t\\n\\t\\t\\t\\t\\t\\t\\t\\t\\t\\t\\t<li class=\"main_menu__subitem\"><a href=\"http://strategy.hse.ru/rating\">НИУ ВШЭ в рейтингах</a></li>\\n\\t\\t\\t\\t\\t\\t\\t\\t\\t\\t\\n\\t\\t\\t\\t\\t\\t\\t\\t\\t\\n\\t\\t\\t\\t\\t\\t\\t\\t\\n\\t\\t\\t\\t\\t\\t\\t\\n\\t\\t\\t\\t\\t\\t\\t\\t\\n\\t\\t\\t\\t\\t\\t\\t\\t\\t\\n\\t\\t\\t\\t\\t\\t\\t\\t\\t\\t\\n\\t\\t\\t\\t\\t\\t\\t\\t\\t\\t\\t<li class=\"main_menu__subitem\"><a href=\"https://www.hse.ru/info/management\">Руководство</a></li>\\n\\t\\t\\t\\t\\t\\t\\t\\t\\t\\t\\n\\t\\t\\t\\t\\t\\t\\t\\t\\t\\n\\t\\t\\t\\t\\t\\t\\t\\t\\n\\t\\t\\t\\t\\t\\t\\t\\n\\t\\t\\t\\t\\t\\t\\t\\t\\n\\t\\t\\t\\t\\t\\t\\t\\t\\t\\n\\t\\t\\t\\t\\t\\t\\t\\t\\t\\t\\n\\t\\t\\t\\t\\t\\t\\t\\t\\t\\t\\t<li class=\"main_menu__subitem\"><a href=\"https://www.hse.ru/orgstructure/\">Оргструктура</a></li>\\n\\t\\t\\t\\t\\t\\t\\t\\t\\t\\t\\n\\t\\t\\t\\t\\t\\t\\t\\t\\t\\n\\t\\t\\t\\t\\t\\t\\t\\t\\n\\t\\t\\t\\t\\t\\t\\t\\n\\t\\t\\t\\t\\t\\t\\t\\t\\n\\t\\t\\t\\t\\t\\t\\t\\t\\t\\n\\t\\t\\t\\t\\t\\t\\t\\t\\t\\t\\n\\t\\t\\t\\t\\t\\t\\t\\t\\t\\t\\t<li class=\"main_menu__subitem\"><a href=\"https://www.hse.ru/buildinghse\">Корпуса и общежития</a></li>\\n\\t\\t\\t\\t\\t\\t\\t\\t\\t\\t\\n\\t\\t\\t\\t\\t\\t\\t\\t\\t\\n\\t\\t\\t\\t\\t\\t\\t\\t\\n\\t\\t\\t\\t\\t\\t\\t\\n\\t\\t\\t\\t\\t\\t\\t\\t\\n\\t\\t\\t\\t\\t\\t\\t\\t\\t\\n\\t\\t\\t\\t\\t\\t\\t\\t\\t\\t\\n\\t\\t\\t\\t\\t\\t\\t\\t\\t\\t\\t<li class=\"main_menu__subitem\"><a href=\"https://ep.hse.ru/\">Единая приемная</a></li>\\n\\t\\t\\t\\t\\t\\t\\t\\t\\t\\t\\n\\t\\t\\t\\t\\t\\t\\t\\t\\t\\n\\t\\t\\t\\t\\t\\t\\t\\t\\n\\t\\t\\t\\t\\t\\t\\t\\n\\t\\t\\t\\t\\t\\t\\t\\t\\n\\t\\t\\t\\t\\t\\t\\t\\t\\t\\n\\t\\t\\t\\t\\t\\t\\t\\t\\t\\t\\n\\t\\t\\t\\t\\t\\t\\t\\t\\t\\t\\t<li class=\"main_menu__subitem\"><a href=\"https://endowment.hse.ru/\">Фонд целевого капитала</a></li>\\n\\t\\t\\t\\t\\t\\t\\t\\t\\t\\t\\n\\t\\t\\t\\t\\t\\t\\t\\t\\t\\n\\t\\t\\t\\t\\t\\t\\t\\t\\n\\t\\t\\t\\t\\t\\t\\t\\n\\t\\t\\t\\t\\t\\t\\t\\t\\n\\t\\t\\t\\t\\t\\t\\t\\t\\t\\n\\t\\t\\t\\t\\t\\t\\t\\t\\t\\t<li class=\"main_menu__subitem main_menu__subitem--important\">\\n\\t\\t\\t\\t\\t\\t\\t\\t\\t\\t\\t<a class=\"simple_btn\" href=\"https://spasibo.hse.ru/\">Спасибо, Вышка</a>\\n\\t\\t\\t\\t\\t\\t\\t\\t\\t\\t\\t\\n\\t\\t\\t\\t\\t\\t\\t\\t\\t\\t\\t\\t<span class=\"is-block\"><a class=\"link link--important\" href=\"https://spasibo.hse.ru/\">Сделать пожертвование</a></span>\\n\\t\\t\\t\\t\\t\\t\\t\\t\\t\\t\\t\\n\\t\\t\\t\\t\\t\\t\\t\\t\\t\\t</li>\\n\\t\\t\\t\\t\\t\\t\\t\\t\\t\\n\\t\\t\\t\\t\\t\\t\\t\\t\\n\\t\\t\\t\\t\\t\\t\\t\\n\\t\\t\\t\\t\\t\\t\\t\\t\\n\\t\\t\\t\\t\\t\\t\\t\\t\\t\\n\\t\\t\\t\\t\\t\\t\\t\\t\\t\\t\\n\\t\\t\\t\\t\\t\\t\\t\\t\\t\\t\\t<li class=\"main_menu__subitem\"><a href=\"https://www.hse.ru/firstyear/benefits\">Лицам с ограниченными возможностями</a></li>\\n\\t\\t\\t\\t\\t\\t\\t\\t\\t\\t\\n\\t\\t\\t\\t\\t\\t\\t\\t\\t\\n\\t\\t\\t\\t\\t\\t\\t\\t\\n\\t\\t\\t\\t\\t\\t\\t\\n\\t\\t\\t\\t\\t\\t</ul>\\n\\t\\t\\t\\t\\t</div>\\n\\t\\t\\t\\t\\t\\n\\t\\t\\t\\t\\t</li>\\n\\t\\t\\t\\t\\n\\t\\t\\t\\n\\t\\t</ul>\\n\\t\\t\\n\\t</div>\\n</div>\\n</div>\\n\\n\\t\\t\\n\\t<div class=\"js-switcher_wrap\">\\n\\t<ul id=\"menu\" class=\"navigation main_submenu js-switcher_tab navigation--horiz\">\\n\\t\\n\\t\\t\\n\\t\\t\\t<li class=\"navigation__item js-switcher_tab__item navigation__item--submenu\"><a href=\"https://www.hse.ru/abiturient\">Поступление</a></li>\\n\\t\\t\\n\\t\\n\\t\\t\\n\\t\\t\\t<li class=\"navigation__item js-switcher_tab__item navigation__item--submenu\"><a href=\"http://shkolnikam.hse.ru/\">Школьникам</a></li>\\n\\t\\t\\n\\t\\n\\t\\t\\n\\t\\t\\t<li class=\"navigation__item js-switcher_tab__item navigation__item--submenu\"><a href=\"http://olymp.hse.ru/\">Олимпиады</a></li>\\n\\t\\t\\n\\t\\n\\t\\t\\n\\t\\t\\t<li class=\"navigation__item js-switcher_tab__item navigation__item--submenu\"><a href=\"http://ba.hse.ru\">Бакалавриат</a></li>\\n\\t\\t\\n\\t\\n\\t\\t\\n\\t\\t\\t<li class=\"navigation__item js-switcher_tab__item navigation__item--submenu\"><a href=\"http://ma.hse.ru\">Магистратура</a></li>\\n\\t\\t\\n\\t\\n\\t\\t\\n\\t\\t\\t<li class=\"navigation__item js-switcher_tab__item navigation__item--submenu\"><a href=\"http://aspirantura.hse.ru/\">Аспирантура</a></li>\\n\\t\\t\\n\\t\\n\\t\\t\\n\\t\\t\\t<li class=\"navigation__item js-switcher_tab__item navigation__item--submenu\"><a href=\"http://busedu.hse.ru\">Дополнительное и бизнес-образование</a></li>\\n\\t\\t\\n\\t\\n\\t\\t\\n\\t\\t\\t<li class=\"navigation__item js-switcher_tab__item navigation__item--submenu\"><a href=\"https://enter.hse.ru\">Иностранным абитуриентам</a></li>\\n\\t\\t\\n\\t\\n\\t<li class=\"js-switcher_tab__more js-more\">\\n\\t\\t<span class=\"navigation__more\"></span>\\n\\t\\t<ul class=\"switcher_tab__sub\"></ul>\\n\\t</li>\\n\\t</ul>\\n\\t</div>\\n\\t\\n\\n\\t\\t\\n\\n\\t\\t\\n\\t\\t<div data-height=\"400px\" data-loop=\"true\" data-autoplay=\"4000\" data-transitionduration=\"750\" data-click=\"false\" data-width=\"100%\" class=\"main_slider fotorama\">\\n\\t\\t\\t\\n\\t\\t\\t\\t\\n\\t\\t\\t\\n\\t\\t\\t\\t\\n\\t\\t\\t\\t\\t<div class=\"main_slider__item twenty5\" style=\"\" class=\"main_slider__item\">\\n\\t\\t\\t\\t\\t\\t<h3 class=\"main_slider__title\">\\n\\t\\t\\t\\t\\t\\t\\t<a href=\"https://25.hse.ru/\">\\n\\t\\t\\t\\t\\t\\t\\t\\t25 лет НИУ\\xa0ВШЭ. Антиюбилей\\n\\t\\t\\t\\t\\t\\t\\t</a>\\n\\t\\t\\t\\t\\t\\t</h3>\\n\\t\\t\\t\\t\\t\\t<div class=\"main_slider__descr\">\\n\\t\\t\\t\\t\\t\\t\\t<p class=\"twenty5logo\" style=\"text-align: center;\"><a class=\"link_no-underline\" href=\"https://25.hse.ru/\"><img alt=\"\" src=\"/mirror/pubs/share/205300559\" style=\"position: absolute; top: 60px; left: calc(50% - 455px); height: 360px;\" /></a></p>\\n\\n\\t\\t\\t\\t\\t\\t</div>\\n\\t\\t\\t\\t\\t</div>\\n\\t\\t\\t\\t\\n\\t\\t\\t\\n\\t\\t\\t\\t\\n\\t\\t\\t\\t\\t<div class=\"main_slider__item mmo17\" style=\"background-image: url(\\'//www.hse.ru/pubs/share/direct/210453353\\');\" class=\"main_slider__item\">\\n\\t\\t\\t\\t\\t\\t<h3 class=\"main_slider__title\">\\n\\t\\t\\t\\t\\t\\t\\t<a href=\"https://olymp.hse.ru/mmo/\">\\n\\t\\t\\t\\t\\t\\t\\t\\tМежрегио&shy;нальная олимпиада школьников «Высшая проба» \\n\\t\\t\\t\\t\\t\\t\\t</a>\\n\\t\\t\\t\\t\\t\\t</h3>\\n\\t\\t\\t\\t\\t\\t<div class=\"main_slider__descr\">\\n\\t\\t\\t\\t\\t\\t\\t<p>Открыта регистрация участников</p>\\n\\n\\t\\t\\t\\t\\t\\t</div>\\n\\t\\t\\t\\t\\t</div>\\n\\t\\t\\t\\t\\n\\t\\t\\t\\n\\t\\t\\t\\t\\n\\t\\t\\t\\n\\t\\t\\t\\t\\n\\t\\t\\t\\n\\t\\t\\t\\t\\n\\t\\t\\t\\n\\t\\t\\t\\t\\n\\t\\t\\t\\n\\t\\t\\t\\t\\n\\t\\t\\t\\n\\t\\t\\t\\t\\n\\t\\t\\t\\n\\t\\t\\t\\t\\n\\t\\t\\t\\n\\t\\t\\t\\t\\n\\t\\t\\t\\n\\t\\t\\t\\t\\n\\t\\t\\t\\n\\t\\t\\t\\t\\n\\t\\t\\t\\n\\t\\t\\t\\t\\n\\t\\t\\t\\n\\t\\t\\t\\t\\n\\t\\t\\t\\n\\t\\t\\t\\t\\n\\t\\t\\t\\n\\t\\t\\t\\t\\n\\t\\t\\t\\n\\t\\t\\t\\t\\n\\t\\t\\t\\n\\t\\t\\t\\t\\n\\t\\t\\t\\n\\t\\t\\t\\t\\n\\t\\t\\t\\n\\t\\t\\t\\t\\n\\t\\t\\t\\n\\t\\t\\t\\t\\n\\t\\t\\t\\n\\t\\t\\t\\t\\n\\t\\t\\t\\n\\t\\t\\t\\t\\n\\t\\t\\t\\n\\t\\t\\t\\t\\n\\t\\t\\t\\n\\t\\t\\t\\t\\n\\t\\t\\t\\n\\t\\t\\t\\t\\n\\t\\t\\t\\n\\t\\t\\t\\t\\n\\t\\t\\t\\n\\t\\t\\t\\t\\n\\t\\t\\t\\n\\t\\t\\t\\t\\n\\t\\t\\t\\n\\t\\t\\t\\t\\n\\t\\t\\t\\n\\t\\t\\t\\t\\n\\t\\t\\t\\n\\t\\t\\t\\t\\n\\t\\t\\t\\n\\t\\t\\t\\t\\n\\t\\t\\t\\n\\t\\t\\t\\t\\n\\t\\t\\t\\n\\t\\t\\t\\t\\n\\t\\t\\t\\n\\t\\t\\t\\t\\n\\t\\t\\t\\n\\t\\t\\t\\t\\n\\t\\t\\t\\n\\t\\t\\t\\t\\n\\t\\t\\t\\n\\t\\t\\t\\t\\n\\t\\t\\t\\n\\t\\t\\t\\t\\n\\t\\t\\t\\n\\t\\t\\t\\t\\n\\t\\t\\t\\n\\t\\t\\t\\t\\n\\t\\t\\t\\n\\t\\t\\t\\t\\n\\t\\t\\t\\n\\t\\t\\t\\t\\n\\t\\t\\t\\n\\t\\t\\t\\t\\n\\t\\t\\t\\n\\t\\t\\t\\t\\n\\t\\t\\t\\n\\t\\t\\t\\t\\n\\t\\t\\t\\n\\t\\t\\t\\t\\n\\t\\t\\t\\n\\t\\t\\t\\t\\n\\t\\t\\t\\n\\t\\t\\t\\t\\n\\t\\t\\t\\n\\t\\t\\t\\t\\n\\t\\t\\t\\n\\t\\t\\t\\t\\n\\t\\t\\t\\n\\t\\t\\t\\t\\n\\t\\t\\t\\n\\t\\t\\t\\t\\n\\t\\t\\t\\n\\t\\t\\t\\t\\n\\t\\t\\t\\n\\t\\t\\t\\t\\n\\t\\t\\t\\n\\t\\t\\t\\t\\n\\t\\t\\t\\n\\t\\t\\t\\t\\n\\t\\t\\t\\n\\t\\t\\t\\t\\n\\t\\t\\t\\n\\t\\t\\t\\t\\n\\t\\t\\t\\n\\t\\t\\t\\t\\n\\t\\t\\t\\n\\t\\t\\t\\t\\n\\t\\t\\t\\n\\t\\t\\t\\t\\n\\t\\t\\t\\n\\t\\t\\t\\t\\n\\t\\t\\t\\n\\t\\t\\t\\t\\n\\t\\t\\t\\n\\t\\t\\t\\t\\n\\t\\t\\t\\n\\t\\t\\t\\t\\n\\t\\t\\t\\n\\t\\t\\t\\t\\n\\t\\t\\t\\n\\t\\t\\t\\t\\n\\t\\t\\t\\n\\t\\t\\t\\t\\n\\t\\t\\t\\n\\t\\t\\t\\t\\n\\t\\t\\t\\n\\t\\t\\t\\t\\n\\t\\t\\t\\n\\t\\t\\t\\t\\n\\t\\t\\t\\n\\t\\t\\t\\t\\n\\t\\t\\t\\n\\t\\t\\t\\t\\n\\t\\t\\t\\n\\t\\t\\t\\t\\n\\t\\t\\t\\n\\t\\t\\t\\t\\n\\t\\t\\t\\n\\t\\t\\t\\t\\n\\t\\t\\t\\n\\t\\t\\t\\t\\n\\t\\t\\t\\n\\t\\t\\t\\t\\n\\t\\t\\t\\n\\t\\t\\t\\t\\n\\t\\t\\t\\n\\t\\t\\t\\t\\n\\t\\t\\t\\n\\t\\t\\t\\t\\n\\t\\t\\t\\n\\t\\t\\t\\t\\n\\t\\t\\t\\n\\t\\t\\t\\t\\n\\t\\t\\t\\n\\t\\t\\t\\t\\n\\t\\t\\t\\n\\t\\t\\t\\t\\n\\t\\t\\t\\n\\t\\t\\t\\t\\n\\t\\t\\t\\n\\t\\t\\t\\t\\n\\t\\t\\t\\n\\t\\t\\t\\t\\n\\t\\t\\t\\n\\t\\t\\t\\t\\n\\t\\t\\t\\n\\t\\t\\t\\t\\n\\t\\t\\t\\n\\t\\t\\t\\t\\n\\t\\t\\t\\n\\t\\t\\t\\t\\n\\t\\t\\t\\n\\t\\t\\t\\t\\n\\t\\t\\t\\n\\t\\t\\t\\t\\n\\t\\t\\t\\n\\t\\t\\t\\t\\n\\t\\t\\t\\n\\t\\t\\t\\t\\n\\t\\t\\t\\n\\t\\t\\t\\t\\n\\t\\t\\t\\n\\t\\t\\t\\t\\n\\t\\t\\t\\n\\t\\t\\t\\t\\n\\t\\t\\t\\n\\t\\t\\t\\t\\n\\t\\t\\t\\n\\t\\t\\t\\t\\n\\t\\t\\t\\n\\t\\t\\t\\t\\n\\t\\t\\t\\n\\t\\t\\t\\t\\n\\t\\t\\t\\n\\t\\t\\t\\t\\n\\t\\t\\t\\n\\t\\t\\t\\t\\n\\t\\t\\t\\n\\t\\t\\t\\t\\n\\t\\t\\t\\n\\t\\t\\t\\t\\n\\t\\t\\t\\n\\t\\t\\t\\t\\n\\t\\t\\t\\n\\t\\t\\t\\t\\n\\t\\t\\t\\n\\t\\t\\t\\t\\n\\t\\t\\t\\n\\t\\t\\t\\t\\n\\t\\t\\t\\n\\t\\t\\t\\t\\n\\t\\t\\t\\t\\t<div class=\"main_slider__item internetsch\" style=\"background-image: url(\\'//www.hse.ru/pubs/share/direct/191151157\\');\" class=\"main_slider__item\">\\n\\t\\t\\t\\t\\t\\t<h3 class=\"main_slider__title\">\\n\\t\\t\\t\\t\\t\\t\\t<a href=\"https://fdp.hse.ru/ischool\">\\n\\t\\t\\t\\t\\t\\t\\t\\tОткрыт набор в интернет-школу\\n\\t\\t\\t\\t\\t\\t\\t</a>\\n\\t\\t\\t\\t\\t\\t</h3>\\n\\t\\t\\t\\t\\t\\t<div class=\"main_slider__descr\">\\n\\t\\t\\t\\t\\t\\t\\t<p>Подготовка к ОГЭ, ЕГЭ и олимпиадам для учащихся 8-11-х классов</p>\\n\\n\\t\\t\\t\\t\\t\\t</div>\\n\\t\\t\\t\\t\\t</div>\\n\\t\\t\\t\\t\\n\\t\\t\\t\\n\\t\\t\\t\\t\\n\\t\\t\\t\\n\\t\\t\\t\\t\\n\\t\\t\\t\\n\\t\\t\\t\\t\\n\\t\\t\\t\\n\\t\\t\\t\\t\\n\\t\\t\\t\\n\\t\\t\\t\\t\\n\\t\\t\\t\\t\\t<div class=\"main_slider__item iqdigital\" style=\"background-image: url(\\'//www.hse.ru/pubs/share/direct/210555708\\');\" class=\"main_slider__item\">\\n\\t\\t\\t\\t\\t\\t<h3 class=\"main_slider__title\">\\n\\t\\t\\t\\t\\t\\t\\t<a href=\"https://iq.hse.ru/digital/\">\\n\\t\\t\\t\\t\\t\\t\\t\\tЦифровая гонка\\n\\t\\t\\t\\t\\t\\t\\t</a>\\n\\t\\t\\t\\t\\t\\t</h3>\\n\\t\\t\\t\\t\\t\\t<div class=\"main_slider__descr\">\\n\\t\\t\\t\\t\\t\\t\\t<p>Какие технологические решения изменят мировую экономику и&nbsp;как России не&nbsp;остаться в&nbsp;прошлом</p>\\n\\n\\t\\t\\t\\t\\t\\t</div>\\n\\t\\t\\t\\t\\t</div>\\n\\t\\t\\t\\t\\n\\t\\t\\t\\n\\t\\t\\t\\t\\n\\t\\t\\t\\t\\t<div class=\"main_slider__item projectsc\" style=\"background-image: url(\\'//www.hse.ru/pubs/share/direct/210670260\\');\" class=\"main_slider__item\">\\n\\t\\t\\t\\t\\t\\t<h3 class=\"main_slider__title\">\\n\\t\\t\\t\\t\\t\\t\\t<a href=\"https://shkolnikam.hse.ru/projectsc\">\\n\\t\\t\\t\\t\\t\\t\\t\\tОсенняя школа бизнес-проектов\\n\\t\\t\\t\\t\\t\\t\\t</a>\\n\\t\\t\\t\\t\\t\\t</h3>\\n\\t\\t\\t\\t\\t\\t<div class=\"main_slider__descr\">\\n\\t\\t\\t\\t\\t\\t\\t<p>Приглашаем старшеклассников, желающих получить навыки проектной деятельности</p>\\n\\n\\t\\t\\t\\t\\t\\t</div>\\n\\t\\t\\t\\t\\t</div>\\n\\t\\t\\t\\t\\n\\t\\t\\t\\n\\t\\t</div>\\n\\t\\n\\n\\t\\t\\n\\n\\t\\t\\n\\t\\t<section class=\"section\">\\n\\t\\t\\t<div class=\"section__header clear\">\\n\\t\\t\\t\\t<a name=\"news\"></a>\\n\\t\\t\\t\\t<h2 class=\"section_title\"><a name=\"news\">Новости</a></h2>\\n\\t\\t\\t\\t<div class=\"section__controls\">\\n\\t\\t\\t\\t\\t<div class=\"section_caption\">Темы</div>\\n\\t\\t\\t\\t\\t<ul class=\"s-rubric_list\">\\n\\t\\t\\t\\t\\t\\t\\n\\t\\t\\t\\t\\t\\t<li><a class=\"link rubric rubric_46 s-rubric\" href=\"https://www.hse.ru/news/admission/\"><span>Поступающим</span><ins>952</ins></a></li>\\n\\t\\t\\t\\t\\t\\t\\n\\t\\t\\t\\t\\t\\t<li><a class=\"link rubric rubric_9 s-rubric\" href=\"https://www.hse.ru/news/edu/\"><span>Образование</span><ins>1450</ins></a></li>\\n\\t\\t\\t\\t\\t\\t\\n\\t\\t\\t\\t\\t\\t<li><a class=\"link rubric rubric_32 s-rubric\" href=\"https://www.hse.ru/news/science/\"><span>Наука</span><ins>4446</ins></a></li>\\n\\t\\t\\t\\t\\t\\t\\n\\t\\t\\t\\t\\t\\t<li><a class=\"link rubric rubric_5 s-rubric\" href=\"https://www.hse.ru/news/expertise/\"><span>Экспертиза</span><ins>96</ins></a></li>\\n\\t\\t\\t\\t\\t\\t\\n\\t\\t\\t\\t\\t\\t<li><a class=\"link rubric rubric_4 s-rubric\" href=\"https://www.hse.ru/news/community/\"><span>Общество</span><ins>1037</ins></a></li>\\n\\t\\t\\t\\t\\t\\t\\n\\t\\t\\t\\t\\t\\t<li><a class=\"link rubric rubric_3 s-rubric\" href=\"https://www.hse.ru/news/communication/\"><span>Свободное общение</span><ins>499</ins></a></li>\\n\\t\\t\\t\\t\\t\\t\\n\\t\\t\\t\\t\\t\\t<li><a class=\"link rubric rubric_26 s-rubric\" href=\"https://www.hse.ru/news/life/\"><span>Университетская жизнь</span><ins>2432</ins></a></li>\\n\\t\\t\\t\\t\\t\\t\\n\\t\\t\\t\\t\\t</ul>\\n\\t\\t\\t</div>\\n\\t\\t\\t</div>\\n\\t\\t\\t<div class=\"column column-3\">\\n\\t\\t\\t\\t\\n\\t\\t\\t\\t\\t<div class=\"column__item\">\\n\\t\\t\\t\\t\\t\\t<ul class=\"post\">\\n\\t\\t\\t\\t\\t\\t\\t\\n\\t\\t\\t\\t\\t\\t\\t<li class=\"post__item\">\\n\\t\\t\\t\\t\\t\\t\\t\\t\\n\\t\\t\\t\\t\\t\\t\\t\\t\\t\\n\\t\\t\\t\\t\\t\\t\\t\\t\\t\\t<a class=\"link_no-underline post__img_href\" href=\"/news/edu/210576410.html\"><img class=\"post__img\" src=\"/pubs/share/thumb/210579305:c1083x580+0+142:r433x232!\" alt=\"Онлайн-обучение может стать драйвером развития офлайн-образования\"/></a>\\n\\t\\t\\t\\t\\t\\t\\t\\t\\t\\n\\t\\t\\t\\t\\t\\t\\t\\t\\n\\t\\t\\t\\t\\t\\t\\t\\t\\n\\t\\t\\t\\t\\t\\t\\t\\t<h3 class=\"post__title \">\\n\\t\\t\\t\\t\\t\\t\\t\\t\\t<a  href=\"/news/edu/210576410.html\">Онлайн-обучение может стать драйвером развития офлайн-образования</a>\\n\\t\\t\\t\\t\\t\\t\\t\\t</h3>\\n\\t\\t\\t\\t\\t\\t\\t\\t\\n\\t\\t\\t\\t\\t\\t\\t\\t<div class=\"post__descr\">\\n\\t\\t\\t\\t\\t\\t\\t\\t\\t<p>10 октября в Москве открылась международная конференция eLearning Stakeholders and Researchers Summit 2017, организованная НИУ ВШЭ и глобальной платформой онлайн-обучения Coursera.</p>\\n\\n\\t\\t\\t\\t\\t\\t\\t\\t</div>\\n\\t\\t\\t\\t\\t\\t\\t\\t \\n\\t\\t\\t\\t\\t\\t\\t\\t\\t<div class=\"tag-set\">\\n\\t\\t\\t\\t\\t\\t\\t\\t\\t\\t\\n\\t\\t\\t\\t\\t\\t\\t\\t\\t\\t\\t<a class=\"rubric rubric_9\" href=\"/news/edu/\"><span>Образование</span></a>\\n\\t\\t\\t\\t\\t\\t\\t\\t\\t\\t\\n\\t\\t\\t\\t\\t\\t\\t\\t\\t\\t\\n\\t\\t\\t\\t\\t\\t\\t\\t\\t\\t\\t<a class=\"tag\" href=\"/news/tags/practice/\" title=\"https://www.hse.ru/идеи и опыт\">идеи и опыт</a>\\n\\t\\t\\t\\t\\t\\t\\t\\t\\t\\t\\n\\t\\t\\t\\t\\t\\t\\t\\t\\t\\t\\t<a class=\"tag\" href=\"/news/tags/online/\" title=\"https://www.hse.ru/онлайн-образование\">онлайн-образование</a>\\n\\t\\t\\t\\t\\t\\t\\t\\t\\t\\t\\n\\n\\t\\t\\t\\t\\t\\t\\t\\t\\t</div>\\n\\t\\t\\t\\t\\t\\t\\t\\t\\n\\t\\t\\t\\t\\t\\t\\t</li>\\n\\t\\t\\t\\t\\t\\t\\t\\n\\t\\t\\t\\t\\t\\t\\t<li class=\"post__item\">\\n\\t\\t\\t\\t\\t\\t\\t\\t\\n\\t\\t\\t\\t\\t\\t\\t\\t\\t\\n\\t\\t\\t\\t\\t\\t\\t\\t\\t\\t<a class=\"link_no-underline post__img_href\" href=\"/news/community/210575484.html\"><img class=\"post__img\" src=\"/pubs/share/thumb/210575593:c1060x568+23+0:r433x232!\" alt=\"В Гостином дворе покажут стереоскопический фильм о дореволюционной России\"/></a>\\n\\t\\t\\t\\t\\t\\t\\t\\t\\t\\n\\t\\t\\t\\t\\t\\t\\t\\t\\n\\t\\t\\t\\t\\t\\t\\t\\t\\n\\t\\t\\t\\t\\t\\t\\t\\t<h3 class=\"post__title \">\\n\\t\\t\\t\\t\\t\\t\\t\\t\\t<a  href=\"/news/community/210575484.html\">В Гостином дворе покажут стереоскопический фильм о дореволюционной России</a>\\n\\t\\t\\t\\t\\t\\t\\t\\t</h3>\\n\\t\\t\\t\\t\\t\\t\\t\\t\\n\\t\\t\\t\\t\\t\\t\\t\\t<div class=\"post__descr\">\\n\\t\\t\\t\\t\\t\\t\\t\\t\\t<p>Слайд-фильм создан учебной лабораторией 3D-визуализации и компьютерной графики МИЭМ НИУ ВШЭ совместно с Фондом Сергея Челнокова на основе стереоскопических фотографий российских фотографов, работавших на рубеже XIX&ndash;XX веков. Показ состоится 18 октября в рамках выставки &laquo;От Belle &Eacute;poque к революции&nbsp;&mdash; история России через стереофотографию 1880&ndash;1917 в 3D&raquo;.</p>\\n\\n\\t\\t\\t\\t\\t\\t\\t\\t</div>\\n\\t\\t\\t\\t\\t\\t\\t\\t \\n\\t\\t\\t\\t\\t\\t\\t\\t\\t<div class=\"tag-set\">\\n\\t\\t\\t\\t\\t\\t\\t\\t\\t\\t\\n\\t\\t\\t\\t\\t\\t\\t\\t\\t\\t\\t<a class=\"rubric rubric_4\" href=\"/news/community/\"><span>Общество</span></a>\\n\\t\\t\\t\\t\\t\\t\\t\\t\\t\\t\\n\\t\\t\\t\\t\\t\\t\\t\\t\\t\\t\\n\\t\\t\\t\\t\\t\\t\\t\\t\\t\\t\\t<a class=\"tag\" href=\"/news/tags/inv/\" title=\"https://www.hse.ru/приглашение к участию\">приглашение к участию</a>\\n\\t\\t\\t\\t\\t\\t\\t\\t\\t\\t\\n\\t\\t\\t\\t\\t\\t\\t\\t\\t\\t\\t<a class=\"tag\" href=\"/news/keywords/72473744/\" title=\"https://www.hse.ru/выставки\">выставки</a>\\n\\t\\t\\t\\t\\t\\t\\t\\t\\t\\t\\n\\t\\t\\t\\t\\t\\t\\t\\t\\t\\t\\t<a class=\"tag\" href=\"/news/keywords/56945479/\" title=\"https://www.hse.ru/история России\">история России</a>\\n\\t\\t\\t\\t\\t\\t\\t\\t\\t\\t\\n\\t\\t\\t\\t\\t\\t\\t\\t\\t\\t\\t<a class=\"tag\" href=\"/news/keywords/39406923/\" title=\"https://www.hse.ru/фотография\">фотография</a>\\n\\t\\t\\t\\t\\t\\t\\t\\t\\t\\t\\n\\n\\t\\t\\t\\t\\t\\t\\t\\t\\t</div>\\n\\t\\t\\t\\t\\t\\t\\t\\t\\n\\t\\t\\t\\t\\t\\t\\t</li>\\n\\t\\t\\t\\t\\t\\t\\t\\n\\t\\t\\t\\t\\t\\t</ul>\\n\\t\\t\\t\\t\\t</div>\\n\\t\\t\\t\\t\\n\\t\\t\\t\\t\\t<div class=\"column__item\">\\n\\t\\t\\t\\t\\t\\t<ul class=\"post\">\\n\\t\\t\\t\\t\\t\\t\\t\\n\\t\\t\\t\\t\\t\\t\\t<li class=\"post__item\">\\n\\t\\t\\t\\t\\t\\t\\t\\t\\n\\t\\t\\t\\t\\t\\t\\t\\t\\t\\n\\t\\t\\t\\t\\t\\t\\t\\t\\t\\t<a class=\"link_no-underline post__img_href\" href=\"/news/community/210632399.html\"><img class=\"post__img\" src=\"/pubs/share/thumb/210633115:c1159x621+5+3:r433x232!\" alt=\"&amp;laquo;Ожидайте большего и от себя, и от своей страны&amp;raquo;\"/></a>\\n\\t\\t\\t\\t\\t\\t\\t\\t\\t\\n\\t\\t\\t\\t\\t\\t\\t\\t\\n\\t\\t\\t\\t\\t\\t\\t\\t\\n\\t\\t\\t\\t\\t\\t\\t\\t<h3 class=\"post__title \">\\n\\t\\t\\t\\t\\t\\t\\t\\t\\t<a  href=\"/news/community/210632399.html\">&laquo;Ожидайте большего и от себя, и от своей страны&raquo;</a>\\n\\t\\t\\t\\t\\t\\t\\t\\t</h3>\\n\\t\\t\\t\\t\\t\\t\\t\\t\\n\\t\\t\\t\\t\\t\\t\\t\\t<div class=\"post__descr\">\\n\\t\\t\\t\\t\\t\\t\\t\\t\\t<p>В НИУ ВШЭ с лекцией &laquo;Карьера в эпоху трансформации образования и цифровой экономики&raquo; по приглашению Школы бизнес-информатики выступил вице-президент компании Microsoft Энтони Салсито. Новостная служба Вышки выделила несколько тезисов его выступления.</p>\\n\\n\\t\\t\\t\\t\\t\\t\\t\\t</div>\\n\\t\\t\\t\\t\\t\\t\\t\\t \\n\\t\\t\\t\\t\\t\\t\\t\\t\\t<div class=\"tag-set\">\\n\\t\\t\\t\\t\\t\\t\\t\\t\\t\\t\\n\\t\\t\\t\\t\\t\\t\\t\\t\\t\\t\\t<a class=\"rubric rubric_4\" href=\"/news/community/\"><span>Общество</span></a>\\n\\t\\t\\t\\t\\t\\t\\t\\t\\t\\t\\n\\t\\t\\t\\t\\t\\t\\t\\t\\t\\t\\n\\t\\t\\t\\t\\t\\t\\t\\t\\t\\t\\t<a class=\"tag\" href=\"/news/tags/practice/\" title=\"https://www.hse.ru/идеи и опыт\">идеи и опыт</a>\\n\\t\\t\\t\\t\\t\\t\\t\\t\\t\\t\\n\\t\\t\\t\\t\\t\\t\\t\\t\\t\\t\\t<a class=\"tag\" href=\"/news/tags/erep/\" title=\"https://www.hse.ru/репортаж о событии\">репортаж о событии</a>\\n\\t\\t\\t\\t\\t\\t\\t\\t\\t\\t\\n\\t\\t\\t\\t\\t\\t\\t\\t\\t\\t\\t<a class=\"tag\" href=\"/news/keywords/109216961/\" title=\"https://www.hse.ru/Microsoft\">Microsoft</a>\\n\\t\\t\\t\\t\\t\\t\\t\\t\\t\\t\\n\\n\\t\\t\\t\\t\\t\\t\\t\\t\\t</div>\\n\\t\\t\\t\\t\\t\\t\\t\\t\\n\\t\\t\\t\\t\\t\\t\\t</li>\\n\\t\\t\\t\\t\\t\\t\\t\\n\\t\\t\\t\\t\\t\\t\\t<li class=\"post__item\">\\n\\t\\t\\t\\t\\t\\t\\t\\t\\n\\t\\t\\t\\t\\t\\t\\t\\t\\t\\n\\t\\t\\t\\t\\t\\t\\t\\t\\t\\t<a class=\"is-desktop link_no-underline post__img_href\" href=\"http://design.hse.ru/news/678\"><img class=\"post__img\" src=\"/pubs/share/thumb/210517667:c1177x631+0+0:r433x232!\" alt=\"Студенты Школы дизайна разработали плакаты, посвященные финансовой грамотности\"/></a>\\n\\t\\t\\t\\t\\t\\t\\t\\t\\t\\n\\t\\t\\t\\t\\t\\t\\t\\t\\n\\t\\t\\t\\t\\t\\t\\t\\t\\n\\t\\t\\t\\t\\t\\t\\t\\t<h3 class=\"post__title \">\\n\\t\\t\\t\\t\\t\\t\\t\\t\\t<a  href=\"http://design.hse.ru/news/678\">Студенты Школы дизайна разработали плакаты, посвященные финансовой грамотности</a>\\n\\t\\t\\t\\t\\t\\t\\t\\t</h3>\\n\\t\\t\\t\\t\\t\\t\\t\\t\\n\\t\\t\\t\\t\\t\\t\\t\\t<div class=\"post__descr\">\\n\\t\\t\\t\\t\\t\\t\\t\\t\\t<p>На&nbsp;улицах Москвы появились плакаты о&nbsp;финансовой грамотности, разработанные студентами Школы дизайна НИУ ВШЭ.&nbsp; Это итоговая часть проекта, который начался с&nbsp;исследования вопроса финансовой грамотности российских семей и&nbsp;закредитованности населения.</p>\\n\\n\\t\\t\\t\\t\\t\\t\\t\\t</div>\\n\\t\\t\\t\\t\\t\\t\\t\\t \\n\\t\\t\\t\\t\\t\\t\\t\\t\\t<div class=\"tag-set\">\\n\\t\\t\\t\\t\\t\\t\\t\\t\\t\\t\\n\\t\\t\\t\\t\\t\\t\\t\\t\\t\\t\\t<a class=\"rubric rubric_4\" href=\"/news/community/\"><span>Общество</span></a>\\n\\t\\t\\t\\t\\t\\t\\t\\t\\t\\t\\n\\t\\t\\t\\t\\t\\t\\t\\t\\t\\t\\n\\t\\t\\t\\t\\t\\t\\t\\t\\t\\t\\t<a class=\"tag\" href=\"/news/tags/stud/\" title=\"https://www.hse.ru/студенты\">студенты</a>\\n\\t\\t\\t\\t\\t\\t\\t\\t\\t\\t\\n\\t\\t\\t\\t\\t\\t\\t\\t\\t\\t\\t<a class=\"tag\" href=\"/news/keywords/79752339/\" title=\"https://www.hse.ru/коммуникационный дизайн\">коммуникационный дизайн</a>\\n\\t\\t\\t\\t\\t\\t\\t\\t\\t\\t\\n\\t\\t\\t\\t\\t\\t\\t\\t\\t\\t\\t<a class=\"tag\" href=\"/news/keywords/3008733/\" title=\"https://www.hse.ru/финансовая грамотность\">финансовая грамотность</a>\\n\\t\\t\\t\\t\\t\\t\\t\\t\\t\\t\\n\\n\\t\\t\\t\\t\\t\\t\\t\\t\\t</div>\\n\\t\\t\\t\\t\\t\\t\\t\\t\\n\\t\\t\\t\\t\\t\\t\\t</li>\\n\\t\\t\\t\\t\\t\\t\\t\\n\\t\\t\\t\\t\\t\\t</ul>\\n\\t\\t\\t\\t\\t</div>\\n\\t\\t\\t\\t\\n\\t\\t\\t\\t\\t<div class=\"column__item\">\\n\\t\\t\\t\\t\\t\\t<ul class=\"post\">\\n\\t\\t\\t\\t\\t\\t\\t\\n\\t\\t\\t\\t\\t\\t\\t<li class=\"post__item\">\\n\\t\\t\\t\\t\\t\\t\\t\\t\\n\\t\\t\\t\\t\\t\\t\\t\\t\\t\\n\\t\\t\\t\\t\\t\\t\\t\\t\\t\\t<a class=\"is-desktop link_no-underline post__img_href\" href=\"/news/admission/210528609.html\"><img class=\"post__img\" src=\"/pubs/share/thumb/210563584:c1083x580+0+142:r433x232!\" alt=\"Олимпиада &amp;laquo;Я &amp;mdash; профессионал&amp;raquo; даст студентам возможность заявить о себе и стать видимыми для работодателя\"/></a>\\n\\t\\t\\t\\t\\t\\t\\t\\t\\t\\n\\t\\t\\t\\t\\t\\t\\t\\t\\n\\t\\t\\t\\t\\t\\t\\t\\t\\n\\t\\t\\t\\t\\t\\t\\t\\t<h3 class=\"post__title \">\\n\\t\\t\\t\\t\\t\\t\\t\\t\\t<a  href=\"/news/admission/210528609.html\">Олимпиада &laquo;Я &mdash; профессионал&raquo; даст студентам возможность заявить о себе и стать видимыми для работодателя</a>\\n\\t\\t\\t\\t\\t\\t\\t\\t</h3>\\n\\t\\t\\t\\t\\t\\t\\t\\t\\n\\t\\t\\t\\t\\t\\t\\t\\t<div class=\"post__descr\">\\n\\t\\t\\t\\t\\t\\t\\t\\t\\t<p>В конце 2017-начале 2018 года в России пройдет новая олимпиада для студентов &laquo;Я &mdash; профессионал&raquo;. Ее проводят ведущие российские вузы, включая НИУ ВШЭ, а также РСПП и &laquo;Деловая Россия&raquo;. Победители и призеры олимпиады смогут поступать в магистратуру и аспирантуру и трудоустраиваться в лучшие компании.</p>\\n\\n\\t\\t\\t\\t\\t\\t\\t\\t</div>\\n\\t\\t\\t\\t\\t\\t\\t\\t \\n\\t\\t\\t\\t\\t\\t\\t\\t\\t<div class=\"tag-set\">\\n\\t\\t\\t\\t\\t\\t\\t\\t\\t\\t\\n\\t\\t\\t\\t\\t\\t\\t\\t\\t\\t\\t<a class=\"rubric rubric_46\" href=\"/news/admission/\"><span>Поступающим</span></a>\\n\\t\\t\\t\\t\\t\\t\\t\\t\\t\\t\\n\\t\\t\\t\\t\\t\\t\\t\\t\\t\\t\\n\\t\\t\\t\\t\\t\\t\\t\\t\\t\\t\\t<a class=\"tag\" href=\"/news/tags/inv/\" title=\"https://www.hse.ru/приглашение к участию\">приглашение к участию</a>\\n\\t\\t\\t\\t\\t\\t\\t\\t\\t\\t\\n\\t\\t\\t\\t\\t\\t\\t\\t\\t\\t\\t<a class=\"tag\" href=\"/news/tags/mag/\" title=\"https://www.hse.ru/магистратура\">магистратура</a>\\n\\t\\t\\t\\t\\t\\t\\t\\t\\t\\t\\n\\t\\t\\t\\t\\t\\t\\t\\t\\t\\t\\t<a class=\"tag\" href=\"/news/tags/asp/\" title=\"https://www.hse.ru/аспирантура\">аспирантура</a>\\n\\t\\t\\t\\t\\t\\t\\t\\t\\t\\t\\n\\n\\t\\t\\t\\t\\t\\t\\t\\t\\t</div>\\n\\t\\t\\t\\t\\t\\t\\t\\t\\n\\t\\t\\t\\t\\t\\t\\t</li>\\n\\t\\t\\t\\t\\t\\t\\t\\n\\t\\t\\t\\t\\t\\t\\t<li class=\"post__item\">\\n\\t\\t\\t\\t\\t\\t\\t\\t\\n\\t\\t\\t\\t\\t\\t\\t\\t\\t\\n\\t\\t\\t\\t\\t\\t\\t\\t\\t\\t<a class=\"is-desktop link_no-underline post__img_href\" href=\"https://iq.hse.ru/networks/\"><img class=\"post__img\" src=\"/pubs/share/thumb/210641682:c1083x580+0+85:r433x232!\" alt=\"Социальные сети\"/></a>\\n\\t\\t\\t\\t\\t\\t\\t\\t\\t\\n\\t\\t\\t\\t\\t\\t\\t\\t\\n\\t\\t\\t\\t\\t\\t\\t\\t\\n\\t\\t\\t\\t\\t\\t\\t\\t<h3 class=\"post__title \">\\n\\t\\t\\t\\t\\t\\t\\t\\t\\t<a  href=\"https://iq.hse.ru/networks/\">Социальные сети</a>\\n\\t\\t\\t\\t\\t\\t\\t\\t</h3>\\n\\t\\t\\t\\t\\t\\t\\t\\t\\n\\t\\t\\t\\t\\t\\t\\t\\t<div class=\"post__descr\">\\n\\t\\t\\t\\t\\t\\t\\t\\t\\t<p>Что нового соцсети позволяют узнать о человеке и обществе.</p>\\n\\n\\t\\t\\t\\t\\t\\t\\t\\t</div>\\n\\t\\t\\t\\t\\t\\t\\t\\t \\n\\t\\t\\t\\t\\t\\t\\t\\t\\t<div class=\"tag-set\">\\n\\t\\t\\t\\t\\t\\t\\t\\t\\t\\t\\n\\t\\t\\t\\t\\t\\t\\t\\t\\t\\t\\t<a class=\"rubric rubric_32\" href=\"/news/science/\"><span>Наука</span></a>\\n\\t\\t\\t\\t\\t\\t\\t\\t\\t\\t\\n\\t\\t\\t\\t\\t\\t\\t\\t\\t\\t\\n\\t\\t\\t\\t\\t\\t\\t\\t\\t\\t\\t<a class=\"tag\" href=\"/news/tags/resanl/\" title=\"https://www.hse.ru/исследования и аналитика\">исследования и аналитика</a>\\n\\t\\t\\t\\t\\t\\t\\t\\t\\t\\t\\n\\t\\t\\t\\t\\t\\t\\t\\t\\t\\t\\t<a class=\"tag\" href=\"/news/tags/iq/\" title=\"https://www.hse.ru/IQ\">IQ</a>\\n\\t\\t\\t\\t\\t\\t\\t\\t\\t\\t\\n\\t\\t\\t\\t\\t\\t\\t\\t\\t\\t\\t<a class=\"tag\" href=\"/news/keywords/14375447/\" title=\"https://www.hse.ru/медиа\">медиа</a>\\n\\t\\t\\t\\t\\t\\t\\t\\t\\t\\t\\n\\t\\t\\t\\t\\t\\t\\t\\t\\t\\t\\t<a class=\"tag\" href=\"/news/keywords/1293478/\" title=\"https://www.hse.ru/социальные сети\">социальные сети</a>\\n\\t\\t\\t\\t\\t\\t\\t\\t\\t\\t\\n\\n\\t\\t\\t\\t\\t\\t\\t\\t\\t</div>\\n\\t\\t\\t\\t\\t\\t\\t\\t\\n\\t\\t\\t\\t\\t\\t\\t</li>\\n\\t\\t\\t\\t\\t\\t\\t\\n\\t\\t\\t\\t\\t\\t</ul>\\n\\t\\t\\t\\t\\t</div>\\n\\t\\t\\t\\t\\n\\t\\t\\t</div>\\n\\t\\t\\t<div class=\"section_more\">\\n\\t\\t\\t\\t<a href=\"https://www.hse.ru/news/\">Все новости</a>\\n\\t\\t\\t</div>\\n\\t\\t</section>\\n\\t\\n\\n\\t\\t\\n\\n\\t\\t\\n\\t\\t<section class=\"section section--carouselb\"  style=\"background:url(/pubs/share/direct/208637008) 80% 20% no-repeat, url(data:image/png;base64,iVBORw0KGgoAAAANSUhEUgAAAAEAAAKhCAIAAAAe9FMZAAAAqklEQVR4AcWVRxKDQBADR/z/m36Cz+2cp0oWYTk0GTRJSx05TFX1AWd0hs/r7bUnnKkeSc11950cScG3AjA6KeT5+G/4/lktH1cGPpf16+e1OKPmWpHPWh7n/nPNP3OgXGevOaPRACaV6dGg9QC7fhp45mS11mFbDUmLvEKsM8CnQ/5xPi+SGPQ89joGBvQ/1V7NMzR6jadHeBOjY2q54kxz3cPH/gxZPVUnGoNFNXg3Rq4AAAAASUVORK5CYII=) 0 0 repeat-x;\">\\n\\t\\t\\t\\t<div class=\"section__header clear\">\\n\\t\\t\\t\\t\\t<h2 class=\"section_title section_title--abitur\"><a name=\"carouselb\">Вышка 360°</a></h2>\\n\\t\\t\\t\\t</div>\\n\\t\\t\\t\\t<div class=\"column column-28 owl-social\">\\n\\t\\t\\t\\t\\n\\t\\t\\t\\t\\n\\t\\t\\t\\t\\t<div class=\"column__item\">\\n\\t\\t\\t\\t\\t\\t\\n\\t\\t\\t\\t\\t\\t\\t\\n\\t\\t\\t\\t\\t\\t\\t\\t<a class=\"from_social__image from_social__image--abitur\" href=\"https://elearning.hse.ru/mooc\"><img src=\"/pubs/share/thumb/208636728:c150x150+0+0:r150x150!\" alt=\"Массовые открытые онлайн курсы\"/></a>\\n\\t\\t\\t\\t\\t\\t\\t\\n\\t\\t\\t\\t\\t\\t\\n\\t\\t\\t\\t\\t\\t\\n\\t\\t\\t\\t\\t\\t\\t\\n\\t\\t\\t\\t\\t\\t\\t\\t<a class=\"from_social__title\" href=\"https://elearning.hse.ru/mooc\">Массовые открытые онлайн курсы</a>\\n\\t\\t\\t\\t\\t\\t\\t\\n\\t\\t\\t\\t\\t\\t\\n\\t\\t\\t\\t\\t\\t\\n\\t\\t\\t\\t\\t\\t\\t<div class=\"from_social__content\">Бесплатные курсы лучших преподавателей ВШЭ в открытом доступе на Coursera и Национальной платформе открытого образования</div>\\n\\t\\t\\t\\t\\t\\t\\n\\t\\t\\t\\t\\t</div>\\n\\t\\t\\t\\t\\n\\t\\t\\t\\t\\n\\t\\t\\t\\t\\n\\t\\t\\t\\t\\t<div class=\"column__item\">\\n\\t\\t\\t\\t\\t\\t\\n\\t\\t\\t\\t\\t\\t\\t\\n\\t\\t\\t\\t\\t\\t\\t\\t<a class=\"from_social__image from_social__image--abitur\" href=\"https://busedu.hse.ru/\"><img src=\"/pubs/share/thumb/208636751:c150x150+0+0:r150x150!\" alt=\"Дополнительное и бизнес-образование\"/></a>\\n\\t\\t\\t\\t\\t\\t\\t\\n\\t\\t\\t\\t\\t\\t\\n\\t\\t\\t\\t\\t\\t\\n\\t\\t\\t\\t\\t\\t\\t\\n\\t\\t\\t\\t\\t\\t\\t\\t<a class=\"from_social__title\" href=\"https://busedu.hse.ru/\">Дополнительное и бизнес-образование</a>\\n\\t\\t\\t\\t\\t\\t\\t\\n\\t\\t\\t\\t\\t\\t\\n\\t\\t\\t\\t\\t\\t\\n\\t\\t\\t\\t\\t\\t\\t<div class=\"from_social__content\">МВА, EMBA, Executive Master, DBA, программы двух дипломов, профессиональная переподготовка, повышение квалификации, программы для госслужащих и студентов</div>\\n\\t\\t\\t\\t\\t\\t\\n\\t\\t\\t\\t\\t</div>\\n\\t\\t\\t\\t\\n\\t\\t\\t\\t\\n\\t\\t\\t\\t\\n\\t\\t\\t\\t\\t<div class=\"column__item\">\\n\\t\\t\\t\\t\\t\\t\\n\\t\\t\\t\\t\\t\\t\\t\\n\\t\\t\\t\\t\\t\\t\\t\\t<a class=\"from_social__image from_social__image--abitur\" href=\"https://fdp.hse.ru/ischool\"><img src=\"/pubs/share/thumb/208636775:c150x150+0+0:r150x150!\" alt=\"Интернет-школа НИУ ВШЭ\"/></a>\\n\\t\\t\\t\\t\\t\\t\\t\\n\\t\\t\\t\\t\\t\\t\\n\\t\\t\\t\\t\\t\\t\\n\\t\\t\\t\\t\\t\\t\\t\\n\\t\\t\\t\\t\\t\\t\\t\\t<a class=\"from_social__title\" href=\"https://fdp.hse.ru/ischool\">Интернет-школа НИУ ВШЭ</a>\\n\\t\\t\\t\\t\\t\\t\\t\\n\\t\\t\\t\\t\\t\\t\\n\\t\\t\\t\\t\\t\\t\\n\\t\\t\\t\\t\\t\\t\\t<div class=\"from_social__content\">Подготовка к олимпиадам, творческим испытаниям и ЕГЭ с ведущими преподавателями ВШЭ для всех старшеклассников</div>\\n\\t\\t\\t\\t\\t\\t\\n\\t\\t\\t\\t\\t</div>\\n\\t\\t\\t\\t\\n\\t\\t\\t\\t\\n\\t\\t\\t\\t\\n\\t\\t\\t\\t\\t<div class=\"column__item\">\\n\\t\\t\\t\\t\\t\\t\\n\\t\\t\\t\\t\\t\\t\\t\\n\\t\\t\\t\\t\\t\\t\\t\\t<a class=\"from_social__image from_social__image--abitur\" href=\"https://www.hse.ru/lectorian/\"><img src=\"/pubs/share/thumb/208636789:c150x150+0+0:r150x150!\" alt=\"Лектории Высшей школы экономики\"/></a>\\n\\t\\t\\t\\t\\t\\t\\t\\n\\t\\t\\t\\t\\t\\t\\n\\t\\t\\t\\t\\t\\t\\n\\t\\t\\t\\t\\t\\t\\t\\n\\t\\t\\t\\t\\t\\t\\t\\t<a class=\"from_social__title\" href=\"https://www.hse.ru/lectorian/\">Лектории Высшей школы экономики</a>\\n\\t\\t\\t\\t\\t\\t\\t\\n\\t\\t\\t\\t\\t\\t\\n\\t\\t\\t\\t\\t\\t\\n\\t\\t\\t\\t\\t\\t\\t<div class=\"from_social__content\">Открытые лекции преподавателей Вышки для москвичей и гостей столицы в Культурном центре ЗИЛ, музеях города и других ведущих площадках</div>\\n\\t\\t\\t\\t\\t\\t\\n\\t\\t\\t\\t\\t</div>\\n\\t\\t\\t\\t\\n\\t\\t\\t\\t\\n\\t\\t\\t\\t\\n\\t\\t\\t\\t\\t<div class=\"column__item\">\\n\\t\\t\\t\\t\\t\\t\\n\\t\\t\\t\\t\\t\\t\\t\\n\\t\\t\\t\\t\\t\\t\\t\\t<a class=\"from_social__image from_social__image--abitur\" href=\"https://bookshop.hse.ru/\"><img src=\"/pubs/share/thumb/208636800:c150x150+0+0:r150x150!\" alt=\"Университетский книжный магазин «БукВышка»\"/></a>\\n\\t\\t\\t\\t\\t\\t\\t\\n\\t\\t\\t\\t\\t\\t\\n\\t\\t\\t\\t\\t\\t\\n\\t\\t\\t\\t\\t\\t\\t\\n\\t\\t\\t\\t\\t\\t\\t\\t<a class=\"from_social__title\" href=\"https://bookshop.hse.ru/\">Университетский книжный магазин «БукВышка»</a>\\n\\t\\t\\t\\t\\t\\t\\t\\n\\t\\t\\t\\t\\t\\t\\n\\t\\t\\t\\t\\t\\t\\n\\t\\t\\t\\t\\t\\t\\t<div class=\"from_social__content\">Учебная и научная литература российских и зарубежных издательств. Книги и журналы НИУ ВШЭ. Сувениры с вышкинской символикой</div>\\n\\t\\t\\t\\t\\t\\t\\n\\t\\t\\t\\t\\t</div>\\n\\t\\t\\t\\t\\n\\t\\t\\t\\t\\n\\t\\t\\t\\t\\n\\t\\t\\t\\t\\t<div class=\"column__item\">\\n\\t\\t\\t\\t\\t\\t\\n\\t\\t\\t\\t\\t\\t\\t\\n\\t\\t\\t\\t\\t\\t\\t\\t<a class=\"from_social__image from_social__image--abitur\" href=\"https://www.hse.ru/plus\"><img src=\"/pubs/share/thumb/208636848:c150x150+0+0:r150x150!\" alt=\"Бакалавр+\"/></a>\\n\\t\\t\\t\\t\\t\\t\\t\\n\\t\\t\\t\\t\\t\\t\\n\\t\\t\\t\\t\\t\\t\\n\\t\\t\\t\\t\\t\\t\\t\\n\\t\\t\\t\\t\\t\\t\\t\\t<a class=\"from_social__title\" href=\"https://www.hse.ru/plus\">Бакалавр+</a>\\n\\t\\t\\t\\t\\t\\t\\t\\n\\t\\t\\t\\t\\t\\t\\n\\t\\t\\t\\t\\t\\t\\n\\t\\t\\t\\t\\t\\t\\t<div class=\"from_social__content\">Немецкий, французский, испанский, итальянский и китайский языки. По каждому языку предусматривается двух-четырехуровневая программа</div>\\n\\t\\t\\t\\t\\t\\t\\n\\t\\t\\t\\t\\t</div>\\n\\t\\t\\t\\t\\n\\t\\t\\t\\t\\n\\t\\t\\t\\t\\n\\t\\t\\t\\t\\t<div class=\"column__item\">\\n\\t\\t\\t\\t\\t\\t\\n\\t\\t\\t\\t\\t\\t\\t\\n\\t\\t\\t\\t\\t\\t\\t\\t<a class=\"from_social__image from_social__image--abitur\" href=\"https://moscow.hse.ru/\"><img src=\"/pubs/share/thumb/208636861:c313x313+0+0:r150x150!\" alt=\"Университет, открытый городу\"/></a>\\n\\t\\t\\t\\t\\t\\t\\t\\n\\t\\t\\t\\t\\t\\t\\n\\t\\t\\t\\t\\t\\t\\n\\t\\t\\t\\t\\t\\t\\t\\n\\t\\t\\t\\t\\t\\t\\t\\t<a class=\"from_social__title\" href=\"https://moscow.hse.ru/\">Университет, открытый городу</a>\\n\\t\\t\\t\\t\\t\\t\\t\\n\\t\\t\\t\\t\\t\\t\\n\\t\\t\\t\\t\\t\\t\\n\\t\\t\\t\\t\\t\\t\\t<div class=\"from_social__content\">Открытые мероприятия, которые делают науку простой и интересной, а досуг жителей города — полезным и приятным</div>\\n\\t\\t\\t\\t\\t\\t\\n\\t\\t\\t\\t\\t</div>\\n\\t\\t\\t\\t\\n\\t\\t\\t\\t\\n\\t\\t\\t\\t\\n\\t\\t\\t\\t\\t<div class=\"column__item\">\\n\\t\\t\\t\\t\\t\\t\\n\\t\\t\\t\\t\\t\\t\\t\\n\\t\\t\\t\\t\\t\\t\\t\\t<a class=\"from_social__image from_social__image--abitur\" href=\"https://id.hse.ru/shop/\"><img src=\"/pubs/share/thumb/208636878:c150x150+0+0:r150x150!\" alt=\"Интернет-магазин ИД ВШЭ\"/></a>\\n\\t\\t\\t\\t\\t\\t\\t\\n\\t\\t\\t\\t\\t\\t\\n\\t\\t\\t\\t\\t\\t\\n\\t\\t\\t\\t\\t\\t\\t\\n\\t\\t\\t\\t\\t\\t\\t\\t<a class=\"from_social__title\" href=\"https://id.hse.ru/shop/\">Интернет-магазин ИД ВШЭ</a>\\n\\t\\t\\t\\t\\t\\t\\t\\n\\t\\t\\t\\t\\t\\t\\n\\t\\t\\t\\t\\t\\t\\n\\t\\t\\t\\t\\t\\t\\t<div class=\"from_social__content\">Все книги издательства по минимальным ценам. Оплата наличными и банковской картой, курьерская доставка и пункты самовывоза в 300 городах России</div>\\n\\t\\t\\t\\t\\t\\t\\n\\t\\t\\t\\t\\t</div>\\n\\t\\t\\t\\t\\n\\t\\t\\t\\t\\n\\t\\t\\t\\t\\n\\t\\t\\t\\t\\n\\t\\t</section>\\n\\t\\n\\n\\t\\t\\n\\t\\t<section class=\"section section--brown\">\\n\\t\\t\\t<div class=\"section__header clear\">\\n\\t\\t\\t\\t<h2 class=\"section_title section_title--brown section__events\"><a class=\"big_counter\" data-counter=\"75\" data-count=\"75\" name=\"events\">Мероприятия</a></h2>\\n\\t\\t\\t\\t<div lang=\"ru\" class=\"section__controls\">\\n\\t\\t\\t\\t\\t<ul class=\"filter\">\\n\\t\\t\\t\\t\\t\\t\\n\\t\\t\\t\\t\\t\\t<li class=\"filter__item\"><input class=\"filter__input filter__input--theme\" id=\"filter_theme__item_1\" value=\"1\" type=\"checkbox\" data-count=\"18\"><label class=\"filter__label filter__label--theme\" for=\"filter_theme__item_1\">образовательное</label></li>\\n\\t\\t\\t\\t\\t\\t\\n\\t\\t\\t\\t\\t\\t<li class=\"filter__item\"><input class=\"filter__input filter__input--theme\" id=\"filter_theme__item_2\" value=\"2\" type=\"checkbox\" data-count=\"23\"><label class=\"filter__label filter__label--theme\" for=\"filter_theme__item_2\">научное</label></li>\\n\\t\\t\\t\\t\\t\\t\\n\\t\\t\\t\\t\\t\\t<li class=\"filter__item\"><input class=\"filter__input filter__input--theme\" id=\"filter_theme__item_3\" value=\"3\" type=\"checkbox\" data-count=\"2\"><label class=\"filter__label filter__label--theme\" for=\"filter_theme__item_3\">развлекательное</label></li>\\n\\t\\t\\t\\t\\t\\t\\n\\t\\t\\t\\t\\t\\t<li class=\"filter__item\"><input class=\"filter__input filter__input--theme\" id=\"filter_theme__item_6\" value=\"6\" type=\"checkbox\" data-count=\"32\"><label class=\"filter__label filter__label--theme\" for=\"filter_theme__item_6\">день открытых дверей</label></li>\\n\\t\\t\\t\\t\\t\\t\\n\\t\\t\\t\\t\\t</ul>\\n\\t\\t\\t\\t</div>\\n\\t\\t\\t</div>\\n\\t\\t\\t<div class=\"column events__box column-6 owl-carousel\">\\n\\t\\t\\t\\t\\n\\t\\t\\t\\t<div class=\"column__item event-category-2 is-visible\">\\n\\t\\t\\t\\t\\t\\n\\t\\t\\t\\t\\t\\t<div class=\"events__time\">13\\xa0октября</div> \\n\\t\\t\\t\\t\\t\\n\\t\\t\\t\\t\\t<p class=\"events__hour\">10:00</p>\\n\\t\\t\\t\\t\\t<p class=\"events__descr\">Всероссийская конференция <a href=\"/news/210636469.html\">&laquo;Франция после выборов, Франция перед выбором&raquo;</a></p>\\n\\t\\t\\t\\t\\t\\n\\t\\t\\t\\t</div>\\n\\t\\t\\t\\t\\n\\t\\t\\t\\t<div class=\"column__item event-category-2 is-visible\">\\n\\t\\t\\t\\t\\t\\n\\t\\t\\t\\t\\t\\t<div class=\"events__time\">13\\xa0октября</div> \\n\\t\\t\\t\\t\\t\\n\\t\\t\\t\\t\\t<p class=\"events__hour\">18:00</p>\\n\\t\\t\\t\\t\\t<p class=\"events__descr\">Доклад Стивена Виткрофта <a href=\"https://hist.hse.ru/announcements/210475464.html\">&laquo;Чистка руководства Наркомзема и ЦСУ в 1937&ndash;1938 гг.&raquo;</a></p>\\n\\t\\t\\t\\t\\t\\n\\t\\t\\t\\t</div>\\n\\t\\t\\t\\t\\n\\t\\t\\t\\t<div class=\"column__item event-category-2 is-visible\">\\n\\t\\t\\t\\t\\t\\n\\t\\t\\t\\t\\t\\t<div class=\"events__time\">14\\xa0октября</div> \\n\\t\\t\\t\\t\\t\\n\\t\\t\\t\\t\\t<p class=\"events__hour\">12:00</p>\\n\\t\\t\\t\\t\\t<p class=\"events__descr\">IX Международный Форум <a href=\"https://urban.hse.ru/announcements/210437658.html\">&laquo;Рост городов и сохранение наследия вдоль евразийского коридора (шелкового пути)&raquo;</a></p>\\n\\t\\t\\t\\t\\t\\n\\t\\t\\t\\t</div>\\n\\t\\t\\t\\t\\n\\t\\t\\t\\t<div class=\"column__item event-category-1 is-visible\">\\n\\t\\t\\t\\t\\t\\n\\t\\t\\t\\t\\t\\t<div class=\"events__time\">14\\xa0октября</div> \\n\\t\\t\\t\\t\\t\\n\\t\\t\\t\\t\\t<p class=\"events__hour\">14:00</p>\\n\\t\\t\\t\\t\\t<p class=\"events__descr\">&laquo;Университетские субботы&raquo; в НИУ ВШЭ: Лекция Андрея Кудинова <a href=\"https://www.hse.ru/saturdays/announcements/210222596.html\">&laquo;Доказательство в математике: эволюция понятия&raquo;</a></p>\\n\\t\\t\\t\\t\\t\\n\\t\\t\\t\\t</div>\\n\\t\\t\\t\\t\\n\\t\\t\\t\\t<div class=\"column__item event-category-6 is-visible\">\\n\\t\\t\\t\\t\\t\\n\\t\\t\\t\\t\\t\\t<div class=\"events__time\">14\\xa0октября</div> \\n\\t\\t\\t\\t\\t\\n\\t\\t\\t\\t\\t<p class=\"events__hour\">15:10</p>\\n\\t\\t\\t\\t\\t<p class=\"events__descr\">День открытых дверей <a href=\"https://lang.hse.ru/announcements/209604566.html\">бакалаврской программы &laquo;Иностранные языки и межкультурная коммуникация&raquo;</a></p>\\n\\t\\t\\t\\t\\t\\n\\t\\t\\t\\t</div>\\n\\t\\t\\t\\t\\n\\t\\t\\t\\t<div class=\"column__item event-category-6 is-visible\">\\n\\t\\t\\t\\t\\t\\n\\t\\t\\t\\t\\t\\t<div class=\"events__time\">14\\xa0октября</div> \\n\\t\\t\\t\\t\\t\\n\\t\\t\\t\\t\\t<p class=\"events__hour\">16:00</p>\\n\\t\\t\\t\\t\\t<p class=\"events__descr\">День открытых дверей бакалаврских программ <a href=\"https://www.hse.ru/ba/oriental/announcements/209626159.html\">&laquo;Востоковедение&raquo;</a></p>\\n\\t\\t\\t\\t\\t\\n\\t\\t\\t\\t</div>\\n\\t\\t\\t\\t\\n\\t\\t\\t\\t<div class=\"column__item event-category-6 is-visible\">\\n\\t\\t\\t\\t\\t\\n\\t\\t\\t\\t\\t\\t<div class=\"events__time\">14\\xa0октября</div> \\n\\t\\t\\t\\t\\t\\n\\t\\t\\t\\t\\t<p class=\"events__hour\">16:00</p>\\n\\t\\t\\t\\t\\t<p class=\"events__descr\">День открытых дверей <a href=\"https://www.hse.ru/dod_east\">программы бакалавриата &laquo;Экономика и политика в Азии&raquo;</a></p>\\n\\t\\t\\t\\t\\t\\n\\t\\t\\t\\t</div>\\n\\t\\t\\t\\t\\n\\t\\t\\t\\t<div class=\"column__item event-category-2 is-visible\">\\n\\t\\t\\t\\t\\t\\n\\t\\t\\t\\t\\t\\t<div class=\"events__time\">16\\xa0октября</div> \\n\\t\\t\\t\\t\\t\\n\\t\\t\\t\\t\\t<p class=\"events__hour\">18:10</p>\\n\\t\\t\\t\\t\\t<p class=\"events__descr\">Доклад профессора Фроде Бьордаля <a href=\"https://phil.hse.ru/lfk/announcements/210483087.html\">&laquo;Все свойства божественны или Бог существует&raquo;</a></p>\\n\\t\\t\\t\\t\\t\\n\\t\\t\\t\\t</div>\\n\\t\\t\\t\\t\\n\\t\\t\\t\\t<div class=\"column__item event-category-6 is-visible\">\\n\\t\\t\\t\\t\\t\\n\\t\\t\\t\\t\\t\\t<div class=\"events__time\">16\\xa0октября</div> \\n\\t\\t\\t\\t\\t\\n\\t\\t\\t\\t\\t<p class=\"events__hour\">19:00</p>\\n\\t\\t\\t\\t\\t<p class=\"events__descr\">День открытых дверей <a href=\"https://pm.hse.ru/announcements/209448138.html\">Высшей школы управления проектами НИУ ВШЭ</a></p>\\n\\t\\t\\t\\t\\t\\n\\t\\t\\t\\t</div>\\n\\t\\t\\t\\t\\n\\t\\t\\t\\t<div class=\"column__item event-category-6 is-visible\">\\n\\t\\t\\t\\t\\t\\n\\t\\t\\t\\t\\t\\t<div class=\"events__time\">16\\xa0октября</div> \\n\\t\\t\\t\\t\\t\\n\\t\\t\\t\\t\\t<p class=\"events__hour\">20:00</p>\\n\\t\\t\\t\\t\\t<p class=\"events__descr\">Вступительные испытания по программе дополнительного профессионального образования <a href=\"https://pm.hse.ru/announcements/210537134.html\">&laquo;Мастер делового администрирования Master of Business Administration (MBA)&raquo;</a></p>\\n\\t\\t\\t\\t\\t\\n\\t\\t\\t\\t</div>\\n\\t\\t\\t\\t\\n\\t\\t\\t\\t<div class=\"column__item event-category-2 is-visible\">\\n\\t\\t\\t\\t\\t\\n\\t\\t\\t\\t\\t\\t<div class=\"events__time\">17\\xa0октября\\xa0– 18\\xa0октября</div> \\n\\t\\t\\t\\t\\t\\n\\t\\t\\t\\t\\t<p class=\"events__hour\">10:00</p>\\n\\t\\t\\t\\t\\t<p class=\"events__descr\">Международная научная конференция <a href=\"https://hist.hse.ru/announcements/210475961.html\">&laquo;Тадеуш Костюшко в кругу современников и восприятии потомков&raquo;</a></p>\\n\\t\\t\\t\\t\\t\\n\\t\\t\\t\\t</div>\\n\\t\\t\\t\\t\\n\\t\\t\\t\\t<div class=\"column__item event-category-1 is-visible\">\\n\\t\\t\\t\\t\\t\\n\\t\\t\\t\\t\\t\\t<div class=\"events__time\">17\\xa0октября</div> \\n\\t\\t\\t\\t\\t\\n\\t\\t\\t\\t\\t<p class=\"events__hour\">15:10</p>\\n\\t\\t\\t\\t\\t<p class=\"events__descr\">Открытая лекция Евгения Крука <a href=\"https://miem.hse.ru/announcements/210208108.html\">&laquo;Криптография: вход с открытым ключом&raquo;</a></p>\\n\\t\\t\\t\\t\\t\\n\\t\\t\\t\\t</div>\\n\\t\\t\\t\\t\\n\\t\\t\\t\\t<div class=\"column__item event-category-2 is-visible\">\\n\\t\\t\\t\\t\\t\\n\\t\\t\\t\\t\\t\\t<div class=\"events__time\">17\\xa0октября</div> \\n\\t\\t\\t\\t\\t\\n\\t\\t\\t\\t\\t<p class=\"events__hour\">17:00</p>\\n\\t\\t\\t\\t\\t<p class=\"events__descr\">Научный семинар <a href=\"https://economics.hse.ru/demat/announcements/210590737.html\">&laquo;Contracting out public services to asymmetric partnerships&raquo;</a></p>\\n\\t\\t\\t\\t\\t\\n\\t\\t\\t\\t</div>\\n\\t\\t\\t\\t\\n\\t\\t\\t\\t<div class=\"column__item event-category-1 is-visible\">\\n\\t\\t\\t\\t\\t\\n\\t\\t\\t\\t\\t\\t<div class=\"events__time\">17\\xa0октября</div> \\n\\t\\t\\t\\t\\t\\n\\t\\t\\t\\t\\t<p class=\"events__hour\">18:30</p>\\n\\t\\t\\t\\t\\t<p class=\"events__descr\">Открытая лекция Стюарта Лоусона <a href=\"https://binst.hse.ru/announcements/210644835.html\">&laquo;Financial Institutions Behavior in the Crises&raquo;</a></p>\\n\\t\\t\\t\\t\\t\\n\\t\\t\\t\\t</div>\\n\\t\\t\\t\\t\\n\\t\\t\\t\\t<div class=\"column__item event-category-6 is-visible\">\\n\\t\\t\\t\\t\\t\\n\\t\\t\\t\\t\\t\\t<div class=\"events__time\">17\\xa0октября</div> \\n\\t\\t\\t\\t\\t\\n\\t\\t\\t\\t\\t<p class=\"events__hour\">19:00</p>\\n\\t\\t\\t\\t\\t<p class=\"events__descr\"><a href=\"https://www.hse.ru/webinar/announcements/210397715.html\">Вебинар программ дополнительного образования Высшей школы юриспруденции</a></p>\\n\\t\\t\\t\\t\\t\\n\\t\\t\\t\\t</div>\\n\\t\\t\\t\\t\\n\\t\\t\\t\\t<div class=\"column__item event-category-2 is-visible\">\\n\\t\\t\\t\\t\\t\\n\\t\\t\\t\\t\\t\\t<div class=\"events__time\">18\\xa0октября</div> \\n\\t\\t\\t\\t\\t\\n\\t\\t\\t\\t\\t<p class=\"events__hour\">11:00</p>\\n\\t\\t\\t\\t\\t<p class=\"events__descr\">Научно-практическая конференция <a href=\"https://re.hse.ru/announcements/210391707.html\">&laquo;Москва резиновая: сколько еще жилья можно построить в столице?&raquo;</a></p>\\n\\t\\t\\t\\t\\t\\n\\t\\t\\t\\t</div>\\n\\t\\t\\t\\t\\n\\t\\t\\t\\t<div class=\"column__item event-category-2 is-visible\">\\n\\t\\t\\t\\t\\t\\n\\t\\t\\t\\t\\t\\t<div class=\"events__time\">18\\xa0октября</div> \\n\\t\\t\\t\\t\\t\\n\\t\\t\\t\\t\\t<p class=\"events__hour\">16:00</p>\\n\\t\\t\\t\\t\\t<p class=\"events__descr\">Семинар <a href=\"https://demogr.hse.ru/announcements/209857085.html\">&laquo;Социальная и пространственная близость и демографические изменения: инновационный аналитический подход на основе микроданных переписи&raquo;</a></p>\\n\\t\\t\\t\\t\\t\\n\\t\\t\\t\\t</div>\\n\\t\\t\\t\\t\\n\\t\\t\\t\\t<div class=\"column__item event-category-2 is-visible\">\\n\\t\\t\\t\\t\\t\\n\\t\\t\\t\\t\\t\\t<div class=\"events__time\">18\\xa0октября</div> \\n\\t\\t\\t\\t\\t\\n\\t\\t\\t\\t\\t<p class=\"events__hour\">16:30</p>\\n\\t\\t\\t\\t\\t<p class=\"events__descr\">Общемосковский научный семинар <a href=\"https://economics.hse.ru/demat/announcements/210423486.html\">&laquo;Представления о нетранзитивности превосходства в различных областях: биологии, экономике, теории игр, психологии&raquo;</a></p>\\n\\t\\t\\t\\t\\t\\n\\t\\t\\t\\t</div>\\n\\t\\t\\t\\t\\n\\t\\t\\t\\t<div class=\"column__item event-category-6 is-visible\">\\n\\t\\t\\t\\t\\t\\n\\t\\t\\t\\t\\t\\t<div class=\"events__time\">18\\xa0октября</div> \\n\\t\\t\\t\\t\\t\\n\\t\\t\\t\\t\\t<p class=\"events__hour\">19:00</p>\\n\\t\\t\\t\\t\\t<p class=\"events__descr\">День открытых дверей программ профессиональной переподготовки <a href=\"http://hsbi.hse.ru/events/open_days/den-otkrytykh-dverey-programm-menedzhment-v-sfere-eb-i-imk-18-10-2017\">&laquo;Менеджмент в сфере электронного бизнеса и интернет-проектов&raquo; и &laquo;Интернет-маркетинговые коммуникации&raquo;</a></p>\\n\\t\\t\\t\\t\\t\\n\\t\\t\\t\\t</div>\\n\\t\\t\\t\\t\\n\\t\\t\\t\\t<div class=\"column__item event-category-3 is-visible\">\\n\\t\\t\\t\\t\\t\\n\\t\\t\\t\\t\\t\\t<div class=\"events__time\">18\\xa0октября</div> \\n\\t\\t\\t\\t\\t\\n\\t\\t\\t\\t\\t<p class=\"events__hour\">19:00</p>\\n\\t\\t\\t\\t\\t<p class=\"events__descr\">Концерт <a href=\"https://pr.hse.ru/culture/announcements/191623285.html\">&laquo;Рояль и море&raquo;: Алексей Любимов</a></p>\\n\\t\\t\\t\\t\\t\\n\\t\\t\\t\\t</div>\\n\\t\\t\\t\\t\\n\\t\\t\\t\\t<div class=\"column__item event-category-1 is-visible\">\\n\\t\\t\\t\\t\\t\\n\\t\\t\\t\\t\\t\\t<div class=\"events__time\">18\\xa0октября</div> \\n\\t\\t\\t\\t\\t\\n\\t\\t\\t\\t\\t<p class=\"events__hour\">19:00</p>\\n\\t\\t\\t\\t\\t<p class=\"events__descr\">Мастер-класс <a href=\"https://logistics.hse.ru/announcements/210401548.html\">&laquo;Supply chain версия 4.0 &ndash; OMNI channel в Adidas&raquo;</a></p>\\n\\t\\t\\t\\t\\t\\n\\t\\t\\t\\t</div>\\n\\t\\t\\t\\t\\n\\t\\t\\t\\t<div class=\"column__item event-category-1 is-visible\">\\n\\t\\t\\t\\t\\t\\n\\t\\t\\t\\t\\t\\t<div class=\"events__time\">18\\xa0октября</div> \\n\\t\\t\\t\\t\\t\\n\\t\\t\\t\\t\\t<p class=\"events__hour\">19:00</p>\\n\\t\\t\\t\\t\\t<p class=\"events__descr\">Мастер-класс Владимира Сенина <a href=\"https://www.hse.ru/busgov/announcements/210639433.html\">&laquo;Вызовы на пути развития банковского сектора и задачи GR в современных условиях&raquo;</a></p>\\n\\t\\t\\t\\t\\t\\n\\t\\t\\t\\t</div>\\n\\t\\t\\t\\t\\n\\t\\t\\t\\t<div class=\"column__item event-category-2 is-visible\">\\n\\t\\t\\t\\t\\t\\n\\t\\t\\t\\t\\t\\t<div class=\"events__time\">19\\xa0октября\\xa0– 21\\xa0октября</div> \\n\\t\\t\\t\\t\\t\\n\\t\\t\\t\\t\\t\\n\\t\\t\\t\\t\\t<p class=\"events__descr\">III Международная конференция исследователей высшего образования <a href=\"https://educonf.hse.ru/2017\">&laquo;Университеты, меняющие себя и мир&raquo;</a></p>\\n\\t\\t\\t\\t\\t\\t\\n\\t\\t\\t\\t\\t<div class=\"events__comment grey\">\\n\\t\\t\\t\\t\\t\\t\\n\\t\\t\\t\\t\\t\\t\\t<p>Регистрация индивидуальных докладов – до 22 мая<span class=\"with-icon with-icon_flag2 with-icon_right\">&nbsp;</span></p>\\n\\t\\t\\t\\t\\t\\t\\n\\t\\t\\t\\t\\t</div>\\n\\t\\t\\t\\t\\t\\n\\t\\t\\t\\t</div>\\n\\t\\t\\t\\t\\n\\t\\t\\t\\t<div class=\"column__item event-category-1 is-visible\">\\n\\t\\t\\t\\t\\t\\n\\t\\t\\t\\t\\t\\t<div class=\"events__time\">19\\xa0октября</div> \\n\\t\\t\\t\\t\\t\\n\\t\\t\\t\\t\\t<p class=\"events__hour\">10:00</p>\\n\\t\\t\\t\\t\\t<p class=\"events__descr\">Обучающий семинар <a href=\"https://ipag.hse.ru/mnoc/announcements/210421519.html\">&laquo;Нотификация. Проблемы введения в России&raquo;</a></p>\\n\\t\\t\\t\\t\\t\\n\\t\\t\\t\\t</div>\\n\\t\\t\\t\\t\\n\\t\\t\\t\\t<div class=\"column__item event-category-1 is-visible\">\\n\\t\\t\\t\\t\\t\\n\\t\\t\\t\\t\\t\\t<div class=\"events__time\">19\\xa0октября</div> \\n\\t\\t\\t\\t\\t\\n\\t\\t\\t\\t\\t<p class=\"events__hour\">18:30</p>\\n\\t\\t\\t\\t\\t<p class=\"events__descr\">Лекторий <a href=\"https://www.hse.ru/lectorian/announcements/210583137.html\">&laquo;Университет, открытый городу: лекционные четверги в музеях Москвы&raquo;</a>: Алексей Маслов о магических истоках ранних китайских иероглифов</p>\\n\\t\\t\\t\\t\\t\\n\\t\\t\\t\\t</div>\\n\\t\\t\\t\\t\\n\\t\\t\\t\\t<div class=\"column__item event-category-1 is-visible\">\\n\\t\\t\\t\\t\\t\\n\\t\\t\\t\\t\\t\\t<div class=\"events__time\">19\\xa0октября</div> \\n\\t\\t\\t\\t\\t\\n\\t\\t\\t\\t\\t<p class=\"events__hour\">19:00</p>\\n\\t\\t\\t\\t\\t<p class=\"events__descr\">Вебинар программы <a href=\"https://www.hse.ru/webinar/announcements/210428478.html\">&laquo;Предпринимательские финансы (уровень 1)&raquo;</a></p>\\n\\t\\t\\t\\t\\t\\n\\t\\t\\t\\t</div>\\n\\t\\t\\t\\t\\n\\t\\t\\t\\t<div class=\"column__item event-category-6 is-visible\">\\n\\t\\t\\t\\t\\t\\n\\t\\t\\t\\t\\t\\t<div class=\"events__time\">19\\xa0октября</div> \\n\\t\\t\\t\\t\\t\\n\\t\\t\\t\\t\\t<p class=\"events__hour\">19:00</p>\\n\\t\\t\\t\\t\\t<p class=\"events__descr\">Презентация программы дополнительного образования <a href=\"https://pm.hse.ru/announcements/210580866.html\">&laquo;Инвестиционный анализ, управление финансами и рисками проекта&raquo;</a></p>\\n\\t\\t\\t\\t\\t\\n\\t\\t\\t\\t</div>\\n\\t\\t\\t\\t\\n\\t\\t\\t\\t<div class=\"column__item event-category-1 is-visible\">\\n\\t\\t\\t\\t\\t\\n\\t\\t\\t\\t\\t\\t<div class=\"events__time\">20\\xa0октября\\xa0– 20\\xa0сентября</div> \\n\\t\\t\\t\\t\\t\\n\\t\\t\\t\\t\\t<p class=\"events__hour\">17:00</p>\\n\\t\\t\\t\\t\\t<p class=\"events__descr\">Презентация книги Паникоса Деметриадеса <a href=\"https://cinst.hse.ru/announcements/209603119.html\">&laquo;A Diary of the Euro Crisis in Cyprus Lessons for Bank Recovery and Resolution&raquo;</a></p>\\n\\t\\t\\t\\t\\t\\n\\t\\t\\t\\t</div>\\n\\t\\t\\t\\t\\n\\t\\t\\t\\t<div class=\"column__item event-category-1 is-visible\">\\n\\t\\t\\t\\t\\t\\n\\t\\t\\t\\t\\t\\t<div class=\"events__time\">20\\xa0октября</div> \\n\\t\\t\\t\\t\\t\\n\\t\\t\\t\\t\\t<p class=\"events__hour\">19:00</p>\\n\\t\\t\\t\\t\\t<p class=\"events__descr\">Лекция-концерт <a href=\"https://moscow.hse.ru/announcements/210604083.html\">Государственного академического русского хора имени А.В. Свешникова</a></p>\\n\\t\\t\\t\\t\\t\\n\\t\\t\\t\\t</div>\\n\\t\\t\\t\\t\\n\\t\\t\\t\\t<div class=\"column__item event-category-1 is-visible\">\\n\\t\\t\\t\\t\\t\\n\\t\\t\\t\\t\\t\\t<div class=\"events__time\">21\\xa0октября\\xa0– 22\\xa0октября</div> \\n\\t\\t\\t\\t\\t\\n\\t\\t\\t\\t\\t<p class=\"events__hour\">10:00</p>\\n\\t\\t\\t\\t\\t<p class=\"events__descr\">Мастер-класс <a href=\"https://urban.hse.ru/announcements/210251405.html\">&laquo;Общественное участие в городских проектах &ndash; инструкция по применению&raquo;</a></p>\\n\\t\\t\\t\\t\\t\\t\\n\\t\\t\\t\\t\\t<div class=\"events__comment grey\">\\n\\t\\t\\t\\t\\t\\t\\n\\t\\t\\t\\t\\t\\t\\t<p>Заявки — до 15 октября<span class=\"with-icon with-icon_flag2 with-icon_right\">&nbsp;</span></p>\\n\\t\\t\\t\\t\\t\\t\\n\\t\\t\\t\\t\\t</div>\\n\\t\\t\\t\\t\\t\\n\\t\\t\\t\\t</div>\\n\\t\\t\\t\\t\\n\\t\\t\\t\\t<div class=\"column__item event-category-6 is-visible\">\\n\\t\\t\\t\\t\\t\\n\\t\\t\\t\\t\\t\\t<div class=\"events__time\">21\\xa0октября</div> \\n\\t\\t\\t\\t\\t\\n\\t\\t\\t\\t\\t<p class=\"events__hour\">11:00</p>\\n\\t\\t\\t\\t\\t<p class=\"events__descr\">День открытых дверей <a href=\"https://bi.hse.ru/announcements/210565432.html\">бакалаврских программ по направлению &laquo;Бизнес-информатика&raquo;</a></p>\\n\\t\\t\\t\\t\\t\\n\\t\\t\\t\\t</div>\\n\\t\\t\\t\\t\\n\\t\\t\\t\\t<div class=\"column__item event-category-6 is-visible\">\\n\\t\\t\\t\\t\\t\\n\\t\\t\\t\\t\\t\\t<div class=\"events__time\">21\\xa0октября</div> \\n\\t\\t\\t\\t\\t\\n\\t\\t\\t\\t\\t<p class=\"events__hour\">11:30</p>\\n\\t\\t\\t\\t\\t<p class=\"events__descr\">WelcomeLabDay: <a href=\"https://www.hse.ru/ma/pb/announcements/210257714.html\">открытый день лабораторий департамента психологии</a></p>\\n\\t\\t\\t\\t\\t\\n\\t\\t\\t\\t</div>\\n\\t\\t\\t\\t\\n\\t\\t\\t\\t<div class=\"column__item event-category-6 is-visible\">\\n\\t\\t\\t\\t\\t\\n\\t\\t\\t\\t\\t\\t<div class=\"events__time\">21\\xa0октября</div> \\n\\t\\t\\t\\t\\t\\n\\t\\t\\t\\t\\t<p class=\"events__hour\">13:00</p>\\n\\t\\t\\t\\t\\t<p class=\"events__descr\">День открытых дверей <a href=\"https://www.hse.ru/ba/psy/announcements/209516569.html\">бакалаврской программы &laquo;Психология&raquo;</a></p>\\n\\t\\t\\t\\t\\t\\n\\t\\t\\t\\t</div>\\n\\t\\t\\t\\t\\n\\t\\t\\t\\t<div class=\"column__item event-category-6 is-visible\">\\n\\t\\t\\t\\t\\t\\n\\t\\t\\t\\t\\t\\t<div class=\"events__time\">21\\xa0октября</div> \\n\\t\\t\\t\\t\\t\\n\\t\\t\\t\\t\\t<p class=\"events__hour\">13:00</p>\\n\\t\\t\\t\\t\\t<p class=\"events__descr\">День открытых дверей бакалаврской программы <a href=\"https://www.hse.ru/ba/ir/announcements/209654960.html\">двух дипломов НИУ ВШЭ и Лондонского университета &laquo;Международные отношения&raquo;</a></p>\\n\\t\\t\\t\\t\\t\\n\\t\\t\\t\\t</div>\\n\\t\\t\\t\\t\\n\\t\\t\\t\\t<div class=\"column__item event-category-6 is-visible\">\\n\\t\\t\\t\\t\\t\\n\\t\\t\\t\\t\\t\\t<div class=\"events__time\">21\\xa0октября</div> \\n\\t\\t\\t\\t\\t\\n\\t\\t\\t\\t\\t<p class=\"events__hour\">14:00</p>\\n\\t\\t\\t\\t\\t<p class=\"events__descr\">День открытых дверей <a href=\"https://bi.hse.ru/announcements/210566138.html\">магистерских программ по направлению &laquo;Бизнес-информатика&raquo;</a></p>\\n\\t\\t\\t\\t\\t\\n\\t\\t\\t\\t</div>\\n\\t\\t\\t\\t\\n\\t\\t\\t\\t<div class=\"column__item event-category-6 is-visible\">\\n\\t\\t\\t\\t\\t\\n\\t\\t\\t\\t\\t\\t<div class=\"events__time\">21\\xa0октября</div> \\n\\t\\t\\t\\t\\t\\n\\t\\t\\t\\t\\t<p class=\"events__hour\">15:00</p>\\n\\t\\t\\t\\t\\t<p class=\"events__descr\">День открытых дверей <a href=\"https://www.hse.ru/ma/family/announcements/209646002.html\">программ магистратуры по направлению &laquo;Психология&raquo;</a></p>\\n\\t\\t\\t\\t\\t\\n\\t\\t\\t\\t</div>\\n\\t\\t\\t\\t\\n\\t\\t\\t\\t<div class=\"column__item event-category-1 is-visible\">\\n\\t\\t\\t\\t\\t\\n\\t\\t\\t\\t\\t\\t<div class=\"events__time\">21\\xa0октября</div> \\n\\t\\t\\t\\t\\t\\n\\t\\t\\t\\t\\t<p class=\"events__hour\">19:00</p>\\n\\t\\t\\t\\t\\t<p class=\"events__descr\">Открытая лекция Александра Потапова <a href=\"http://mba.hse.ru/our_news/?ELEMENT_ID=2214\">&laquo;Достижения и перспективы современной нейрохирургии&raquo;</a></p>\\n\\t\\t\\t\\t\\t\\n\\t\\t\\t\\t</div>\\n\\t\\t\\t\\t\\n\\t\\t\\t\\t<div class=\"column__item event-category-6 is-visible\">\\n\\t\\t\\t\\t\\t\\n\\t\\t\\t\\t\\t\\t<div class=\"events__time\">22\\xa0октября</div> \\n\\t\\t\\t\\t\\t\\n\\t\\t\\t\\t\\t<p class=\"events__hour\">12:00</p>\\n\\t\\t\\t\\t\\t<p class=\"events__descr\">День открытых дверей <a href=\"https://www.hse.ru/ba/ia/announcements/209626429.html\">бакалаврской программы &laquo;Международные отношения&raquo;</a></p>\\n\\t\\t\\t\\t\\t\\n\\t\\t\\t\\t</div>\\n\\t\\t\\t\\t\\n\\t\\t\\t\\t<div class=\"column__item event-category-6 is-visible\">\\n\\t\\t\\t\\t\\t\\n\\t\\t\\t\\t\\t\\t<div class=\"events__time\">22\\xa0октября</div> \\n\\t\\t\\t\\t\\t\\n\\t\\t\\t\\t\\t<p class=\"events__hour\">12:00</p>\\n\\t\\t\\t\\t\\t<p class=\"events__descr\">День открытых дверей <a href=\"https://cmd.hse.ru/announcements/210256170.html\">образовательной программы &laquo;Реклама и связи с общественностью&raquo;</a></p>\\n\\t\\t\\t\\t\\t\\n\\t\\t\\t\\t</div>\\n\\t\\t\\t\\t\\n\\t\\t\\t\\t<div class=\"column__item event-category-6 is-visible\">\\n\\t\\t\\t\\t\\t\\n\\t\\t\\t\\t\\t\\t<div class=\"events__time\">22\\xa0октября</div> \\n\\t\\t\\t\\t\\t\\n\\t\\t\\t\\t\\t<p class=\"events__hour\">18:30</p>\\n\\t\\t\\t\\t\\t<p class=\"events__descr\">День открытых дверей <a href=\"https://www.hse.ru/ma/politanaliz/announcements/210388290.html\">англоязычных магистерских программ факультета социальных наук</a></p>\\n\\t\\t\\t\\t\\t\\n\\t\\t\\t\\t</div>\\n\\t\\t\\t\\t\\n\\t\\t\\t\\t<div class=\"column__item event-category-2 is-visible\">\\n\\t\\t\\t\\t\\t\\n\\t\\t\\t\\t\\t\\t<div class=\"events__time\">24\\xa0октября</div> \\n\\t\\t\\t\\t\\t\\n\\t\\t\\t\\t\\t<p class=\"events__hour\">18:10</p>\\n\\t\\t\\t\\t\\t<p class=\"events__descr\">Семинар <a href=\"https://lirt.hse.ru/announcements/210476774.html\">&laquo;Долгосрочные источники роста российской экономики до и после кризиса 2008 г.&raquo;</a></p>\\n\\t\\t\\t\\t\\t\\n\\t\\t\\t\\t</div>\\n\\t\\t\\t\\t\\n\\t\\t\\t\\t<div class=\"column__item event-category-1 is-visible\">\\n\\t\\t\\t\\t\\t\\n\\t\\t\\t\\t\\t\\t<div class=\"events__time\">25\\xa0октября</div> \\n\\t\\t\\t\\t\\t\\n\\t\\t\\t\\t\\t<p class=\"events__hour\">19:00</p>\\n\\t\\t\\t\\t\\t<p class=\"events__descr\">Открытый практический консультационный семинар <a href=\"https://pm.hse.ru/announcements/210402801.html\">&laquo;Agile в России: обзор и тенденции&raquo;</a></p>\\n\\t\\t\\t\\t\\t\\n\\t\\t\\t\\t</div>\\n\\t\\t\\t\\t\\n\\t\\t\\t\\t<div class=\"column__item event-category-2 is-visible\">\\n\\t\\t\\t\\t\\t\\n\\t\\t\\t\\t\\t\\t<div class=\"events__time\">26\\xa0октября\\xa0– 27\\xa0октября</div> \\n\\t\\t\\t\\t\\t\\n\\t\\t\\t\\t\\t<p class=\"events__hour\">10:00</p>\\n\\t\\t\\t\\t\\t<p class=\"events__descr\">Международная конференция <a href=\"https://isp.hse.ru/announcements/205308231.html\">&laquo;Миграция: новые тенденции и направления&raquo;</a></p>\\n\\t\\t\\t\\t\\t\\n\\t\\t\\t\\t</div>\\n\\t\\t\\t\\t\\n\\t\\t\\t\\t<div class=\"column__item event-category-1 is-visible\">\\n\\t\\t\\t\\t\\t\\n\\t\\t\\t\\t\\t\\t<div class=\"events__time\">26\\xa0октября</div> \\n\\t\\t\\t\\t\\t\\n\\t\\t\\t\\t\\t<p class=\"events__hour\">19:00</p>\\n\\t\\t\\t\\t\\t<p class=\"events__descr\">Открытый семинар <a href=\"https://marketing.hse.ru/announcements/210435316.html\">&laquo;Реальные покупки как база для сегментации покупателей&raquo;</a></p>\\n\\t\\t\\t\\t\\t\\n\\t\\t\\t\\t</div>\\n\\t\\t\\t\\t\\n\\t\\t\\t\\t<div class=\"column__item event-category-2 is-visible\">\\n\\t\\t\\t\\t\\t\\n\\t\\t\\t\\t\\t\\t<div class=\"events__time\">27\\xa0октября\\xa0– 28\\xa0октября</div> \\n\\t\\t\\t\\t\\t\\n\\t\\t\\t\\t\\t\\n\\t\\t\\t\\t\\t<p class=\"events__descr\">I Всероссийская научно-практическая конференция с международным участием <a href=\"https://www.hse.ru/cpc/psyuni\">&laquo;Психологическая служба университета: реальность и перспективы&raquo;</a></p>\\n\\t\\t\\t\\t\\t\\t\\n\\t\\t\\t\\t\\t<div class=\"events__comment grey\">\\n\\t\\t\\t\\t\\t\\t\\n\\t\\t\\t\\t\\t\\t\\t<p>Заявки — до 15 октября<span class=\"with-icon with-icon_flag2 with-icon_right\">&nbsp;</span></p>\\n\\t\\t\\t\\t\\t\\t\\n\\t\\t\\t\\t\\t</div>\\n\\t\\t\\t\\t\\t\\n\\t\\t\\t\\t</div>\\n\\t\\t\\t\\t\\n\\t\\t\\t\\t<div class=\"column__item event-category-2 is-visible\">\\n\\t\\t\\t\\t\\t\\n\\t\\t\\t\\t\\t\\t<div class=\"events__time\">27\\xa0октября\\xa0– 29\\xa0октября</div> \\n\\t\\t\\t\\t\\t\\n\\t\\t\\t\\t\\t<p class=\"events__hour\">11:00</p>\\n\\t\\t\\t\\t\\t<p class=\"events__descr\"><a href=\"https://lfe.hse.ru/ru/announcements/207992744.html\">Шестая международная московская конференция по финансам и экономике</a></p>\\n\\t\\t\\t\\t\\t\\n\\t\\t\\t\\t</div>\\n\\t\\t\\t\\t\\n\\t\\t\\t\\t<div class=\"column__item event-category-1 is-visible\">\\n\\t\\t\\t\\t\\t\\n\\t\\t\\t\\t\\t\\t<div class=\"events__time\">28\\xa0октября</div> \\n\\t\\t\\t\\t\\t\\n\\t\\t\\t\\t\\t<p class=\"events__hour\">14:00</p>\\n\\t\\t\\t\\t\\t<p class=\"events__descr\">&laquo;Университетские субботы&raquo; в НИУ ВШЭ: <a href=\"https://www.hse.ru/saturdays/announcements/210250573.html\">Деловая игра по международным отношениям: &laquo;Столкновение цивилизаций&raquo;</a></p>\\n\\t\\t\\t\\t\\t\\n\\t\\t\\t\\t</div>\\n\\t\\t\\t\\t\\n\\t\\t\\t\\t<div class=\"column__item event-category-6 is-visible\">\\n\\t\\t\\t\\t\\t\\n\\t\\t\\t\\t\\t\\t<div class=\"events__time\">29\\xa0октября</div> \\n\\t\\t\\t\\t\\t\\n\\t\\t\\t\\t\\t<p class=\"events__hour\">11:00</p>\\n\\t\\t\\t\\t\\t<p class=\"events__descr\">День открытых дверей бакалавриата <a href=\"https://cmd.hse.ru/mediaday\">по направлениям &laquo;Журналистика&raquo; и &laquo;Медиакоммуникации&raquo;</a></p>\\n\\t\\t\\t\\t\\t\\n\\t\\t\\t\\t</div>\\n\\t\\t\\t\\t\\n\\t\\t\\t\\t<div class=\"column__item event-category-6 is-visible\">\\n\\t\\t\\t\\t\\t\\n\\t\\t\\t\\t\\t\\t<div class=\"events__time\">29\\xa0октября</div> \\n\\t\\t\\t\\t\\t\\n\\t\\t\\t\\t\\t<p class=\"events__hour\">12:00</p>\\n\\t\\t\\t\\t\\t<p class=\"events__descr\">День открытых дверей п<a href=\"https://management.hse.ru/announcements/209410268.html\">рограмм бакалавриата по направлению &laquo;Менеджмент&raquo;</a></p>\\n\\t\\t\\t\\t\\t\\n\\t\\t\\t\\t</div>\\n\\t\\t\\t\\t\\n\\t\\t\\t\\t<div class=\"column__item event-category-6 is-visible\">\\n\\t\\t\\t\\t\\t\\n\\t\\t\\t\\t\\t\\t<div class=\"events__time\">29\\xa0октября</div> \\n\\t\\t\\t\\t\\t\\n\\t\\t\\t\\t\\t<p class=\"events__hour\">15:00</p>\\n\\t\\t\\t\\t\\t<p class=\"events__descr\">День открытых дверей <a href=\"https://management.hse.ru/announcements/209410268.html\">программ магистратуры по направлению &laquo;Менеджмент&raquo;</a></p>\\n\\t\\t\\t\\t\\t\\n\\t\\t\\t\\t</div>\\n\\t\\t\\t\\t\\n\\t\\t\\t\\t<div class=\"column__item event-category-6 is-visible\">\\n\\t\\t\\t\\t\\t\\n\\t\\t\\t\\t\\t\\t<div class=\"events__time\">29\\xa0октября</div> \\n\\t\\t\\t\\t\\t\\n\\t\\t\\t\\t\\t<p class=\"events__hour\">16:00</p>\\n\\t\\t\\t\\t\\t<p class=\"events__descr\">День открытых дверей магистратуры <a href=\"https://cmd.hse.ru/mediaday\">по направлениям &laquo;Журналистика&raquo; и &laquo;Медиакоммуникации&raquo;</a></p>\\n\\t\\t\\t\\t\\t\\n\\t\\t\\t\\t</div>\\n\\t\\t\\t\\t\\n\\t\\t\\t\\t<div class=\"column__item event-category-2 is-visible\">\\n\\t\\t\\t\\t\\t\\n\\t\\t\\t\\t\\t\\t<div class=\"events__time\">30\\xa0октября</div> \\n\\t\\t\\t\\t\\t\\n\\t\\t\\t\\t\\t<p class=\"events__hour\">10:00</p>\\n\\t\\t\\t\\t\\t<p class=\"events__descr\">Международный форум междисциплинарных исследований <a href=\"https://studlife.hse.ru/announcements/208966968.html\">&laquo;Закат закона&raquo;</a></p>\\n\\t\\t\\t\\t\\t\\n\\t\\t\\t\\t</div>\\n\\t\\t\\t\\t\\n\\t\\t\\t\\t<div class=\"column__item event-category-1 is-visible\">\\n\\t\\t\\t\\t\\t\\n\\t\\t\\t\\t\\t\\t<div class=\"events__time\">30\\xa0октября\\xa0– 5\\xa0ноября</div> \\n\\t\\t\\t\\t\\t\\n\\t\\t\\t\\t\\t\\n\\t\\t\\t\\t\\t<p class=\"events__descr\"><a href=\"https://shkolnikam.hse.ru/projectsc/\">Осенняя школа бизнес-проектов</a> (для учащихся 10-11 классов)</p>\\n\\t\\t\\t\\t\\t\\t\\n\\t\\t\\t\\t\\t<div class=\"events__comment grey\">\\n\\t\\t\\t\\t\\t\\t\\n\\t\\t\\t\\t\\t\\t\\t<p>Заявки — до 15 октября<span class=\"with-icon with-icon_flag2 with-icon_right\">&nbsp;</span></p>\\n\\t\\t\\t\\t\\t\\t\\n\\t\\t\\t\\t\\t</div>\\n\\t\\t\\t\\t\\t\\n\\t\\t\\t\\t</div>\\n\\t\\t\\t\\t\\n\\t\\t\\t\\t<div class=\"column__item event-category-2 is-visible\">\\n\\t\\t\\t\\t\\t\\n\\t\\t\\t\\t\\t\\t<div class=\"events__time\">1\\xa0ноября\\xa0– 2\\xa0ноября</div> \\n\\t\\t\\t\\t\\t\\n\\t\\t\\t\\t\\t\\n\\t\\t\\t\\t\\t<p class=\"events__descr\">VII Международная научная конференция <a href=\"https://issek.hse.ru/forsconf-2017/\">&laquo;Форсайт и научно-техническая и инновационная политика&raquo;</a></p>\\n\\t\\t\\t\\t\\t\\n\\t\\t\\t\\t</div>\\n\\t\\t\\t\\t\\n\\t\\t\\t\\t<div class=\"column__item event-category-2 is-visible\">\\n\\t\\t\\t\\t\\t\\n\\t\\t\\t\\t\\t\\t<div class=\"events__time\">2\\xa0ноября\\xa0– 5\\xa0ноября</div> \\n\\t\\t\\t\\t\\t\\n\\t\\t\\t\\t\\t<p class=\"events__hour\">09:00</p>\\n\\t\\t\\t\\t\\t<p class=\"events__descr\">Научная школа <a href=\"https://www.hse.ru/cdm-centre/announcements/210250626.html\">&laquo;Активные и пассивные методики картирования мозга&raquo;</a></p>\\n\\t\\t\\t\\t\\t\\t\\n\\t\\t\\t\\t\\t<div class=\"events__comment grey\">\\n\\t\\t\\t\\t\\t\\t\\n\\t\\t\\t\\t\\t\\t\\t<p>Заявки — до 25 октября<span class=\"with-icon with-icon_flag2 with-icon_right\">&nbsp;</span></p>\\n\\t\\t\\t\\t\\t\\t\\n\\t\\t\\t\\t\\t</div>\\n\\t\\t\\t\\t\\t\\n\\t\\t\\t\\t</div>\\n\\t\\t\\t\\t\\n\\t\\t\\t\\t<div class=\"column__item event-category-2 is-visible\">\\n\\t\\t\\t\\t\\t\\n\\t\\t\\t\\t\\t\\t<div class=\"events__time\">7\\xa0ноября\\xa0– 8\\xa0ноября</div> \\n\\t\\t\\t\\t\\t\\n\\t\\t\\t\\t\\t\\n\\t\\t\\t\\t\\t<p class=\"events__descr\">Конференция молодых ученых <a href=\"https://social.hse.ru/studsovet/announcements/209318190.html\">&laquo;Альянс социальных наук&raquo;</a></p>\\n\\t\\t\\t\\t\\t\\t\\n\\t\\t\\t\\t\\t<div class=\"events__comment grey\">\\n\\t\\t\\t\\t\\t\\t\\n\\t\\t\\t\\t\\t\\t\\t<p>Заявки — до 15 октября<span class=\"with-icon with-icon_flag2 with-icon_right\">&nbsp;</span></p>\\n\\t\\t\\t\\t\\t\\t\\n\\t\\t\\t\\t\\t</div>\\n\\t\\t\\t\\t\\t\\n\\t\\t\\t\\t</div>\\n\\t\\t\\t\\t\\n\\t\\t\\t\\t<div class=\"column__item event-category-6 is-visible\">\\n\\t\\t\\t\\t\\t\\n\\t\\t\\t\\t\\t\\t<div class=\"events__time\">11\\xa0ноября</div> \\n\\t\\t\\t\\t\\t\\n\\t\\t\\t\\t\\t<p class=\"events__hour\">14:00</p>\\n\\t\\t\\t\\t\\t<p class=\"events__descr\">День открытых дверей <a href=\"https://www.hse.ru/ba/political/announcements/209518026.html\">образовательной программы &laquo;Политология&raquo;</a></p>\\n\\t\\t\\t\\t\\t\\n\\t\\t\\t\\t</div>\\n\\t\\t\\t\\t\\n\\t\\t\\t\\t<div class=\"column__item event-category-6 is-visible\">\\n\\t\\t\\t\\t\\t\\n\\t\\t\\t\\t\\t\\t<div class=\"events__time\">12\\xa0ноября</div> \\n\\t\\t\\t\\t\\t\\n\\t\\t\\t\\t\\t<p class=\"events__hour\">11:00</p>\\n\\t\\t\\t\\t\\t<p class=\"events__descr\">День открытых дверей <a href=\"https://www.hse.ru/miemdod/\">бакалавриата и специалитета МИЭМ НИУ ВШЭ</a></p>\\n\\t\\t\\t\\t\\t\\n\\t\\t\\t\\t</div>\\n\\t\\t\\t\\t\\n\\t\\t\\t\\t<div class=\"column__item event-category-6 is-visible\">\\n\\t\\t\\t\\t\\t\\n\\t\\t\\t\\t\\t\\t<div class=\"events__time\">12\\xa0ноября</div> \\n\\t\\t\\t\\t\\t\\n\\t\\t\\t\\t\\t<p class=\"events__hour\">11:00</p>\\n\\t\\t\\t\\t\\t<p class=\"events__descr\">День открытых дверей <a href=\"https://icef.hse.ru/announcements/210397764.html\">магистерской программы &laquo;Финансовая экономика&raquo;</a></p>\\n\\t\\t\\t\\t\\t\\n\\t\\t\\t\\t</div>\\n\\t\\t\\t\\t\\n\\t\\t\\t\\t<div class=\"column__item event-category-6 is-visible\">\\n\\t\\t\\t\\t\\t\\n\\t\\t\\t\\t\\t\\t<div class=\"events__time\">12\\xa0ноября</div> \\n\\t\\t\\t\\t\\t\\n\\t\\t\\t\\t\\t<p class=\"events__hour\">14:00</p>\\n\\t\\t\\t\\t\\t<p class=\"events__descr\">День открытых дверей <a href=\"https://pravo.hse.ru/announcements/209473760.html\">образовательных программ бакалавриата факультета права</a></p>\\n\\t\\t\\t\\t\\t\\n\\t\\t\\t\\t</div>\\n\\t\\t\\t\\t\\n\\t\\t\\t\\t<div class=\"column__item event-category-6 is-visible\">\\n\\t\\t\\t\\t\\t\\n\\t\\t\\t\\t\\t\\t<div class=\"events__time\">13\\xa0ноября</div> \\n\\t\\t\\t\\t\\t\\n\\t\\t\\t\\t\\t<p class=\"events__hour\">10:00</p>\\n\\t\\t\\t\\t\\t<p class=\"events__descr\"><a href=\"https://bm.hse.ru/announcements/210425263.html\">Осенний День карьеры факультета бизнеса и менеджмента</a></p>\\n\\t\\t\\t\\t\\t\\n\\t\\t\\t\\t</div>\\n\\t\\t\\t\\t\\n\\t\\t\\t\\t<div class=\"column__item event-category-2 is-visible\">\\n\\t\\t\\t\\t\\t\\n\\t\\t\\t\\t\\t\\t<div class=\"events__time\">16\\xa0ноября\\xa0– 19\\xa0ноября</div> \\n\\t\\t\\t\\t\\t\\n\\t\\t\\t\\t\\t<p class=\"events__hour\">10:00</p>\\n\\t\\t\\t\\t\\t<p class=\"events__descr\">Четвертая международная научно-практическая конференции <a href=\"https://www.hse.ru/ma/pb/announcements/201533713.html\">&laquo;Бизнес-психология: теория и практика&raquo;</a></p>\\n\\t\\t\\t\\t\\t\\n\\t\\t\\t\\t</div>\\n\\t\\t\\t\\t\\n\\t\\t\\t\\t<div class=\"column__item event-category-6 is-visible\">\\n\\t\\t\\t\\t\\t\\n\\t\\t\\t\\t\\t\\t<div class=\"events__time\">18\\xa0ноября</div> \\n\\t\\t\\t\\t\\t\\n\\t\\t\\t\\t\\t<p class=\"events__hour\">15:00</p>\\n\\t\\t\\t\\t\\t<p class=\"events__descr\">День открытых дверей <a href=\"https://www.hse.ru/ba/gmu/announcements/209520119.html\">бакалавриата по направлению &laquo;Государственное и муниципальное управление&raquo;</a></p>\\n\\t\\t\\t\\t\\t\\n\\t\\t\\t\\t</div>\\n\\t\\t\\t\\t\\n\\t\\t\\t\\t<div class=\"column__item event-category-6 is-visible\">\\n\\t\\t\\t\\t\\t\\n\\t\\t\\t\\t\\t\\t<div class=\"events__time\">19\\xa0ноября</div> \\n\\t\\t\\t\\t\\t\\n\\t\\t\\t\\t\\t<p class=\"events__hour\">12:00</p>\\n\\t\\t\\t\\t\\t<p class=\"events__descr\">День открытых дверей <a href=\"https://www.hse.ru/ba/ir/announcements/209626821.html\">бакалаврских программ &laquo;Международные отношения&raquo; и программы двух дипломов НИУ ВШЭ и Лондонского университета &laquo;Международные отношения&raquo;</a></p>\\n\\t\\t\\t\\t\\t\\n\\t\\t\\t\\t</div>\\n\\t\\t\\t\\t\\n\\t\\t\\t\\t<div class=\"column__item event-category-6 is-visible\">\\n\\t\\t\\t\\t\\t\\n\\t\\t\\t\\t\\t\\t<div class=\"events__time\">19\\xa0ноября</div> \\n\\t\\t\\t\\t\\t\\n\\t\\t\\t\\t\\t<p class=\"events__hour\">14:30</p>\\n\\t\\t\\t\\t\\t<p class=\"events__descr\">День открытых дверей <a href=\"https://www.hse.ru/ba/we/announcements/209627126.html\">бакалаврской программы &laquo;Мировая экономика&raquo;</a></p>\\n\\t\\t\\t\\t\\t\\n\\t\\t\\t\\t</div>\\n\\t\\t\\t\\t\\n\\t\\t\\t\\t<div class=\"column__item event-category-2 is-visible\">\\n\\t\\t\\t\\t\\t\\n\\t\\t\\t\\t\\t\\t<div class=\"events__time\">20\\xa0ноября\\xa0– 21\\xa0ноября</div> \\n\\t\\t\\t\\t\\t\\n\\t\\t\\t\\t\\t<p class=\"events__hour\">10:00</p>\\n\\t\\t\\t\\t\\t<p class=\"events__descr\">VII Международная научно-практическая конференция <a href=\"https://pravo.hse.ru/infolaw/conf2017/\">&laquo;Право в цифровую эпоху&raquo;</a></p>\\n\\t\\t\\t\\t\\t\\t\\n\\t\\t\\t\\t\\t<div class=\"events__comment grey\">\\n\\t\\t\\t\\t\\t\\t\\n\\t\\t\\t\\t\\t\\t\\t<p>Регистрация — до 1 ноября<span class=\"with-icon with-icon_flag2 with-icon_right\">&nbsp;</span></p>\\n\\t\\t\\t\\t\\t\\t\\n\\t\\t\\t\\t\\t</div>\\n\\t\\t\\t\\t\\t\\n\\t\\t\\t\\t</div>\\n\\t\\t\\t\\t\\n\\t\\t\\t\\t<div class=\"column__item event-category-3 is-visible\">\\n\\t\\t\\t\\t\\t\\n\\t\\t\\t\\t\\t\\t<div class=\"events__time\">22\\xa0ноября</div> \\n\\t\\t\\t\\t\\t\\n\\t\\t\\t\\t\\t<p class=\"events__hour\">19:00</p>\\n\\t\\t\\t\\t\\t<p class=\"events__descr\">Концерт цикла <a href=\"https://pr.hse.ru/culture/announcements/209492994.html\">&laquo;Фортепианные вечера в Высшей школе экономики&raquo;: Юрий Розум</a></p>\\n\\t\\t\\t\\t\\t\\n\\t\\t\\t\\t</div>\\n\\t\\t\\t\\t\\n\\t\\t\\t\\t<div class=\"column__item event-category-1 is-visible\">\\n\\t\\t\\t\\t\\t\\n\\t\\t\\t\\t\\t\\t<div class=\"events__time\">22\\xa0ноября</div> \\n\\t\\t\\t\\t\\t\\n\\t\\t\\t\\t\\t<p class=\"events__hour\">19:30</p>\\n\\t\\t\\t\\t\\t<p class=\"events__descr\">Лекция Алексея Ролича <a href=\"https://www.hse.ru/lectorian/announcements/209645443.html?utm_source=main&utm_medium=announcement&utm_campaign=lectorian_2017\">&laquo;Интернет вещей: промышленный, профессиональный, наш&raquo;</a></p>\\n\\t\\t\\t\\t\\t\\n\\t\\t\\t\\t</div>\\n\\t\\t\\t\\t\\n\\t\\t\\t\\t<div class=\"column__item event-category-1 is-visible\">\\n\\t\\t\\t\\t\\t\\n\\t\\t\\t\\t\\t\\t<div class=\"events__time\">23\\xa0ноября\\xa0– 29\\xa0ноября</div> \\n\\t\\t\\t\\t\\t\\n\\t\\t\\t\\t\\t\\n\\t\\t\\t\\t\\t<p class=\"events__descr\"><a href=\"https://phil.hse.ru/announcements/208974916.html\">II Осенняя школа по философии для учащихся 9-11 классов</a></p>\\n\\t\\t\\t\\t\\t\\t\\n\\t\\t\\t\\t\\t<div class=\"events__comment grey\">\\n\\t\\t\\t\\t\\t\\t\\n\\t\\t\\t\\t\\t\\t\\t<p>Заявки — до 17 сентября<span class=\"with-icon with-icon_flag2 with-icon_right\">&nbsp;</span></p>\\n\\t\\t\\t\\t\\t\\t\\n\\t\\t\\t\\t\\t</div>\\n\\t\\t\\t\\t\\t\\n\\t\\t\\t\\t</div>\\n\\t\\t\\t\\t\\n\\t\\t\\t\\t<div class=\"column__item event-category-2 is-visible\">\\n\\t\\t\\t\\t\\t\\n\\t\\t\\t\\t\\t\\t<div class=\"events__time\">23\\xa0ноября\\xa0– 24\\xa0ноября</div> \\n\\t\\t\\t\\t\\t\\n\\t\\t\\t\\t\\t\\n\\t\\t\\t\\t\\t<p class=\"events__descr\">10-я Ежегодная научная конференция <a href=\"https://manconf.hse.ru/mc2017/\">&laquo;Современный менеджмент: проблемы, гипотезы, исследования&raquo;</a></p>\\n\\t\\t\\t\\t\\t\\t\\n\\t\\t\\t\\t\\t<div class=\"events__comment grey\">\\n\\t\\t\\t\\t\\t\\t\\n\\t\\t\\t\\t\\t\\t\\t<p>Заявки — до 16 октября<span class=\"with-icon with-icon_flag2 with-icon_right\">&nbsp;</span></p>\\n\\t\\t\\t\\t\\t\\t\\n\\t\\t\\t\\t\\t</div>\\n\\t\\t\\t\\t\\t\\n\\t\\t\\t\\t</div>\\n\\t\\t\\t\\t\\n\\t\\t\\t\\t<div class=\"column__item event-category-2 is-visible\">\\n\\t\\t\\t\\t\\t\\n\\t\\t\\t\\t\\t\\t<div class=\"events__time\">24\\xa0ноября\\xa0– 25\\xa0ноября</div> \\n\\t\\t\\t\\t\\t\\n\\t\\t\\t\\t\\t\\n\\t\\t\\t\\t\\t<p class=\"events__descr\">Конференция <a href=\"https://philology.hse.ru/announcements/210397298.html\">&laquo;Русская литература в компаративной перспективе: \"Литературный канон в эпоху больших перемен\"&raquo;</a></p>\\n\\t\\t\\t\\t\\t\\t\\n\\t\\t\\t\\t\\t<div class=\"events__comment grey\">\\n\\t\\t\\t\\t\\t\\t\\n\\t\\t\\t\\t\\t\\t\\t<p>Заявки — до 25 октября<span class=\"with-icon with-icon_flag2 with-icon_right\">&nbsp;</span></p>\\n\\t\\t\\t\\t\\t\\t\\n\\t\\t\\t\\t\\t</div>\\n\\t\\t\\t\\t\\t\\n\\t\\t\\t\\t</div>\\n\\t\\t\\t\\t\\n\\t\\t\\t\\t<div class=\"column__item event-category-6 is-visible\">\\n\\t\\t\\t\\t\\t\\n\\t\\t\\t\\t\\t\\t<div class=\"events__time\">25\\xa0ноября</div> \\n\\t\\t\\t\\t\\t\\n\\t\\t\\t\\t\\t<p class=\"events__hour\">14:00</p>\\n\\t\\t\\t\\t\\t<p class=\"events__descr\">День открытых дверей <a href=\"https://www.hse.ru/ba/soc/announcements/209436741.html\">бакалавриата по направлению &laquo;Социология&raquo;</a></p>\\n\\t\\t\\t\\t\\t\\n\\t\\t\\t\\t</div>\\n\\t\\t\\t\\t\\n\\t\\t\\t\\t<div class=\"column__item event-category-6 is-visible\">\\n\\t\\t\\t\\t\\t\\n\\t\\t\\t\\t\\t\\t<div class=\"events__time\">10\\xa0декабря</div> \\n\\t\\t\\t\\t\\t\\n\\t\\t\\t\\t\\t<p class=\"events__hour\">12:00</p>\\n\\t\\t\\t\\t\\t<p class=\"events__descr\">День открытых дверей бакалавриата <a href=\"https://cmd.hse.ru/mediaday\">по направлениям &laquo;Журналистика&raquo; и &laquo;Медиакоммуникации&raquo;</a></p>\\n\\t\\t\\t\\t\\t\\n\\t\\t\\t\\t</div>\\n\\t\\t\\t\\t\\n\\t\\t\\t\\t<div class=\"column__item event-category-6 is-visible\">\\n\\t\\t\\t\\t\\t\\n\\t\\t\\t\\t\\t\\t<div class=\"events__time\">10\\xa0декабря</div> \\n\\t\\t\\t\\t\\t\\n\\t\\t\\t\\t\\t<p class=\"events__hour\">16:00</p>\\n\\t\\t\\t\\t\\t<p class=\"events__descr\">День открытых дверей магистратуры <a href=\"https://cmd.hse.ru/mediaday\">по направлениям &laquo;Журналистика&raquo; и &laquo;Медиакоммуникации&raquo;</a></p>\\n\\t\\t\\t\\t\\t\\n\\t\\t\\t\\t</div>\\n\\t\\t\\t\\t\\n\\t\\t\\t\\t<div class=\"column__item event-category-2 is-visible\">\\n\\t\\t\\t\\t\\t\\n\\t\\t\\t\\t\\t\\t<div class=\"events__time\">22\\xa0декабря</div> \\n\\t\\t\\t\\t\\t\\n\\t\\t\\t\\t\\t<p class=\"events__hour\">09:15</p>\\n\\t\\t\\t\\t\\t<p class=\"events__descr\">Международная научно-практическая конференция <a href=\"https://www.hse.ru/ma/datajourn/announcements/207860817.html\">&laquo;Культура коммуникаций в условиях цифровой и социокультурной глобализации: глобальный и региональный аспекты&raquo;</a></p>\\n\\t\\t\\t\\t\\t\\t\\n\\t\\t\\t\\t\\t<div class=\"events__comment grey\">\\n\\t\\t\\t\\t\\t\\t\\n\\t\\t\\t\\t\\t\\t\\t<p>Заявки — до 1 декабря<span class=\"with-icon with-icon_flag2 with-icon_right\">&nbsp;</span></p>\\n\\t\\t\\t\\t\\t\\t\\n\\t\\t\\t\\t\\t</div>\\n\\t\\t\\t\\t\\t\\n\\t\\t\\t\\t</div>\\n\\t\\t\\t\\t\\n\\t\\t\\t</div>\\n\\t\\t\\t<div class=\"section_more t-events\">\\n\\t\\t\\t\\t<a href=\"https://www.hse.ru/news/announcements/\">Все мероприятия</a>\\n\\t\\t\\t</div>\\n\\t\\t</section>\\n\\t\\n\\n\\t\\t\\n\\t\\t<section class=\"section section--social\">\\n\\t\\t\\t<div class=\"section__header clear\">\\n\\t\\t\\t\\t<h2 class=\"section_title section_title--social\">\\n\\t\\t\\t\\t\\t<a name=\"around_hse\">\\n\\t\\t\\t\\t\\t\\t\\n\\t\\t\\t\\t\\t\\t\\tВокруг Вышки\\n\\t\\t\\t\\t\\t\\t\\n\\t\\t\\t\\t\\t</a>\\n\\t\\t\\t\\t</h2>\\n\\t\\t\\t</div>\\n\\t\\t\\t<div class=\"column column-28 owl-social\">\\n\\t\\t\\t\\n\\t\\t\\t\\t<div class=\"column__item\">\\n\\t\\t\\t\\t\\t\\n\\t\\t\\t\\t\\t\\t<div class=\"from_social__network media-ico-blue media-ico-blue_twitter\"></div>\\n\\t\\t\\t\\t\\t\\n\\t\\t\\t\\t\\t\\n\\t\\t\\t\\t\\t\\t\\n\\t\\t\\t\\t\\t\\t\\t<a class=\"from_social__image\" href=\"https://twitter.com/ykridge/status/916649986087116800\" rel=\"nofollow\"><img src=\"/pubs/share/cover/thumb/210525175x135x110\" alt=\"@ykridge \"/></a>\\n\\t\\t\\t\\t\\t\\t\\n\\t\\t\\t\\t\\t\\n\\t\\t\\t\\t\\t\\n\\t\\t\\t\\t\\t\\t\\n\\t\\t\\t\\t\\t\\t\\t<a class=\"from_social__author\" href=\"https://twitter.com/ykridge \" rel=\"nofollow\">@ykridge </a>\\n\\t\\t\\t\\t\\t\\t\\n\\t\\t\\t\\t\\t\\n\\t\\t\\t\\t\\t\\n\\t\\t\\t\\t\\t\\t\\n\\t\\t\\t\\t\\t\\t\\t<div class=\"from_social__content\"><a class=\"link link_no-underline link_dark no-visited\" href=\"https://twitter.com/ykridge/status/916649986087116800\" rel=\"nofollow\">На посвяте матфака выдавали студенческие билеты с номером π</a></div>\\n\\t\\t\\t\\t\\t\\t\\n\\t\\t\\t\\t\\t\\n\\t\\t\\t\\t\\t\\n\\t\\t\\t\\t</div>\\n\\t\\t\\t\\n\\t\\t\\t\\t<div class=\"column__item\">\\n\\t\\t\\t\\t\\t\\n\\t\\t\\t\\t\\t\\t<div class=\"from_social__network media-ico-blue media-ico-blue_facebook\"></div>\\n\\t\\t\\t\\t\\t\\n\\t\\t\\t\\t\\t\\n\\t\\t\\t\\t\\t\\t\\n\\t\\t\\t\\t\\t\\t\\t<a class=\"from_social__image\" href=\"https://www.facebook.com/photo.php?fbid=1498465933532765&set=a.687072721338761.1073741828.100001081186409&type=3\" rel=\"nofollow\"><img src=\"/pubs/share/cover/thumb/210211757x135x110\" alt=\"Igor Chirikov\"/></a>\\n\\t\\t\\t\\t\\t\\t\\n\\t\\t\\t\\t\\t\\n\\t\\t\\t\\t\\t\\n\\t\\t\\t\\t\\t\\t\\n\\t\\t\\t\\t\\t\\t\\t<a class=\"from_social__author\" href=\"https://www.facebook.com/igor.chirikov\" rel=\"nofollow\">Igor Chirikov</a>\\n\\t\\t\\t\\t\\t\\t\\n\\t\\t\\t\\t\\t\\n\\t\\t\\t\\t\\t\\n\\t\\t\\t\\t\\t\\t\\n\\t\\t\\t\\t\\t\\t\\t<div class=\"from_social__content\"><a class=\"link link_no-underline link_dark no-visited\" href=\"https://www.facebook.com/photo.php?fbid=1498465933532765&set=a.687072721338761.1073741828.100001081186409&type=3\" rel=\"nofollow\">Проректор ВШЭ Игорь Чириков рассказал о премуществах говяжьего «Доширака» перед куриным</a></div>\\n\\t\\t\\t\\t\\t\\t\\n\\t\\t\\t\\t\\t\\n\\t\\t\\t\\t\\t\\n\\t\\t\\t\\t</div>\\n\\t\\t\\t\\n\\t\\t\\t\\t<div class=\"column__item\">\\n\\t\\t\\t\\t\\t\\n\\t\\t\\t\\t\\t\\t<div class=\"from_social__network media-ico-blue media-ico-blue_vkontakte\"></div>\\n\\t\\t\\t\\t\\t\\n\\t\\t\\t\\t\\t\\n\\t\\t\\t\\t\\t\\t\\n\\t\\t\\t\\t\\t\\t\\t<a class=\"from_social__image\" href=\"https://vk.com/album-33374477_247427614\" rel=\"nofollow\"><img src=\"/pubs/share/cover/thumb/209622606x135x110\" alt=\"Общежитие №8 Трилистник | ВШЭ\"/></a>\\n\\t\\t\\t\\t\\t\\t\\n\\t\\t\\t\\t\\t\\n\\t\\t\\t\\t\\t\\n\\t\\t\\t\\t\\t\\t\\n\\t\\t\\t\\t\\t\\t\\t<a class=\"from_social__author\" href=\"https://vk.com/dormitory8hse\">Общежитие №8 Трилистник | ВШЭ</a>\\n\\t\\t\\t\\t\\t\\t\\n\\t\\t\\t\\t\\t\\n\\t\\t\\t\\t\\t\\n\\t\\t\\t\\t\\t\\t\\n\\t\\t\\t\\t\\t\\t\\t<div class=\"from_social__content\"><a class=\"link link_no-underline link_dark no-visited\" href=\"https://vk.com/album-33374477_247427614\" rel=\"nofollow\">Пикник во дворе общежития</a></div>\\n\\t\\t\\t\\t\\t\\t\\n\\t\\t\\t\\t\\t\\n\\t\\t\\t\\t\\t\\n\\t\\t\\t\\t</div>\\n\\t\\t\\t\\n\\t\\t\\t\\t<div class=\"column__item\">\\n\\t\\t\\t\\t\\t\\n\\t\\t\\t\\t\\t\\t<div class=\"from_social__network media-ico-blue media-ico-blue_vkontakte\"></div>\\n\\t\\t\\t\\t\\t\\n\\t\\t\\t\\t\\t\\n\\t\\t\\t\\t\\t\\t\\n\\t\\t\\t\\t\\t\\t\\t<a class=\"from_social__image\" href=\"https://vk.com/wall-114181097_84\" rel=\"nofollow\"><img src=\"/pubs/share/cover/thumb/209530356x135x110\" alt=\"ВШЭ &amp; London University: Международные отношения\"/></a>\\n\\t\\t\\t\\t\\t\\t\\n\\t\\t\\t\\t\\t\\n\\t\\t\\t\\t\\t\\n\\t\\t\\t\\t\\t\\t\\n\\t\\t\\t\\t\\t\\t\\t<a class=\"from_social__author\" href=\"https://vk.com/hse_ir\">ВШЭ & London University: Международные отношения</a>\\n\\t\\t\\t\\t\\t\\t\\n\\t\\t\\t\\t\\t\\n\\t\\t\\t\\t\\t\\n\\t\\t\\t\\t\\t\\t\\n\\t\\t\\t\\t\\t\\t\\t<div class=\"from_social__content\"><a class=\"link link_no-underline link_dark no-visited\" href=\"https://vk.com/wall-114181097_84\" rel=\"nofollow\">Корги Лиса и Тихон (отсутствует в кадре) — живые маскоты программы двух дипломов «Международные отношения»</a></div>\\n\\t\\t\\t\\t\\t\\t\\n\\t\\t\\t\\t\\t\\n\\t\\t\\t\\t\\t\\n\\t\\t\\t\\t</div>\\n\\t\\t\\t\\n\\t\\t\\t\\t<div class=\"column__item\">\\n\\t\\t\\t\\t\\t\\n\\t\\t\\t\\t\\t\\t<div class=\"from_social__network media-ico-blue media-ico-blue_vkontakte\"></div>\\n\\t\\t\\t\\t\\t\\n\\t\\t\\t\\t\\t\\n\\t\\t\\t\\t\\t\\t\\n\\t\\t\\t\\t\\t\\t\\t<a class=\"from_social__image\" href=\"https://vk.com/wall-131073421_51\" rel=\"nofollow\"><img src=\"/pubs/share/cover/thumb/209287388x135x110\" alt=\"Клуб «Экстремальные виды спорта» \"/></a>\\n\\t\\t\\t\\t\\t\\t\\n\\t\\t\\t\\t\\t\\n\\t\\t\\t\\t\\t\\n\\t\\t\\t\\t\\t\\t\\n\\t\\t\\t\\t\\t\\t\\t<a class=\"from_social__author\" href=\"https://vk.com/xsportclub\" rel=\"nofollow\">Клуб «Экстремальные виды спорта» </a>\\n\\t\\t\\t\\t\\t\\t\\n\\t\\t\\t\\t\\t\\n\\t\\t\\t\\t\\t\\n\\t\\t\\t\\t\\t\\t\\n\\t\\t\\t\\t\\t\\t\\t<div class=\"from_social__content\"><a class=\"link link_no-underline link_dark no-visited\" href=\"https://vk.com/wall-131073421_51\" rel=\"nofollow\">Клуб ЭВС передаёт привет из велопутешествия по Крыму</a></div>\\n\\t\\t\\t\\t\\t\\t\\n\\t\\t\\t\\t\\t\\n\\t\\t\\t\\t\\t\\n\\t\\t\\t\\t</div>\\n\\t\\t\\t\\n\\t\\t\\t\\t<div class=\"column__item\">\\n\\t\\t\\t\\t\\t\\n\\t\\t\\t\\t\\t\\t<div class=\"from_social__network media-ico-blue media-ico-blue_instagram\"></div>\\n\\t\\t\\t\\t\\t\\n\\t\\t\\t\\t\\t\\n\\t\\t\\t\\t\\t\\t\\n\\t\\t\\t\\t\\t\\t\\t<a class=\"from_social__image\" href=\"https://www.instagram.com/p/BYoG4emgk58/\" rel=\"nofollow\"><img src=\"/pubs/share/cover/thumb/208983681x135x110\" alt=\"@mauster_1\"/></a>\\n\\t\\t\\t\\t\\t\\t\\n\\t\\t\\t\\t\\t\\n\\t\\t\\t\\t\\t\\n\\t\\t\\t\\t\\t\\t\\n\\t\\t\\t\\t\\t\\t\\t<a class=\"from_social__author\" href=\"https://www.instagram.com/mauster_1/\" rel=\"nofollow\">@mauster_1</a>\\n\\t\\t\\t\\t\\t\\t\\n\\t\\t\\t\\t\\t\\n\\t\\t\\t\\t\\t\\n\\t\\t\\t\\t\\t\\t\\n\\t\\t\\t\\t\\t\\t\\t<div class=\"from_social__content\"><a class=\"link link_no-underline link_dark no-visited\" href=\"https://www.instagram.com/p/BYoG4emgk58/\" rel=\"nofollow\">Вот такие пироги</a></div>\\n\\t\\t\\t\\t\\t\\t\\n\\t\\t\\t\\t\\t\\n\\t\\t\\t\\t\\t\\n\\t\\t\\t\\t</div>\\n\\t\\t\\t\\n\\t\\t\\t\\t<div class=\"column__item\">\\n\\t\\t\\t\\t\\t\\n\\t\\t\\t\\t\\t\\t<div class=\"from_social__network media-ico-blue media-ico-blue_instagram\"></div>\\n\\t\\t\\t\\t\\t\\n\\t\\t\\t\\t\\t\\n\\t\\t\\t\\t\\t\\t\\n\\t\\t\\t\\t\\t\\t\\t<a class=\"from_social__image\" href=\"https://www.instagram.com/p/BYnuixvD2H8/\" rel=\"nofollow\"><img src=\"/pubs/share/cover/thumb/208983766x135x110\" alt=\"@catherine_dans\"/></a>\\n\\t\\t\\t\\t\\t\\t\\n\\t\\t\\t\\t\\t\\n\\t\\t\\t\\t\\t\\n\\t\\t\\t\\t\\t\\t\\n\\t\\t\\t\\t\\t\\t\\t<a class=\"from_social__author\" href=\"https://www.instagram.com/catherine_dans/\" rel=\"nofollow\">@catherine_dans</a>\\n\\t\\t\\t\\t\\t\\t\\n\\t\\t\\t\\t\\t\\n\\t\\t\\t\\t\\t\\n\\t\\t\\t\\t\\t\\t\\n\\t\\t\\t\\t\\t\\t\\t<div class=\"from_social__content\"><a class=\"link link_no-underline link_dark no-visited\" href=\"https://www.instagram.com/p/BYnuixvD2H8/\" rel=\"nofollow\">Студенческих много не бывает</a></div>\\n\\t\\t\\t\\t\\t\\t\\n\\t\\t\\t\\t\\t\\n\\t\\t\\t\\t\\t\\n\\t\\t\\t\\t</div>\\n\\t\\t\\t\\n\\t\\t\\t\\t<div class=\"column__item\">\\n\\t\\t\\t\\t\\t\\n\\t\\t\\t\\t\\t\\t<div class=\"from_social__network media-ico-blue media-ico-blue_instagram\"></div>\\n\\t\\t\\t\\t\\t\\n\\t\\t\\t\\t\\t\\n\\t\\t\\t\\t\\t\\t\\n\\t\\t\\t\\t\\t\\t\\t<a class=\"from_social__image\" href=\"https://www.instagram.com/p/BYWtJmdhUMi/\" rel=\"nofollow\"><img src=\"/pubs/share/cover/thumb/208636624x135x110\" alt=\"@yes_my_captain\"/></a>\\n\\t\\t\\t\\t\\t\\t\\n\\t\\t\\t\\t\\t\\n\\t\\t\\t\\t\\t\\n\\t\\t\\t\\t\\t\\t\\n\\t\\t\\t\\t\\t\\t\\t<a class=\"from_social__author\" href=\"https://www.instagram.com/yes_my_captain/\" rel=\"nofollow\">@yes_my_captain</a>\\n\\t\\t\\t\\t\\t\\t\\n\\t\\t\\t\\t\\t\\n\\t\\t\\t\\t\\t\\n\\t\\t\\t\\t\\t\\t\\n\\t\\t\\t\\t\\t\\t\\t<div class=\"from_social__content\"><a class=\"link link_no-underline link_dark no-visited\" href=\"https://www.instagram.com/p/BYWtJmdhUMi/\" rel=\"nofollow\">Летнее путешествие по Хибинам</a></div>\\n\\t\\t\\t\\t\\t\\t\\n\\t\\t\\t\\t\\t\\n\\t\\t\\t\\t\\t\\n\\t\\t\\t\\t</div>\\n\\t\\t\\t\\n\\t\\t\\t\\t<div class=\"column__item\">\\n\\t\\t\\t\\t\\t\\n\\t\\t\\t\\t\\t\\t<div class=\"from_social__network media-ico-blue media-ico-blue_instagram\"></div>\\n\\t\\t\\t\\t\\t\\n\\t\\t\\t\\t\\t\\n\\t\\t\\t\\t\\t\\t\\n\\t\\t\\t\\t\\t\\t\\t<a class=\"from_social__image\" href=\"https://www.instagram.com/p/BYTbNPogM-3/\" rel=\"nofollow\"><img src=\"/pubs/share/cover/thumb/208636680x135x110\" alt=\"@vasilevsssskaya\"/></a>\\n\\t\\t\\t\\t\\t\\t\\n\\t\\t\\t\\t\\t\\n\\t\\t\\t\\t\\t\\n\\t\\t\\t\\t\\t\\t\\n\\t\\t\\t\\t\\t\\t\\t<a class=\"from_social__author\" href=\"https://www.instagram.com/vasilevsssskaya/\" rel=\"nofollow\">@vasilevsssskaya</a>\\n\\t\\t\\t\\t\\t\\t\\n\\t\\t\\t\\t\\t\\n\\t\\t\\t\\t\\t\\n\\t\\t\\t\\t\\t\\t\\n\\t\\t\\t\\t\\t\\t\\t<div class=\"from_social__content\"><a class=\"link link_no-underline link_dark no-visited\" href=\"https://www.instagram.com/p/BYTbNPogM-3/\" rel=\"nofollow\">Фотография доказывает, что Вышки много не бывает</a></div>\\n\\t\\t\\t\\t\\t\\t\\n\\t\\t\\t\\t\\t\\n\\t\\t\\t\\t\\t\\n\\t\\t\\t\\t</div>\\n\\t\\t\\t\\n\\t\\t\\t\\t<div class=\"column__item\">\\n\\t\\t\\t\\t\\t\\n\\t\\t\\t\\t\\t\\t<div class=\"from_social__network media-ico-blue media-ico-blue_vkontakte\"></div>\\n\\t\\t\\t\\t\\t\\n\\t\\t\\t\\t\\t\\n\\t\\t\\t\\t\\t\\t\\n\\t\\t\\t\\t\\t\\t\\t<a class=\"from_social__image\" href=\"https://vk.com/wall-2121919_3637 \" rel=\"nofollow\"><img src=\"/pubs/share/cover/thumb/208386993x135x110\" alt=\"Клуб «Экстремальные виды спорта» \"/></a>\\n\\t\\t\\t\\t\\t\\t\\n\\t\\t\\t\\t\\t\\n\\t\\t\\t\\t\\t\\n\\t\\t\\t\\t\\t\\t\\n\\t\\t\\t\\t\\t\\t\\t<a class=\"from_social__author\" href=\"https://vk.com/xsportclub\" rel=\"nofollow\">Клуб «Экстремальные виды спорта» </a>\\n\\t\\t\\t\\t\\t\\t\\n\\t\\t\\t\\t\\t\\n\\t\\t\\t\\t\\t\\n\\t\\t\\t\\t\\t\\t\\n\\t\\t\\t\\t\\t\\t\\t<div class=\"from_social__content\"><a class=\"link link_no-underline link_dark no-visited\" href=\"https://vk.com/wall-2121919_3637 \" rel=\"nofollow\">Клуб ЭВС завершил обе смены кайт-лагеря в Абрау-Дюрсо</a></div>\\n\\t\\t\\t\\t\\t\\t\\n\\t\\t\\t\\t\\t\\n\\t\\t\\t\\t\\t\\n\\t\\t\\t\\t</div>\\n\\t\\t\\t\\n\\t\\t\\t\\t<div class=\"column__item\">\\n\\t\\t\\t\\t\\t\\n\\t\\t\\t\\t\\t\\t<div class=\"from_social__network media-ico-blue media-ico-blue_twitter\"></div>\\n\\t\\t\\t\\t\\t\\n\\t\\t\\t\\t\\t\\n\\t\\t\\t\\t\\t\\t\\n\\t\\t\\t\\t\\t\\t\\t<a class=\"from_social__image\" href=\"https://twitter.com/tkhse_live/status/899955599303213057\"><img src=\"/pubs/share/cover/thumb/208378607x135x110\" alt=\"Турклуб ВШЭ\"/></a>\\n\\t\\t\\t\\t\\t\\t\\n\\t\\t\\t\\t\\t\\n\\t\\t\\t\\t\\t\\n\\t\\t\\t\\t\\t\\t\\n\\t\\t\\t\\t\\t\\t\\t<a class=\"from_social__author\" href=\"https://twitter.com/tkhse_live\">Турклуб ВШЭ</a>\\n\\t\\t\\t\\t\\t\\t\\n\\t\\t\\t\\t\\t\\n\\t\\t\\t\\t\\t\\n\\t\\t\\t\\t\\t\\t\\n\\t\\t\\t\\t\\t\\t\\t<div class=\"from_social__content\"><a class=\"link link_no-underline link_dark no-visited\" href=\"https://twitter.com/tkhse_live/status/899955599303213057\">Белухи в Белом море глазами Турклуба Вышки</a></div>\\n\\t\\t\\t\\t\\t\\t\\n\\t\\t\\t\\t\\t\\n\\t\\t\\t\\t\\t\\n\\t\\t\\t\\t</div>\\n\\t\\t\\t\\n\\t\\t\\t\\t<div class=\"column__item\">\\n\\t\\t\\t\\t\\t\\n\\t\\t\\t\\t\\t\\t<div class=\"from_social__network media-ico-blue media-ico-blue_facebook\"></div>\\n\\t\\t\\t\\t\\t\\n\\t\\t\\t\\t\\t\\n\\t\\t\\t\\t\\t\\t\\n\\t\\t\\t\\t\\t\\t\\t<a class=\"from_social__image\" href=\"https://www.facebook.com/photo.php?fbid=10211470581257815&set=a.2264703774704.2117270.1161796323&type=3&theater\" rel=\"nofollow\"><img src=\"/pubs/share/cover/thumb/208377743x135x110\" alt=\"Алина Фролова\"/></a>\\n\\t\\t\\t\\t\\t\\t\\n\\t\\t\\t\\t\\t\\n\\t\\t\\t\\t\\t\\n\\t\\t\\t\\t\\t\\t\\n\\t\\t\\t\\t\\t\\t\\t<a class=\"from_social__author\" href=\"https://www.facebook.com/afrolova1\" rel=\"nofollow\">Алина Фролова</a>\\n\\t\\t\\t\\t\\t\\t\\n\\t\\t\\t\\t\\t\\n\\t\\t\\t\\t\\t\\n\\t\\t\\t\\t\\t\\t\\n\\t\\t\\t\\t\\t\\t\\t<div class=\"from_social__content\"><a class=\"link link_no-underline link_dark no-visited\" href=\"https://www.facebook.com/photo.php?fbid=10211470581257815&set=a.2264703774704.2117270.1161796323&type=3&theater\" rel=\"nofollow\">Ноу-хау от профессора нижегородского кампуса ВШЭ по обучению внуков устному счёту </a></div>\\n\\t\\t\\t\\t\\t\\t\\n\\t\\t\\t\\t\\t\\n\\t\\t\\t\\t\\t\\n\\t\\t\\t\\t</div>\\n\\t\\t\\t\\n\\t\\t\\t\\t<div class=\"column__item\">\\n\\t\\t\\t\\t\\t\\n\\t\\t\\t\\t\\t\\t<div class=\"from_social__network media-ico-blue media-ico-blue_instagram\"></div>\\n\\t\\t\\t\\t\\t\\n\\t\\t\\t\\t\\t\\n\\t\\t\\t\\t\\t\\t\\n\\t\\t\\t\\t\\t\\t\\t<a class=\"from_social__image\" href=\"https://www.instagram.com/p/BX0B_DrlJoQ/\" rel=\"nofollow\"><img src=\"/pubs/share/cover/thumb/208378279x135x110\" alt=\"@hsedesign\"/></a>\\n\\t\\t\\t\\t\\t\\t\\n\\t\\t\\t\\t\\t\\n\\t\\t\\t\\t\\t\\n\\t\\t\\t\\t\\t\\t\\n\\t\\t\\t\\t\\t\\t\\t<a class=\"from_social__author\" href=\"https://www.instagram.com/hsedesign/\">@hsedesign</a>\\n\\t\\t\\t\\t\\t\\t\\n\\t\\t\\t\\t\\t\\n\\t\\t\\t\\t\\t\\n\\t\\t\\t\\t\\t\\t\\n\\t\\t\\t\\t\\t\\t\\t<div class=\"from_social__content\"><a class=\"link link_no-underline link_dark no-visited\" href=\"https://www.instagram.com/p/BX0B_DrlJoQ/\" rel=\"nofollow\">Модная сумка от студентов Школы дизайна</a></div>\\n\\t\\t\\t\\t\\t\\t\\n\\t\\t\\t\\t\\t\\n\\t\\t\\t\\t\\t\\n\\t\\t\\t\\t</div>\\n\\t\\t\\t\\n\\t\\t\\t\\t<div class=\"column__item\">\\n\\t\\t\\t\\t\\t\\n\\t\\t\\t\\t\\t\\t<div class=\"from_social__network media-ico-blue media-ico-blue_vkontakte\"></div>\\n\\t\\t\\t\\t\\t\\n\\t\\t\\t\\t\\t\\n\\t\\t\\t\\t\\t\\t\\n\\t\\t\\t\\t\\t\\t\\t<a class=\"from_social__image\" href=\"https://vk.com/hsegreen?z=photo-126246699_456240443%2Fwall-126246699_2103\"><img src=\"/pubs/share/cover/thumb/208265182x135x110\" alt=\"Зелёная Вышка\"/></a>\\n\\t\\t\\t\\t\\t\\t\\n\\t\\t\\t\\t\\t\\n\\t\\t\\t\\t\\t\\n\\t\\t\\t\\t\\t\\t\\n\\t\\t\\t\\t\\t\\t\\t<a class=\"from_social__author\" href=\"https://vk.com/hsegreen\">Зелёная Вышка</a>\\n\\t\\t\\t\\t\\t\\t\\n\\t\\t\\t\\t\\t\\n\\t\\t\\t\\t\\t\\n\\t\\t\\t\\t\\t\\t\\n\\t\\t\\t\\t\\t\\t\\t<div class=\"from_social__content\"><a class=\"link link_no-underline link_dark no-visited\" href=\"https://vk.com/hsegreen?z=photo-126246699_456240443%2Fwall-126246699_2103\">Активисты «Зелёной Вышки» и собранный в парке «Яуза» мусор</a></div>\\n\\t\\t\\t\\t\\t\\t\\n\\t\\t\\t\\t\\t\\n\\t\\t\\t\\t\\t\\n\\t\\t\\t\\t</div>\\n\\t\\t\\t\\n\\t\\t\\t\\t<div class=\"column__item\">\\n\\t\\t\\t\\t\\t\\n\\t\\t\\t\\t\\t\\t<div class=\"from_social__network media-ico-blue media-ico-blue_instagram\"></div>\\n\\t\\t\\t\\t\\t\\n\\t\\t\\t\\t\\t\\n\\t\\t\\t\\t\\t\\t\\n\\t\\t\\t\\t\\t\\t\\t<a class=\"from_social__image\" href=\"https://www.instagram.com/p/BXib7hRgyZB/\" rel=\"nofollow\"><img src=\"/pubs/share/cover/thumb/208062893x135x110\" alt=\"@pogorelskaya_a\"/></a>\\n\\t\\t\\t\\t\\t\\t\\n\\t\\t\\t\\t\\t\\n\\t\\t\\t\\t\\t\\n\\t\\t\\t\\t\\t\\t\\n\\t\\t\\t\\t\\t\\t\\t<a class=\"from_social__author\" href=\"https://www.instagram.com/pogorelskaya_a/\" rel=\"nofollow\">@pogorelskaya_a</a>\\n\\t\\t\\t\\t\\t\\t\\n\\t\\t\\t\\t\\t\\n\\t\\t\\t\\t\\t\\n\\t\\t\\t\\t\\t\\t\\n\\t\\t\\t\\t\\t\\t\\t<div class=\"from_social__content\"><a class=\"link link_no-underline link_dark no-visited\" href=\"https://www.instagram.com/p/BXib7hRgyZB/\" rel=\"nofollow\">У Вышки немного старомодные часы</a></div>\\n\\t\\t\\t\\t\\t\\t\\n\\t\\t\\t\\t\\t\\n\\t\\t\\t\\t\\t\\n\\t\\t\\t\\t</div>\\n\\t\\t\\t\\n\\t\\t\\t\\t<div class=\"column__item\">\\n\\t\\t\\t\\t\\t\\n\\t\\t\\t\\t\\t\\t<div class=\"from_social__network media-ico-blue media-ico-blue_instagram\"></div>\\n\\t\\t\\t\\t\\t\\n\\t\\t\\t\\t\\t\\n\\t\\t\\t\\t\\t\\t\\n\\t\\t\\t\\t\\t\\t\\t<a class=\"from_social__image\" href=\"https://www.instagram.com/p/BXTkZ-6FXKc/\" rel=\"nofollow\"><img src=\"/pubs/share/cover/thumb/207995336x135x110\" alt=\"polly_the_toad\"/></a>\\n\\t\\t\\t\\t\\t\\t\\n\\t\\t\\t\\t\\t\\n\\t\\t\\t\\t\\t\\n\\t\\t\\t\\t\\t\\t\\n\\t\\t\\t\\t\\t\\t\\t<a class=\"from_social__author\" href=\"https://www.instagram.com/polly_the_toad/\" rel=\"nofollow\">polly_the_toad</a>\\n\\t\\t\\t\\t\\t\\t\\n\\t\\t\\t\\t\\t\\n\\t\\t\\t\\t\\t\\n\\t\\t\\t\\t\\t\\t\\n\\t\\t\\t\\t\\t\\t\\t<div class=\"from_social__content\"><a class=\"link link_no-underline link_dark no-visited\" href=\"https://www.instagram.com/p/BXTkZ-6FXKc/\" rel=\"nofollow\">Тьма со Средиземного моря накрыла любимое общежитие прокуратора</a></div>\\n\\t\\t\\t\\t\\t\\t\\n\\t\\t\\t\\t\\t\\n\\t\\t\\t\\t\\t\\n\\t\\t\\t\\t</div>\\n\\t\\t\\t\\n\\t\\t\\t\\t<div class=\"column__item\">\\n\\t\\t\\t\\t\\t\\n\\t\\t\\t\\t\\t\\t<div class=\"from_social__network media-ico-blue media-ico-blue_instagram\"></div>\\n\\t\\t\\t\\t\\t\\n\\t\\t\\t\\t\\t\\n\\t\\t\\t\\t\\t\\t\\n\\t\\t\\t\\t\\t\\t\\t<a class=\"from_social__image\" href=\"https://www.instagram.com/p/BWxTwYuDFxf/\" rel=\"nofollow\"><img src=\"/pubs/share/cover/thumb/207788944x135x110\" alt=\"@mkrtchyan.m.m\"/></a>\\n\\t\\t\\t\\t\\t\\t\\n\\t\\t\\t\\t\\t\\n\\t\\t\\t\\t\\t\\n\\t\\t\\t\\t\\t\\t\\n\\t\\t\\t\\t\\t\\t\\t<a class=\"from_social__author\" href=\"https://www.instagram.com/mkrtchyan.m.m/\" rel=\"nofollow\">@mkrtchyan.m.m</a>\\n\\t\\t\\t\\t\\t\\t\\n\\t\\t\\t\\t\\t\\n\\t\\t\\t\\t\\t\\n\\t\\t\\t\\t\\t\\t\\n\\t\\t\\t\\t\\t\\t\\t<div class=\"from_social__content\"><a class=\"link link_no-underline link_dark no-visited\" href=\"https://www.instagram.com/p/BWxTwYuDFxf/\" rel=\"nofollow\">Следы Вышки обнаружились в Сеуле</a></div>\\n\\t\\t\\t\\t\\t\\t\\n\\t\\t\\t\\t\\t\\n\\t\\t\\t\\t\\t\\n\\t\\t\\t\\t</div>\\n\\t\\t\\t\\n\\t\\t\\t\\t<div class=\"column__item\">\\n\\t\\t\\t\\t\\t\\n\\t\\t\\t\\t\\t\\t<div class=\"from_social__network media-ico-blue media-ico-blue_instagram\"></div>\\n\\t\\t\\t\\t\\t\\n\\t\\t\\t\\t\\t\\n\\t\\t\\t\\t\\t\\t\\n\\t\\t\\t\\t\\t\\t\\t<a class=\"from_social__image\" href=\"https://www.instagram.com/p/BW7Y9Mdlghq/\" rel=\"nofollow\"><img src=\"/pubs/share/cover/thumb/207773118x135x110\" alt=\"@hsedesign\"/></a>\\n\\t\\t\\t\\t\\t\\t\\n\\t\\t\\t\\t\\t\\n\\t\\t\\t\\t\\t\\n\\t\\t\\t\\t\\t\\t\\n\\t\\t\\t\\t\\t\\t\\t<a class=\"from_social__author\" href=\"https://www.instagram.com/hsedesign/\">@hsedesign</a>\\n\\t\\t\\t\\t\\t\\t\\n\\t\\t\\t\\t\\t\\n\\t\\t\\t\\t\\t\\n\\t\\t\\t\\t\\t\\t\\n\\t\\t\\t\\t\\t\\t\\t<div class=\"from_social__content\"><a class=\"link link_no-underline link_dark no-visited\" href=\"https://www.instagram.com/p/BW7Y9Mdlghq/\" rel=\"nofollow\">Очередь на ДВИ в Школе дизайна</a></div>\\n\\t\\t\\t\\t\\t\\t\\n\\t\\t\\t\\t\\t\\n\\t\\t\\t\\t\\t\\n\\t\\t\\t\\t</div>\\n\\t\\t\\t\\n\\t\\t\\t\\t<div class=\"column__item\">\\n\\t\\t\\t\\t\\t\\n\\t\\t\\t\\t\\t\\t<div class=\"from_social__network media-ico-blue media-ico-blue_instagram\"></div>\\n\\t\\t\\t\\t\\t\\n\\t\\t\\t\\t\\t\\n\\t\\t\\t\\t\\t\\t\\n\\t\\t\\t\\t\\t\\t\\t<a class=\"from_social__image\" href=\"https://www.instagram.com/p/BWyHyxgjLBA/\" rel=\"nofollow\"><img src=\"/pubs/share/cover/thumb/207773139x135x110\" alt=\"@komnata241\"/></a>\\n\\t\\t\\t\\t\\t\\t\\n\\t\\t\\t\\t\\t\\n\\t\\t\\t\\t\\t\\n\\t\\t\\t\\t\\t\\t\\n\\t\\t\\t\\t\\t\\t\\t<a class=\"from_social__author\" href=\"https://www.instagram.com/komnata241/\" rel=\"nofollow\">@komnata241</a>\\n\\t\\t\\t\\t\\t\\t\\n\\t\\t\\t\\t\\t\\n\\t\\t\\t\\t\\t\\n\\t\\t\\t\\t\\t\\t\\n\\t\\t\\t\\t\\t\\t\\t<div class=\"from_social__content\"><a class=\"link link_no-underline link_dark no-visited\" href=\"https://www.instagram.com/p/BWyHyxgjLBA/\" rel=\"nofollow\">Бытовые зарисовки из общежития</a></div>\\n\\t\\t\\t\\t\\t\\t\\n\\t\\t\\t\\t\\t\\n\\t\\t\\t\\t\\t\\n\\t\\t\\t\\t</div>\\n\\t\\t\\t\\n\\t\\t\\t\\t<div class=\"column__item\">\\n\\t\\t\\t\\t\\t\\n\\t\\t\\t\\t\\t\\t<div class=\"from_social__network media-ico-blue media-ico-blue_vkontakte\"></div>\\n\\t\\t\\t\\t\\t\\n\\t\\t\\t\\t\\t\\n\\t\\t\\t\\t\\t\\t\\n\\t\\t\\t\\t\\t\\t\\t<a class=\"from_social__image\" href=\"https://vimeo.com/226019290\" rel=\"nofollow\"><img src=\"/pubs/share/cover/thumb/207697822x135x110\" alt=\"Yekaterina Kukol\"/></a>\\n\\t\\t\\t\\t\\t\\t\\n\\t\\t\\t\\t\\t\\n\\t\\t\\t\\t\\t\\n\\t\\t\\t\\t\\t\\t\\n\\t\\t\\t\\t\\t\\t\\t<a class=\"from_social__author\" href=\"https://vimeo.com/user59899239\" rel=\"nofollow\">Yekaterina Kukol</a>\\n\\t\\t\\t\\t\\t\\t\\n\\t\\t\\t\\t\\t\\n\\t\\t\\t\\t\\t\\n\\t\\t\\t\\t\\t\\t\\n\\t\\t\\t\\t\\t\\t\\t<div class=\"from_social__content\"><a class=\"link link_no-underline link_dark no-visited\" href=\"https://vimeo.com/226019290\" rel=\"nofollow\">Проект абитуриентов Школы дизайна со вступительных на профиль «Художник театра и кино» будоражит кровь</a></div>\\n\\t\\t\\t\\t\\t\\t\\n\\t\\t\\t\\t\\t\\n\\t\\t\\t\\t\\t\\n\\t\\t\\t\\t</div>\\n\\t\\t\\t\\n\\t\\t\\t\\t<div class=\"column__item\">\\n\\t\\t\\t\\t\\t\\n\\t\\t\\t\\t\\t\\t<div class=\"from_social__network media-ico-blue media-ico-blue_vkontakte\"></div>\\n\\t\\t\\t\\t\\t\\n\\t\\t\\t\\t\\t\\n\\t\\t\\t\\t\\t\\t\\n\\t\\t\\t\\t\\t\\t\\t<a class=\"from_social__image\" href=\"https://vk.com/wall-131073421_37?z=photo-131073421_456239064%2Fwall-131073421_37\" rel=\"nofollow\"><img src=\"/pubs/share/cover/thumb/207504682x135x110\" alt=\"Клуб Экстремальных видов спорта\"/></a>\\n\\t\\t\\t\\t\\t\\t\\n\\t\\t\\t\\t\\t\\n\\t\\t\\t\\t\\t\\n\\t\\t\\t\\t\\t\\t\\n\\t\\t\\t\\t\\t\\t\\t<a class=\"from_social__author\" href=\"https://vk.com/xsportclub\" rel=\"nofollow\">Клуб Экстремальных видов спорта</a>\\n\\t\\t\\t\\t\\t\\t\\n\\t\\t\\t\\t\\t\\n\\t\\t\\t\\t\\t\\n\\t\\t\\t\\t\\t\\t\\n\\t\\t\\t\\t\\t\\t\\t<div class=\"from_social__content\"><a class=\"link link_no-underline link_dark no-visited\" href=\"https://vk.com/wall-131073421_37?z=photo-131073421_456239064%2Fwall-131073421_37\" rel=\"nofollow\">Ночной велопарад в Москве</a></div>\\n\\t\\t\\t\\t\\t\\t\\n\\t\\t\\t\\t\\t\\n\\t\\t\\t\\t\\t\\n\\t\\t\\t\\t</div>\\n\\t\\t\\t\\n\\t\\t\\t\\t<div class=\"column__item\">\\n\\t\\t\\t\\t\\t\\n\\t\\t\\t\\t\\t\\t<div class=\"from_social__network media-ico-blue media-ico-blue_vkontakte\"></div>\\n\\t\\t\\t\\t\\t\\n\\t\\t\\t\\t\\t\\n\\t\\t\\t\\t\\t\\t\\n\\t\\t\\t\\t\\t\\t\\t<a class=\"from_social__image\" href=\"https://vk.com/4ernyavsky?z=photo11190617_456240701%2Fphotos11190617\" rel=\"nofollow\"><img src=\"/pubs/share/cover/thumb/207473617x135x110\" alt=\"Иван Чернявский\"/></a>\\n\\t\\t\\t\\t\\t\\t\\n\\t\\t\\t\\t\\t\\n\\t\\t\\t\\t\\t\\n\\t\\t\\t\\t\\t\\t\\n\\t\\t\\t\\t\\t\\t\\t<a class=\"from_social__author\" href=\"https://vk.com/4ernyavsky\" rel=\"nofollow\">Иван Чернявский</a>\\n\\t\\t\\t\\t\\t\\t\\n\\t\\t\\t\\t\\t\\n\\t\\t\\t\\t\\t\\n\\t\\t\\t\\t\\t\\t\\n\\t\\t\\t\\t\\t\\t\\t<div class=\"from_social__content\"><a class=\"link link_no-underline link_dark no-visited\" href=\"https://vk.com/4ernyavsky?z=photo11190617_456240701%2Fphotos11190617\" rel=\"nofollow\">Иногда Вышка не отпускает даже на отдыхе</a></div>\\n\\t\\t\\t\\t\\t\\t\\n\\t\\t\\t\\t\\t\\n\\t\\t\\t\\t\\t\\n\\t\\t\\t\\t</div>\\n\\t\\t\\t\\n\\t\\t\\t\\t<div class=\"column__item\">\\n\\t\\t\\t\\t\\t\\n\\t\\t\\t\\t\\t\\t<div class=\"from_social__network media-ico-blue media-ico-blue_vkontakte\"></div>\\n\\t\\t\\t\\t\\t\\n\\t\\t\\t\\t\\t\\n\\t\\t\\t\\t\\t\\t\\n\\t\\t\\t\\t\\t\\t\\t<a class=\"from_social__image\" href=\"https://vk.com/sportadventure?z=photo-52451612_456239042%2Fwall-52451612_467\" rel=\"nofollow\"><img src=\"/pubs/share/cover/thumb/207352574x135x110\" alt=\"Турклуб ВШЭ\"/></a>\\n\\t\\t\\t\\t\\t\\t\\n\\t\\t\\t\\t\\t\\n\\t\\t\\t\\t\\t\\n\\t\\t\\t\\t\\t\\t\\n\\t\\t\\t\\t\\t\\t\\t<a class=\"from_social__author\" href=\"https://vk.com/sportadventure\" rel=\"nofollow\">Турклуб ВШЭ</a>\\n\\t\\t\\t\\t\\t\\t\\n\\t\\t\\t\\t\\t\\n\\t\\t\\t\\t\\t\\n\\t\\t\\t\\t\\t\\t\\n\\t\\t\\t\\t\\t\\t\\t<div class=\"from_social__content\"><a class=\"link link_no-underline link_dark no-visited\" href=\"https://vk.com/sportadventure?z=photo-52451612_456239042%2Fwall-52451612_467\" rel=\"nofollow\">Белые ночи в Карелии глазами Турклуба ВШЭ</a></div>\\n\\t\\t\\t\\t\\t\\t\\n\\t\\t\\t\\t\\t\\n\\t\\t\\t\\t\\t\\n\\t\\t\\t\\t</div>\\n\\t\\t\\t\\n\\t\\t\\t\\t<div class=\"column__item\">\\n\\t\\t\\t\\t\\t\\n\\t\\t\\t\\t\\t\\t<div class=\"from_social__network media-ico-blue media-ico-blue_vkontakte\"></div>\\n\\t\\t\\t\\t\\t\\n\\t\\t\\t\\t\\t\\n\\t\\t\\t\\t\\t\\t\\n\\t\\t\\t\\t\\t\\t\\t<a class=\"from_social__image\" href=\"https://vk.com/wall9022224_2082\" rel=\"nofollow\"><img src=\"/pubs/share/cover/thumb/207276913x135x110\" alt=\"Александр Петров\"/></a>\\n\\t\\t\\t\\t\\t\\t\\n\\t\\t\\t\\t\\t\\n\\t\\t\\t\\t\\t\\n\\t\\t\\t\\t\\t\\t\\n\\t\\t\\t\\t\\t\\t\\t<a class=\"from_social__author\" href=\"https://vk.com/id9022224\" rel=\"nofollow\">Александр Петров</a>\\n\\t\\t\\t\\t\\t\\t\\n\\t\\t\\t\\t\\t\\n\\t\\t\\t\\t\\t\\n\\t\\t\\t\\t\\t\\t\\n\\t\\t\\t\\t\\t\\t\\t<div class=\"from_social__content\"><a class=\"link link_no-underline link_dark no-visited\" href=\"https://vk.com/wall9022224_2082\" rel=\"nofollow\">Абитуриенты Вышки хотят поскорее стать студентами Вышки</a></div>\\n\\t\\t\\t\\t\\t\\t\\n\\t\\t\\t\\t\\t\\n\\t\\t\\t\\t\\t\\n\\t\\t\\t\\t</div>\\n\\t\\t\\t\\n\\t\\t\\t\\t<div class=\"column__item\">\\n\\t\\t\\t\\t\\t\\n\\t\\t\\t\\t\\t\\t<div class=\"from_social__network media-ico-blue media-ico-blue_instagram\"></div>\\n\\t\\t\\t\\t\\t\\n\\t\\t\\t\\t\\t\\n\\t\\t\\t\\t\\t\\t\\n\\t\\t\\t\\t\\t\\t\\t<a class=\"from_social__image\" href=\"https://www.instagram.com/p/BWFDZHdl1Sjbz7nZtvyr45zXmAurfBQrRIK3UU0/\" rel=\"nofollow\"><img src=\"/pubs/share/cover/thumb/207225607x135x110\" alt=\"erikborisenko\"/></a>\\n\\t\\t\\t\\t\\t\\t\\n\\t\\t\\t\\t\\t\\n\\t\\t\\t\\t\\t\\n\\t\\t\\t\\t\\t\\t\\n\\t\\t\\t\\t\\t\\t\\t<a class=\"from_social__author\" href=\"https://www.instagram.com/erikborisenko/\" rel=\"nofollow\">erikborisenko</a>\\n\\t\\t\\t\\t\\t\\t\\n\\t\\t\\t\\t\\t\\n\\t\\t\\t\\t\\t\\n\\t\\t\\t\\t\\t\\t\\n\\t\\t\\t\\t\\t\\t\\t<div class=\"from_social__content\"><a class=\"link link_no-underline link_dark no-visited\" href=\"https://www.instagram.com/p/BWFDZHdl1Sjbz7nZtvyr45zXmAurfBQrRIK3UU0/\" rel=\"nofollow\">Выпускной в петербургском кампусе</a></div>\\n\\t\\t\\t\\t\\t\\t\\n\\t\\t\\t\\t\\t\\n\\t\\t\\t\\t\\t\\n\\t\\t\\t\\t</div>\\n\\t\\t\\t\\n\\t\\t\\t\\t<div class=\"column__item\">\\n\\t\\t\\t\\t\\t\\n\\t\\t\\t\\t\\t\\t<div class=\"from_social__network media-ico-blue media-ico-blue_instagram\"></div>\\n\\t\\t\\t\\t\\t\\n\\t\\t\\t\\t\\t\\n\\t\\t\\t\\t\\t\\t\\n\\t\\t\\t\\t\\t\\t\\t<a class=\"from_social__image\" href=\"https://www.instagram.com/p/BVy2gxkAel8/\" rel=\"nofollow\"><img src=\"/pubs/share/cover/thumb/207094960x135x110\" alt=\"polina_kop\"/></a>\\n\\t\\t\\t\\t\\t\\t\\n\\t\\t\\t\\t\\t\\n\\t\\t\\t\\t\\t\\n\\t\\t\\t\\t\\t\\t\\n\\t\\t\\t\\t\\t\\t\\t<a class=\"from_social__author\" href=\"https://www.instagram.com/polina_kop/\" rel=\"nofollow\">polina_kop</a>\\n\\t\\t\\t\\t\\t\\t\\n\\t\\t\\t\\t\\t\\n\\t\\t\\t\\t\\t\\n\\t\\t\\t\\t\\t\\t\\n\\t\\t\\t\\t\\t\\t\\t<div class=\"from_social__content\"><a class=\"link link_no-underline link_dark no-visited\" href=\"https://www.instagram.com/p/BVy2gxkAel8/\" rel=\"nofollow\">Надвигающийся на «Трилистник» дождь</a></div>\\n\\t\\t\\t\\t\\t\\t\\n\\t\\t\\t\\t\\t\\n\\t\\t\\t\\t\\t\\n\\t\\t\\t\\t</div>\\n\\t\\t\\t\\n\\t\\t\\t\\t<div class=\"column__item\">\\n\\t\\t\\t\\t\\t\\n\\t\\t\\t\\t\\t\\t<div class=\"from_social__network media-ico-blue media-ico-blue_facebook\"></div>\\n\\t\\t\\t\\t\\t\\n\\t\\t\\t\\t\\t\\n\\t\\t\\t\\t\\t\\t\\n\\t\\t\\t\\t\\t\\t\\t<a class=\"from_social__image\" href=\"https://www.facebook.com/photo.php?fbid=656729434526571&set=a.119166201616233.1073741828.100005685603900&type=3&theater\" rel=\"nofollow\"><img src=\"/pubs/share/cover/thumb/206996431x135x110\" alt=\"Дмитрий Семенов\"/></a>\\n\\t\\t\\t\\t\\t\\t\\n\\t\\t\\t\\t\\t\\n\\t\\t\\t\\t\\t\\n\\t\\t\\t\\t\\t\\t\\n\\t\\t\\t\\t\\t\\t\\t<a class=\"from_social__author\" href=\"https://www.facebook.com/dmitry.semyonov.50?fref=nf\" rel=\"nofollow\">Дмитрий Семенов</a>\\n\\t\\t\\t\\t\\t\\t\\n\\t\\t\\t\\t\\t\\n\\t\\t\\t\\t\\t\\n\\t\\t\\t\\t\\t\\t\\n\\t\\t\\t\\t\\t\\t\\t<div class=\"from_social__content\"><a class=\"link link_no-underline link_dark no-visited\" href=\"https://www.facebook.com/photo.php?fbid=656729434526571&set=a.119166201616233.1073741828.100005685603900&type=3&theater\" rel=\"nofollow\">Показать то, что скрыто... Изнанка ВШЭ</a></div>\\n\\t\\t\\t\\t\\t\\t\\n\\t\\t\\t\\t\\t\\n\\t\\t\\t\\t\\t\\n\\t\\t\\t\\t</div>\\n\\t\\t\\t\\n\\t\\t\\t\\t<div class=\"column__item\">\\n\\t\\t\\t\\t\\t\\n\\t\\t\\t\\t\\t\\t<div class=\"from_social__network media-ico-blue media-ico-blue_twitter\"></div>\\n\\t\\t\\t\\t\\t\\n\\t\\t\\t\\t\\t\\n\\t\\t\\t\\t\\t\\t\\n\\t\\t\\t\\t\\t\\t\\t<a class=\"from_social__image\" href=\"https://twitter.com/OBEYtheGrammar/status/870996523701723137\" rel=\"nofollow\"><img src=\"/pubs/share/cover/thumb/206996556x135x110\" alt=\"MURNINJA\\u200f\"/></a>\\n\\t\\t\\t\\t\\t\\t\\n\\t\\t\\t\\t\\t\\n\\t\\t\\t\\t\\t\\n\\t\\t\\t\\t\\t\\t\\n\\t\\t\\t\\t\\t\\t\\t<a class=\"from_social__author\" href=\"https://twitter.com/OBEYtheGrammar\" rel=\"nofollow\">MURNINJA\\u200f</a>\\n\\t\\t\\t\\t\\t\\t\\n\\t\\t\\t\\t\\t\\n\\t\\t\\t\\t\\t\\n\\t\\t\\t\\t\\t\\t\\n\\t\\t\\t\\t\\t\\t\\t<div class=\"from_social__content\"><a class=\"link link_no-underline link_dark no-visited\" href=\"https://twitter.com/OBEYtheGrammar/status/870996523701723137\" rel=\"nofollow\">Герб Факультета экономики тогда еще ГУ-ВШЭ образца 2009 года</a></div>\\n\\t\\t\\t\\t\\t\\t\\n\\t\\t\\t\\t\\t\\n\\t\\t\\t\\t\\t\\n\\t\\t\\t\\t</div>\\n\\t\\t\\t\\n\\t\\t\\t</div>\\n\\t\\t</section>\\n\\t\\n\\n\\n\\t\\t\\n\\n\\t\\t\\n\\t\\t<section class=\"section section--contacts\">\\n\\t\\t\\t<div class=\"section__header clear\">\\n\\t\\t\\t\\t<h2 class=\"section_title section_title--light\"><a name=\"contacts\">Контакты</a></h2>\\n\\t\\t\\t\\t<div class=\"section__controls\">\\n\\t\\t\\t\\t\\t\\n\\t\\t\\t\\t</div>\\n\\t\\t\\t</div>\\n\\t\\t\\t<div class=\"column column-4\">\\n\\t\\t\\t\\t\\n\\t\\t\\t\\t<div class=\"column__item\">\\n\\t\\t\\t\\t\\t\\n\\t\\t\\t\\t\\t<p class=\"b\"><strong><a href=\"https://www.hse.ru/contacts.html\">Главный корпус</a></strong></p>\\n\\n<p class=\"text\">101000, г. Москва, ул. Мясницкая, д. 20</p>\\n\\n<p class=\"text\">Справочная:<br />\\n+ 7 495 771-32-32<br />\\n+ 7 495 531-00-31<br />\\nФакс: + 7 495 628-79-31<br />\\n<a href=\"mailto:hse@hse.ru\">hse@hse.ru</a></p>\\n\\n<p>&nbsp;</p>\\n\\n<p><a href=\"http://www.hse.ru/buildinghse\">Карта зданий</a>&nbsp; &nbsp;&nbsp;<a href=\"https://www.hse.ru/org/hse/buildinghse/track\">Проложить маршрут</a></p>\\n\\n\\t\\t\\t\\t</div>\\n\\t\\t\\t\\t\\n\\t\\t\\t\\t<div class=\"column__item\">\\n\\t\\t\\t\\t\\t\\n\\t\\t\\t\\t\\t<p class=\"b\"><strong><a href=\"http://ba.hse.ru/\">Приемная комиссия</a></strong></p>\\n\\n<p>Москва, ул. Мясницкая, д. 20</p>\\n\\n<p>+ 7 495 771-32-42<br />\\n+ 7 495 916-88-44<br />\\n<a href=\"mailto:abitur@hse.ru\">abitur@hse.ru</a></p>\\n\\n<p>&nbsp;</p>\\n\\n<p><strong><a href=\"https://www.hse.ru/dormitory/\">Общежития</a></strong></p>\\n\\n\\t\\t\\t\\t</div>\\n\\t\\t\\t\\t\\n\\t\\t\\t\\t<div class=\"column__item\">\\n\\t\\t\\t\\t\\t\\n\\t\\t\\t\\t\\t<p class=\"b\"><strong><a href=\"http://www.hse.ru/pr/press\">Пресс-служба ВШЭ</a></strong></p>\\n\\n<p>+ 7&nbsp;495&nbsp;772-95-67<br />\\n+ 7 495 916-88-67<br />\\n<a href=\"mailto:press@hse.ru\">press@hse.ru</a></p>\\n\\n<p><a class=\"link\" href=\"http://www.hse.ru/copyright\">Условия использования материалов</a></p>\\n\\n<p>&nbsp;</p>\\n\\n<p><strong><a href=\"http://family.hse.ru/\">ВышкаFamily</a></strong></p>\\n\\n<p>&nbsp;</p>\\n\\n\\t\\t\\t\\t</div>\\n\\t\\t\\t\\t\\n\\t\\t\\t\\t<div class=\"column__item\">\\n\\t\\t\\t\\t\\t\\n\\t\\t\\t\\t\\t<p class=\"b\"><a href=\"http://forum.hse.ru/\"><strong>Форумы университета</strong></a></p>\\n\\n<p><a href=\"http://forum.hse.ru/newforum/index.php?t=thread&amp;frm_id=178&amp;S=6ddd300093d313d5d92cbdd6adc240d9\">О поступлении в Лицей</a></p>\\n\\n<p><a href=\"http://forum.hse.ru/newforum/index.php?t=thread&amp;frm_id=87&amp;S=e36a456f132336af8c64dd2943040f5c\">О поступлении в НИУ ВШЭ</a></p>\\n\\n<p><a href=\"http://forum.hse.ru/newforum/index.php?t=thread&amp;frm_id=152&amp;S=e36a456f132336af8c64dd2943040f5c\">Иностранным абитуриентам</a></p>\\n\\n<p><a href=\"http://forum.hse.ru/newforum/index.php?t=thread&amp;frm_id=149&amp;S=e36a456f132336af8c64dd2943040f5c\">Участникам олимпиад&nbsp;НИУ ВШЭ</a></p>\\n\\n<p><a href=\"http://forum.hse.ru/newforum/index.php?t=thread&amp;frm_id=113&amp;S=6f4d8062c8b9c57bac9c50469802836f\">О поступлении в аспирантуру</a></p>\\n\\n<p><a href=\"http://forum.hse.ru/newforum/index.php?t=thread&amp;frm_id=134&amp;S=6f4d8062c8b9c57bac9c50469802836f\">О поступлении на программы ДПО</a></p>\\n\\n\\t\\t\\t\\t</div>\\n\\t\\t\\t\\t\\n\\t\\t\\t</div>\\n\\t\\t</section>\\n\\t\\n\\n\\n\\t\\t\\t<footer class=\"footer section\">\\n\\t\\t\\t<div class=\"footer__navigation column column-5\">\\n\\n\\t\\t\\t \\n\\t\\t\\t\\t<ul class=\"navigation column__item\">\\n\\t\\t\\t\\t\\t<li class=\"navigation__item navigation__item--parent\">\\n\\t\\t\\t\\t\\t\\t<a class=\"navigation__link\" href=\"//www.hse.ru/org/hse/info/\">О Вышке</a>\\n\\t\\t\\t\\t\\t</li>\\n\\t\\t\\t\\t\\t\\n\\t\\t\\t\\t\\t\\t\\n\\t\\t\\t\\t\\t\\t\\t<li class=\"navigation__item\">\\n\\t\\t\\t\\t\\t\\t\\t\\t<a class=\"navigation__link\" href=\"//www.hse.ru/figures/\">Цифры и факты</a>\\n\\t\\t\\t\\t\\t\\t\\t</li>\\n\\t\\t\\t\\t\\t\\t\\n\\t\\t\\t\\t\\t\\n\\t\\t\\t\\t\\t\\t\\n\\t\\t\\t\\t\\t\\t\\t<li class=\"navigation__item\">\\n\\t\\t\\t\\t\\t\\t\\t\\t<a class=\"navigation__link\" href=\"//www.hse.ru/orgstructure/\">Руководство и структура</a>\\n\\t\\t\\t\\t\\t\\t\\t</li>\\n\\t\\t\\t\\t\\t\\t\\n\\t\\t\\t\\t\\t\\n\\t\\t\\t\\t\\t\\t\\n\\t\\t\\t\\t\\t\\t\\t<li class=\"navigation__item\">\\n\\t\\t\\t\\t\\t\\t\\t\\t<a class=\"navigation__link\" href=\"//www.hse.ru/org/persons/\">Преподаватели и сотрудники</a>\\n\\t\\t\\t\\t\\t\\t\\t</li>\\n\\t\\t\\t\\t\\t\\t\\n\\t\\t\\t\\t\\t\\n\\t\\t\\t\\t\\t\\t\\n\\t\\t\\t\\t\\t\\t\\t<li class=\"navigation__item\">\\n\\t\\t\\t\\t\\t\\t\\t\\t<a class=\"navigation__link\" href=\"//www.hse.ru/buildinghse\">Корпуса и общежития</a>\\n\\t\\t\\t\\t\\t\\t\\t</li>\\n\\t\\t\\t\\t\\t\\t\\n\\t\\t\\t\\t\\t\\n\\t\\t\\t\\t\\t\\t\\n\\t\\t\\t\\t\\t\\t\\t<li class=\"navigation__item\">\\n\\t\\t\\t\\t\\t\\t\\t\\t<a class=\"navigation__link\" href=\"https://www.hse.ru/org/hse/aup/procurement/\">Закупки</a>\\n\\t\\t\\t\\t\\t\\t\\t</li>\\n\\t\\t\\t\\t\\t\\t\\n\\t\\t\\t\\t\\t\\n\\t\\t\\t\\t\\t\\t\\n\\t\\t\\t\\t\\t\\t\\t<li class=\"navigation__item\">\\n\\t\\t\\t\\t\\t\\t\\t\\t<a class=\"navigation__link\" href=\"//www.hse.ru/appeal/\">Обращения граждан в НИУ ВШЭ</a>\\n\\t\\t\\t\\t\\t\\t\\t</li>\\n\\t\\t\\t\\t\\t\\t\\n\\t\\t\\t\\t\\t\\n\\t\\t\\t\\t\\t\\t\\n\\t\\t\\t\\t\\t\\t\\t<li class=\"navigation__item\">\\n\\t\\t\\t\\t\\t\\t\\t\\t<a class=\"navigation__link\" href=\"//endowment.hse.ru/\">Фонд целевого капитала</a>\\n\\t\\t\\t\\t\\t\\t\\t</li>\\n\\t\\t\\t\\t\\t\\t\\n\\t\\t\\t\\t\\t\\n\\t\\t\\t\\t\\t\\t\\n\\t\\t\\t\\t\\t\\t\\t<li class=\"navigation__item\">\\n\\t\\t\\t\\t\\t\\t\\t\\t<a class=\"navigation__link\" href=\"http://www.hse.ru/anticorruption\">Противодействие коррупции</a>\\n\\t\\t\\t\\t\\t\\t\\t</li>\\n\\t\\t\\t\\t\\t\\t\\n\\t\\t\\t\\t\\t\\n\\t\\t\\t\\t\\t\\t\\n\\t\\t\\t\\t\\t\\t\\t<li class=\"navigation__item\">\\n\\t\\t\\t\\t\\t\\t\\t\\t<a class=\"navigation__link\" href=\"//www.hse.ru/sveden/\">Сведения об образовательной организации</a>\\n\\t\\t\\t\\t\\t\\t\\t</li>\\n\\t\\t\\t\\t\\t\\t\\n\\t\\t\\t\\t\\t\\n\\t\\t\\t\\t\\t\\t\\n\\t\\t\\t\\t\\t\\t\\t<li class=\"navigation__item\">\\n\\t\\t\\t\\t\\t\\t\\t\\t<a class=\"navigation__link\" href=\"https://benefits.hse.ru/disability\">ВШЭ для людей с ограниченными возможностями здоровья и инвалидов</a>\\n\\t\\t\\t\\t\\t\\t\\t</li>\\n\\t\\t\\t\\t\\t\\t\\n\\t\\t\\t\\t\\t\\n\\t\\t\\t\\t\\t\\t\\n\\t\\t\\t\\t\\t\\t\\t<li class=\"navigation__item\">\\n\\t\\t\\t\\t\\t\\t\\t\\t<a class=\"navigation__link\" href=\"https://pay.hse.ru/\">Единая платежная страница</a>\\n\\t\\t\\t\\t\\t\\t\\t</li>\\n\\t\\t\\t\\t\\t\\t\\n\\t\\t\\t\\t\\t\\n\\t\\t\\t\\t</ul>\\n\\t\\t\\t \\n\\t\\t\\t\\t<ul class=\"navigation column__item\">\\n\\t\\t\\t\\t\\t<li class=\"navigation__item navigation__item--parent\">\\n\\t\\t\\t\\t\\t\\t<a class=\"navigation__link\" href=\"//www.hse.ru/education/\">ОБРАЗОВАНИЕ</a>\\n\\t\\t\\t\\t\\t</li>\\n\\t\\t\\t\\t\\t\\n\\t\\t\\t\\t\\t\\t\\n\\t\\t\\t\\t\\t\\t\\t<li class=\"navigation__item\">\\n\\t\\t\\t\\t\\t\\t\\t\\t<a class=\"navigation__link\" href=\"//school.hse.ru\">Лицей</a>\\n\\t\\t\\t\\t\\t\\t\\t</li>\\n\\t\\t\\t\\t\\t\\t\\n\\t\\t\\t\\t\\t\\n\\t\\t\\t\\t\\t\\t\\n\\t\\t\\t\\t\\t\\t\\t<li class=\"navigation__item\">\\n\\t\\t\\t\\t\\t\\t\\t\\t<a class=\"navigation__link\" href=\"http://fdp.hse.ru/\">Довузовская подготовка</a>\\n\\t\\t\\t\\t\\t\\t\\t</li>\\n\\t\\t\\t\\t\\t\\t\\n\\t\\t\\t\\t\\t\\n\\t\\t\\t\\t\\t\\t\\n\\t\\t\\t\\t\\t\\t\\t<li class=\"navigation__item\">\\n\\t\\t\\t\\t\\t\\t\\t\\t<a class=\"navigation__link\" href=\"//olymp.hse.ru/\">Олимпиады</a>\\n\\t\\t\\t\\t\\t\\t\\t</li>\\n\\t\\t\\t\\t\\t\\t\\n\\t\\t\\t\\t\\t\\n\\t\\t\\t\\t\\t\\t\\n\\t\\t\\t\\t\\t\\t\\t<li class=\"navigation__item\">\\n\\t\\t\\t\\t\\t\\t\\t\\t<a class=\"navigation__link\" href=\"//ba.hse.ru/\">Прием в бакалавриат</a>\\n\\t\\t\\t\\t\\t\\t\\t</li>\\n\\t\\t\\t\\t\\t\\t\\n\\t\\t\\t\\t\\t\\n\\t\\t\\t\\t\\t\\t\\n\\t\\t\\t\\t\\t\\t\\t<li class=\"navigation__item\">\\n\\t\\t\\t\\t\\t\\t\\t\\t<a class=\"navigation__link\" href=\"https://www.hse.ru/plus\">Бакалавр+</a>\\n\\t\\t\\t\\t\\t\\t\\t</li>\\n\\t\\t\\t\\t\\t\\t\\n\\t\\t\\t\\t\\t\\n\\t\\t\\t\\t\\t\\t\\n\\t\\t\\t\\t\\t\\t\\t<li class=\"navigation__item\">\\n\\t\\t\\t\\t\\t\\t\\t\\t<a class=\"navigation__link\" href=\"//ma.hse.ru/\">Прием в магистратуру</a>\\n\\t\\t\\t\\t\\t\\t\\t</li>\\n\\t\\t\\t\\t\\t\\t\\n\\t\\t\\t\\t\\t\\n\\t\\t\\t\\t\\t\\t\\n\\t\\t\\t\\t\\t\\t\\t<li class=\"navigation__item\">\\n\\t\\t\\t\\t\\t\\t\\t\\t<a class=\"navigation__link\" href=\"//aspirantura.hse.ru/\">Аспирантура</a>\\n\\t\\t\\t\\t\\t\\t\\t</li>\\n\\t\\t\\t\\t\\t\\t\\n\\t\\t\\t\\t\\t\\n\\t\\t\\t\\t\\t\\t\\n\\t\\t\\t\\t\\t\\t\\t<li class=\"navigation__item\">\\n\\t\\t\\t\\t\\t\\t\\t\\t<a class=\"navigation__link\" href=\"//busedu.hse.ru/\">Дополнительное образование</a>\\n\\t\\t\\t\\t\\t\\t\\t</li>\\n\\t\\t\\t\\t\\t\\t\\n\\t\\t\\t\\t\\t\\n\\t\\t\\t\\t\\t\\t\\n\\t\\t\\t\\t\\t\\t\\t<li class=\"navigation__item\">\\n\\t\\t\\t\\t\\t\\t\\t\\t<a class=\"navigation__link\" href=\"//academics.hse.ru/\">Академическое развитие</a>\\n\\t\\t\\t\\t\\t\\t\\t</li>\\n\\t\\t\\t\\t\\t\\t\\n\\t\\t\\t\\t\\t\\n\\t\\t\\t\\t\\t\\t\\n\\t\\t\\t\\t\\t\\t\\t<li class=\"navigation__item\">\\n\\t\\t\\t\\t\\t\\t\\t\\t<a class=\"navigation__link\" href=\"https://career.hse.ru/\">Центр развития карьеры</a>\\n\\t\\t\\t\\t\\t\\t\\t</li>\\n\\t\\t\\t\\t\\t\\t\\n\\t\\t\\t\\t\\t\\n\\t\\t\\t\\t</ul>\\n\\t\\t\\t \\n\\t\\t\\t\\t<ul class=\"navigation column__item\">\\n\\t\\t\\t\\t\\t<li class=\"navigation__item navigation__item--parent\">\\n\\t\\t\\t\\t\\t\\t<a class=\"navigation__link\" href=\"//www.hse.ru/science/\">НАУКА</a>\\n\\t\\t\\t\\t\\t</li>\\n\\t\\t\\t\\t\\t\\n\\t\\t\\t\\t\\t\\t\\n\\t\\t\\t\\t\\t\\t\\t<li class=\"navigation__item\">\\n\\t\\t\\t\\t\\t\\t\\t\\t<a class=\"navigation__link\" href=\"//www.hse.ru/science/centers\">Научные подразделения</a>\\n\\t\\t\\t\\t\\t\\t\\t</li>\\n\\t\\t\\t\\t\\t\\t\\n\\t\\t\\t\\t\\t\\n\\t\\t\\t\\t\\t\\t\\n\\t\\t\\t\\t\\t\\t\\t<li class=\"navigation__item\">\\n\\t\\t\\t\\t\\t\\t\\t\\t<a class=\"navigation__link\" href=\"http://www.hse.ru/org/projects/\">Исследовательские проекты</a>\\n\\t\\t\\t\\t\\t\\t\\t</li>\\n\\t\\t\\t\\t\\t\\t\\n\\t\\t\\t\\t\\t\\n\\t\\t\\t\\t\\t\\t\\n\\t\\t\\t\\t\\t\\t\\t<li class=\"navigation__item\">\\n\\t\\t\\t\\t\\t\\t\\t\\t<a class=\"navigation__link\" href=\"//www.hse.ru/monitoring/\">Мониторинги</a>\\n\\t\\t\\t\\t\\t\\t\\t</li>\\n\\t\\t\\t\\t\\t\\t\\n\\t\\t\\t\\t\\t\\n\\t\\t\\t\\t\\t\\t\\n\\t\\t\\t\\t\\t\\t\\t<li class=\"navigation__item\">\\n\\t\\t\\t\\t\\t\\t\\t\\t<a class=\"navigation__link\" href=\"https://www.hse.ru/news/announcements/scientific_actions/\">Научные мероприятия</a>\\n\\t\\t\\t\\t\\t\\t\\t</li>\\n\\t\\t\\t\\t\\t\\t\\n\\t\\t\\t\\t\\t\\n\\t\\t\\t\\t\\t\\t\\n\\t\\t\\t\\t\\t\\t\\t<li class=\"navigation__item\">\\n\\t\\t\\t\\t\\t\\t\\t\\t<a class=\"navigation__link\" href=\"//www.hse.ru/science/disscoun/\">Диссертационные советы</a>\\n\\t\\t\\t\\t\\t\\t\\t</li>\\n\\t\\t\\t\\t\\t\\t\\n\\t\\t\\t\\t\\t\\n\\t\\t\\t\\t\\t\\t\\n\\t\\t\\t\\t\\t\\t\\t<li class=\"navigation__item\">\\n\\t\\t\\t\\t\\t\\t\\t\\t<a class=\"navigation__link\" href=\"//www.hse.ru/news/announcements/diss/\">Защиты диссертаций</a>\\n\\t\\t\\t\\t\\t\\t\\t</li>\\n\\t\\t\\t\\t\\t\\t\\n\\t\\t\\t\\t\\t\\n\\t\\t\\t\\t\\t\\t\\n\\t\\t\\t\\t\\t\\t\\t<li class=\"navigation__item\">\\n\\t\\t\\t\\t\\t\\t\\t\\t<a class=\"navigation__link\" href=\"//www.hse.ru/science/hsegrants\">Конкурсы и гранты</a>\\n\\t\\t\\t\\t\\t\\t\\t</li>\\n\\t\\t\\t\\t\\t\\t\\n\\t\\t\\t\\t\\t\\n\\t\\t\\t\\t\\t\\t\\n\\t\\t\\t\\t\\t\\t\\t<li class=\"navigation__item\">\\n\\t\\t\\t\\t\\t\\t\\t\\t<a class=\"navigation__link\" href=\"https://iq.hse.ru/\">Научно-образовательный портал IQ.hse.ru</a>\\n\\t\\t\\t\\t\\t\\t\\t</li>\\n\\t\\t\\t\\t\\t\\t\\n\\t\\t\\t\\t\\t\\n\\t\\t\\t\\t</ul>\\n\\t\\t\\t \\n\\t\\t\\t\\t<ul class=\"navigation column__item\">\\n\\t\\t\\t\\t\\t<li class=\"navigation__item navigation__item--parent\">\\n\\t\\t\\t\\t\\t\\t<a class=\"navigation__link\" href=\"//publications.hse.ru\">Ресурсы</a>\\n\\t\\t\\t\\t\\t</li>\\n\\t\\t\\t\\t\\t\\n\\t\\t\\t\\t\\t\\t\\n\\t\\t\\t\\t\\t\\t\\t<li class=\"navigation__item\">\\n\\t\\t\\t\\t\\t\\t\\t\\t<a class=\"navigation__link\" href=\"http://library.hse.ru/\">Библиотека</a>\\n\\t\\t\\t\\t\\t\\t\\t</li>\\n\\t\\t\\t\\t\\t\\t\\n\\t\\t\\t\\t\\t\\n\\t\\t\\t\\t\\t\\t\\n\\t\\t\\t\\t\\t\\t\\t<li class=\"navigation__item\">\\n\\t\\t\\t\\t\\t\\t\\t\\t<a class=\"navigation__link\" href=\"//id.hse.ru\">Издательский дом ВШЭ</a>\\n\\t\\t\\t\\t\\t\\t\\t</li>\\n\\t\\t\\t\\t\\t\\t\\n\\t\\t\\t\\t\\t\\n\\t\\t\\t\\t\\t\\t\\n\\t\\t\\t\\t\\t\\t\\t<li class=\"navigation__item\">\\n\\t\\t\\t\\t\\t\\t\\t\\t<a class=\"navigation__link\" href=\"http://id.hse.ru/shop/\">Книжный интернет-магазин</a>\\n\\t\\t\\t\\t\\t\\t\\t</li>\\n\\t\\t\\t\\t\\t\\t\\n\\t\\t\\t\\t\\t\\n\\t\\t\\t\\t\\t\\t\\n\\t\\t\\t\\t\\t\\t\\t<li class=\"navigation__item\">\\n\\t\\t\\t\\t\\t\\t\\t\\t<a class=\"navigation__link\" href=\"//bookshop.hse.ru/\">Книжный магазин «БукВышка»</a>\\n\\t\\t\\t\\t\\t\\t\\t</li>\\n\\t\\t\\t\\t\\t\\t\\n\\t\\t\\t\\t\\t\\n\\t\\t\\t\\t\\t\\t\\n\\t\\t\\t\\t\\t\\t\\t<li class=\"navigation__item\">\\n\\t\\t\\t\\t\\t\\t\\t\\t<a class=\"navigation__link\" href=\"https://print.hse.ru/\">Типография</a>\\n\\t\\t\\t\\t\\t\\t\\t</li>\\n\\t\\t\\t\\t\\t\\t\\n\\t\\t\\t\\t\\t\\n\\t\\t\\t\\t\\t\\t\\n\\t\\t\\t\\t\\t\\t\\t<li class=\"navigation__item\">\\n\\t\\t\\t\\t\\t\\t\\t\\t<a class=\"navigation__link\" href=\"//www.hse.ru/science/journals\">Журналы ВШЭ</a>\\n\\t\\t\\t\\t\\t\\t\\t</li>\\n\\t\\t\\t\\t\\t\\t\\n\\t\\t\\t\\t\\t\\n\\t\\t\\t\\t\\t\\t\\n\\t\\t\\t\\t\\t\\t\\t<li class=\"navigation__item\">\\n\\t\\t\\t\\t\\t\\t\\t\\t<a class=\"navigation__link\" href=\"//publications.hse.ru\">Публикации</a>\\n\\t\\t\\t\\t\\t\\t\\t</li>\\n\\t\\t\\t\\t\\t\\t\\n\\t\\t\\t\\t\\t\\n\\t\\t\\t\\t\\t\\t\\n\\t\\t\\t\\t\\t\\t\\t<li class=\"navigation__item\">\\n\\t\\t\\t\\t\\t\\t\\t\\t<a class=\"navigation__link\" href=\"http://sophist.hse.ru/\">Единый архив экономических и социологических данных</a>\\n\\t\\t\\t\\t\\t\\t\\t</li>\\n\\t\\t\\t\\t\\t\\t\\n\\t\\t\\t\\t\\t\\n\\t\\t\\t\\t\\t\\t\\n\\t\\t\\t\\t\\t\\t\\t<li class=\"navigation__item\">\\n\\t\\t\\t\\t\\t\\t\\t\\t<a class=\"navigation__link\" href=\"http://moscow.hse.ru\">Университет, открытый городу</a>\\n\\t\\t\\t\\t\\t\\t\\t</li>\\n\\t\\t\\t\\t\\t\\t\\n\\t\\t\\t\\t\\t\\n\\t\\t\\t\\t</ul>\\n\\t\\t\\t \\n\\t\\t\\t\\t<ul class=\"navigation column__item\">\\n\\t\\t\\t\\t\\t<li class=\"navigation__item navigation__item--parent\">\\n\\t\\t\\t\\t\\t\\t<a class=\"navigation__link\" href=\"https://www.hse.ru/\">Полезные ссылки</a>\\n\\t\\t\\t\\t\\t</li>\\n\\t\\t\\t\\t\\t\\n\\t\\t\\t\\t\\t\\t\\n\\t\\t\\t\\t\\t\\t\\t<li class=\"navigation__item\">\\n\\t\\t\\t\\t\\t\\t\\t\\t<a class=\"navigation__link\" href=\"http://минобрнауки.рф\" rel=\"nofollow\">Министерство образования и науки РФ</a>\\n\\t\\t\\t\\t\\t\\t\\t</li>\\n\\t\\t\\t\\t\\t\\t\\n\\t\\t\\t\\t\\t\\n\\t\\t\\t\\t\\t\\t\\n\\t\\t\\t\\t\\t\\t\\t<li class=\"navigation__item\">\\n\\t\\t\\t\\t\\t\\t\\t\\t<a class=\"navigation__link\" href=\"http://www.edu.ru\" rel=\"nofollow\">Федеральный портал «Российское образование»</a>\\n\\t\\t\\t\\t\\t\\t\\t</li>\\n\\t\\t\\t\\t\\t\\t\\n\\t\\t\\t\\t\\t\\n\\t\\t\\t\\t\\t\\t\\n\\t\\t\\t\\t\\t\\t\\t<li class=\"navigation__item\">\\n\\t\\t\\t\\t\\t\\t\\t\\t<a class=\"navigation__link\" href=\"https://elearning.hse.ru/mooc\">Массовые открытые онлайн-курсы</a>\\n\\t\\t\\t\\t\\t\\t\\t</li>\\n\\t\\t\\t\\t\\t\\t\\n\\t\\t\\t\\t\\t\\n\\t\\t\\t\\t\\t\\t\\n\\t\\t\\t\\t\\t\\t\\t<li class=\"navigation__item\">\\n\\t\\t\\t\\t\\t\\t\\t\\t<a class=\"navigation__link\" href=\"http://5top100.ru/\" rel=\"nofollow\">Проект 5-100</a>\\n\\t\\t\\t\\t\\t\\t\\t</li>\\n\\t\\t\\t\\t\\t\\t\\n\\t\\t\\t\\t\\t\\n\\t\\t\\t\\t</ul>\\n\\t\\t\\t\\n\\t\\t</div>\\n\\t\\t<div class=\"footer__logo25\">\\n\\t\\t\\t<a class=\"link_no-underline\" href=\"https://25.hse.ru/\">\\n<svg class=\"footer__svg_logo\" width=\"130\" height=\"64\" viewBox=\"0 0 130 64\" xmlns=\"http://www.w3.org/2000/svg\"><title>25_main</title><desc>Created with Sketch.</desc><g fill=\"none\"><g class=\"footer__hse\" fill=\"#575756\"><path d=\"M26.554 57.461c-13.983.067-25.378-11.221-25.446-25.205-.065-13.983 11.219-25.378 25.204-25.445 13.984-.068 25.379 11.219 25.446 25.202.067 13.983-11.219 25.379-25.204 25.448m-.245-51.427c-14.414.068-26.046 11.813-25.978 26.226.07 14.413 11.813 26.046 26.227 25.976 14.413-.068 26.046-11.813 25.976-26.226-.068-14.413-11.813-26.046-26.226-25.976\"/><path d=\"M19.52 43.527l.718-1.396v-19.516h3.166v19.495h2.24v-7.614h2.923v7.606h2.535v-3.466c0-2.1-.111-5.021-2.474-6.531l1.376-.506c2.851 1.06 4.276 3.825 4.276 7.47v3.063l.718 1.395h-15.478zm5.638-23.228l.118.002h1.192c2.358 0 3.342.415 4.458 1.275 1.623 1.272 1.878 3.119 1.878 4.043 0 1.148-.348 2.358-1.208 3.344-.636.765-1.744 1.873-3.917 2.134-1.484.179-2.58.114-3.127.055v-1.168c.242.035.603.067 1.09.067 1.476 0 2.524-.739 3.162-1.535.722-.88.875-1.707.907-2.446h-4.066v-1.145h4.03c-.104-.774-.4-1.366-.878-1.947-.925-1.146-2.231-1.337-3.091-1.337l-5.804-.002-.686-1.339h5.944zm1.275-5.986c-9.841 0-17.82 7.982-17.82 17.822 0 9.841 7.979 17.822 17.82 17.822 9.841 0 17.822-7.98 17.822-17.822 0-9.84-7.98-17.822-17.822-17.822z\"/><path d=\"M33.642 10.772c.298.086.469.398.383.695-.088.3-.397.471-.697.385-.297-.086-.468-.398-.383-.695.086-.298.398-.471.697-.385\" id=\"Fill-50\"/><path d=\"M26.539 53.559c.298.085.471.398.385.697-.088.297-.398.469-.697.382-.297-.085-.469-.397-.383-.694.086-.3.398-.472.695-.385\"/><path d=\"M5.774 24.625c.298.085.471.397.383.695-.085.298-.398.469-.695.383-.298-.086-.471-.398-.383-.695.085-.298.397-.471.695-.383\" id=\"Fill-52\"/><path d=\"M15.695 52.896l-.006-.003-.008-.006.014.009zm-6.643-9.934c.065.127.207.115.303.053.089-.083.065-.151.047-.25l-.008-.017-.006-.012-.005-.008-.174-.347-1.466-3.151-.021-.05-.055-.132-.123-.271-.006-.015c-.033-.106-.201-.238-.332-.111-.071.071-.065.161-.048.247l.056.157-.005.005-.073.05c-.153.112-.394.2-.562.279l-.203.095-.654.304-.479.224-.344.15s-.047-.009-.173-.147l-.171-.011c-.076.035-.123.106-.123.182v.003c0 .153.147.354.214.486l.18.416c.079.197.407.207.403-.044l-.003-.024-.008-.038-.009-.026c-.045-.089-.08-.126 0-.173l.388-.182.377-.176.079-.035 1.392-.627.433.933-.118.067-.188.094-.321.151-.068.032-.936.435-.265.126c-.621.292-.339-.085-.644-.009-.074.02-.161.068-.164.179l.029.129.182.36.161.373.079.109c.112.085.294.035.32-.114l.002-.017.003-.02c-.048-.201-.051-.191.174-.298l.271-.124.359-.168c.321-.15 1.145-.485 1.436-.648l.419.91-.12.067-.188.092-.454.214-.615.286-.843.392-.062.02c-.115-.315-.503-.309-.422.008l.029.121.183.365.18.418.08.108c.183.145.374-.077.333-.263-.098-.145.005-.165.162-.238l.419-.195.189-.088 1.021-.474.13-.058c.136-.076.338-.176.424-.08zm16.174-31.184c-.053-.009-.12-.014-.203-.074l-1.592-2.736c-.171-.198-.453-.027-.462.226l-.654 2.942-.232.085c-.186.151.017.356.212.342l.453-.077.316-.03c.298-.042.262-.444-.048-.4l.006-.086c.067-.597.229-1.204.333-1.797.309.597.628 1.186.949 1.775-.077.13.003.282.161.288.262-.059.819-.048.945-.168.167-.201-.117-.277-.185-.288zm15.308 6.21c.156.157.376.068.365-.141-.008-.145-.198-.147-.085-.303l.092-.109c0-.029.279-.286.313-.321l.159-.161c-.024.475-.044.949-.03 1.423.065.515.161.636.565.993.177.118.429.138.374-.164l-.111-.157c-.092-.108-.109-.285-.129-.415 0 .003-.02-1.002 0-1.829l.104-.002 1.084.011c.35-.012.507.174.712.203.274-.02.297-.248.088-.403l-.46-.454-.104-.068c-.22-.077-.154.179-.359.195h-.042l-.065.003-.217.002-.218.005-.295.005-.248.005.297-.295.209-.207.059-.045.082.065.103.051c.262.023.285-.256.144-.371-.144-.135-.285-.268-.418-.412-.103-.108-.174-.183-.297-.265-.079-.083-.26.088-.26.183v.005l.065.147.083.101.006.009-.006.012-.03.036-.283.283-.853.851-.286.283c-.227.218-.267.303-.601.273-.108.012-.204.061-.198.195l.012.064.68.719zm-10.188-5.514c.121.014.27-.032.277-.177.011-.247-.256-.154-.366-.303-.071-.083-.106-.224-.142-.323 0 0-.313-1.13-.624-2.309l-.112-.4c-.061-.164-.291-.168-.368-.041 0 0-.625 1.258-1.28 2.597l-.101.171c-.106.132-.201.053-.356.091-.144.073-.13.279.005.348.033.015.734.073.893.117.192.047.379-.209.186-.356-.077-.039-.171-.011-.127-.114l.161-.345.971.094.135.522-.061.139v.005c.005.08.058.148.139.177.214.064.548.059.771.106zm-1.743-1.507l.427-.934.223.998-.65-.064zm-13.065 38.423v-.002.002c.053-.074.044-.07.126-.036l.082.017c.18 0 .215-.148.174-.295-.089-.141-.345-.212-.457-.288l-.073-.045-.092-.058-.177-.108-.083-.048-.126-.042c-.171-.005-.254.118-.194.27l.073.094.142.101-.002.008-.03.083-.101.2-.059.108-.091.159-.159.277-.539.943c-.133.229-.162.404-.436.453l-.053-.017-.021.002c-.254.027-.267.294-.045.394l.36.194.345.214c.194.104.368-.015.323-.229l-.006-.017-.009-.011-.076-.076-.021-.011-.015-.012-.021-.018-.02-.017.026-.055.111-.191.091-.159.242-.418.362-.625.144-.247.307-.494zm-3.322-3.263c-.123-.279-.373-.509-.585-.713l-.168-.147-.165-.123c-.112-.112-.257-.13-.4-.1l-.076.038-.167.103-.038.026-.047.032c-.185.023-.518.48-.097.522l.098-.023.027-.012.021-.012c.448-.31.93.291 1.072.66.118.318.1.698-.041 1.005-.07.15-.17.289-.298.413-.138.133-.276.236-.406.309-.256.139-.521.168-.79.045-.151-.07-.304-.185-.456-.344-.089-.091-.164-.183-.22-.274l-.111-.247c-.032-.227.044-.327.182-.504.121-.245-.168-.357-.318-.232l-.436.382-.041.033c-.115.091-.188.218-.073.351l.298.413.164.21.173.194c.316.327.657.535 1.013.615l.215.033c.535 0 .936-.15 1.32-.492.197-.189.345-.391.444-.6.098-.215.15-.442.15-.675l-.002-.002.002-.003c0-.298-.083-.597-.247-.884zm26.869 5.192l-.133.07-.014.003-.033-.045-.204-.342-.215-.356-.036-.062c-.263-.438-.528-.874-.775-1.32l-.012-.023-.014-.027-.006-.012-.018-.058-.005-.014.061-.047.071-.112c.058-.117-.08-.251-.186-.247l-.07.011-.071.035c-.232.148-.462.28-.7.418l-.036.023c-.165.047-.212.238-.044.359l.017.011.1.023.048-.006.038-.014.138-.064.027.027.023.026-.002-.003.015.02c.056.138.238.368.32.5l.115.195-.159-.048-.162-.048-.154-.045-.023-.006-.568-.156-.306-.07-.138-.018-.106-.009-.047-.002-.253.036c-.133 0-.471.247-.556.3l-.1.08c-.104.121-.024.324.144.324l.017-.003.27-.095.018-.003c.147-.033.312.002.459.03l.251.053.886.224.51.138c-.095.403-.198 1.364-.536 1.645l-.018.014-.1.106c-.061.015-.073.297.177.277h.023l.115-.044.595-.356.097-.095c.056-.111-.003-.25-.126-.279l.02-.115.009-.044.062-.262.051-.214.12-.53.191.316.182.303.024.058c-.162.073-.359.413.027.429h.015l.123-.044.342-.22.07-.036.091-.051.157-.088.071-.044c.354-.168.133-.488-.164-.374zm-25.549-34.676c-.115-.148-.294-.042-.41.032l-.032-.024-.189-.209-.369-.463.516.085.725.103.413.012c.218-.018.385-.108.554-.238.157-.121.321-.212.377-.403.058-.329-.263-.206-.415-.094l-.092.039c-.209.067-.445.027-.66.009-.406-.035-.81-.098-1.211-.156l-.273-.039.085-.671.089-.669c0 .003.044-.195.157-.356l.104-.132c.061-.203-.182-.335-.342-.197l-.306.253c-.159.115-.289.138-.379.335-.02.118.074.191.212.207l-.015.209-.104.978-.419-.538-.056-.088c.132-.129.188-.21.115-.342-.082-.103-.212-.095-.313-.027l-.323.268-.36.265c-.121.094-.161.203-.079.315.07.095.209.095.297.026l.058-.042.104.006.273.35.276.35.728.94.201.276.033.051.036.074c-.076.076-.161.214-.079.321.071.095.154.079.253.053l.059-.035.307-.256.257-.186.203-.189c.036-.08.02-.126-.008-.203zm20.087 37.404l-.074-.015-.188.029-.015-.003-.018-.053-.061-.242-.036-.145-.572-2.302-.011-.044-.061-.124c-.086-.108-.251-.085-.329.023l-.047.098.003-.012-.029.07c-.327.742-.654 1.463-1.007 2.194l-.112.226-.195-.786-.068-.277-.061-.251-.042-.2-.021-.12-.005-.07v-.015l.073-.027c.327-.101.104-.492-.15-.376l-.392.109c-.204.044-.413.074-.604.165-.191.145-.048.368.124.348l.053-.005.162-.026.003.008.08.218.115.432.236.952.286 1.146c.047.188.262.263.388.098l.042-.089.356-.792.445-.956.353-.722.413 1.66.008.053v.015l-.086.027c-.189.048-.18.336.012.382l.055.006.065-.006.015-.003.827-.206c.179-.045.292-.304.07-.392zm-10.527-2.191l-.121-.056-.398-.082-.515-.144c-.13-.03-.248-.044-.365-.044-.474 0-.975.316-1.086.79-.062.268.015.524.141.759.059.095.124.18.2.254l.048.041c-.324.204-.565.418-.565.765 0 .344.321.692.675.777l.651.126.491.124.132.006c.145-.027.203-.207.112-.316l-.111-.07c-.176-.053-.127-.144-.091-.303l.035-.156.03-.118.089-.392.162-.704.108-.441.038-.147c.055-.188.024-.339.204-.323.159.026.33-.18.135-.345v-.002zm-1.963 2.211c.027-.206.156-.365.348-.439l.009-.002h.002l.227.042.033.009.036.011c-.023.1-.111.53-.173.745-.068.23-.521-.061-.483-.366zm.989-1.844l-.038.188-.194.834-.073-.015c.002 0-.162-.033-.313-.171-.18-.201-.203-.385-.203-.63.059-.379.301-.503.687-.369l.071.032.047.032.024.021v.002l-.009.077zm21.725-31.026v.002c-.098.238-.127.474-.115.727.017.242.094.494.226.742.124.233.28.427.465.577.183.153.4.262.639.327.161.042.32.065.477.065.33 0 .607-.1.898-.236.335-.177.575-.406.728-.684.059-.117.1-.227.139-.351.036-.144.056-.288.056-.427 0-.26-.067-.489-.154-.728l-.091-.189c-.192-.362-.454-.624-.777-.781l-.198-.08c-.479-.127-.952-.139-1.433.115-.407.218-.669.519-.86.924zm.556.445c.061-.156.154-.298.276-.426.124-.129.285-.247.474-.348.263-.139.522-.209.813-.185l.115.024c.382.109.684.515.71.912.005.142-.015.277-.064.413-.185.507-.807.904-1.33.972l-.103.008-.039.002-.059-.002c-.136-.008-.256-.041-.362-.098l-.064-.036-.059-.044c-.229-.174-.369-.453-.388-.739 0-.161.02-.303.079-.453zm-25.548-10.756c-.535-.5-1.296-.513-1.929-.217-.621.286-1.043.912-1.043 1.61l.006.151c.038.421.236.839.528 1.14.147.153.32.277.513.369.497.174.989.192 1.475-.035.239-.112.442-.256.6-.43.162-.177.282-.386.359-.624.22-.669.009-1.482-.509-1.966zm-1.005 2.624c-.148-.002-.297-.035-.445-.101-.221-.1-.41-.263-.563-.488l-.089-.142-.08-.159c-.135-.289-.218-.625-.114-.936.061-.179.168-.321.327-.438.329-.214.659-.295 1.031-.138.217.092.404.25.556.472l.171.298c.313.678.13 1.579-.793 1.631zm17.657.795l.179.15c.415.279.787.532 1.325.532.422-.017.815-.148 1.145-.429.174-.148.326-.335.448-.557.353-.639.295-1.387-.176-1.925-.341-.386-.825-.624-1.323-.715-.306-.088-.397.058-.51.28l-.13.273c-.076.17.079.515.351.204-.003.003.062-.126.142-.168.769-.217 1.272.7 1.145 1.284l-.029.106c-.27-.15-.544-.294-.809-.451-.312-.303-.274-.407-.624.05 0 .033-.153.171-.168.256-.018.126.018.28.273.218l.02-.012c-.006.003.179-.121.394-.005l.713.395c-.297.506-.74.798-1.325.58.002 0-.303-.13-.494-.335-.089-.109-.094-.189-.074-.32l.051-.129c-.003.008.033-.233-.176-.294-.198 0-.359.365-.441.509-.118.204-.065.354.092.501zm13.727 20.438c-.015.145-.056.279-.124.394-.068.117-.164.221-.283.309-.133.097-.283.162-.453.201-.114.023-.232.036-.354.036l-.23-.014c-.241-.024-.445-.08-.61-.164l-.092-.05-.08-.056c-.109-.083-.188-.176-.244-.285l-.032-.065-.005-.005-.023-.067c-.05-.292-.106-.628.214-.983l.091-.089.108-.083c.141-.097.295-.165.468-.201.108-.023.226-.035.354-.035l.235.012c.2.021.373.065.516.132.138.062.251.148.341.254.085.098.144.207.177.332.039.148.027.277.027.426zm-4.741 11.76l-.036.003-.118.07s-.086.098-.153.062l-.3-.27-.253-.229-.106-.095-1.417-1.278c-.156-.133-.429-.039-.383.224l.112.607.15.877.144.963.033.251-.603-.545-.547-.506-.083-.088-.053-.068.044-.065.038-.098c0-.286-.262-.285-.371-.129-.198.235-.401.448-.609.674l-.064.109-.009.059v.003c0 .161.185.241.309.154l.012-.008.145-.132.197.138.528.469.536.483.84.757c.058.055.121.104.207.106.118-.006.207-.095.207-.218l-.002-.027c-.027-.304-.109-.615-.161-.916l-.058-.35-.108-.691-.044-.307-.068-.489 1.269 1.145.044.051-.055.073.008-.011-.053.136c-.033.045.111.315.373.111l.265-.313.31-.326c.053-.061.076-.114.076-.17-.002-.106-.086-.2-.197-.198zm-26.735 3.619l-.45-.289c-.238-.138-.466-.204-.689-.204l-.018.003-.118.006-.133.026c-.138.035-.262.092-.368.173-.108.082-.198.183-.27.307-.276.48-.126 1.012.297 1.36l.103.077.111.07.117.068.059.035.03.021-.432.745-.042.051c-.307-.195-.491.121-.294.297.1.1.289.165.413.232.159.098.292.2.468.254.174.003.226-.135.195-.274l-.142-.145c.002 0 .086-.254.194-.438l.223-.386.011-.021.362-.625.029-.048.114-.197.132-.221.144-.227.02-.029c.044-.121.168.035.28-.003.127-.039.226-.201.112-.335-.144-.13-.288-.191-.456-.282zm-1.086 1.23l-.055-.027c-.147-.083-.241-.188-.291-.316l-.002-.002-.021-.074-.014-.085-.005-.083.02-.174.098-.25.135-.161.154-.058.045-.003.086.009c.133.029.279.136.366.241l.02.033c-.138.336-.357.638-.539.949zm-13.006-21.079c.13.086.285.141.459.162.332 0 .598-.077.837-.32l.08-.098.13.1.26.209.232.203.192.183.097.136c.074.153.08.577.215.622.085.026.174.024.244-.129.129-.348.221-.65-.085-1.092 0 0-.138-.171-.524-.506l-.462-.368.027-.23.242.03.556.083c.135.036.095.051.089.204l.029.111c.079.118.239.157.333.014.045-.089.047-.17.056-.267l.036-.356c.027-.177.076-.335.048-.51-.065-.203-.344-.168-.382.033-.041.117-1.593-.126-2.364-.227-.306-.039-.223-.064-.276-.276-.07-.132-.262-.127-.339-.006-.068.171-.085.392-.085.583-.027 0-.103.603-.112.737 0 .369.144.762.463.972zm.026-1.11l.036-.129.027-.086 1.122.138c-.006.118-.024.23-.085.333-.041.07-.098.132-.171.186-.168.121-.347.136-.541.121-.095-.011-.176-.035-.239-.07l-.123-.124c-.064-.115-.05-.245-.027-.369zm38.019 15.746zm-35.899-23.167s.079-.154.483.124c0-.002 1.004.607 1.702 1.081l.027.02.02.015.029.127.008-.014c-.027.101-.038.223.064.285.079.045.2.011.257-.051l.021-.026c.045-.124.154-.26.223-.376.622-.998 1.231-2.053 1.894-3.023l.062-.089.076-.117s.124-.145.136-.265c.008-.098-.05-.183-.147-.212-.151-.044-.245.124-.318.22l-.088-.036-.198-.109-.533-.327-.612-.383-.751-.469-.05-.044.044-.086.027-.097c-.008-.135-.12-.209-.244-.191l-.055.021c-.13.074-.227.323-.3.445-.109.165-.23.318-.298.504l-.002.023v.003c0 .151.144.206.267.183l.103-.089c.118-.161.082-.126.282-.002l1.464.918.383.251.086.064-.547.872c-.538-.289-1.051-.636-1.569-.962l-.221-.138-.256-.159-.095-.071c.059-.12.129-.254-.021-.35-.112-.082-.224.009-.301.089l-.206.351-.226.338c-.176.267.13.46.365.188l.015-.014.005-.005.055.027.75.469 1.068.674.218.148.029.021.008.008-.532.848-.121-.065-.18-.106-.207-.127-.221-.138-.572-.359-.462-.288c-.098-.062-.307-.144-.377-.248l.044-.088.026-.098c-.005-.07-.033-.123-.08-.156-.033-.026-.144-.074-.221-.011-.089.059-.242.353-.297.445l-.251.379-.048.151c0 .195.263.262.369.094zm42.339 18.632l-2.346-1.317c-.177-.115-.15-.106-.123-.267-.005-.164-.167-.288-.321-.159l-.074.108-.127.329-.156.336c-.067.198.035.457.304.267l.048-.07c.056-.111.079-.059.197-.006l1.131.601c-.581.02-1.158.055-1.737.094-.185.024-.532.079-.339.365l.012.017c.348.522.866.987 1.281 1.455l-1.426-.454-.038-.011-.009-.003-.1-.111-.073-.015c-.076.002-.141.042-.194.12l-.02.027-.135.303-.165.385-.03.139c.002.268.303.235.379.07l.023-.051.026-.05c0 .003.079-.126.239-.1l.129.032 2.426.733.132.023c.186-.011.229-.135.194-.294l-.067-.097-1.654-1.844 2.505-.127c.247-.009.307-.313.108-.426zm.816-4.213l-.162.097c-.223.114-.475.173-.753.173-.223-.012-.416-.039-.634-.094-.329-.103-.609-.286-.833-.547-.165-.189-.282-.401-.35-.628-.047-.162-.073-.333-.073-.512l.012-.227c.082-.521.263-.968.734-1.281l.153-.091.161-.076c.471-.189 1.055-.17 1.511.053.185.089.356.215.509.369.79.804.625 2.118-.276 2.764zm.74-6.814c-.062.108-.245.142-.338.058-.036-.067-.071-.206-.151-.192l-.351.068-.519.1-.709.138-.692.141c-.276.074-.17.082-.209.282l-.006.035c-.106.209-.354.186-.4-.042l-.082-.494-.097-.459.009-.065v-.002c.051-.195.338-.188.382.002.035.098.048.07.135.07l.035-.005.268-.041.247-.045.28-.053.233-.045-.276-1.416c-.307.059-.618.118-.924.185l-.189.039c-.026.033-.014.17-.005.291.009.13-.273.223-.371.064-.118-.277-.23-1.072-.227-1.042l-.003-.03c-.005-.132.104-.221.223-.21.176.018.112.239.339.212l.26-.041.253-.047.279-.051 1.127-.218.406-.079c.106-.03.095-.112.086-.218l.018-.085c.061-.133.247-.148.335-.036l.055.127.073.45c.032.141.132.373.089.521-.036.142-.22.201-.326.098l-.106-.195-.053.008-.846.164.274 1.417.856-.167c.091-.027.039-.171.041-.167-.02-.189.207-.351.353-.159l.05.124c.056.342.191.765.176 1.013z\"/><path d=\"M6.363 33.543c-.009-.065-.03-.13-.08-.176-.042-.048-.103-.062-.161-.05-.242.05-.086.288-.203.429-.064.089-.191.157-.279.217 0 0-1.018.581-2.085 1.171l-.362.207c-.144.098-.091.323.05.366-.002 0 1.375.3 2.833.606l.188.055c.154.071.103.183.177.324.106.121.303.058.336-.092.008-.035-.109-.725-.106-.892-.002-.197-.294-.315-.389-.094-.02.085.03.168-.08.153l-.373-.073-.148-.965.475-.259c.029.033.117.033.154.024.077-.023.129-.091.136-.179.009-.223-.076-.545-.085-.772zm-1.036 2.059l-1.009-.188.913-.46.095.648z\" id=\"Fill-54\"/></g><g class=\"footer__hse\" fill=\"#575756\"><path d=\"M114.767 26.381c-.383.415-.787.819-1.213 1.223h12.467v-1.734h-10.808c-.138.17-.287.34-.447.511\"/><path d=\"M105.468 24.139c-1.404 1.053-3 2.244-4.744 3.553-1.191.883-2.17 2.096-2.904 3.606-.457.947-.83 2.032-1.117 3.244h1.787c.638-2.489 1.734-4.319 3.276-5.468 1.734-1.298 3.329-2.489 4.744-3.553 1.34-1.011 2.596-2.149 3.755-3.404 1.085-1.191 1.606-2.532 1.606-4.106 0-1.574-.532-2.872-1.638-3.978-1.106-1.106-2.415-1.649-3.989-1.649-1.553 0-2.851.543-3.968 1.649-.787.787-1.287 1.681-1.511 2.713h1.787c.181-.553.489-1.032.947-1.489.787-.777 1.659-1.138 2.744-1.138 1.106 0 1.979.362 2.766 1.138.777.777 1.138 1.649 1.138 2.755 0 1.138-.372 2.064-1.17 2.936-1.074 1.17-2.255 2.244-3.51 3.191\"/><path d=\"M117.444 32.806h-13.308c.245-.234.511-.468.808-.691l4.638-3.468c1.479-1.117 2.787-2.276 3.883-3.468 1.893-2.032 2.851-4.436 2.851-7.17 0-2.766-.989-5.159-2.947-7.127-1.957-1.957-4.351-2.947-7.127-2.947-2.766 0-5.159 1-7.116 2.968-1.553 1.564-2.5 3.425-2.819 5.542l-.053.308h1.755v-.043c.277-1.745 1.064-3.287 2.34-4.585 1.628-1.638 3.606-2.468 5.893-2.468 2.298 0 4.287.83 5.904 2.447 1.617 1.628 2.436 3.617 2.436 5.904 0 2.276-.808 4.297-2.383 5.989-1.032 1.117-2.255 2.213-3.649 3.255l-4.649 3.478c-1.383 1.032-2.319 2.308-2.798 3.808h16.339000000000002c5.468 0 9.893 4.425 9.893 9.893 0 5.468-4.425 9.903-9.893 9.903-5.468 0-9.893-4.436-9.893-9.903h-1.734c0 6.425 5.202 11.637 11.627 11.637 6.425 0 11.627-5.212 11.627-11.637 0-6.414-5.202-11.627-11.627-11.627\"/><path d=\"M110.645 30.053l-1.276.989h13.148v-1.734h-10.946c-.298.255-.606.5-.925.745\"/><path d=\"M96.706 38.912h20.764c3.042.011 5.5 2.479 5.5 5.521 0 3.053-2.468 5.531-5.521 5.531s-5.531-2.479-5.531-5.531h-1.723c0 4.01 3.244 7.255 7.255 7.255 4 0 7.244-3.244 7.244-7.255 0-3.883-3.064-7.063-6.914-7.233v-.011h-21.073v1.723z\"/></g><path d=\"M74.5.209v63.58\" stroke=\"#575756\"/></g></svg>\\n</a>\\n\\t\\t</div>\\n\\t\\t<div class=\"footer__bottom\">\\n\\t\\t\\t<a name=\"sitemap\"></a>\\n\\t\\t\\t<div class=\"editor\"><noidex><a rel=\"nofollow\" class=\"link\" href=\"https://www.hse.ru/adm/?newportal=1\">Редактору</a></noidex></div>\\n\\t\\t\\t<div class=\"footer__navigation\">\\n\\t\\t\\t\\t<ul class=\"navigation navigation--horiz footer__copyright\">\\n\\t\\t\\t\\t<li class=\"navigation__item grey\">&copy; НИУ ВШЭ 1993&ndash;2017</li>\\n\\t\\t\\t\\t\\n\\t\\t\\t\\t\\t\\n\\t\\t\\t\\t\\t\\t<li class=\"navigation__item\"><a href=\"https://www.hse.ru/contacts.html\">Адреса и контакты</a></li>\\n\\t\\t\\t\\t\\t\\n\\t\\t\\t\\t\\n\\t\\t\\t\\t\\t\\n\\t\\t\\t\\t\\t\\t<li class=\"navigation__item\"><a href=\"https://www.hse.ru/copyright\">Условия использования материалов</a></li>\\n\\t\\t\\t\\t\\t\\n\\t\\t\\t\\t\\n\\t\\t\\t\\t\\t\\n\\t\\t\\t\\t\\t\\t<li class=\"navigation__item\"><a href=\"http://www.hse.ru/sitemap.html\">Карта сайта</a></li>\\n\\t\\t\\t\\t\\t\\n\\t\\t\\t\\t\\n\\t\\t\\t\\t</ul>\\n\\t\\t\\t</div>\\n\\t\\t\\t<div class=\"footer__copyright\">\\n\\t\\t\\t\\t\\n\\t\\t\\t\\t\\tДизайн страницы разработан <a href=\"http://design.hse.ru/lab\">Лабораторией дизайна НИУ ВШЭ</a>\\n\\t\\t\\t\\t\\n\\t\\t\\t</div>\\n\\t\\t</div>\\n\\t</footer>\\n\\t</div>\\n</div>\\n</body>\\n</html>'"
      ]
     },
     "execution_count": 12,
     "metadata": {},
     "output_type": "execute_result"
    }
   ],
   "source": [
    "r.text"
   ]
  },
  {
   "cell_type": "markdown",
   "metadata": {},
   "source": [
    "# HTML и его парсинг с помощью BeautifulSoup"
   ]
  },
  {
   "cell_type": "markdown",
   "metadata": {},
   "source": [
    "HTML — теговый язык разметки документов. Любой документ на языке HTML представляет собой набор элементов, причём начало и конец каждого элемента обозначается специальными пометками — тегами. Элементы могут быть пустыми, то есть не содержащими никакого текста и других данных (например, тег перевода строки `<br>`). В этом случае обычно не указывается закрывающий тег. Кроме того, элементы могут иметь атрибуты, определяющие какие-либо их свойства (например, размер шрифта для тега <font>). Атрибуты указываются в открывающем теге. Вот примеры фрагментов HTML-документа:"
   ]
  },
  {
   "cell_type": "raw",
   "metadata": {},
   "source": [
    "<strong>Текст между двумя тегами — открывающим и закрывающим.</strong>\n",
    "<a href=\"http://www.example.com\">Здесь элемент содержит атрибут href, то есть гиперссылку.</a>\n",
    "А вот пример пустого элемента: <br> и какой-то текст"
   ]
  },
  {
   "cell_type": "markdown",
   "metadata": {},
   "source": [
    "даст следующее:\n",
    "\n",
    "> <strong>Текст между двумя тегами — открывающим и закрывающим.</strong>\n",
    "\n",
    "> <a href=\"http://www.example.com\">Здесь элемент содержит атрибут href, то есть гиперссылку.</a>\n",
    "\n",
    "> А вот пример пустого элемента: <br> и какой-то текст"
   ]
  },
  {
   "cell_type": "markdown",
   "metadata": {},
   "source": [
    "Регистр, в котором набрано имя элемента и имена атрибутов, в HTML значения не имеет (в отличие от XHTML). Элементы могут быть вложенными. "
   ]
  },
  {
   "cell_type": "markdown",
   "metadata": {},
   "source": [
    "Для парсинга HTML существуют разные библиотеки, но чаще всего используется [BeautifulSoup](https://www.crummy.com/software/BeautifulSoup/bs4/doc/). Для тех, кто занком с jQuery более удобным вариантом может быть библиотека [pyquery](https://pythonhosted.org/pyquery/)."
   ]
  },
  {
   "cell_type": "code",
   "execution_count": null,
   "metadata": {
    "collapsed": true
   },
   "outputs": [],
   "source": [
    "!pip3 install beautifulsoup4"
   ]
  },
  {
   "cell_type": "code",
   "execution_count": 13,
   "metadata": {
    "ExecuteTime": {
     "end_time": "2017-10-13T11:06:26.405693Z",
     "start_time": "2017-10-13T11:06:26.202537Z"
    },
    "collapsed": true
   },
   "outputs": [],
   "source": [
    "from bs4 import BeautifulSoup"
   ]
  },
  {
   "cell_type": "markdown",
   "metadata": {},
   "source": [
    "BS поддерживает разные парсеры html: https://www.crummy.com/software/BeautifulSoup/bs4/doc/#installing-a-parser"
   ]
  },
  {
   "cell_type": "code",
   "execution_count": 32,
   "metadata": {
    "ExecuteTime": {
     "end_time": "2017-10-13T11:12:32.107827Z",
     "start_time": "2017-10-13T11:12:32.100041Z"
    }
   },
   "outputs": [
    {
     "data": {
      "text/plain": [
       "<html><body><p>какой-то текст <b class=\"class_name\" id=\"id_attr\">Полужирный текст</b> <i>И ещё немножко</i></p></body></html>"
      ]
     },
     "execution_count": 32,
     "metadata": {},
     "output_type": "execute_result"
    }
   ],
   "source": [
    "soup = BeautifulSoup(\"какой-то текст <b class='class_name', id='id_attr'>Полужирный текст</b> <i>И ещё немножко</i>\", \"lxml\")\n",
    "soup"
   ]
  },
  {
   "cell_type": "code",
   "execution_count": 33,
   "metadata": {
    "ExecuteTime": {
     "end_time": "2017-10-13T11:12:35.574691Z",
     "start_time": "2017-10-13T11:12:35.568494Z"
    }
   },
   "outputs": [
    {
     "data": {
      "text/plain": [
       "<b class=\"class_name\" id=\"id_attr\">Полужирный текст</b>"
      ]
     },
     "execution_count": 33,
     "metadata": {},
     "output_type": "execute_result"
    }
   ],
   "source": [
    "btag = soup.b\n",
    "btag"
   ]
  },
  {
   "cell_type": "code",
   "execution_count": 34,
   "metadata": {
    "ExecuteTime": {
     "end_time": "2017-10-13T11:12:35.739584Z",
     "start_time": "2017-10-13T11:12:35.729045Z"
    },
    "scrolled": true
   },
   "outputs": [
    {
     "data": {
      "text/plain": [
       "['HTML_FORMATTERS',\n",
       " 'XML_FORMATTERS',\n",
       " '__bool__',\n",
       " '__call__',\n",
       " '__class__',\n",
       " '__contains__',\n",
       " '__copy__',\n",
       " '__delattr__',\n",
       " '__delitem__',\n",
       " '__dict__',\n",
       " '__dir__',\n",
       " '__doc__',\n",
       " '__eq__',\n",
       " '__format__',\n",
       " '__ge__',\n",
       " '__getattr__',\n",
       " '__getattribute__',\n",
       " '__getitem__',\n",
       " '__gt__',\n",
       " '__hash__',\n",
       " '__init__',\n",
       " '__init_subclass__',\n",
       " '__iter__',\n",
       " '__le__',\n",
       " '__len__',\n",
       " '__lt__',\n",
       " '__module__',\n",
       " '__ne__',\n",
       " '__new__',\n",
       " '__reduce__',\n",
       " '__reduce_ex__',\n",
       " '__repr__',\n",
       " '__setattr__',\n",
       " '__setitem__',\n",
       " '__sizeof__',\n",
       " '__str__',\n",
       " '__subclasshook__',\n",
       " '__unicode__',\n",
       " '__weakref__',\n",
       " '_all_strings',\n",
       " '_attr_value_as_string',\n",
       " '_attribute_checker',\n",
       " '_find_all',\n",
       " '_find_one',\n",
       " '_formatter_for_name',\n",
       " '_is_xml',\n",
       " '_lastRecursiveChild',\n",
       " '_last_descendant',\n",
       " '_select_debug',\n",
       " '_selector_combinators',\n",
       " '_should_pretty_print',\n",
       " '_tag_name_matches_and',\n",
       " 'append',\n",
       " 'attribselect_re',\n",
       " 'attrs',\n",
       " 'can_be_empty_element',\n",
       " 'childGenerator',\n",
       " 'children',\n",
       " 'clear',\n",
       " 'contents',\n",
       " 'decode',\n",
       " 'decode_contents',\n",
       " 'decompose',\n",
       " 'descendants',\n",
       " 'encode',\n",
       " 'encode_contents',\n",
       " 'extract',\n",
       " 'fetchNextSiblings',\n",
       " 'fetchParents',\n",
       " 'fetchPrevious',\n",
       " 'fetchPreviousSiblings',\n",
       " 'find',\n",
       " 'findAll',\n",
       " 'findAllNext',\n",
       " 'findAllPrevious',\n",
       " 'findChild',\n",
       " 'findChildren',\n",
       " 'findNext',\n",
       " 'findNextSibling',\n",
       " 'findNextSiblings',\n",
       " 'findParent',\n",
       " 'findParents',\n",
       " 'findPrevious',\n",
       " 'findPreviousSibling',\n",
       " 'findPreviousSiblings',\n",
       " 'find_all',\n",
       " 'find_all_next',\n",
       " 'find_all_previous',\n",
       " 'find_next',\n",
       " 'find_next_sibling',\n",
       " 'find_next_siblings',\n",
       " 'find_parent',\n",
       " 'find_parents',\n",
       " 'find_previous',\n",
       " 'find_previous_sibling',\n",
       " 'find_previous_siblings',\n",
       " 'format_string',\n",
       " 'get',\n",
       " 'getText',\n",
       " 'get_attribute_list',\n",
       " 'get_text',\n",
       " 'has_attr',\n",
       " 'has_key',\n",
       " 'hidden',\n",
       " 'index',\n",
       " 'insert',\n",
       " 'insert_after',\n",
       " 'insert_before',\n",
       " 'isSelfClosing',\n",
       " 'is_empty_element',\n",
       " 'known_xml',\n",
       " 'name',\n",
       " 'namespace',\n",
       " 'next',\n",
       " 'nextGenerator',\n",
       " 'nextSibling',\n",
       " 'nextSiblingGenerator',\n",
       " 'next_element',\n",
       " 'next_elements',\n",
       " 'next_sibling',\n",
       " 'next_siblings',\n",
       " 'parent',\n",
       " 'parentGenerator',\n",
       " 'parents',\n",
       " 'parserClass',\n",
       " 'parser_class',\n",
       " 'prefix',\n",
       " 'preserve_whitespace_tags',\n",
       " 'prettify',\n",
       " 'previous',\n",
       " 'previousGenerator',\n",
       " 'previousSibling',\n",
       " 'previousSiblingGenerator',\n",
       " 'previous_element',\n",
       " 'previous_elements',\n",
       " 'previous_sibling',\n",
       " 'previous_siblings',\n",
       " 'quoted_colon',\n",
       " 'recursiveChildGenerator',\n",
       " 'renderContents',\n",
       " 'replaceWith',\n",
       " 'replaceWithChildren',\n",
       " 'replace_with',\n",
       " 'replace_with_children',\n",
       " 'select',\n",
       " 'select_one',\n",
       " 'setup',\n",
       " 'string',\n",
       " 'strings',\n",
       " 'stripped_strings',\n",
       " 'tag_name_re',\n",
       " 'text',\n",
       " 'unwrap',\n",
       " 'wrap']"
      ]
     },
     "execution_count": 34,
     "metadata": {},
     "output_type": "execute_result"
    }
   ],
   "source": [
    "dir(btag)"
   ]
  },
  {
   "cell_type": "code",
   "execution_count": 35,
   "metadata": {
    "ExecuteTime": {
     "end_time": "2017-10-13T11:12:36.068796Z",
     "start_time": "2017-10-13T11:12:36.064550Z"
    }
   },
   "outputs": [
    {
     "data": {
      "text/plain": [
       "'b'"
      ]
     },
     "execution_count": 35,
     "metadata": {},
     "output_type": "execute_result"
    }
   ],
   "source": [
    "btag.name"
   ]
  },
  {
   "cell_type": "code",
   "execution_count": 36,
   "metadata": {
    "ExecuteTime": {
     "end_time": "2017-10-13T11:12:37.160212Z",
     "start_time": "2017-10-13T11:12:37.154215Z"
    }
   },
   "outputs": [
    {
     "data": {
      "text/plain": [
       "<span class=\"class_name\" id=\"id_attr\">Полужирный текст</span>"
      ]
     },
     "execution_count": 36,
     "metadata": {},
     "output_type": "execute_result"
    }
   ],
   "source": [
    "btag.name = \"span\"\n",
    "btag"
   ]
  },
  {
   "cell_type": "code",
   "execution_count": 37,
   "metadata": {
    "ExecuteTime": {
     "end_time": "2017-10-13T11:12:38.504045Z",
     "start_time": "2017-10-13T11:12:38.499354Z"
    }
   },
   "outputs": [
    {
     "data": {
      "text/plain": [
       "['class_name']"
      ]
     },
     "execution_count": 37,
     "metadata": {},
     "output_type": "execute_result"
    }
   ],
   "source": [
    "btag[\"class\"]"
   ]
  },
  {
   "cell_type": "code",
   "execution_count": 38,
   "metadata": {
    "ExecuteTime": {
     "end_time": "2017-10-13T11:12:39.665306Z",
     "start_time": "2017-10-13T11:12:39.660875Z"
    }
   },
   "outputs": [
    {
     "data": {
      "text/plain": [
       "{'class': ['class_name'], 'id': 'id_attr'}"
      ]
     },
     "execution_count": 38,
     "metadata": {},
     "output_type": "execute_result"
    }
   ],
   "source": [
    "btag.attrs"
   ]
  },
  {
   "cell_type": "code",
   "execution_count": 39,
   "metadata": {
    "ExecuteTime": {
     "end_time": "2017-10-13T11:12:50.969980Z",
     "start_time": "2017-10-13T11:12:50.964801Z"
    }
   },
   "outputs": [
    {
     "data": {
      "text/plain": [
       "<span class=\"class_name\" id=\"some_id\">Полужирный текст</span>"
      ]
     },
     "execution_count": 39,
     "metadata": {},
     "output_type": "execute_result"
    }
   ],
   "source": [
    "btag[\"id\"] = \"some_id\"\n",
    "btag"
   ]
  },
  {
   "cell_type": "code",
   "execution_count": 40,
   "metadata": {
    "ExecuteTime": {
     "end_time": "2017-10-13T11:13:04.913853Z",
     "start_time": "2017-10-13T11:13:04.909104Z"
    }
   },
   "outputs": [
    {
     "data": {
      "text/plain": [
       "'Полужирный текст'"
      ]
     },
     "execution_count": 40,
     "metadata": {},
     "output_type": "execute_result"
    }
   ],
   "source": [
    "btag.string"
   ]
  },
  {
   "cell_type": "code",
   "execution_count": 41,
   "metadata": {
    "ExecuteTime": {
     "end_time": "2017-10-13T11:13:30.682475Z",
     "start_time": "2017-10-13T11:13:30.676948Z"
    }
   },
   "outputs": [
    {
     "data": {
      "text/plain": [
       "<span class=\"class_name\" id=\"some_id\">Новый текст</span>"
      ]
     },
     "execution_count": 41,
     "metadata": {},
     "output_type": "execute_result"
    }
   ],
   "source": [
    "btag.string.replace_with(\"Новый текст\")\n",
    "btag"
   ]
  },
  {
   "cell_type": "code",
   "execution_count": 42,
   "metadata": {
    "ExecuteTime": {
     "end_time": "2017-10-13T11:13:41.385616Z",
     "start_time": "2017-10-13T11:13:41.380905Z"
    }
   },
   "outputs": [
    {
     "data": {
      "text/plain": [
       "'какой-то текст Новый текст И ещё немножко'"
      ]
     },
     "execution_count": 42,
     "metadata": {},
     "output_type": "execute_result"
    }
   ],
   "source": [
    "soup.get_text()"
   ]
  },
  {
   "cell_type": "code",
   "execution_count": 45,
   "metadata": {
    "ExecuteTime": {
     "end_time": "2017-10-13T11:14:05.716284Z",
     "start_time": "2017-10-13T11:14:05.711003Z"
    }
   },
   "outputs": [
    {
     "name": "stdout",
     "output_type": "stream",
     "text": [
      "<html>\n",
      " <body>\n",
      "  <a>\n",
      "   <b>\n",
      "    text1\n",
      "   </b>\n",
      "   <c>\n",
      "    text2\n",
      "   </c>\n",
      "  </a>\n",
      " </body>\n",
      "</html>\n"
     ]
    }
   ],
   "source": [
    "sibling_soup = BeautifulSoup(\"<a><b>text1</b><c>text2</c></b></a>\", \"lxml\")\n",
    "print(sibling_soup.prettify())"
   ]
  },
  {
   "cell_type": "markdown",
   "metadata": {},
   "source": [
    "# Сложности\n",
    "\n",
    "Не всегда получить текст страницы бывает так просто, поскольку в современные веб-приложения загружают контент динамически, а URL при этом не изменяется (хотя должен бы). Для примера посмотрите на сайты https://www.1tv.ru/news и https://gorod55.ru/news. В таком случае при помощи Инструментов разработчика придётся отслеживать, какие запросы делает страница, и искать среди них те, которые возвращают нужную информацю."
   ]
  },
  {
   "cell_type": "markdown",
   "metadata": {},
   "source": [
    "# Самостоятельная работа\n",
    "\n",
    "Скачайте профили всех сотрудников питерской вышки и определите, у кого из них больше всего публикаций. Переменные в помощь:"
   ]
  },
  {
   "cell_type": "code",
   "execution_count": 3,
   "metadata": {
    "ExecuteTime": {
     "end_time": "2018-05-12T02:27:19.537074Z",
     "start_time": "2018-05-12T02:27:19.533545Z"
    }
   },
   "outputs": [],
   "source": [
    "CYRILLIC_ALPHBET = \"АБВГДЕЁЖЗИЙКЛМНОПРСТУФХЦЧШЩЪЫЬЭЮЯ\"\n",
    "HSE_URL = \"https://www.hse.ru/org/persons/?ltr={};udept=135083\""
   ]
  },
  {
   "cell_type": "code",
   "execution_count": 4,
   "metadata": {
    "ExecuteTime": {
     "end_time": "2018-05-12T02:28:29.817060Z",
     "start_time": "2018-05-12T02:27:20.541753Z"
    },
    "scrolled": true
   },
   "outputs": [
    {
     "data": {
      "application/vnd.jupyter.widget-view+json": {
       "model_id": "ebce1c9c639b4880a6e69af7f5a8578d",
       "version_major": 2,
       "version_minor": 0
      },
      "text/plain": [
       "HBox(children=(IntProgress(value=0, max=33), HTML(value='')))"
      ]
     },
     "metadata": {},
     "output_type": "display_data"
    },
    {
     "name": "stdout",
     "output_type": "stream",
     "text": [
      "\n",
      "Время выполнения: 69.27 секунд.\n"
     ]
    }
   ],
   "source": [
    "responses = {}\n",
    "\n",
    "start_time = time.time()\n",
    "\n",
    "for letter in tqdm_notebook(CYRILLIC_ALPHBET):\n",
    "    res = requests.get(HSE_URL.format(letter))\n",
    "    if res.status_code == 200:\n",
    "        responses[letter] = res.text\n",
    "    else:\n",
    "        raise Exception(\"Ошибка {} при загрузке по букве {}\".format(res.status_code, letter))\n",
    "        \n",
    "end_time = time.time()\n",
    "\n",
    "print(\"Время выполнения: {} секунд.\".format(round(end_time - start_time, 2)))"
   ]
  },
  {
   "cell_type": "code",
   "execution_count": 36,
   "metadata": {
    "ExecuteTime": {
     "end_time": "2017-10-30T14:13:01.090736Z",
     "start_time": "2017-10-30T14:12:51.493292Z"
    }
   },
   "outputs": [],
   "source": [
    "people_links = []\n",
    "for letter, res in responses.items():\n",
    "    soup = BeautifulSoup(res, \"lxml\")\n",
    "    for person in soup.find(\"div\", class_=\"persons__section\").find_all(\"div\", class_=\"person\"):\n",
    "        p_block = person.find(class_=\"link link_dark large b\")\n",
    "        people_links.append((\"https://www.hse.ru\" + p_block[\"href\"], p_block.get_text().strip()))"
   ]
  },
  {
   "cell_type": "code",
   "execution_count": null,
   "metadata": {
    "ExecuteTime": {
     "end_time": "2017-10-30T14:13:02.294117Z",
     "start_time": "2017-10-30T14:13:02.289837Z"
    }
   },
   "outputs": [],
   "source": [
    "len(people_links) # ссылки на профили все сотрудников питерской вышки"
   ]
  },
  {
   "cell_type": "markdown",
   "metadata": {},
   "source": [
    "Собираем все профили. Может занять много времени. Для этого и нужна асинхронность."
   ]
  },
  {
   "cell_type": "code",
   "execution_count": 50,
   "metadata": {
    "ExecuteTime": {
     "end_time": "2017-10-30T14:38:02.076961Z",
     "start_time": "2017-10-30T14:31:15.615031Z"
    }
   },
   "outputs": [
    {
     "name": "stdout",
     "output_type": "stream",
     "text": [
      "839\r"
     ]
    }
   ],
   "source": [
    "scoreboard = []\n",
    "counter = 0\n",
    "for url, name in people_links:\n",
    "    res = requests.get(url)\n",
    "    if res.status_code == 200:\n",
    "        soup = BeautifulSoup(res.text, \"lxml\")\n",
    "        pub_block = soup.find(\"div\", class_=\"publications\")\n",
    "        if pub_block:\n",
    "            pub_block.find_all(\"li\")\n",
    "            scoreboard.append((len(pub_block.find_all(\"li\")), name, url))\n",
    "        else:\n",
    "            scoreboard.append((0, name, url))\n",
    "    else:\n",
    "        raise Exception(\"Ошибка {} при загрузке профиля {} ({})\".format(res.status_code, url, name))\n",
    "    counter += 1\n",
    "    print(counter, end=\"\\r\")"
   ]
  },
  {
   "cell_type": "code",
   "execution_count": 51,
   "metadata": {
    "ExecuteTime": {
     "end_time": "2017-10-30T14:38:14.140069Z",
     "start_time": "2017-10-30T14:38:14.129843Z"
    }
   },
   "outputs": [
    {
     "data": {
      "text/plain": [
       "[(111, 'Сунгуров Александр Юрьевич', 'https://www.hse.ru/org/persons/505427'),\n",
       " (87, 'Котляров Иван Дмитриевич', 'https://www.hse.ru/org/persons/26455742'),\n",
       " (74, 'Назарова Варвара Вадимовна', 'https://www.hse.ru/org/persons/26527205'),\n",
       " (73, 'Лимонов Леонид Эдуардович', 'https://www.hse.ru/org/persons/26661989'),\n",
       " (73, 'Макарова Василиса Александровна', 'https://www.hse.ru/staff/vmakarova'),\n",
       " (69, 'Николенко Сергей Игоревич', 'https://www.hse.ru/org/persons/56987224'),\n",
       " (69,\n",
       "  'Омельченко Елена Леонидовна',\n",
       "  'https://www.hse.ru/org/persons/14509451'),\n",
       " (66,\n",
       "  'Матвеенко Владимир Дмитриевич',\n",
       "  'https://www.hse.ru/org/persons/202791'),\n",
       " (62, 'Аистов Андрей Валентинович', 'https://www.hse.ru/staff/aistov'),\n",
       " (59,\n",
       "  'Казарцев Евгений Вячеславович',\n",
       "  'https://www.hse.ru/org/persons/106252141'),\n",
       " (56, 'Гордин Валерий Эрнстович', 'https://www.hse.ru/staff/gordin'),\n",
       " (56,\n",
       "  'Заостровцев Андрей Павлович',\n",
       "  'https://www.hse.ru/org/persons/14037002'),\n",
       " (56, 'Селин Адриан Александрович', 'https://www.hse.ru/org/persons/14424317'),\n",
       " (55, 'Рогова Елена Моисеевна', 'https://www.hse.ru/staff/erogova'),\n",
       " (54,\n",
       "  'Тульчинский Григорий Львович',\n",
       "  'https://www.hse.ru/org/persons/6660228'),\n",
       " (52,\n",
       "  'Александров Даниил Александрович',\n",
       "  'https://www.hse.ru/org/persons/4132356'),\n",
       " (51, 'Гаджиев Гадис Абдуллаевич', 'https://www.hse.ru/org/persons/26655286'),\n",
       " (48,\n",
       "  'Кадочников Сергей Михайлович',\n",
       "  'https://www.hse.ru/org/persons/86729862'),\n",
       " (47, 'Волкова Ольга Николаевна', 'https://www.hse.ru/org/persons/140345'),\n",
       " (47, 'Иванов Никита Витальевич', 'https://www.hse.ru/org/persons/132164030'),\n",
       " (47, 'Корнейчук Борис Васильевич', 'https://www.hse.ru/org/persons/63501809'),\n",
       " (47, 'Чернова Жанна Владимировна', 'https://www.hse.ru/org/persons/16772468'),\n",
       " (46,\n",
       "  'Белоколодова Татьяна Игоревна',\n",
       "  'https://www.hse.ru/org/persons/14724401'),\n",
       " (45, 'Заиченко Наталья Алексеевна', 'https://www.hse.ru/org/persons/202782'),\n",
       " (45, 'Кольцова Елена Юрьевна', 'https://www.hse.ru/org/persons/202747'),\n",
       " (45,\n",
       "  'Тулякова Наталья Александровна',\n",
       "  'https://www.hse.ru/org/persons/26649462'),\n",
       " (44, 'Розмаинский Иван Вадимович', 'https://www.hse.ru/org/persons/915797'),\n",
       " (43,\n",
       "  'Анисимов Евгений Викторович',\n",
       "  'https://www.hse.ru/org/persons/14481229'),\n",
       " (43, 'Санина Анна Георгиевна', 'https://www.hse.ru/staff/sanina'),\n",
       " (42, 'Ильин Антон Валерьевич', 'https://www.hse.ru/org/persons/37310082'),\n",
       " (39, 'Лаптева Анна Михайловна', 'https://www.hse.ru/org/persons/37314136'),\n",
       " (39, 'Русецкая Ольга Васильевна', 'https://www.hse.ru/org/persons/39203983'),\n",
       " (39,\n",
       "  'Шпаковская Лариса Леонидовна',\n",
       "  'https://www.hse.ru/org/persons/15672476'),\n",
       " (38,\n",
       "  'Масловский Михаил Валентинович',\n",
       "  'https://www.hse.ru/org/persons/90150507'),\n",
       " (35, 'Кольцов Сергей Николаевич', 'https://www.hse.ru/org/persons/68054983'),\n",
       " (34,\n",
       "  'Антипов Евгений Александрович',\n",
       "  'https://www.hse.ru/org/persons/24190412'),\n",
       " (34, 'Мешкова Татьяна Анатольевна', 'https://www.hse.ru/org/persons/203533'),\n",
       " (34, 'Семенов Александр Михайлович', 'https://www.hse.ru/staff/semyonov'),\n",
       " (34, 'Щербак Андрей Николаевич', 'https://www.hse.ru/org/persons/27041465'),\n",
       " (33, 'Кудрявцева Елена Игоревна', 'https://www.hse.ru/org/persons/133280284'),\n",
       " (33,\n",
       "  'Скоробогатов Александр Сергеевич',\n",
       "  'https://www.hse.ru/org/persons/202788'),\n",
       " (32, 'Щемелева Ирина Юрьевна', 'https://www.hse.ru/org/persons/202494'),\n",
       " (31,\n",
       "  'Богданова Александра Викторовна',\n",
       "  'https://www.hse.ru/org/persons/42545568'),\n",
       " (31, 'Илюшина Милана Юрьевна', 'https://www.hse.ru/org/persons/118477195'),\n",
       " (30, 'Баранова Влада Вячеславовна', 'https://www.hse.ru/org/persons/140327'),\n",
       " (30, 'Клейменов Иван Михайлович', 'https://www.hse.ru/org/persons/14651776'),\n",
       " (30, 'Липатников Виталий Сергеевич', 'https://www.hse.ru/staff/lipatnikov'),\n",
       " (30, 'Михеев Артем Валерьевич', 'https://www.hse.ru/staff/av_miheev'),\n",
       " (30, 'Тарасова Юлия Александровна', 'https://www.hse.ru/org/persons/140353'),\n",
       " (30, 'Ходачек Александр Михайлович', 'https://www.hse.ru/org/persons/202624')]"
      ]
     },
     "execution_count": 51,
     "metadata": {},
     "output_type": "execute_result"
    }
   ],
   "source": [
    "sorted(scoreboard, key=lambda x: x[0], reverse=True)[:50]"
   ]
  },
  {
   "cell_type": "code",
   "execution_count": null,
   "metadata": {},
   "outputs": [],
   "source": []
  },
  {
   "cell_type": "code",
   "execution_count": null,
   "metadata": {
    "collapsed": true
   },
   "outputs": [],
   "source": []
  },
  {
   "cell_type": "markdown",
   "metadata": {},
   "source": [
    "# Асинхронные запросы\n",
    "\n",
    "Синхронные операции — операции, при которых мы получаем результат в результате блокирования потока выполнения.\n",
    "\n",
    "Асинхронные операции — операции, при которых мы просим совершить некоторую операцию и можем каким-либо образом отслеживать процесс/результат её выполнения. Когда она будет выполнена — неизвестно, но мы можем продолжить заниматься другими делами.\n",
    "\n",
    "Написание асинхронного кода [не самая простая задача для разработчика](http://lucumr.pocoo.org/2016/10/30/i-dont-understand-asyncio/), но именно асинхронность может повысить производительность вашей программы в несколько десятков раз.\n",
    "\n",
    "Ключевое слово [**`await`**](https://docs.python.org/3.6/reference/expressions.html#await) указывает, что при выполнении следующего за ним выражения возможно переключение с текущей сопрограммы на другую или на основной поток выполнения.\n",
    "Соответственно выражение после await тоже не простое, это должен быть [**`awaitable`**](https://docs.python.org/3.6/glossary.html#term-awaitable) объект. Используя await в какой-либо корутине, мы таким образом объявляем, что корутина может отдавать управление обратно в event loop, который, в свою очередь, запустит какую-либо следующую задачу.\n",
    "\n",
    "**async**\n",
    "\n",
    "* **`async def`** — определяет native coroutine function, результатом вызова которой будет объект-сопрограмма native coroutine, пока еще не запущенная.\n",
    "\n",
    "* **`async for`** — определяет, что итератор используемый в цикле, при получении следующего значения может переключать выполнение с текущей сопрограммы.\n",
    "\n",
    "* **`async with`** — определяет, что при входе в контекстный блок и выходе из него может быть переключение выполнения с текущей сопрограммы.\n",
    "\n",
    "asyncio оперирует следующими понятиями: циклы событий, корутины и футуры.\n",
    "\n",
    "* **цикл событий (event loop)** управляет выполнением различных задач: регистрирует поступление и запускает в подходящий момент. Это бесконечный цикл, который берёт события из очереди и как-то их обрабатывает. А в некоторых промежутках — смотрит, не произошло ли каких-нибудь IO-событий и тогда добавляет в очередь событие об этом, чтобы потом обработать.\n",
    "* **корутины** — специальные функции, похожие на генераторы python, от которых ожидают (await), что они будут отдавать управление обратно в цикл событий. Необходимо, чтобы они были запущены именно через цикл событий\n",
    "* **футуры** — объекты, в которых хранится текущий результат выполнения какой-либо задачи. Это может быть информация о том, что задача ещё не обработана или уже полученный результат; а может быть вообще исключение"
   ]
  },
  {
   "cell_type": "code",
   "execution_count": 19,
   "metadata": {
    "ExecuteTime": {
     "end_time": "2017-10-09T14:54:57.716565Z",
     "start_time": "2017-10-09T14:54:56.063625Z"
    },
    "collapsed": true
   },
   "outputs": [],
   "source": [
    "async def get_persons(url, letters, campus_id, simultaneous_requests_num=100):\n",
    "    tasks = []\n",
    "    # создаём объект класса Semaphore с ограничением в 100 корутин\n",
    "    sem = asyncio.Semaphore(simultaneous_requests_num)\n",
    "\n",
    "    # Создаём клиентскую сессию, в контексте которой будут выполняться все запросы\n",
    "    async with ClientSession() as session:\n",
    "        for letter in letters:\n",
    "            url_params = {\"letter\": letter, \"campus_id\": campus_id}\n",
    "            url = url.format(**url_params)\n",
    "            # Функция ensure_future принимает на вход корутину и планирует её выполнение,\n",
    "            # возврящая future вида Task. Таким образом корутина помещается в цикл событий.\n",
    "            # https://docs.python.org/3/library/asyncio-task.html#asyncio.Task\n",
    "            task = asyncio.ensure_future(\n",
    "                fetch_url(session, sem, url=url, key=letter))\n",
    "            tasks.append(task)\n",
    "        # собираем все futures в один awaitable список\n",
    "        responses = await asyncio.gather(*tasks)\n",
    "        return responses\n",
    "\n",
    "\n",
    "# создаём цикл событий\n",
    "loop = asyncio.get_event_loop()\n",
    "\n",
    "# планируем выполнение новой корутины\n",
    "uber_future = asyncio.ensure_future(\n",
    "    get_persons(HSE_URL, letters=CYRILLIC_ALPHBET, campus_id=135083))\n",
    "# запускаем запланированные задачи и получаем список результатов.\n",
    "persons_by_letter = loop.run_until_complete(uber_future)"
   ]
  },
  {
   "cell_type": "code",
   "execution_count": 41,
   "metadata": {
    "ExecuteTime": {
     "end_time": "2017-10-09T15:10:09.561651Z",
     "start_time": "2017-10-09T15:10:09.551695Z"
    },
    "collapsed": true
   },
   "outputs": [],
   "source": [
    "async def get_profiles(urls, simultaneous_requests_num=100):\n",
    "    tasks = []\n",
    "    sem = asyncio.Semaphore(simultaneous_requests_num)\n",
    "\n",
    "    async with ClientSession() as session:\n",
    "        for url in urls:\n",
    "            task = asyncio.ensure_future(fetch_url(session, sem, url=url))\n",
    "            tasks.append(task)\n",
    "        responses = await asyncio.gather(*tasks)\n",
    "        return responses"
   ]
  },
  {
   "cell_type": "code",
   "execution_count": 42,
   "metadata": {
    "ExecuteTime": {
     "end_time": "2017-10-09T15:10:16.164708Z",
     "start_time": "2017-10-09T15:10:12.053709Z"
    },
    "collapsed": true
   },
   "outputs": [],
   "source": [
    "# создаём цикл событий\n",
    "loop = asyncio.get_event_loop()\n",
    "\n",
    "# планируем выполнение новой корутины\n",
    "uber_future = asyncio.ensure_future(get_profiles((url for name, url in persons_w_urls)))\n",
    "# запускаем запланированные задачи и получаем список результатов.\n",
    "profiles = loop.run_until_complete(uber_future)"
   ]
  },
  {
   "cell_type": "markdown",
   "metadata": {},
   "source": [
    "Допишите код, чтобы скачать все профили."
   ]
  },
  {
   "cell_type": "code",
   "execution_count": null,
   "metadata": {},
   "outputs": [],
   "source": []
  }
 ],
 "metadata": {
  "kernelspec": {
   "display_name": "Python 3",
   "language": "python",
   "name": "python3"
  },
  "language_info": {
   "codemirror_mode": {
    "name": "ipython",
    "version": 3
   },
   "file_extension": ".py",
   "mimetype": "text/x-python",
   "name": "python",
   "nbconvert_exporter": "python",
   "pygments_lexer": "ipython3",
   "version": "3.6.5"
  },
  "toc": {
   "nav_menu": {},
   "number_sections": true,
   "sideBar": true,
   "skip_h1_title": false,
   "toc_cell": false,
   "toc_position": {},
   "toc_section_display": "block",
   "toc_window_display": false
  },
  "varInspector": {
   "cols": {
    "lenName": 16,
    "lenType": 16,
    "lenVar": 40
   },
   "kernels_config": {
    "python": {
     "delete_cmd_postfix": "",
     "delete_cmd_prefix": "del ",
     "library": "var_list.py",
     "varRefreshCmd": "print(var_dic_list())"
    },
    "r": {
     "delete_cmd_postfix": ") ",
     "delete_cmd_prefix": "rm(",
     "library": "var_list.r",
     "varRefreshCmd": "cat(var_dic_list()) "
    }
   },
   "types_to_exclude": [
    "module",
    "function",
    "builtin_function_or_method",
    "instance",
    "_Feature"
   ],
   "window_display": false
  }
 },
 "nbformat": 4,
 "nbformat_minor": 2
}
