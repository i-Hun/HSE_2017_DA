{
 "cells": [
  {
   "cell_type": "markdown",
   "metadata": {},
   "source": [
    "## Общая характеристика API\n",
    "Аббревиатура расшифровывается как Application Programming Interface, или интерфейс для программирования приложений.\n",
    "В случае веб-приложений, API может отдавать данные в отличном от стандартного HTML формате, благодаря чему им удобно пользоваться при написании собственных приложений. Сторонние общедоступные API чаще всего отдают данные в одном из двух форматов: XML или JSON.\n",
    "\n",
    "На основе API строятся такие вещи, как карты 2GIS, всевозможные мобильные и десктопные клиенты для Twitter и Vkontakte. Все их функции стали возможными именно благодаря тому, что соответствующие сервисы имеют качественные и детально документированные API.\n",
    "\n",
    "API VK описан в документации https://vk.com/dev и более конкретно https://vk.com/dev/api_requests.\n",
    "\n",
    "Можно попробовать сделать запрос из браузера вручную https://api.vk.com/method/getProfiles?uid=66748. В качестве ответа на этот запрос мы получим ответ в формате json:\n",
    "\n",
    "`{\"response\":[{\"uid\":66748,\"first_name\":\"Oleg\",\"last_name\":\"Illarionov\",\"hidden\":1}]}`\n",
    "\n",
    "\n",
    "\n",
    "> P.S.:\n",
    "\n",
    "> Почитайте про формат строки [URL](https://ru.wikipedia.org/wiki/URL).\n",
    "\n",
    ">> Параметры – строка запроса с передаваемыми на сервер (методом GET) параметрами. Начинается с символа ?, разделитель параметров — знак &. Пример: ?параметр_1=значение_1&параметр_2=значение_2&параметр3=значение_3\n",
    "\n",
    "> Почитайте про формат [JSON](https://ru.wikipedia.org/wiki/JSON)."
   ]
  },
  {
   "cell_type": "markdown",
   "metadata": {},
   "source": [
    "## Создание приложения\n",
    "\n",
    "Для того что бы использовать все возможности VK API нужно получить access token аккаунта. Для этого Вам потребуется [создать Standalone-приложение](https://vk.com/editapp?act=create).\n",
    "\n",
    "После того как мы создали приложение Вы можете найти его разделе [Приложения](https://vk.com/apps?act=manage)."
   ]
  },
  {
   "cell_type": "markdown",
   "metadata": {
    "ExecuteTime": {
     "end_time": "2017-10-12T14:40:58.851767Z",
     "start_time": "2017-10-12T14:40:58.749932Z"
    }
   },
   "source": [
    "## Приватный токен\n",
    "\n",
    "Многие методы VK API предполагают наличие приватного токена, который необходимо передать в качетсве параметра при выполнении запроса. Процесс получения токена описан в документации: https://vk.com/dev/access_token\n",
    "\n",
    "> Осторожно! Токен называется приватным не просто так. Обладающий им человек может производить самые разные действия от Вашего имени. Не говорите его никому.\n",
    "\n",
    "Если вкратце, то Вам поднадобится id Вашего приложения и [список прав доступа](https://vk.com/dev/permissions), которые Вы хотите предоставить пользователю API. Затем необходимо указать эти данные в качестве параметров в URL следующего формата\n",
    "https://oauth.vk.com/authorize?client_id={APP_ID}&scope={APP_PERMISSIONS}&response_type=token, подтвердить своё намерение предоставить доступ и скопировать токент из поля URL открывшегося окна.\n",
    "\n",
    "Покажем на примере:"
   ]
  },
  {
   "cell_type": "code",
   "execution_count": 98,
   "metadata": {
    "ExecuteTime": {
     "end_time": "2017-10-13T09:35:38.290905Z",
     "start_time": "2017-10-13T09:35:38.284418Z"
    }
   },
   "outputs": [
    {
     "data": {
      "text/plain": [
       "'https://oauth.vk.com/authorize?client_id=6217902&scope=&response_type=token'"
      ]
     },
     "execution_count": 98,
     "metadata": {},
     "output_type": "execute_result"
    }
   ],
   "source": [
    "APP_ID = 6217902\n",
    "PERMISSIONS = \"\"\n",
    "AUTH_URL = f\"https://oauth.vk.com/authorize?client_id={APP_ID}&scope={PERMISSIONS}&response_type=token\"\n",
    "AUTH_URL"
   ]
  },
  {
   "cell_type": "markdown",
   "metadata": {},
   "source": [
    "Пройдя по этой ссылки мы попадём настраницу с адресом https://oauth.vk.com/blank.html#access_token=5614afdcc2bcd42cea3d9c5edc130101dd4be5339b484131870dc12337e5b74b94411de69f0996379dd6b&expires_in=86400&user_id=18779389, где `5614afdcc2bcd42cea3d9c5edc130101dd4be5339b484131870dc12337e5b74b94411de69f0996379dd6b` — искомый access token. Сохраним его."
   ]
  },
  {
   "cell_type": "code",
   "execution_count": 101,
   "metadata": {
    "ExecuteTime": {
     "end_time": "2017-10-13T09:39:44.482599Z",
     "start_time": "2017-10-13T09:39:44.479318Z"
    },
    "collapsed": true
   },
   "outputs": [],
   "source": [
    "TOKEN = \"5614afdcc2bcd42cea3d9c5edc130101dd4be5339b484131870dc12337e5b74b94411de69f0996379dd6b\""
   ]
  },
  {
   "cell_type": "markdown",
   "metadata": {},
   "source": [
    "## Выполнение запросов к VK API\n",
    "\n",
    "После получения приватного токена можно смело выполнять запросы к API, используя нужные Вам [методы](https://vk.com/dev/methods). Формат запроса следующий: https://api.vk.com/method/METHOD_NAME?PARAMETERS&access_token=ACCESS_TOKEN. Например, для получения информации о пользователе c id 777 нужно выполнить следующй запрос:"
   ]
  },
  {
   "cell_type": "code",
   "execution_count": 105,
   "metadata": {
    "ExecuteTime": {
     "end_time": "2017-10-13T09:45:48.646873Z",
     "start_time": "2017-10-13T09:45:48.437588Z"
    }
   },
   "outputs": [
    {
     "data": {
      "text/plain": [
       "{'response': [{'bdate': '23.10',\n",
       "   'city': 22168,\n",
       "   'counters': {'albums': 8,\n",
       "    'audios': 360,\n",
       "    'followers': 5702,\n",
       "    'friends': 5242,\n",
       "    'gifts': 125,\n",
       "    'groups': 7,\n",
       "    'mutual_friends': 0,\n",
       "    'notes': 8,\n",
       "    'online_friends': 382,\n",
       "    'pages': 0,\n",
       "    'photos': 146,\n",
       "    'subscriptions': 119,\n",
       "    'user_photos': 3,\n",
       "    'videos': 34},\n",
       "   'country': 139,\n",
       "   'first_name': 'Teodor',\n",
       "   'last_name': 'Master',\n",
       "   'nickname': '†',\n",
       "   'photo_medium': 'https://pp.userapi.com/c606428/v606428777/58d0/8seTeA35knk.jpg',\n",
       "   'screen_name': 'id777',\n",
       "   'sex': 2,\n",
       "   'uid': 777}]}"
      ]
     },
     "execution_count": 105,
     "metadata": {},
     "output_type": "execute_result"
    }
   ],
   "source": [
    "res = requests.get(\n",
    "    \"https://api.vk.com/method/users.get\",\n",
    "    params={\"user_ids\": 777,\n",
    "            \"fields\": \"nickname, screen_name, sex, bdate, city, country, timezone, counters, photo_medium\",\n",
    "            \"access_token\": TOKEN}).json()\n",
    "res"
   ]
  },
  {
   "cell_type": "markdown",
   "metadata": {},
   "source": [
    "## Ограничения VK API\n",
    "**Ограничение количества запросов через vk api — не более трёх запросов в секунду.**\n",
    "\n",
    ">There can be maximum 3 requests to API methods per second from a client. \n",
    "\n",
    ">Maximum amount of server requests depends on the app's users amount. \n",
    "If an app has less than 10 000 users, 5 requests per second, up to 100 000 – 8 requests, up to 1 000 000 – 20 requests, 1 000 000+ – 35 requests. \n",
    "\n",
    ">If one of this limits is exceeded, the server will return following error: 'Too many requests per second'. \n",
    "\n",
    ">If your app's logic implies many requests in a row, check the execute method. \n",
    "\n",
    ">Except the frequency limits there are quantitative limits on calling the methods of the same type. By obvious reasons we don't provide the exact limits info. \n",
    "\n",
    ">On excess of a quantitative limit access to a particular method will require captcha (see captcha_error). After that it may be temporarily limited (in this case the server doesn't answer on particular method's requests but easily processes any other requests).\n",
    "\n",
    "Сделать паузу при выполнении какой-либо операции в Python можно с помощью функции `slepp` из модуля `time`, которой необходимо передать количество секунд, на которые присотановится выполнение программы:"
   ]
  },
  {
   "cell_type": "code",
   "execution_count": 106,
   "metadata": {
    "ExecuteTime": {
     "end_time": "2017-10-13T10:01:41.632600Z",
     "start_time": "2017-10-13T10:01:39.087429Z"
    }
   },
   "outputs": [
    {
     "name": "stdout",
     "output_type": "stream",
     "text": [
      "0\n",
      "1\n",
      "2\n",
      "3\n",
      "4\n"
     ]
    }
   ],
   "source": [
    "import time\n",
    "\n",
    "for i in range(5):\n",
    "    time.sleep(.5)\n",
    "    print(i)"
   ]
  },
  {
   "cell_type": "markdown",
   "metadata": {},
   "source": [
    "## Ошибки при работе с VK API\n",
    "\n",
    "Достаточно часто VK API возвращает [ошибки](https://vk.com/dev/errors), которые необходимо отлавливать. В ином случае к концу сбора данных Вы можете обнаружить, что с таким трудом собранная база данных абсолютно непригода к работе, поскольку вместо информации о респонденте Вы имеет следующие данные:"
   ]
  },
  {
   "cell_type": "raw",
   "metadata": {
    "ExecuteTime": {
     "end_time": "2017-10-13T10:07:24.288771Z",
     "start_time": "2017-10-13T10:07:24.276191Z"
    }
   },
   "source": [
    "{\n",
    "    'error': {\n",
    "        'error_code': 6,\n",
    "        'error_msg': 'Too many requests per second',\n",
    "        'request_params': [{\n",
    "            'key': 'oauth',\n",
    "            'value': '1'\n",
    "        }, {\n",
    "            'key': 'method',\n",
    "            'value': 'users.get'\n",
    "        }, {\n",
    "            'key': 'user_ids',\n",
    "            'value': 'user_id'\n",
    "        }, {\n",
    "            'key': 'fields',\n",
    "            'value': 'nickname, screen_name, sex, bdate, city, country, timezone, photo, photo_medium'\n",
    "        }]\n",
    "    }\n",
    "}"
   ]
  },
  {
   "cell_type": "markdown",
   "metadata": {},
   "source": [
    "Также существует множество всяких другх тонкостей при работе с VK API. Например, для получения списка друзей пользователя необходимо использовать метод [`friends.get`](https://vk.com/dev/friends.get), который может возвращать как просто список друзей, так и детальную информацию о каждом друге, в зависимости от того, указан ли параметр `fields` (если не указан, возвращает просто список id). Причем если параметр `fields` указан, то за один запрос Вы не можете получить информацию о более, чем 5000 человек."
   ]
  },
  {
   "cell_type": "markdown",
   "metadata": {},
   "source": [
    "## Самостоятельная работа\n",
    "\n",
    "Постройте эго-сеть друзей пользователя с id 777 в формате Adjacency lists. Найдите в этой сети пользователя с найбольшей степенью центральности (Degree centrality), исключая, конечно, самого пользователя с id 777.\n",
    "\n",
    "> \n",
    "![](https://courses.cs.washington.edu/courses/csep521/99sp/lectures/lecture01/img029.JPG)"
   ]
  },
  {
   "cell_type": "code",
   "execution_count": null,
   "metadata": {
    "collapsed": true
   },
   "outputs": [],
   "source": []
  }
 ],
 "metadata": {
  "kernelspec": {
   "display_name": "Python 3",
   "language": "python",
   "name": "python3"
  },
  "language_info": {
   "codemirror_mode": {
    "name": "ipython",
    "version": 3
   },
   "file_extension": ".py",
   "mimetype": "text/x-python",
   "name": "python",
   "nbconvert_exporter": "python",
   "pygments_lexer": "ipython3",
   "version": "3.6.2"
  },
  "toc": {
   "nav_menu": {},
   "number_sections": true,
   "sideBar": true,
   "skip_h1_title": false,
   "toc_cell": false,
   "toc_position": {},
   "toc_section_display": "block",
   "toc_window_display": false
  },
  "varInspector": {
   "cols": {
    "lenName": 16,
    "lenType": 16,
    "lenVar": 40
   },
   "kernels_config": {
    "python": {
     "delete_cmd_postfix": "",
     "delete_cmd_prefix": "del ",
     "library": "var_list.py",
     "varRefreshCmd": "print(var_dic_list())"
    },
    "r": {
     "delete_cmd_postfix": ") ",
     "delete_cmd_prefix": "rm(",
     "library": "var_list.r",
     "varRefreshCmd": "cat(var_dic_list()) "
    }
   },
   "types_to_exclude": [
    "module",
    "function",
    "builtin_function_or_method",
    "instance",
    "_Feature"
   ],
   "window_display": false
  }
 },
 "nbformat": 4,
 "nbformat_minor": 2
}
