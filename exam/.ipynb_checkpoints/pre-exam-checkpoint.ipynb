{
 "cells": [
  {
   "cell_type": "markdown",
   "metadata": {},
   "source": [
    "Здравствуйте!\n",
    "\n",
    "Экзамен состит из двух основных частей. В первой части необходимо произвести анализ числовых данных при помощи регрессионных моделей. От Вас ожидаются следующие умения:\n",
    "1. Считывания и предварительная обработка данных;\n",
    "2. Разведывательный анализ данных, визуализация.\n",
    "3. Построение моделей машинного обучения, расчёт метрик качества моделей, сравнение их между собой.\n",
    "\n",
    "Вторая часть посвящена анализу текстов:\n",
    "1. Загрузка текстов.\n",
    "2. Предварительная обработка данных: токенизация, лемматизация или стемминг, удаление стоп-слов, перевод слов в числовой вид.\n",
    "3. Построение классификатора."
   ]
  },
  {
   "cell_type": "markdown",
   "metadata": {},
   "source": [
    "**Задание по базе wine**\n",
    "* Загрузка и разведывательный анализ\n",
    "\t* Загрузите данные.\n",
    "\t* Посчитайте размерность данных.\n",
    "\t* Посчитайте количество пропущенных значений в каждой переменной.\n",
    "\t* Выведите тип данных каждой переменной. Переконвертируйте при необходимости.\n",
    "    * Вина какой области (`province`) получают наилучшие рейтинги? \n",
    "\t* На основе словаря `color` оздайте переменную, в которой закодирован цвет вина.\n",
    "    * Удалите наблюдения для которых цвет (`color`) не указан.\n",
    "\t* Визуализируйте распределения числовых переменных.\n",
    "\t* Для каждой страны рассчитайте долю каждого вида вина. В какой стране доля белого вина наибольшая, а в какой красного? (Нужен ответ вида: в стране А наибольшая доля белого вина, а в стране B — красного.\n",
    "\t* Разделите выборку на обучающую и тестовую. \n",
    "\n",
    "* Регрессионная модель\n",
    "\t* На обучающей выборке постройте регрессионную модель, показывающую зависимость между баллом (зависимая переменная) и ценой. Визуализируйте эту зависимость. На сколько изменяется оценка при изменении цены на одну условную единицу?\n",
    "\t* Оцените качество модели на основе предсказаний по тестовой выборке по помощи стандартных метрик качества для регрессионных моделей.\n",
    "\t* Добавьте в модель переменную, в которой закодирован цвет вина. Как изменилось качество?\n",
    "\n",
    "* Классификация текстов\n",
    "\t* Сделайте препроцессинг текстов в поле `description` (токенизацию, стемминг или лемматизацию, удаление стоп-слов).\n",
    "\t* На обучающей выборке постройте модель классификации текста, которая бы классифицировала вина по цвету на основе текстов из описания.\n",
    "\t* Оцените качество работы модели по помощи стандартных метрик качества для алгоритмов классификации.\n",
    "    \n",
    "Использование автоматических методов подбора параметров (Grid Search) не обязательно, но в случае наличия — зачтётся."
   ]
  },
  {
   "cell_type": "code",
   "execution_count": 54,
   "metadata": {
    "ExecuteTime": {
     "end_time": "2017-12-21T12:40:55.504803Z",
     "start_time": "2017-12-21T12:40:55.484340Z"
    }
   },
   "outputs": [],
   "source": [
    "color = {\n",
    "    \"Chardonnay\": \"white\",\n",
    "    \"Pinot Noir\": \"red\",\n",
    "    \"Cabernet Sauvignon\": \"red\",\n",
    "    \"Red Blend\": \"red\",\n",
    "    \"Bordeaux-style Red Blend\": \"red\",\n",
    "    \"Sauvignon Blanc\": \"white\",\n",
    "    \"Syrah\": \"red\",\n",
    "    \"Riesling\": \"red\",\n",
    "    \"Merlot\": \"red\",\n",
    "    \"Zinfandel\": \"red\",\n",
    "    \"Sangiovese\": \"red\",\n",
    "    \"Malbec\": \"red\",\n",
    "    \"White Blend\": \"white\",\n",
    "    \"Rosé\": \"other\",\n",
    "    \"Tempranillo\": \"red\",\n",
    "    \"Nebbiolo\": \"red\",\n",
    "    \"Portuguese Red\": \"red\",\n",
    "    \"Sparkling Blend\": \"other\",\n",
    "    \"Shiraz\": \"red\",\n",
    "    \"Corvina, Rondinella, Molinara\": \"red\",\n",
    "    \"Rhône-style Red Blend\": \"red\",\n",
    "    \"Barbera\": \"red\",\n",
    "    \"Pinot Gris\": \"white\",\n",
    "    \"Viognier\": \"white\",\n",
    "    \"Bordeaux-style White Blend\": \"white\",\n",
    "    \"Champagne Blend\": \"other\",\n",
    "    \"Port\": \"red\",\n",
    "    \"Grüner Veltliner\": \"white\",\n",
    "    \"Gewürztraminer\": \"white\",\n",
    "    \"Portuguese White\": \"white\",\n",
    "    \"Petite Sirah\": \"red\",\n",
    "    \"Carmenère\": \"red\"\n",
    "}"
   ]
  },
  {
   "cell_type": "markdown",
   "metadata": {},
   "source": [
    "# Загрузка и разведывательный анализ"
   ]
  },
  {
   "cell_type": "markdown",
   "metadata": {},
   "source": [
    "## Загрузите данные"
   ]
  },
  {
   "cell_type": "code",
   "execution_count": 55,
   "metadata": {
    "ExecuteTime": {
     "end_time": "2017-12-21T12:40:58.920601Z",
     "start_time": "2017-12-21T12:40:58.905162Z"
    }
   },
   "outputs": [],
   "source": [
    "import pandas as pd\n",
    "import matplotlib.pyplot as plt\n",
    "import seaborn as sns\n",
    "import numpy as np\n",
    "\n",
    "%matplotlib inline"
   ]
  },
  {
   "cell_type": "code",
   "execution_count": 56,
   "metadata": {
    "ExecuteTime": {
     "end_time": "2017-12-21T12:40:59.639382Z",
     "start_time": "2017-12-21T12:40:59.482777Z"
    }
   },
   "outputs": [],
   "source": [
    "wine = pd.read_csv(\"wine_reviews.csv\")"
   ]
  },
  {
   "cell_type": "code",
   "execution_count": 57,
   "metadata": {
    "ExecuteTime": {
     "end_time": "2017-12-21T12:41:00.100202Z",
     "start_time": "2017-12-21T12:41:00.078856Z"
    }
   },
   "outputs": [
    {
     "data": {
      "text/html": [
       "<div>\n",
       "<style>\n",
       "    .dataframe thead tr:only-child th {\n",
       "        text-align: right;\n",
       "    }\n",
       "\n",
       "    .dataframe thead th {\n",
       "        text-align: left;\n",
       "    }\n",
       "\n",
       "    .dataframe tbody tr th {\n",
       "        vertical-align: top;\n",
       "    }\n",
       "</style>\n",
       "<table border=\"1\" class=\"dataframe\">\n",
       "  <thead>\n",
       "    <tr style=\"text-align: right;\">\n",
       "      <th></th>\n",
       "      <th>country</th>\n",
       "      <th>description</th>\n",
       "      <th>designation</th>\n",
       "      <th>points</th>\n",
       "      <th>price</th>\n",
       "      <th>province</th>\n",
       "      <th>region_1</th>\n",
       "      <th>region_2</th>\n",
       "      <th>variety</th>\n",
       "      <th>winery</th>\n",
       "    </tr>\n",
       "  </thead>\n",
       "  <tbody>\n",
       "    <tr>\n",
       "      <th>0</th>\n",
       "      <td>US</td>\n",
       "      <td>With a delicate, silky mouthfeel and bright ac...</td>\n",
       "      <td>NaN</td>\n",
       "      <td>86</td>\n",
       "      <td>23.0</td>\n",
       "      <td>California</td>\n",
       "      <td>Central Coast</td>\n",
       "      <td>Central Coast</td>\n",
       "      <td>Pinot Noir</td>\n",
       "      <td>MacMurray Ranch</td>\n",
       "    </tr>\n",
       "    <tr>\n",
       "      <th>1</th>\n",
       "      <td>Italy</td>\n",
       "      <td>D'Alceo is a drop dead gorgeous wine that ooze...</td>\n",
       "      <td>D'Alceo</td>\n",
       "      <td>96</td>\n",
       "      <td>275.0</td>\n",
       "      <td>Tuscany</td>\n",
       "      <td>Toscana</td>\n",
       "      <td>NaN</td>\n",
       "      <td>Red Blend</td>\n",
       "      <td>Castello dei Rampolla</td>\n",
       "    </tr>\n",
       "    <tr>\n",
       "      <th>2</th>\n",
       "      <td>France</td>\n",
       "      <td>The great dominance of Cabernet Sauvignon in t...</td>\n",
       "      <td>NaN</td>\n",
       "      <td>91</td>\n",
       "      <td>40.0</td>\n",
       "      <td>Bordeaux</td>\n",
       "      <td>Haut-Médoc</td>\n",
       "      <td>NaN</td>\n",
       "      <td>Bordeaux-style Red Blend</td>\n",
       "      <td>Château Bernadotte</td>\n",
       "    </tr>\n",
       "    <tr>\n",
       "      <th>3</th>\n",
       "      <td>Italy</td>\n",
       "      <td>The modest cherry, dark berry and black tea no...</td>\n",
       "      <td>NaN</td>\n",
       "      <td>81</td>\n",
       "      <td>15.0</td>\n",
       "      <td>Tuscany</td>\n",
       "      <td>Chianti Classico</td>\n",
       "      <td>NaN</td>\n",
       "      <td>Sangiovese</td>\n",
       "      <td>Valiano</td>\n",
       "    </tr>\n",
       "    <tr>\n",
       "      <th>4</th>\n",
       "      <td>US</td>\n",
       "      <td>Exceedingly light in color, scent and flavor, ...</td>\n",
       "      <td>NaN</td>\n",
       "      <td>83</td>\n",
       "      <td>25.0</td>\n",
       "      <td>Oregon</td>\n",
       "      <td>Rogue Valley</td>\n",
       "      <td>Southern Oregon</td>\n",
       "      <td>Pinot Noir</td>\n",
       "      <td>Deer Creek</td>\n",
       "    </tr>\n",
       "  </tbody>\n",
       "</table>\n",
       "</div>"
      ],
      "text/plain": [
       "  country                                        description designation  \\\n",
       "0      US  With a delicate, silky mouthfeel and bright ac...         NaN   \n",
       "1   Italy  D'Alceo is a drop dead gorgeous wine that ooze...     D'Alceo   \n",
       "2  France  The great dominance of Cabernet Sauvignon in t...         NaN   \n",
       "3   Italy  The modest cherry, dark berry and black tea no...         NaN   \n",
       "4      US  Exceedingly light in color, scent and flavor, ...         NaN   \n",
       "\n",
       "   points  price    province          region_1         region_2  \\\n",
       "0      86   23.0  California     Central Coast    Central Coast   \n",
       "1      96  275.0     Tuscany           Toscana              NaN   \n",
       "2      91   40.0    Bordeaux        Haut-Médoc              NaN   \n",
       "3      81   15.0     Tuscany  Chianti Classico              NaN   \n",
       "4      83   25.0      Oregon      Rogue Valley  Southern Oregon   \n",
       "\n",
       "                    variety                 winery  \n",
       "0                Pinot Noir        MacMurray Ranch  \n",
       "1                 Red Blend  Castello dei Rampolla  \n",
       "2  Bordeaux-style Red Blend     Château Bernadotte  \n",
       "3                Sangiovese                Valiano  \n",
       "4                Pinot Noir             Deer Creek  "
      ]
     },
     "execution_count": 57,
     "metadata": {},
     "output_type": "execute_result"
    }
   ],
   "source": [
    "wine.head()"
   ]
  },
  {
   "cell_type": "markdown",
   "metadata": {},
   "source": [
    "## Посчитайте размерность данных"
   ]
  },
  {
   "cell_type": "code",
   "execution_count": 58,
   "metadata": {
    "ExecuteTime": {
     "end_time": "2017-12-21T12:41:01.656593Z",
     "start_time": "2017-12-21T12:41:01.651714Z"
    }
   },
   "outputs": [
    {
     "data": {
      "text/plain": [
       "(20000, 10)"
      ]
     },
     "execution_count": 58,
     "metadata": {},
     "output_type": "execute_result"
    }
   ],
   "source": [
    "wine.shape"
   ]
  },
  {
   "cell_type": "markdown",
   "metadata": {},
   "source": [
    "## Посчитайте количество пропущенных значений в каждой переменной."
   ]
  },
  {
   "cell_type": "code",
   "execution_count": 59,
   "metadata": {
    "ExecuteTime": {
     "end_time": "2017-12-21T12:41:03.256520Z",
     "start_time": "2017-12-21T12:41:03.235916Z"
    }
   },
   "outputs": [
    {
     "data": {
      "text/plain": [
       "country            0\n",
       "description        0\n",
       "designation     6001\n",
       "points             0\n",
       "price           1802\n",
       "province           0\n",
       "region_1        3457\n",
       "region_2       11942\n",
       "variety            0\n",
       "winery             0\n",
       "dtype: int64"
      ]
     },
     "execution_count": 59,
     "metadata": {},
     "output_type": "execute_result"
    }
   ],
   "source": [
    "wine.isnull().sum()"
   ]
  },
  {
   "cell_type": "markdown",
   "metadata": {},
   "source": [
    "## Выведите тип данных каждой переменной. Переконвертируйте при необходимости."
   ]
  },
  {
   "cell_type": "code",
   "execution_count": 60,
   "metadata": {
    "ExecuteTime": {
     "end_time": "2017-12-21T12:41:04.652907Z",
     "start_time": "2017-12-21T12:41:04.646336Z"
    }
   },
   "outputs": [
    {
     "data": {
      "text/plain": [
       "country         object\n",
       "description     object\n",
       "designation     object\n",
       "points           int64\n",
       "price          float64\n",
       "province        object\n",
       "region_1        object\n",
       "region_2        object\n",
       "variety         object\n",
       "winery          object\n",
       "dtype: object"
      ]
     },
     "execution_count": 60,
     "metadata": {},
     "output_type": "execute_result"
    }
   ],
   "source": [
    "wine.dtypes"
   ]
  },
  {
   "cell_type": "markdown",
   "metadata": {},
   "source": [
    "## Вина какой области (province) получают наилучшие рейтинги?\n"
   ]
  },
  {
   "cell_type": "code",
   "execution_count": 61,
   "metadata": {
    "ExecuteTime": {
     "end_time": "2017-12-21T12:41:05.851299Z",
     "start_time": "2017-12-21T12:41:05.835767Z"
    },
    "scrolled": true
   },
   "outputs": [
    {
     "data": {
      "text/plain": [
       "province\n",
       "Martinborough Terrace                 93.000000\n",
       "Eisenberg                             92.000000\n",
       "Minho                                 92.000000\n",
       "Tokaji                                91.600000\n",
       "Traisental                            91.250000\n",
       "Santa Cruz                            91.000000\n",
       "Lebanon                               91.000000\n",
       "Wachau                                90.980769\n",
       "Waiheke Island                        90.666667\n",
       "Champagne                             90.508287\n",
       "Puente Alto                           90.500000\n",
       "Kamptal                               90.347826\n",
       "Tradouw                               90.000000\n",
       "Tokaj                                 90.000000\n",
       "New Zealand                           90.000000\n",
       "Groenekloof                           90.000000\n",
       "Vienna                                89.900000\n",
       "Mosel                                 89.675214\n",
       "Südoststeiermark                      89.666667\n",
       "Bordeaux                              89.660904\n",
       "Douro                                 89.607143\n",
       "Kumeu                                 89.571429\n",
       "Burgundy                              89.560284\n",
       "Steiermark                            89.500000\n",
       "Duriense                              89.500000\n",
       "Andalucia                             89.346154\n",
       "Madeira                               89.333333\n",
       "Apalta                                89.333333\n",
       "Tuscany                               89.286154\n",
       "Rheingau                              89.250000\n",
       "                                        ...    \n",
       "Pennsylvania                          83.400000\n",
       "Bekaa Valley                          83.333333\n",
       "North Carolina                        83.333333\n",
       "Lontué Valley                         83.222222\n",
       "Rio Claro                             83.000000\n",
       "Kentucky                              83.000000\n",
       "Peljesac                              83.000000\n",
       "Algarve                               83.000000\n",
       "Valle de Guadalupe and Santo Tomás    83.000000\n",
       "Brazil                                83.000000\n",
       "Missouri                              82.727273\n",
       "New Mexico                            82.600000\n",
       "New Jersey                            82.500000\n",
       "Michigan                              82.500000\n",
       "Uruguay                               82.500000\n",
       "Cyclades                              82.000000\n",
       "Romania                               82.000000\n",
       "Eger                                  82.000000\n",
       "China                                 82.000000\n",
       "Codru Region                          82.000000\n",
       "Zitsa                                 82.000000\n",
       "Middle and South Dalmatia             82.000000\n",
       "Kutjevo                               82.000000\n",
       "Lake Skadar Valley                    82.000000\n",
       "Samson                                81.000000\n",
       "Jiri Valley                           81.000000\n",
       "Beotia                                81.000000\n",
       "Table wine                            81.000000\n",
       "Patras                                80.000000\n",
       "San Antonio de las Minas Valley       80.000000\n",
       "Name: points, Length: 314, dtype: float64"
      ]
     },
     "execution_count": 61,
     "metadata": {},
     "output_type": "execute_result"
    }
   ],
   "source": [
    "wine.groupby(\"province\")[\"points\"].mean().sort_values(ascending=False)"
   ]
  },
  {
   "cell_type": "markdown",
   "metadata": {},
   "source": [
    "## На основе словаря color оздайте переменную, в которой закодирован цвет вина."
   ]
  },
  {
   "cell_type": "code",
   "execution_count": 62,
   "metadata": {
    "ExecuteTime": {
     "end_time": "2017-12-21T12:41:07.930819Z",
     "start_time": "2017-12-21T12:41:07.923953Z"
    }
   },
   "outputs": [],
   "source": [
    "wine[\"color\"] = wine[\"variety\"].map(color)"
   ]
  },
  {
   "cell_type": "markdown",
   "metadata": {},
   "source": [
    "## Удалите наблюдения для которых цвет (color) не указан."
   ]
  },
  {
   "cell_type": "code",
   "execution_count": 63,
   "metadata": {
    "ExecuteTime": {
     "end_time": "2017-12-21T12:41:10.169385Z",
     "start_time": "2017-12-21T12:41:10.156065Z"
    }
   },
   "outputs": [],
   "source": [
    "wine = wine.dropna(subset=[\"color\"])"
   ]
  },
  {
   "cell_type": "markdown",
   "metadata": {},
   "source": [
    "## Визуализируйте распределения числовых переменных."
   ]
  },
  {
   "cell_type": "code",
   "execution_count": 64,
   "metadata": {
    "ExecuteTime": {
     "end_time": "2017-12-21T12:41:13.924768Z",
     "start_time": "2017-12-21T12:41:11.792800Z"
    }
   },
   "outputs": [
    {
     "data": {
      "text/plain": [
       "<seaborn.axisgrid.JointGrid at 0x115686160>"
      ]
     },
     "execution_count": 64,
     "metadata": {},
     "output_type": "execute_result"
    },
    {
     "data": {
      "image/png": "[encoded data removed]",
      "text/plain": [
       "<matplotlib.figure.Figure at 0x1156863c8>"
      ]
     },
     "metadata": {},
     "output_type": "display_data"
    }
   ],
   "source": [
    "sns.jointplot(x=\"price\", y=\"points\", data=wine, kind='reg')"
   ]
  },
  {
   "cell_type": "code",
   "execution_count": 65,
   "metadata": {
    "ExecuteTime": {
     "end_time": "2017-12-21T12:41:16.325939Z",
     "start_time": "2017-12-21T12:41:14.212401Z"
    }
   },
   "outputs": [
    {
     "data": {
      "text/plain": [
       "<seaborn.axisgrid.JointGrid at 0x1155cc208>"
      ]
     },
     "execution_count": 65,
     "metadata": {},
     "output_type": "execute_result"
    },
    {
     "data": {
      "image/png": "[encoded data removed]",
      "text/plain": [
       "<matplotlib.figure.Figure at 0x11558e550>"
      ]
     },
     "metadata": {},
     "output_type": "display_data"
    }
   ],
   "source": [
    "sns.jointplot(x=np.log(wine[\"price\"]), y=np.log(wine[\"points\"]), kind='reg')"
   ]
  },
  {
   "cell_type": "markdown",
   "metadata": {},
   "source": [
    "Распределение стало куда ближе к нормальному."
   ]
  },
  {
   "cell_type": "markdown",
   "metadata": {},
   "source": [
    "## Для каждой страны рассчитайте долю каждого вида вина. В какой стране доля белого вина наибольшая, а в какой красного?"
   ]
  },
  {
   "cell_type": "code",
   "execution_count": 66,
   "metadata": {
    "ExecuteTime": {
     "end_time": "2017-12-21T12:41:16.716292Z",
     "start_time": "2017-12-21T12:41:16.697304Z"
    },
    "scrolled": true
   },
   "outputs": [
    {
     "data": {
      "text/plain": [
       "country       color\n",
       "Argentina     red      0.842105\n",
       "              white    0.138756\n",
       "              other    0.019139\n",
       "Australia     red      0.706693\n",
       "              white    0.265748\n",
       "              other    0.027559\n",
       "Austria       white    0.630000\n",
       "              red      0.350000\n",
       "              other    0.020000\n",
       "Brazil        other    1.000000\n",
       "Bulgaria      red      0.666667\n",
       "              white    0.333333\n",
       "Canada        red      0.857143\n",
       "              white    0.142857\n",
       "Chile         red      0.702778\n",
       "              white    0.279167\n",
       "              other    0.018056\n",
       "China         white    1.000000\n",
       "Croatia       white    0.571429\n",
       "              red      0.285714\n",
       "              other    0.142857\n",
       "Cyprus        red      0.833333\n",
       "              white    0.166667\n",
       "France        red      0.527258\n",
       "              white    0.311694\n",
       "              other    0.161049\n",
       "Georgia       white    1.000000\n",
       "Germany       red      0.975831\n",
       "              white    0.021148\n",
       "              other    0.003021\n",
       "                         ...   \n",
       "Mexico        white    0.222222\n",
       "              other    0.111111\n",
       "Moldova       red      0.500000\n",
       "              white    0.416667\n",
       "              other    0.083333\n",
       "New Zealand   white    0.538813\n",
       "              red      0.458904\n",
       "              other    0.002283\n",
       "Portugal      red      0.731861\n",
       "              white    0.220820\n",
       "              other    0.047319\n",
       "Romania       red      0.866667\n",
       "              white    0.133333\n",
       "Slovenia      red      0.555556\n",
       "              white    0.444444\n",
       "South Africa  red      0.573171\n",
       "              white    0.406504\n",
       "              other    0.020325\n",
       "Spain         red      0.702970\n",
       "              other    0.181518\n",
       "              white    0.115512\n",
       "Switzerland   red      1.000000\n",
       "Turkey        red      1.000000\n",
       "US            red      0.732274\n",
       "              white    0.242890\n",
       "              other    0.024836\n",
       "US-France     white    1.000000\n",
       "Ukraine       other    1.000000\n",
       "Uruguay       red      0.833333\n",
       "              white    0.166667\n",
       "Name: color, Length: 76, dtype: float64"
      ]
     },
     "execution_count": 66,
     "metadata": {},
     "output_type": "execute_result"
    }
   ],
   "source": [
    "wine.groupby(\"country\")[\"color\"].value_counts(normalize=True)"
   ]
  },
  {
   "cell_type": "markdown",
   "metadata": {},
   "source": [
    "## Разделите выборку на обучающую и тестовую."
   ]
  },
  {
   "cell_type": "code",
   "execution_count": 67,
   "metadata": {
    "ExecuteTime": {
     "end_time": "2017-12-21T12:41:18.455576Z",
     "start_time": "2017-12-21T12:41:18.184488Z"
    }
   },
   "outputs": [],
   "source": [
    "from sklearn.model_selection import train_test_split\n",
    "\n",
    "\n",
    "#wine = wine.dropna(subset=[\"price\"])\n",
    "# Так же можно не просто удалить пропущенные значения, но и заполнить их средними\n",
    "wine[\"price\"].fillna(value=wine[\"price\"].mean(), inplace=True)\n",
    "\n",
    "# Как мы видели, лучше анализировать логарифмированные значения, так что сразу создадим соотвествующие переменные\n",
    "wine[\"price_log\"] = np.log(wine[\"price\"])\n",
    "wine[\"points_log\"] = np.log(wine[\"points\"])\n",
    "\n",
    "\n",
    "X = wine[[\"price_log\"]].values # колонка\n",
    "y = wine[\"points_log\"].values # вектор\n",
    "\n",
    "X_train, X_test, y_train, y_test = train_test_split(\n",
    "    X, y, test_size=0.3, random_state=0)"
   ]
  },
  {
   "cell_type": "markdown",
   "metadata": {},
   "source": [
    "# Регрессионная модель"
   ]
  },
  {
   "cell_type": "markdown",
   "metadata": {
    "ExecuteTime": {
     "end_time": "2017-12-21T10:12:16.041386Z",
     "start_time": "2017-12-21T10:12:16.037858Z"
    },
    "code_folding": []
   },
   "source": [
    "## На обучающей выборке постройте регрессионную модель, показывающую зависимость между баллом (зависимая переменная) и ценой. Визуализируйте эту зависимость. На сколько изменяется оценка при изменении цены на одну условную единицу?"
   ]
  },
  {
   "cell_type": "code",
   "execution_count": 68,
   "metadata": {
    "ExecuteTime": {
     "end_time": "2017-12-21T12:41:22.485776Z",
     "start_time": "2017-12-21T12:41:22.464045Z"
    }
   },
   "outputs": [
    {
     "name": "stdout",
     "output_type": "stream",
     "text": [
      "Slope: 0.03\n",
      "Intercept: 4.36\n"
     ]
    },
    {
     "name": "stderr",
     "output_type": "stream",
     "text": [
      "/usr/local/lib/python3.6/site-packages/scipy/linalg/basic.py:1226: RuntimeWarning: internal gelsd driver lwork query error, required iwork dimension not returned. This is likely the result of LAPACK bug 0038, fixed in LAPACK 3.2.2 (released July 21, 2010). Falling back to 'gelss' driver.\n",
      "  warnings.warn(mesg, RuntimeWarning)\n"
     ]
    }
   ],
   "source": [
    "from sklearn.linear_model import LinearRegression\n",
    "\n",
    "slr = LinearRegression()\n",
    "slr.fit(X_train, y_train)\n",
    "y_test_pred = slr.predict(X_test)\n",
    "\n",
    "print('Slope: {:.2f}'.format(slr.coef_[0]))\n",
    "print('Intercept: {:.2f}'.format(slr.intercept_))"
   ]
  },
  {
   "cell_type": "markdown",
   "metadata": {},
   "source": [
    "Т.е. при изменении логарифма цены на 1 логарифм оценки изменится на 0.03."
   ]
  },
  {
   "cell_type": "code",
   "execution_count": 69,
   "metadata": {
    "ExecuteTime": {
     "end_time": "2017-12-21T12:41:24.564210Z",
     "start_time": "2017-12-21T12:41:24.172198Z"
    }
   },
   "outputs": [
    {
     "data": {
      "text/plain": [
       "[<matplotlib.lines.Line2D at 0x115688cf8>]"
      ]
     },
     "execution_count": 69,
     "metadata": {},
     "output_type": "execute_result"
    },
    {
     "data": {
      "image/png": "[encoded data removed]",
      "text/plain": [
       "<matplotlib.figure.Figure at 0x115688b38>"
      ]
     },
     "metadata": {},
     "output_type": "display_data"
    }
   ],
   "source": [
    "plt.scatter(X, y)\n",
    "plt.plot(X_test, y_test_pred, color='red', linewidth=2)  "
   ]
  },
  {
   "cell_type": "code",
   "execution_count": 70,
   "metadata": {
    "ExecuteTime": {
     "end_time": "2017-12-21T12:41:27.002261Z",
     "start_time": "2017-12-21T12:41:24.894003Z"
    }
   },
   "outputs": [
    {
     "data": {
      "text/plain": [
       "<matplotlib.axes._subplots.AxesSubplot at 0x1155015c0>"
      ]
     },
     "execution_count": 70,
     "metadata": {},
     "output_type": "execute_result"
    },
    {
     "data": {
      "image/png": "[encoded data removed]",
      "text/plain": [
       "<matplotlib.figure.Figure at 0x11557bda0>"
      ]
     },
     "metadata": {},
     "output_type": "display_data"
    }
   ],
   "source": [
    "sns.regplot(x=wine[\"price_log\"], y=wine[\"points_log\"])"
   ]
  },
  {
   "cell_type": "markdown",
   "metadata": {},
   "source": [
    "Можно было сделать регрессионную модель при помощи statsmodels."
   ]
  },
  {
   "cell_type": "code",
   "execution_count": 71,
   "metadata": {
    "ExecuteTime": {
     "end_time": "2017-12-21T12:41:27.703872Z",
     "start_time": "2017-12-21T12:41:27.292025Z"
    }
   },
   "outputs": [
    {
     "name": "stderr",
     "output_type": "stream",
     "text": [
      "/usr/local/lib/python3.6/site-packages/statsmodels/compat/pandas.py:56: FutureWarning: The pandas.core.datetools module is deprecated and will be removed in a future version. Please use the pandas.tseries module instead.\n",
      "  from pandas.core import datetools\n"
     ]
    },
    {
     "data": {
      "text/html": [
       "<table class=\"simpletable\">\n",
       "<caption>OLS Regression Results</caption>\n",
       "<tr>\n",
       "  <th>Dep. Variable:</th>       <td>points_log</td>    <th>  R-squared:         </th>  <td>   0.350</td> \n",
       "</tr>\n",
       "<tr>\n",
       "  <th>Model:</th>                   <td>OLS</td>       <th>  Adj. R-squared:    </th>  <td>   0.350</td> \n",
       "</tr>\n",
       "<tr>\n",
       "  <th>Method:</th>             <td>Least Squares</td>  <th>  F-statistic:       </th>  <td>   8880.</td> \n",
       "</tr>\n",
       "<tr>\n",
       "  <th>Date:</th>             <td>Thu, 21 Dec 2017</td> <th>  Prob (F-statistic):</th>   <td>  0.00</td>  \n",
       "</tr>\n",
       "<tr>\n",
       "  <th>Time:</th>                 <td>15:41:27</td>     <th>  Log-Likelihood:    </th>  <td>  34333.</td> \n",
       "</tr>\n",
       "<tr>\n",
       "  <th>No. Observations:</th>      <td> 16499</td>      <th>  AIC:               </th> <td>-6.866e+04</td>\n",
       "</tr>\n",
       "<tr>\n",
       "  <th>Df Residuals:</th>          <td> 16497</td>      <th>  BIC:               </th> <td>-6.865e+04</td>\n",
       "</tr>\n",
       "<tr>\n",
       "  <th>Df Model:</th>              <td>     1</td>      <th>                     </th>      <td> </td>    \n",
       "</tr>\n",
       "<tr>\n",
       "  <th>Covariance Type:</th>      <td>nonrobust</td>    <th>                     </th>      <td> </td>    \n",
       "</tr>\n",
       "</table>\n",
       "<table class=\"simpletable\">\n",
       "<tr>\n",
       "      <td></td>         <th>coef</th>     <th>std err</th>      <th>t</th>      <th>P>|t|</th>  <th>[0.025</th>    <th>0.975]</th>  \n",
       "</tr>\n",
       "<tr>\n",
       "  <th>Intercept</th> <td>    4.3629</td> <td>    0.001</td> <td> 3551.520</td> <td> 0.000</td> <td>    4.361</td> <td>    4.365</td>\n",
       "</tr>\n",
       "<tr>\n",
       "  <th>price_log</th> <td>    0.0344</td> <td>    0.000</td> <td>   94.234</td> <td> 0.000</td> <td>    0.034</td> <td>    0.035</td>\n",
       "</tr>\n",
       "</table>\n",
       "<table class=\"simpletable\">\n",
       "<tr>\n",
       "  <th>Omnibus:</th>       <td>282.707</td> <th>  Durbin-Watson:     </th> <td>   2.003</td>\n",
       "</tr>\n",
       "<tr>\n",
       "  <th>Prob(Omnibus):</th> <td> 0.000</td>  <th>  Jarque-Bera (JB):  </th> <td> 297.591</td>\n",
       "</tr>\n",
       "<tr>\n",
       "  <th>Skew:</th>          <td>-0.321</td>  <th>  Prob(JB):          </th> <td>2.39e-65</td>\n",
       "</tr>\n",
       "<tr>\n",
       "  <th>Kurtosis:</th>      <td> 3.146</td>  <th>  Cond. No.          </th> <td>    19.1</td>\n",
       "</tr>\n",
       "</table>"
      ],
      "text/plain": [
       "<class 'statsmodels.iolib.summary.Summary'>\n",
       "\"\"\"\n",
       "                            OLS Regression Results                            \n",
       "==============================================================================\n",
       "Dep. Variable:             points_log   R-squared:                       0.350\n",
       "Model:                            OLS   Adj. R-squared:                  0.350\n",
       "Method:                 Least Squares   F-statistic:                     8880.\n",
       "Date:                Thu, 21 Dec 2017   Prob (F-statistic):               0.00\n",
       "Time:                        15:41:27   Log-Likelihood:                 34333.\n",
       "No. Observations:               16499   AIC:                        -6.866e+04\n",
       "Df Residuals:                   16497   BIC:                        -6.865e+04\n",
       "Df Model:                           1                                         \n",
       "Covariance Type:            nonrobust                                         \n",
       "==============================================================================\n",
       "                 coef    std err          t      P>|t|      [0.025      0.975]\n",
       "------------------------------------------------------------------------------\n",
       "Intercept      4.3629      0.001   3551.520      0.000       4.361       4.365\n",
       "price_log      0.0344      0.000     94.234      0.000       0.034       0.035\n",
       "==============================================================================\n",
       "Omnibus:                      282.707   Durbin-Watson:                   2.003\n",
       "Prob(Omnibus):                  0.000   Jarque-Bera (JB):              297.591\n",
       "Skew:                          -0.321   Prob(JB):                     2.39e-65\n",
       "Kurtosis:                       3.146   Cond. No.                         19.1\n",
       "==============================================================================\n",
       "\n",
       "Warnings:\n",
       "[1] Standard Errors assume that the covariance matrix of the errors is correctly specified.\n",
       "\"\"\""
      ]
     },
     "execution_count": 71,
     "metadata": {},
     "output_type": "execute_result"
    }
   ],
   "source": [
    "import statsmodels.api as sm\n",
    "import statsmodels.formula.api as smf\n",
    "\n",
    "results = smf.ols('points_log ~ price_log', data=wine).fit()\n",
    "results.summary()"
   ]
  },
  {
   "cell_type": "markdown",
   "metadata": {},
   "source": [
    "Как видим, результаты те же самые."
   ]
  },
  {
   "cell_type": "markdown",
   "metadata": {},
   "source": [
    "## Оцените качество модели на основе предсказаний по тестовой выборке по помощи стандартных метрик качества для регрессионных моделей."
   ]
  },
  {
   "cell_type": "code",
   "execution_count": 72,
   "metadata": {
    "ExecuteTime": {
     "end_time": "2017-12-21T12:41:31.201542Z",
     "start_time": "2017-12-21T12:41:31.194456Z"
    }
   },
   "outputs": [
    {
     "name": "stdout",
     "output_type": "stream",
     "text": [
      "MSE test: 0.001\n",
      "R^2 test: 0.359\n"
     ]
    }
   ],
   "source": [
    "from sklearn.metrics import mean_absolute_error, mean_squared_error, median_absolute_error, r2_score\n",
    "\n",
    "print('MSE test: {:.3f}'.format(\n",
    "        mean_squared_error(y_test, y_test_pred)))\n",
    "print('R^2 test: {:.3f}'.format(\n",
    "        r2_score(y_test, y_test_pred)))"
   ]
  },
  {
   "cell_type": "markdown",
   "metadata": {},
   "source": [
    "## Добавьте в модель переменную, в которой закодирован цвет вина. Как изменилось качество?"
   ]
  },
  {
   "cell_type": "code",
   "execution_count": 73,
   "metadata": {
    "ExecuteTime": {
     "end_time": "2017-12-21T12:41:53.043007Z",
     "start_time": "2017-12-21T12:41:53.037316Z"
    }
   },
   "outputs": [],
   "source": [
    "dummies = pd.get_dummies(wine[\"color\"], drop_first=True)"
   ]
  },
  {
   "cell_type": "code",
   "execution_count": 74,
   "metadata": {
    "ExecuteTime": {
     "end_time": "2017-12-21T12:41:53.623330Z",
     "start_time": "2017-12-21T12:41:53.614904Z"
    }
   },
   "outputs": [],
   "source": [
    "wine = pd.concat([wine, dummies], axis=1)"
   ]
  },
  {
   "cell_type": "code",
   "execution_count": 75,
   "metadata": {
    "ExecuteTime": {
     "end_time": "2017-12-21T12:41:54.326658Z",
     "start_time": "2017-12-21T12:41:54.297059Z"
    }
   },
   "outputs": [
    {
     "data": {
      "text/html": [
       "<div>\n",
       "<style>\n",
       "    .dataframe thead tr:only-child th {\n",
       "        text-align: right;\n",
       "    }\n",
       "\n",
       "    .dataframe thead th {\n",
       "        text-align: left;\n",
       "    }\n",
       "\n",
       "    .dataframe tbody tr th {\n",
       "        vertical-align: top;\n",
       "    }\n",
       "</style>\n",
       "<table border=\"1\" class=\"dataframe\">\n",
       "  <thead>\n",
       "    <tr style=\"text-align: right;\">\n",
       "      <th></th>\n",
       "      <th>country</th>\n",
       "      <th>description</th>\n",
       "      <th>designation</th>\n",
       "      <th>points</th>\n",
       "      <th>price</th>\n",
       "      <th>province</th>\n",
       "      <th>region_1</th>\n",
       "      <th>region_2</th>\n",
       "      <th>variety</th>\n",
       "      <th>winery</th>\n",
       "      <th>color</th>\n",
       "      <th>price_log</th>\n",
       "      <th>points_log</th>\n",
       "      <th>red</th>\n",
       "      <th>white</th>\n",
       "    </tr>\n",
       "  </thead>\n",
       "  <tbody>\n",
       "    <tr>\n",
       "      <th>0</th>\n",
       "      <td>US</td>\n",
       "      <td>With a delicate, silky mouthfeel and bright ac...</td>\n",
       "      <td>NaN</td>\n",
       "      <td>86</td>\n",
       "      <td>23.0</td>\n",
       "      <td>California</td>\n",
       "      <td>Central Coast</td>\n",
       "      <td>Central Coast</td>\n",
       "      <td>Pinot Noir</td>\n",
       "      <td>MacMurray Ranch</td>\n",
       "      <td>red</td>\n",
       "      <td>3.135494</td>\n",
       "      <td>4.454347</td>\n",
       "      <td>1</td>\n",
       "      <td>0</td>\n",
       "    </tr>\n",
       "    <tr>\n",
       "      <th>1</th>\n",
       "      <td>Italy</td>\n",
       "      <td>D'Alceo is a drop dead gorgeous wine that ooze...</td>\n",
       "      <td>D'Alceo</td>\n",
       "      <td>96</td>\n",
       "      <td>275.0</td>\n",
       "      <td>Tuscany</td>\n",
       "      <td>Toscana</td>\n",
       "      <td>NaN</td>\n",
       "      <td>Red Blend</td>\n",
       "      <td>Castello dei Rampolla</td>\n",
       "      <td>red</td>\n",
       "      <td>5.616771</td>\n",
       "      <td>4.564348</td>\n",
       "      <td>1</td>\n",
       "      <td>0</td>\n",
       "    </tr>\n",
       "    <tr>\n",
       "      <th>2</th>\n",
       "      <td>France</td>\n",
       "      <td>The great dominance of Cabernet Sauvignon in t...</td>\n",
       "      <td>NaN</td>\n",
       "      <td>91</td>\n",
       "      <td>40.0</td>\n",
       "      <td>Bordeaux</td>\n",
       "      <td>Haut-Médoc</td>\n",
       "      <td>NaN</td>\n",
       "      <td>Bordeaux-style Red Blend</td>\n",
       "      <td>Château Bernadotte</td>\n",
       "      <td>red</td>\n",
       "      <td>3.688879</td>\n",
       "      <td>4.510860</td>\n",
       "      <td>1</td>\n",
       "      <td>0</td>\n",
       "    </tr>\n",
       "    <tr>\n",
       "      <th>3</th>\n",
       "      <td>Italy</td>\n",
       "      <td>The modest cherry, dark berry and black tea no...</td>\n",
       "      <td>NaN</td>\n",
       "      <td>81</td>\n",
       "      <td>15.0</td>\n",
       "      <td>Tuscany</td>\n",
       "      <td>Chianti Classico</td>\n",
       "      <td>NaN</td>\n",
       "      <td>Sangiovese</td>\n",
       "      <td>Valiano</td>\n",
       "      <td>red</td>\n",
       "      <td>2.708050</td>\n",
       "      <td>4.394449</td>\n",
       "      <td>1</td>\n",
       "      <td>0</td>\n",
       "    </tr>\n",
       "    <tr>\n",
       "      <th>4</th>\n",
       "      <td>US</td>\n",
       "      <td>Exceedingly light in color, scent and flavor, ...</td>\n",
       "      <td>NaN</td>\n",
       "      <td>83</td>\n",
       "      <td>25.0</td>\n",
       "      <td>Oregon</td>\n",
       "      <td>Rogue Valley</td>\n",
       "      <td>Southern Oregon</td>\n",
       "      <td>Pinot Noir</td>\n",
       "      <td>Deer Creek</td>\n",
       "      <td>red</td>\n",
       "      <td>3.218876</td>\n",
       "      <td>4.418841</td>\n",
       "      <td>1</td>\n",
       "      <td>0</td>\n",
       "    </tr>\n",
       "  </tbody>\n",
       "</table>\n",
       "</div>"
      ],
      "text/plain": [
       "  country                                        description designation  \\\n",
       "0      US  With a delicate, silky mouthfeel and bright ac...         NaN   \n",
       "1   Italy  D'Alceo is a drop dead gorgeous wine that ooze...     D'Alceo   \n",
       "2  France  The great dominance of Cabernet Sauvignon in t...         NaN   \n",
       "3   Italy  The modest cherry, dark berry and black tea no...         NaN   \n",
       "4      US  Exceedingly light in color, scent and flavor, ...         NaN   \n",
       "\n",
       "   points  price    province          region_1         region_2  \\\n",
       "0      86   23.0  California     Central Coast    Central Coast   \n",
       "1      96  275.0     Tuscany           Toscana              NaN   \n",
       "2      91   40.0    Bordeaux        Haut-Médoc              NaN   \n",
       "3      81   15.0     Tuscany  Chianti Classico              NaN   \n",
       "4      83   25.0      Oregon      Rogue Valley  Southern Oregon   \n",
       "\n",
       "                    variety                 winery color  price_log  \\\n",
       "0                Pinot Noir        MacMurray Ranch   red   3.135494   \n",
       "1                 Red Blend  Castello dei Rampolla   red   5.616771   \n",
       "2  Bordeaux-style Red Blend     Château Bernadotte   red   3.688879   \n",
       "3                Sangiovese                Valiano   red   2.708050   \n",
       "4                Pinot Noir             Deer Creek   red   3.218876   \n",
       "\n",
       "   points_log  red  white  \n",
       "0    4.454347    1      0  \n",
       "1    4.564348    1      0  \n",
       "2    4.510860    1      0  \n",
       "3    4.394449    1      0  \n",
       "4    4.418841    1      0  "
      ]
     },
     "execution_count": 75,
     "metadata": {},
     "output_type": "execute_result"
    }
   ],
   "source": [
    "wine.head()"
   ]
  },
  {
   "cell_type": "code",
   "execution_count": 76,
   "metadata": {
    "ExecuteTime": {
     "end_time": "2017-12-21T12:41:55.171818Z",
     "start_time": "2017-12-21T12:41:55.141099Z"
    }
   },
   "outputs": [
    {
     "name": "stdout",
     "output_type": "stream",
     "text": [
      "Slope: [ 0.03488002  0.00086725  0.00401723]\n",
      "Intercept: 4.36\n"
     ]
    }
   ],
   "source": [
    "from sklearn.linear_model import LinearRegression\n",
    "\n",
    "X = wine[[\"price_log\", \"red\", \"white\"]].values\n",
    "y = wine[\"points_log\"].values\n",
    "\n",
    "X_train, X_test, y_train, y_test = train_test_split(\n",
    "    X, y, test_size=0.3)\n",
    "\n",
    "slr_cat = LinearRegression()\n",
    "slr_cat.fit(X_train, y_train)\n",
    "\n",
    "y_train_pred = slr_cat.predict(X_train)\n",
    "y_test_pred = slr_cat.predict(X_test)\n",
    "\n",
    "print('Slope: {}'.format(slr_cat.coef_))\n",
    "print('Intercept: {:.2f}'.format(slr_cat.intercept_))"
   ]
  },
  {
   "cell_type": "code",
   "execution_count": 77,
   "metadata": {
    "ExecuteTime": {
     "end_time": "2017-12-21T12:41:56.275539Z",
     "start_time": "2017-12-21T12:41:56.269770Z"
    }
   },
   "outputs": [
    {
     "name": "stdout",
     "output_type": "stream",
     "text": [
      "MSE test: 0.001\n",
      "R^2 test: 0.339\n"
     ]
    }
   ],
   "source": [
    "print('MSE test: {:.3f}'.format(\n",
    "        mean_squared_error(y_test, y_test_pred)))\n",
    "print('R^2 test: {:.3f}'.format(\n",
    "        r2_score(y_test, y_test_pred)))"
   ]
  },
  {
   "cell_type": "markdown",
   "metadata": {},
   "source": [
    "Качество немного уменьшилось"
   ]
  },
  {
   "cell_type": "markdown",
   "metadata": {},
   "source": [
    "# Классификация текстов"
   ]
  },
  {
   "cell_type": "markdown",
   "metadata": {},
   "source": [
    "## Сделайте препроцессинг текстов в поле `description` (токенизацию, стемминг или лемматизацию, удаление стоп-слов)."
   ]
  },
  {
   "cell_type": "code",
   "execution_count": 78,
   "metadata": {
    "ExecuteTime": {
     "end_time": "2017-12-21T12:42:10.349392Z",
     "start_time": "2017-12-21T12:42:10.342209Z"
    }
   },
   "outputs": [
    {
     "name": "stdout",
     "output_type": "stream",
     "text": [
      "[nltk_data] Downloading package punkt to /Users/hun/nltk_data...\n",
      "[nltk_data]   Package punkt is already up-to-date!\n"
     ]
    },
    {
     "data": {
      "text/plain": [
       "True"
      ]
     },
     "execution_count": 78,
     "metadata": {},
     "output_type": "execute_result"
    }
   ],
   "source": [
    "import nltk\n",
    "nltk.download(\"punkt\") # Загружаем модуль для токенизации английских текстов"
   ]
  },
  {
   "cell_type": "markdown",
   "metadata": {},
   "source": [
    "Загружаем модуль для стемминга"
   ]
  },
  {
   "cell_type": "code",
   "execution_count": 79,
   "metadata": {
    "ExecuteTime": {
     "end_time": "2017-12-21T12:42:12.526316Z",
     "start_time": "2017-12-21T12:42:12.519570Z"
    }
   },
   "outputs": [
    {
     "name": "stdout",
     "output_type": "stream",
     "text": [
      "[nltk_data] Downloading package snowball_data to\n",
      "[nltk_data]     /Users/hun/nltk_data...\n",
      "[nltk_data]   Package snowball_data is already up-to-date!\n"
     ]
    }
   ],
   "source": [
    "nltk.download(\"snowball_data\")\n",
    "from nltk.stem import SnowballStemmer\n",
    "stemmer = SnowballStemmer(\"english\")"
   ]
  },
  {
   "cell_type": "markdown",
   "metadata": {},
   "source": [
    "Определяем функцию для удаления пунктуации:"
   ]
  },
  {
   "cell_type": "code",
   "execution_count": 80,
   "metadata": {
    "ExecuteTime": {
     "end_time": "2017-12-21T12:42:14.444279Z",
     "start_time": "2017-12-21T12:42:14.438094Z"
    }
   },
   "outputs": [],
   "source": [
    "import re\n",
    "def remove_white_and_punct(tokens):\n",
    "    tokens = filter(lambda token: not bool(re.match(\"^[\\s\\W]+$\", token)), tokens)\n",
    "    return list(tokens)"
   ]
  },
  {
   "cell_type": "markdown",
   "metadata": {},
   "source": [
    "Подготавливаем удаление стоп-слов"
   ]
  },
  {
   "cell_type": "code",
   "execution_count": 81,
   "metadata": {
    "ExecuteTime": {
     "end_time": "2017-12-21T12:42:16.577961Z",
     "start_time": "2017-12-21T12:42:16.572395Z"
    }
   },
   "outputs": [
    {
     "name": "stdout",
     "output_type": "stream",
     "text": [
      "[nltk_data] Downloading package stopwords to /Users/hun/nltk_data...\n",
      "[nltk_data]   Package stopwords is already up-to-date!\n"
     ]
    },
    {
     "data": {
      "text/plain": [
       "True"
      ]
     },
     "execution_count": 81,
     "metadata": {},
     "output_type": "execute_result"
    }
   ],
   "source": [
    "from nltk.corpus import stopwords\n",
    "\n",
    "nltk.download(\"stopwords\")"
   ]
  },
  {
   "cell_type": "code",
   "execution_count": 82,
   "metadata": {
    "ExecuteTime": {
     "end_time": "2017-12-21T12:42:39.928622Z",
     "start_time": "2017-12-21T12:42:17.166592Z"
    }
   },
   "outputs": [],
   "source": [
    "from nltk import word_tokenize\n",
    "\n",
    "wine[\"preprocessed\"] = wine[\"description\"].apply(str.lower)\\\n",
    "    .apply(word_tokenize)\\\n",
    "    .apply(remove_white_and_punct)\\\n",
    "    .apply(lambda tokens_list: [stemmer.stem(token) for token in tokens_list])"
   ]
  },
  {
   "cell_type": "code",
   "execution_count": 83,
   "metadata": {
    "ExecuteTime": {
     "end_time": "2017-12-21T12:42:40.302217Z",
     "start_time": "2017-12-21T12:42:40.294237Z"
    }
   },
   "outputs": [
    {
     "data": {
      "text/plain": [
       "0    [with, a, delic, silki, mouthfeel, and, bright...\n",
       "1    [d'alceo, is, a, drop, dead, gorgeous, wine, t...\n",
       "2    [the, great, domin, of, cabernet, sauvignon, i...\n",
       "3    [the, modest, cherri, dark, berri, and, black,...\n",
       "4    [exceed, light, in, color, scent, and, flavor,...\n",
       "Name: preprocessed, dtype: object"
      ]
     },
     "execution_count": 83,
     "metadata": {},
     "output_type": "execute_result"
    }
   ],
   "source": [
    "wine[\"preprocessed\"].head()"
   ]
  },
  {
   "cell_type": "markdown",
   "metadata": {
    "ExecuteTime": {
     "end_time": "2017-12-21T12:24:45.748429Z",
     "start_time": "2017-12-21T12:24:45.743783Z"
    }
   },
   "source": [
    "Считаем самые частые и редкие слова, добавляем слова из списка, удаляем их из текстов. Вначале создаём список стоп-слов:"
   ]
  },
  {
   "cell_type": "code",
   "execution_count": 84,
   "metadata": {
    "ExecuteTime": {
     "end_time": "2017-12-21T12:42:40.898101Z",
     "start_time": "2017-12-21T12:42:40.685565Z"
    }
   },
   "outputs": [],
   "source": [
    "from collections import Counter\n",
    "\n",
    "\n",
    "c = Counter()\n",
    "for _id, doc in wine[\"preprocessed\"].iteritems():\n",
    "    c.update(doc)\n",
    "\n",
    "most_freq = [w for w, c in c.most_common(30)]\n",
    "most_rare = [w for w, c in c.items() if c < 6]\n",
    "stopw = set(most_freq + most_rare + stopwords.words(\"english\"))"
   ]
  },
  {
   "cell_type": "markdown",
   "metadata": {},
   "source": [
    "Затем фильтруем по нему:"
   ]
  },
  {
   "cell_type": "code",
   "execution_count": 85,
   "metadata": {
    "ExecuteTime": {
     "end_time": "2017-12-21T12:42:41.393251Z",
     "start_time": "2017-12-21T12:42:41.262962Z"
    }
   },
   "outputs": [],
   "source": [
    "wine[\"preprocessed\"] = wine[\"preprocessed\"].apply(\n",
    "    lambda tokens: [token for token in tokens if token not in stopw])"
   ]
  },
  {
   "cell_type": "markdown",
   "metadata": {},
   "source": [
    "## На обучающей выборке постройте модель классификации текста, которая бы классифицировала вина по цвету на основе текстов из описания."
   ]
  },
  {
   "cell_type": "code",
   "execution_count": 86,
   "metadata": {
    "ExecuteTime": {
     "end_time": "2017-12-21T12:42:42.194240Z",
     "start_time": "2017-12-21T12:42:41.723239Z"
    }
   },
   "outputs": [],
   "source": [
    "from sklearn.feature_extraction.text import TfidfVectorizer\n",
    "from sklearn.naive_bayes import MultinomialNB\n",
    "from sklearn.metrics import classification_report\n",
    "tfidf_vectorizer = TfidfVectorizer()\n",
    "tfidf_features = tfidf_vectorizer.fit_transform([\" \".join(doc) for _id, doc in wine[\"preprocessed\"].iteritems()])"
   ]
  },
  {
   "cell_type": "code",
   "execution_count": 87,
   "metadata": {
    "ExecuteTime": {
     "end_time": "2017-12-21T12:42:42.539141Z",
     "start_time": "2017-12-21T12:42:42.532231Z"
    }
   },
   "outputs": [],
   "source": [
    "wine[\"color_int\"] = pd.factorize(wine[\"color\"])[0]"
   ]
  },
  {
   "cell_type": "code",
   "execution_count": 88,
   "metadata": {
    "ExecuteTime": {
     "end_time": "2017-12-21T12:42:42.923441Z",
     "start_time": "2017-12-21T12:42:42.908164Z"
    }
   },
   "outputs": [],
   "source": [
    "from sklearn.model_selection import train_test_split\n",
    "\n",
    "features_train, features_test, labels_train, labels_test = train_test_split(\n",
    "    tfidf_features, wine[\"color_int\"], test_size=0.3, random_state=42)"
   ]
  },
  {
   "cell_type": "code",
   "execution_count": 89,
   "metadata": {
    "ExecuteTime": {
     "end_time": "2017-12-21T12:42:43.310780Z",
     "start_time": "2017-12-21T12:42:43.294306Z"
    }
   },
   "outputs": [
    {
     "data": {
      "text/plain": [
       "MultinomialNB(alpha=0.2, class_prior=None, fit_prior=True)"
      ]
     },
     "execution_count": 89,
     "metadata": {},
     "output_type": "execute_result"
    }
   ],
   "source": [
    "from sklearn.naive_bayes import MultinomialNB\n",
    "from sklearn.metrics import classification_report\n",
    "\n",
    "mnb = MultinomialNB(alpha=0.2)\n",
    "mnb.fit(features_train, labels_train)"
   ]
  },
  {
   "cell_type": "code",
   "execution_count": 90,
   "metadata": {
    "ExecuteTime": {
     "end_time": "2017-12-21T12:42:43.717933Z",
     "start_time": "2017-12-21T12:42:43.712969Z"
    }
   },
   "outputs": [],
   "source": [
    "predicted = mnb.predict(features_test)"
   ]
  },
  {
   "cell_type": "markdown",
   "metadata": {},
   "source": [
    "## Оцените качество работы модели по помощи стандартных метрик качества для алгоритмов классификации."
   ]
  },
  {
   "cell_type": "code",
   "execution_count": 91,
   "metadata": {
    "ExecuteTime": {
     "end_time": "2017-12-21T12:42:44.153607Z",
     "start_time": "2017-12-21T12:42:44.145620Z"
    }
   },
   "outputs": [
    {
     "name": "stdout",
     "output_type": "stream",
     "text": [
      "             precision    recall  f1-score   support\n",
      "\n",
      "          0       0.91      0.96      0.94      3487\n",
      "          1       0.83      0.83      0.83      1194\n",
      "          2       0.85      0.26      0.40       269\n",
      "\n",
      "avg / total       0.89      0.89      0.88      4950\n",
      "\n"
     ]
    }
   ],
   "source": [
    "print(classification_report(labels_test, predicted))"
   ]
  }
 ],
 "metadata": {
  "kernelspec": {
   "display_name": "Python 3",
   "language": "python",
   "name": "python3"
  },
  "language_info": {
   "codemirror_mode": {
    "name": "ipython",
    "version": 3
   },
   "file_extension": ".py",
   "mimetype": "text/x-python",
   "name": "python",
   "nbconvert_exporter": "python",
   "pygments_lexer": "ipython3",
   "version": "3.6.2"
  },
  "toc": {
   "nav_menu": {},
   "number_sections": true,
   "sideBar": true,
   "skip_h1_title": false,
   "toc_cell": false,
   "toc_position": {},
   "toc_section_display": "block",
   "toc_window_display": false
  },
  "varInspector": {
   "cols": {
    "lenName": 16,
    "lenType": 16,
    "lenVar": 40
   },
   "kernels_config": {
    "python": {
     "delete_cmd_postfix": "",
     "delete_cmd_prefix": "del ",
     "library": "var_list.py",
     "varRefreshCmd": "print(var_dic_list())"
    },
    "r": {
     "delete_cmd_postfix": ") ",
     "delete_cmd_prefix": "rm(",
     "library": "var_list.r",
     "varRefreshCmd": "cat(var_dic_list()) "
    }
   },
   "types_to_exclude": [
    "module",
    "function",
    "builtin_function_or_method",
    "instance",
    "_Feature"
   ],
   "window_display": false
  }
 },
 "nbformat": 4,
 "nbformat_minor": 2
}
