{
 "cells": [
  {
   "cell_type": "markdown",
   "metadata": {},
   "source": [
    "Здравствуйте!\n",
    "\n",
    "Экзамен состит из двух основных частей. \n",
    "В первой части необходимо произвести анализ числовых данных при помощи регрессионных моделей. От Вас ожидаются следующие умения:\n",
    "\n",
    "* Считывание и предварительная обработка данных;\n",
    "* Разведывательный анализ данных, визуализация.\n",
    "* Построение моделей машинного обучения, расчёт метрик качества моделей, сравнение их между собой.\n",
    "\n",
    "Вторая часть посвящена анализу текстов:\n",
    "* Загрузка текстов.\n",
    "* Предварительная обработка данных: токенизация, лемматизация или стемминг, удаление стоп-слов, перевод слов в числовой вид.\n",
    "* Построение классификатора."
   ]
  },
  {
   "cell_type": "markdown",
   "metadata": {},
   "source": [
    "* Загрузка и разведывательный анализ\n",
    "    * Загрузите csv файл в кодировке ISO-8859-1\n",
    "    * Посчитайте размерность данных.\n",
    "    * Посчитайте количество пропущенных значений в каждой переменной.\n",
    "    * Выведите тип данных каждой переменной. Переконвертируйте при необходимости.\n",
    "    * Создайте новую переменную `Casualities` в которая будет содержать количество убитых и раненых во время терракта.\n",
    "    * Создайте на основе переменных `Day`, `Month` и `Year` создайте новую переменную `Date` в соответсвующем формате, которая будет содержать информацию о времени совершения терракта.\n",
    "    * Визуализируйте распределение количества террактов по дням недели. В какой день недели происходило больше всего террактов?\n",
    "    * Какой оружия, используемого террористами, приводит к наибольшему количеству жертв? А какой наиболее фатален (оцените отношение среднего числа убитых к раненным)?\n",
    "    * \n",
    "    * Разделите выборку на обучающую и тестовую.\n",
    "* "
   ]
  },
  {
   "cell_type": "code",
   "execution_count": 3,
   "metadata": {
    "ExecuteTime": {
     "end_time": "2017-12-21T20:21:52.660830Z",
     "start_time": "2017-12-21T20:21:50.613366Z"
    }
   },
   "outputs": [],
   "source": [
    "import pandas as pd\n",
    "import matplotlib.pyplot as plt\n",
    "import seaborn as sns\n",
    "import numpy as np\n",
    "\n",
    "%matplotlib inline"
   ]
  },
  {
   "cell_type": "code",
   "execution_count": 14,
   "metadata": {
    "ExecuteTime": {
     "end_time": "2017-12-21T20:26:28.531983Z",
     "start_time": "2017-12-21T20:26:23.570147Z"
    }
   },
   "outputs": [
    {
     "name": "stderr",
     "output_type": "stream",
     "text": [
      "/usr/local/lib/python3.6/site-packages/IPython/core/interactiveshell.py:2728: DtypeWarning: Columns (4,6,31,33,53,61,62,63,76,79,90,92,94,96,114,115,121) have mixed types. Specify dtype option on import or set low_memory=False.\n",
      "  interactivity=interactivity, compiler=compiler, result=result)\n"
     ]
    },
    {
     "data": {
      "text/html": [
       "<div>\n",
       "<style>\n",
       "    .dataframe thead tr:only-child th {\n",
       "        text-align: right;\n",
       "    }\n",
       "\n",
       "    .dataframe thead th {\n",
       "        text-align: left;\n",
       "    }\n",
       "\n",
       "    .dataframe tbody tr th {\n",
       "        vertical-align: top;\n",
       "    }\n",
       "</style>\n",
       "<table border=\"1\" class=\"dataframe\">\n",
       "  <thead>\n",
       "    <tr style=\"text-align: right;\">\n",
       "      <th></th>\n",
       "      <th>Year</th>\n",
       "      <th>Month</th>\n",
       "      <th>Day</th>\n",
       "      <th>Country</th>\n",
       "      <th>Region</th>\n",
       "      <th>City</th>\n",
       "      <th>Latitude</th>\n",
       "      <th>Longitude</th>\n",
       "      <th>AttackType</th>\n",
       "      <th>Killed</th>\n",
       "      <th>Wounded</th>\n",
       "      <th>Target</th>\n",
       "      <th>Summary</th>\n",
       "      <th>Group</th>\n",
       "      <th>Target_type</th>\n",
       "      <th>Weapon_type</th>\n",
       "      <th>Motive</th>\n",
       "    </tr>\n",
       "  </thead>\n",
       "  <tbody>\n",
       "    <tr>\n",
       "      <th>0</th>\n",
       "      <td>1970</td>\n",
       "      <td>7</td>\n",
       "      <td>2</td>\n",
       "      <td>Dominican Republic</td>\n",
       "      <td>Central America &amp; Caribbean</td>\n",
       "      <td>Santo Domingo</td>\n",
       "      <td>18.456792</td>\n",
       "      <td>-69.951164</td>\n",
       "      <td>Assassination</td>\n",
       "      <td>1.0</td>\n",
       "      <td>0.0</td>\n",
       "      <td>Julio Guzman</td>\n",
       "      <td>NaN</td>\n",
       "      <td>MANO-D</td>\n",
       "      <td>Private Citizens &amp; Property</td>\n",
       "      <td>Unknown</td>\n",
       "      <td>NaN</td>\n",
       "    </tr>\n",
       "    <tr>\n",
       "      <th>1</th>\n",
       "      <td>1970</td>\n",
       "      <td>0</td>\n",
       "      <td>0</td>\n",
       "      <td>Mexico</td>\n",
       "      <td>North America</td>\n",
       "      <td>Mexico city</td>\n",
       "      <td>19.432608</td>\n",
       "      <td>-99.133207</td>\n",
       "      <td>Hostage Taking (Kidnapping)</td>\n",
       "      <td>0.0</td>\n",
       "      <td>0.0</td>\n",
       "      <td>Nadine Chaval, daughter</td>\n",
       "      <td>NaN</td>\n",
       "      <td>23rd of September Communist League</td>\n",
       "      <td>Government (Diplomatic)</td>\n",
       "      <td>Unknown</td>\n",
       "      <td>NaN</td>\n",
       "    </tr>\n",
       "    <tr>\n",
       "      <th>2</th>\n",
       "      <td>1970</td>\n",
       "      <td>1</td>\n",
       "      <td>0</td>\n",
       "      <td>Philippines</td>\n",
       "      <td>Southeast Asia</td>\n",
       "      <td>Unknown</td>\n",
       "      <td>15.478598</td>\n",
       "      <td>120.599741</td>\n",
       "      <td>Assassination</td>\n",
       "      <td>1.0</td>\n",
       "      <td>0.0</td>\n",
       "      <td>Employee</td>\n",
       "      <td>NaN</td>\n",
       "      <td>Unknown</td>\n",
       "      <td>Journalists &amp; Media</td>\n",
       "      <td>Unknown</td>\n",
       "      <td>NaN</td>\n",
       "    </tr>\n",
       "  </tbody>\n",
       "</table>\n",
       "</div>"
      ],
      "text/plain": [
       "   Year  Month  Day             Country                       Region  \\\n",
       "0  1970      7    2  Dominican Republic  Central America & Caribbean   \n",
       "1  1970      0    0              Mexico                North America   \n",
       "2  1970      1    0         Philippines               Southeast Asia   \n",
       "\n",
       "            City   Latitude   Longitude                   AttackType  Killed  \\\n",
       "0  Santo Domingo  18.456792  -69.951164                Assassination     1.0   \n",
       "1    Mexico city  19.432608  -99.133207  Hostage Taking (Kidnapping)     0.0   \n",
       "2        Unknown  15.478598  120.599741                Assassination     1.0   \n",
       "\n",
       "   Wounded                   Target Summary  \\\n",
       "0      0.0             Julio Guzman     NaN   \n",
       "1      0.0  Nadine Chaval, daughter     NaN   \n",
       "2      0.0                 Employee     NaN   \n",
       "\n",
       "                                Group                  Target_type  \\\n",
       "0                              MANO-D  Private Citizens & Property   \n",
       "1  23rd of September Communist League      Government (Diplomatic)   \n",
       "2                             Unknown          Journalists & Media   \n",
       "\n",
       "  Weapon_type Motive  \n",
       "0     Unknown    NaN  \n",
       "1     Unknown    NaN  \n",
       "2     Unknown    NaN  "
      ]
     },
     "execution_count": 14,
     "metadata": {},
     "output_type": "execute_result"
    }
   ],
   "source": [
    "terror = pd.read_csv('./globalterrorismdb_0617dist.csv', encoding='ISO-8859-1')\n",
    "terror.rename(\n",
    "    columns={\n",
    "        'iyear': 'Year',\n",
    "        'imonth': 'Month',\n",
    "        'iday': 'Day',\n",
    "        'country_txt': 'Country',\n",
    "        'region_txt': 'Region',\n",
    "        'attacktype1_txt': 'AttackType',\n",
    "        'target1': 'Target',\n",
    "        'nkill': 'Killed',\n",
    "        'nwound': 'Wounded',\n",
    "        'summary': 'Summary',\n",
    "        'gname': 'Group',\n",
    "        'targtype1_txt': 'Target_type',\n",
    "        'weaptype1_txt': 'Weapon_type',\n",
    "        'motive': 'Motive',\n",
    "        'city': 'City',\n",
    "        \"latitude\": \"Latitude\",\n",
    "        \"longitude\": \"Longitude\"\n",
    "    },\n",
    "    inplace=True)\n",
    "terror = terror[[\n",
    "    'Year', 'Month', 'Day', 'Country', 'Region', 'City', 'Latitude',\n",
    "    'Longitude', 'AttackType', 'Killed', 'Wounded', 'Target', 'Summary',\n",
    "    'Group', 'Target_type', 'Weapon_type', 'Motive'\n",
    "]]\n",
    "\n",
    "terror.head(3)"
   ]
  },
  {
   "cell_type": "code",
   "execution_count": 18,
   "metadata": {
    "ExecuteTime": {
     "end_time": "2017-12-21T20:45:03.088878Z",
     "start_time": "2017-12-21T20:45:01.371938Z"
    }
   },
   "outputs": [],
   "source": [
    "terror['Casualities'] = terror['Killed'] + terror['Wounded']"
   ]
  },
  {
   "cell_type": "code",
   "execution_count": 16,
   "metadata": {
    "ExecuteTime": {
     "end_time": "2017-12-21T20:43:24.208154Z",
     "start_time": "2017-12-21T20:43:24.141296Z"
    }
   },
   "outputs": [
    {
     "data": {
      "text/plain": [
       "Explosives/Bombs/Dynamite                                                      86704\n",
       "Firearms                                                                       55273\n",
       "Unknown                                                                        13852\n",
       "Incendiary                                                                     10459\n",
       "Melee                                                                           3338\n",
       "Chemical                                                                         293\n",
       "Sabotage Equipment                                                               130\n",
       "Vehicle (not to include vehicle-borne explosives, i.e., car or truck bombs)      116\n",
       "Other                                                                            104\n",
       "Biological                                                                        35\n",
       "Fake Weapons                                                                      33\n",
       "Radiological                                                                      13\n",
       "Name: Weapon_type, dtype: int64"
      ]
     },
     "execution_count": 16,
     "metadata": {},
     "output_type": "execute_result"
    }
   ],
   "source": [
    "terror['Weapon_type'].value_counts()"
   ]
  },
  {
   "cell_type": "code",
   "execution_count": 19,
   "metadata": {
    "ExecuteTime": {
     "end_time": "2017-12-21T20:45:04.686941Z",
     "start_time": "2017-12-21T20:45:04.652459Z"
    }
   },
   "outputs": [
    {
     "data": {
      "text/plain": [
       "Weapon_type\n",
       "Biological                                                                      25.437500\n",
       "Chemical                                                                        49.417266\n",
       "Explosives/Bombs/Dynamite                                                        6.266798\n",
       "Fake Weapons                                                                     0.030303\n",
       "Firearms                                                                         4.359828\n",
       "Incendiary                                                                       0.894306\n",
       "Melee                                                                            4.441801\n",
       "Other                                                                            2.161616\n",
       "Radiological                                                                     0.000000\n",
       "Sabotage Equipment                                                               2.079365\n",
       "Unknown                                                                          3.981012\n",
       "Vehicle (not to include vehicle-borne explosives, i.e., car or truck bombs)    160.824561\n",
       "Name: Casualities, dtype: float64"
      ]
     },
     "execution_count": 19,
     "metadata": {},
     "output_type": "execute_result"
    }
   ],
   "source": [
    "terror.groupby('Weapon_type')[\"Casualities\"].mean()"
   ]
  },
  {
   "cell_type": "code",
   "execution_count": 25,
   "metadata": {
    "ExecuteTime": {
     "end_time": "2017-12-21T20:49:49.131270Z",
     "start_time": "2017-12-21T20:49:49.098247Z"
    }
   },
   "outputs": [
    {
     "data": {
      "text/plain": [
       "Weapon_type\n",
       "Biological                                                                     0.010522\n",
       "Chemical                                                                       0.042465\n",
       "Explosives/Bombs/Dynamite                                                      0.427275\n",
       "Fake Weapons                                                                        inf\n",
       "Firearms                                                                       2.170957\n",
       "Incendiary                                                                     0.957240\n",
       "Melee                                                                          1.879749\n",
       "Other                                                                          1.074243\n",
       "Radiological                                                                        NaN\n",
       "Sabotage Equipment                                                             0.212713\n",
       "Unknown                                                                        2.235435\n",
       "Vehicle (not to include vehicle-borne explosives, i.e., car or truck bombs)    0.201757\n",
       "dtype: float64"
      ]
     },
     "execution_count": 25,
     "metadata": {},
     "output_type": "execute_result"
    }
   ],
   "source": [
    "terror.groupby('Weapon_type')[\"Killed\"].mean()/terror.groupby('Weapon_type')[\"Wounded\"].mean()"
   ]
  },
  {
   "cell_type": "code",
   "execution_count": null,
   "metadata": {},
   "outputs": [],
   "source": []
  }
 ],
 "metadata": {
  "kernelspec": {
   "display_name": "Python 3",
   "language": "python",
   "name": "python3"
  },
  "language_info": {
   "codemirror_mode": {
    "name": "ipython",
    "version": 3
   },
   "file_extension": ".py",
   "mimetype": "text/x-python",
   "name": "python",
   "nbconvert_exporter": "python",
   "pygments_lexer": "ipython3",
   "version": "3.6.2"
  },
  "toc": {
   "nav_menu": {},
   "number_sections": true,
   "sideBar": true,
   "skip_h1_title": false,
   "toc_cell": false,
   "toc_position": {},
   "toc_section_display": "block",
   "toc_window_display": false
  },
  "varInspector": {
   "cols": {
    "lenName": 16,
    "lenType": 16,
    "lenVar": 40
   },
   "kernels_config": {
    "python": {
     "delete_cmd_postfix": "",
     "delete_cmd_prefix": "del ",
     "library": "var_list.py",
     "varRefreshCmd": "print(var_dic_list())"
    },
    "r": {
     "delete_cmd_postfix": ") ",
     "delete_cmd_prefix": "rm(",
     "library": "var_list.r",
     "varRefreshCmd": "cat(var_dic_list()) "
    }
   },
   "types_to_exclude": [
    "module",
    "function",
    "builtin_function_or_method",
    "instance",
    "_Feature"
   ],
   "window_display": false
  }
 },
 "nbformat": 4,
 "nbformat_minor": 2
}
